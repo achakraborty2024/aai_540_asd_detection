{
 "cells": [
  {
   "cell_type": "markdown",
   "id": "ccc20dbb-c40c-4c16-bdc4-99f025f4db70",
   "metadata": {},
   "source": [
    "## Project Background\n",
    "Autism Spectrum Disorder (ASD) affects communication and behavior. Early identification and intervention can significantly improve outcomes. This project aims to identify individuals who may be at higher risk for ASD based on commonly collected screening data (e.g., questionnaire responses, basic demographic information).\n",
    "\n",
    "## Objective\n",
    "The goal is to create a ML Ops tool that can do early detection for potential cases towards further clinical assessment, potentially speeding up the screening process and directing resources more effectively. This tool will predict the likelihood of an individual having Autism Spectrum Disorder (ASD) based on screening questionnaire data and demographic features, aiming for high sensitivity (recall) to minimize missed cases. This is a supervised binary classification problem (ASD vs. No ASD).\n",
    "\n",
    "## Technical Background:\n",
    "The model will use data from screenings to learn patterns in these features to distinguish between individuals diagnosed with ASD and those without.Technical challenges may involve preprocessing potentially imbalanced data, and ensuring fairness across different demographic groups by analyzing key metrics.\n",
    "Evaluation will focus on classification performance metrics relevant to screening:\n",
    "Primary Metrics: Recall (Sensitivity), AUC, PRC, Accuracy, Precision, F1-Score\n",
    "\n",
    "Secondary Metrics: DIR, Relative Error, Force Plots. Correlation Plots.\n",
    "\n",
    "Business/Clinical Relevance: Quantify the model's potential impact by simulating its use on a test set: calculate the percentage of true positive cases identified within the top X% of model predictions (e.g., top 20%), representing potential to accelerate workload for clinicians focusing on these high-risk individuals.\n"
   ]
  },
  {
   "cell_type": "markdown",
   "id": "3b1d06dd-d0f2-46ca-94d6-b634413d0345",
   "metadata": {},
   "source": [
    "### Import libraries"
   ]
  },
  {
   "cell_type": "code",
   "execution_count": 13,
   "id": "f6182b86-f5f3-4388-bff3-05f68c5ab5fb",
   "metadata": {
    "execution": {
     "iopub.execute_input": "2025-06-19T18:50:19.561714Z",
     "iopub.status.busy": "2025-06-19T18:50:19.561133Z",
     "iopub.status.idle": "2025-06-19T18:50:19.564631Z",
     "shell.execute_reply": "2025-06-19T18:50:19.564107Z",
     "shell.execute_reply.started": "2025-06-19T18:50:19.561690Z"
    }
   },
   "outputs": [],
   "source": [
    "import numpy as np \n",
    "import pandas as pd \n",
    "import boto3\n",
    "import sagemaker\n",
    "from pyathena import connect\n",
    "import matplotlib.pyplot as plt\n",
    "import seaborn as sns"
   ]
  },
  {
   "cell_type": "markdown",
   "id": "08fd4eaa-2e0f-42c7-91cf-4dd4ed40ae35",
   "metadata": {},
   "source": [
    "### Load test and train dataset"
   ]
  },
  {
   "cell_type": "code",
   "execution_count": 14,
   "id": "25739e6b-3d8f-417e-a25d-3f71bb25fefc",
   "metadata": {
    "execution": {
     "iopub.execute_input": "2025-06-19T18:50:19.569452Z",
     "iopub.status.busy": "2025-06-19T18:50:19.569171Z",
     "iopub.status.idle": "2025-06-19T18:50:19.577986Z",
     "shell.execute_reply": "2025-06-19T18:50:19.577567Z",
     "shell.execute_reply.started": "2025-06-19T18:50:19.569434Z"
    }
   },
   "outputs": [],
   "source": [
    "train_df = pd.read_csv('./train.csv')\n",
    "test_df = pd.read_csv('./test.csv')"
   ]
  },
  {
   "cell_type": "code",
   "execution_count": 15,
   "id": "ea464398-e7f6-4a11-a41a-376fe424c8b0",
   "metadata": {
    "execution": {
     "iopub.execute_input": "2025-06-19T18:50:19.579064Z",
     "iopub.status.busy": "2025-06-19T18:50:19.578714Z",
     "iopub.status.idle": "2025-06-19T18:50:19.591015Z",
     "shell.execute_reply": "2025-06-19T18:50:19.590469Z",
     "shell.execute_reply.started": "2025-06-19T18:50:19.579048Z"
    }
   },
   "outputs": [
    {
     "data": {
      "text/html": [
       "<div>\n",
       "<style scoped>\n",
       "    .dataframe tbody tr th:only-of-type {\n",
       "        vertical-align: middle;\n",
       "    }\n",
       "\n",
       "    .dataframe tbody tr th {\n",
       "        vertical-align: top;\n",
       "    }\n",
       "\n",
       "    .dataframe thead th {\n",
       "        text-align: right;\n",
       "    }\n",
       "</style>\n",
       "<table border=\"1\" class=\"dataframe\">\n",
       "  <thead>\n",
       "    <tr style=\"text-align: right;\">\n",
       "      <th></th>\n",
       "      <th>ID</th>\n",
       "      <th>A1_Score</th>\n",
       "      <th>A2_Score</th>\n",
       "      <th>A3_Score</th>\n",
       "      <th>A4_Score</th>\n",
       "      <th>A5_Score</th>\n",
       "      <th>A6_Score</th>\n",
       "      <th>A7_Score</th>\n",
       "      <th>A8_Score</th>\n",
       "      <th>A9_Score</th>\n",
       "      <th>...</th>\n",
       "      <th>gender</th>\n",
       "      <th>ethnicity</th>\n",
       "      <th>jaundice</th>\n",
       "      <th>austim</th>\n",
       "      <th>contry_of_res</th>\n",
       "      <th>used_app_before</th>\n",
       "      <th>result</th>\n",
       "      <th>age_desc</th>\n",
       "      <th>relation</th>\n",
       "      <th>Class/ASD</th>\n",
       "    </tr>\n",
       "  </thead>\n",
       "  <tbody>\n",
       "    <tr>\n",
       "      <th>0</th>\n",
       "      <td>1</td>\n",
       "      <td>1</td>\n",
       "      <td>0</td>\n",
       "      <td>1</td>\n",
       "      <td>0</td>\n",
       "      <td>1</td>\n",
       "      <td>0</td>\n",
       "      <td>1</td>\n",
       "      <td>0</td>\n",
       "      <td>1</td>\n",
       "      <td>...</td>\n",
       "      <td>f</td>\n",
       "      <td>?</td>\n",
       "      <td>no</td>\n",
       "      <td>no</td>\n",
       "      <td>Austria</td>\n",
       "      <td>no</td>\n",
       "      <td>6.351166</td>\n",
       "      <td>18 and more</td>\n",
       "      <td>Self</td>\n",
       "      <td>0</td>\n",
       "    </tr>\n",
       "    <tr>\n",
       "      <th>1</th>\n",
       "      <td>2</td>\n",
       "      <td>0</td>\n",
       "      <td>0</td>\n",
       "      <td>0</td>\n",
       "      <td>0</td>\n",
       "      <td>0</td>\n",
       "      <td>0</td>\n",
       "      <td>0</td>\n",
       "      <td>0</td>\n",
       "      <td>0</td>\n",
       "      <td>...</td>\n",
       "      <td>m</td>\n",
       "      <td>?</td>\n",
       "      <td>no</td>\n",
       "      <td>no</td>\n",
       "      <td>India</td>\n",
       "      <td>no</td>\n",
       "      <td>2.255185</td>\n",
       "      <td>18 and more</td>\n",
       "      <td>Self</td>\n",
       "      <td>0</td>\n",
       "    </tr>\n",
       "    <tr>\n",
       "      <th>2</th>\n",
       "      <td>3</td>\n",
       "      <td>1</td>\n",
       "      <td>1</td>\n",
       "      <td>1</td>\n",
       "      <td>1</td>\n",
       "      <td>1</td>\n",
       "      <td>1</td>\n",
       "      <td>1</td>\n",
       "      <td>1</td>\n",
       "      <td>1</td>\n",
       "      <td>...</td>\n",
       "      <td>m</td>\n",
       "      <td>White-European</td>\n",
       "      <td>no</td>\n",
       "      <td>yes</td>\n",
       "      <td>United States</td>\n",
       "      <td>no</td>\n",
       "      <td>14.851484</td>\n",
       "      <td>18 and more</td>\n",
       "      <td>Self</td>\n",
       "      <td>1</td>\n",
       "    </tr>\n",
       "    <tr>\n",
       "      <th>3</th>\n",
       "      <td>4</td>\n",
       "      <td>0</td>\n",
       "      <td>0</td>\n",
       "      <td>0</td>\n",
       "      <td>0</td>\n",
       "      <td>0</td>\n",
       "      <td>0</td>\n",
       "      <td>0</td>\n",
       "      <td>0</td>\n",
       "      <td>0</td>\n",
       "      <td>...</td>\n",
       "      <td>f</td>\n",
       "      <td>?</td>\n",
       "      <td>no</td>\n",
       "      <td>no</td>\n",
       "      <td>United States</td>\n",
       "      <td>no</td>\n",
       "      <td>2.276617</td>\n",
       "      <td>18 and more</td>\n",
       "      <td>Self</td>\n",
       "      <td>0</td>\n",
       "    </tr>\n",
       "    <tr>\n",
       "      <th>4</th>\n",
       "      <td>5</td>\n",
       "      <td>0</td>\n",
       "      <td>0</td>\n",
       "      <td>0</td>\n",
       "      <td>0</td>\n",
       "      <td>0</td>\n",
       "      <td>0</td>\n",
       "      <td>0</td>\n",
       "      <td>0</td>\n",
       "      <td>0</td>\n",
       "      <td>...</td>\n",
       "      <td>m</td>\n",
       "      <td>?</td>\n",
       "      <td>no</td>\n",
       "      <td>no</td>\n",
       "      <td>South Africa</td>\n",
       "      <td>no</td>\n",
       "      <td>-4.777286</td>\n",
       "      <td>18 and more</td>\n",
       "      <td>Self</td>\n",
       "      <td>0</td>\n",
       "    </tr>\n",
       "  </tbody>\n",
       "</table>\n",
       "<p>5 rows × 22 columns</p>\n",
       "</div>"
      ],
      "text/plain": [
       "   ID  A1_Score  A2_Score  A3_Score  A4_Score  A5_Score  A6_Score  A7_Score  \\\n",
       "0   1         1         0         1         0         1         0         1   \n",
       "1   2         0         0         0         0         0         0         0   \n",
       "2   3         1         1         1         1         1         1         1   \n",
       "3   4         0         0         0         0         0         0         0   \n",
       "4   5         0         0         0         0         0         0         0   \n",
       "\n",
       "   A8_Score  A9_Score  ...  gender       ethnicity jaundice austim  \\\n",
       "0         0         1  ...       f               ?       no     no   \n",
       "1         0         0  ...       m               ?       no     no   \n",
       "2         1         1  ...       m  White-European       no    yes   \n",
       "3         0         0  ...       f               ?       no     no   \n",
       "4         0         0  ...       m               ?       no     no   \n",
       "\n",
       "   contry_of_res used_app_before     result     age_desc  relation Class/ASD  \n",
       "0        Austria              no   6.351166  18 and more      Self         0  \n",
       "1          India              no   2.255185  18 and more      Self         0  \n",
       "2  United States              no  14.851484  18 and more      Self         1  \n",
       "3  United States              no   2.276617  18 and more      Self         0  \n",
       "4   South Africa              no  -4.777286  18 and more      Self         0  \n",
       "\n",
       "[5 rows x 22 columns]"
      ]
     },
     "execution_count": 15,
     "metadata": {},
     "output_type": "execute_result"
    }
   ],
   "source": [
    "train_df.head()"
   ]
  },
  {
   "cell_type": "code",
   "execution_count": 16,
   "id": "49dedce5-4e48-4f91-9e9a-ff3f9f3e54ff",
   "metadata": {
    "execution": {
     "iopub.execute_input": "2025-06-19T18:50:19.591917Z",
     "iopub.status.busy": "2025-06-19T18:50:19.591598Z",
     "iopub.status.idle": "2025-06-19T18:50:19.603207Z",
     "shell.execute_reply": "2025-06-19T18:50:19.602698Z",
     "shell.execute_reply.started": "2025-06-19T18:50:19.591901Z"
    }
   },
   "outputs": [
    {
     "data": {
      "text/html": [
       "<div>\n",
       "<style scoped>\n",
       "    .dataframe tbody tr th:only-of-type {\n",
       "        vertical-align: middle;\n",
       "    }\n",
       "\n",
       "    .dataframe tbody tr th {\n",
       "        vertical-align: top;\n",
       "    }\n",
       "\n",
       "    .dataframe thead th {\n",
       "        text-align: right;\n",
       "    }\n",
       "</style>\n",
       "<table border=\"1\" class=\"dataframe\">\n",
       "  <thead>\n",
       "    <tr style=\"text-align: right;\">\n",
       "      <th></th>\n",
       "      <th>ID</th>\n",
       "      <th>A1_Score</th>\n",
       "      <th>A2_Score</th>\n",
       "      <th>A3_Score</th>\n",
       "      <th>A4_Score</th>\n",
       "      <th>A5_Score</th>\n",
       "      <th>A6_Score</th>\n",
       "      <th>A7_Score</th>\n",
       "      <th>A8_Score</th>\n",
       "      <th>A9_Score</th>\n",
       "      <th>...</th>\n",
       "      <th>age</th>\n",
       "      <th>gender</th>\n",
       "      <th>ethnicity</th>\n",
       "      <th>jaundice</th>\n",
       "      <th>austim</th>\n",
       "      <th>contry_of_res</th>\n",
       "      <th>used_app_before</th>\n",
       "      <th>result</th>\n",
       "      <th>age_desc</th>\n",
       "      <th>relation</th>\n",
       "    </tr>\n",
       "  </thead>\n",
       "  <tbody>\n",
       "    <tr>\n",
       "      <th>0</th>\n",
       "      <td>1</td>\n",
       "      <td>1</td>\n",
       "      <td>1</td>\n",
       "      <td>0</td>\n",
       "      <td>0</td>\n",
       "      <td>1</td>\n",
       "      <td>1</td>\n",
       "      <td>0</td>\n",
       "      <td>0</td>\n",
       "      <td>1</td>\n",
       "      <td>...</td>\n",
       "      <td>15.599481</td>\n",
       "      <td>m</td>\n",
       "      <td>White-European</td>\n",
       "      <td>yes</td>\n",
       "      <td>no</td>\n",
       "      <td>India</td>\n",
       "      <td>no</td>\n",
       "      <td>12.399055</td>\n",
       "      <td>18 and more</td>\n",
       "      <td>Self</td>\n",
       "    </tr>\n",
       "    <tr>\n",
       "      <th>1</th>\n",
       "      <td>2</td>\n",
       "      <td>1</td>\n",
       "      <td>0</td>\n",
       "      <td>0</td>\n",
       "      <td>0</td>\n",
       "      <td>0</td>\n",
       "      <td>0</td>\n",
       "      <td>0</td>\n",
       "      <td>1</td>\n",
       "      <td>0</td>\n",
       "      <td>...</td>\n",
       "      <td>27.181099</td>\n",
       "      <td>m</td>\n",
       "      <td>Asian</td>\n",
       "      <td>no</td>\n",
       "      <td>no</td>\n",
       "      <td>Mexico</td>\n",
       "      <td>no</td>\n",
       "      <td>6.551598</td>\n",
       "      <td>18 and more</td>\n",
       "      <td>Self</td>\n",
       "    </tr>\n",
       "    <tr>\n",
       "      <th>2</th>\n",
       "      <td>3</td>\n",
       "      <td>1</td>\n",
       "      <td>1</td>\n",
       "      <td>1</td>\n",
       "      <td>0</td>\n",
       "      <td>1</td>\n",
       "      <td>1</td>\n",
       "      <td>0</td>\n",
       "      <td>1</td>\n",
       "      <td>1</td>\n",
       "      <td>...</td>\n",
       "      <td>31.643906</td>\n",
       "      <td>m</td>\n",
       "      <td>White-European</td>\n",
       "      <td>yes</td>\n",
       "      <td>no</td>\n",
       "      <td>Egypt</td>\n",
       "      <td>no</td>\n",
       "      <td>3.180663</td>\n",
       "      <td>18 and more</td>\n",
       "      <td>Self</td>\n",
       "    </tr>\n",
       "    <tr>\n",
       "      <th>3</th>\n",
       "      <td>4</td>\n",
       "      <td>0</td>\n",
       "      <td>0</td>\n",
       "      <td>0</td>\n",
       "      <td>0</td>\n",
       "      <td>0</td>\n",
       "      <td>0</td>\n",
       "      <td>0</td>\n",
       "      <td>0</td>\n",
       "      <td>0</td>\n",
       "      <td>...</td>\n",
       "      <td>25.369210</td>\n",
       "      <td>m</td>\n",
       "      <td>?</td>\n",
       "      <td>no</td>\n",
       "      <td>no</td>\n",
       "      <td>India</td>\n",
       "      <td>no</td>\n",
       "      <td>2.220766</td>\n",
       "      <td>18 and more</td>\n",
       "      <td>Self</td>\n",
       "    </tr>\n",
       "    <tr>\n",
       "      <th>4</th>\n",
       "      <td>5</td>\n",
       "      <td>0</td>\n",
       "      <td>0</td>\n",
       "      <td>0</td>\n",
       "      <td>1</td>\n",
       "      <td>0</td>\n",
       "      <td>0</td>\n",
       "      <td>0</td>\n",
       "      <td>0</td>\n",
       "      <td>0</td>\n",
       "      <td>...</td>\n",
       "      <td>9.078580</td>\n",
       "      <td>m</td>\n",
       "      <td>?</td>\n",
       "      <td>no</td>\n",
       "      <td>no</td>\n",
       "      <td>Italy</td>\n",
       "      <td>no</td>\n",
       "      <td>7.252028</td>\n",
       "      <td>18 and more</td>\n",
       "      <td>Self</td>\n",
       "    </tr>\n",
       "  </tbody>\n",
       "</table>\n",
       "<p>5 rows × 21 columns</p>\n",
       "</div>"
      ],
      "text/plain": [
       "   ID  A1_Score  A2_Score  A3_Score  A4_Score  A5_Score  A6_Score  A7_Score  \\\n",
       "0   1         1         1         0         0         1         1         0   \n",
       "1   2         1         0         0         0         0         0         0   \n",
       "2   3         1         1         1         0         1         1         0   \n",
       "3   4         0         0         0         0         0         0         0   \n",
       "4   5         0         0         0         1         0         0         0   \n",
       "\n",
       "   A8_Score  A9_Score  ...        age  gender       ethnicity jaundice austim  \\\n",
       "0         0         1  ...  15.599481       m  White-European      yes     no   \n",
       "1         1         0  ...  27.181099       m           Asian       no     no   \n",
       "2         1         1  ...  31.643906       m  White-European      yes     no   \n",
       "3         0         0  ...  25.369210       m               ?       no     no   \n",
       "4         0         0  ...   9.078580       m               ?       no     no   \n",
       "\n",
       "  contry_of_res used_app_before     result     age_desc relation  \n",
       "0         India              no  12.399055  18 and more     Self  \n",
       "1        Mexico              no   6.551598  18 and more     Self  \n",
       "2         Egypt              no   3.180663  18 and more     Self  \n",
       "3         India              no   2.220766  18 and more     Self  \n",
       "4         Italy              no   7.252028  18 and more     Self  \n",
       "\n",
       "[5 rows x 21 columns]"
      ]
     },
     "execution_count": 16,
     "metadata": {},
     "output_type": "execute_result"
    }
   ],
   "source": [
    "test_df.head()"
   ]
  },
  {
   "cell_type": "markdown",
   "id": "4344605b-dc0d-4772-be7d-70a1478cf9b8",
   "metadata": {},
   "source": [
    "### Create AWS session"
   ]
  },
  {
   "cell_type": "code",
   "execution_count": 17,
   "id": "88922d56-0273-47f1-8c28-7c9bf86ac6be",
   "metadata": {
    "execution": {
     "iopub.execute_input": "2025-06-19T18:50:19.604275Z",
     "iopub.status.busy": "2025-06-19T18:50:19.603934Z",
     "iopub.status.idle": "2025-06-19T18:50:20.331128Z",
     "shell.execute_reply": "2025-06-19T18:50:20.330544Z",
     "shell.execute_reply.started": "2025-06-19T18:50:19.604257Z"
    }
   },
   "outputs": [],
   "source": [
    "sess = sagemaker.Session()\n",
    "bucket = sess.default_bucket()\n",
    "role = sagemaker.get_execution_role()\n",
    "region = boto3.Session().region_name\n",
    "account_id = boto3.client(\"sts\").get_caller_identity().get(\"Account\")\n",
    "\n",
    "sm = boto3.Session().client(service_name=\"sagemaker\", region_name=region)"
   ]
  },
  {
   "cell_type": "code",
   "execution_count": 18,
   "id": "4f765041-16ad-46c4-a58e-2452647655af",
   "metadata": {
    "execution": {
     "iopub.execute_input": "2025-06-19T18:50:20.332763Z",
     "iopub.status.busy": "2025-06-19T18:50:20.332380Z",
     "iopub.status.idle": "2025-06-19T18:50:20.335577Z",
     "shell.execute_reply": "2025-06-19T18:50:20.334773Z",
     "shell.execute_reply.started": "2025-06-19T18:50:20.332743Z"
    }
   },
   "outputs": [],
   "source": [
    "### Create and Push Data to S3 bucket"
   ]
  },
  {
   "cell_type": "code",
   "execution_count": 19,
   "id": "9198f34d-3ff5-49b6-8243-6edad255e252",
   "metadata": {
    "execution": {
     "iopub.execute_input": "2025-06-19T18:50:20.336604Z",
     "iopub.status.busy": "2025-06-19T18:50:20.336261Z",
     "iopub.status.idle": "2025-06-19T18:50:20.340211Z",
     "shell.execute_reply": "2025-06-19T18:50:20.339677Z",
     "shell.execute_reply.started": "2025-06-19T18:50:20.336587Z"
    }
   },
   "outputs": [
    {
     "name": "stdout",
     "output_type": "stream",
     "text": [
      "s3://sagemaker-us-east-1-553246940090/autism_prediction/tsv\n"
     ]
    }
   ],
   "source": [
    "s3_private_path_tsv = \"s3://{}/autism_prediction/tsv\".format(bucket)\n",
    "print(s3_private_path_tsv)"
   ]
  },
  {
   "cell_type": "code",
   "execution_count": 20,
   "id": "f51709c4-e25c-4029-8199-305f9404cd40",
   "metadata": {
    "execution": {
     "iopub.execute_input": "2025-06-19T18:50:20.341088Z",
     "iopub.status.busy": "2025-06-19T18:50:20.340823Z",
     "iopub.status.idle": "2025-06-19T18:50:21.955570Z",
     "shell.execute_reply": "2025-06-19T18:50:21.954898Z",
     "shell.execute_reply.started": "2025-06-19T18:50:20.341071Z"
    }
   },
   "outputs": [
    {
     "name": "stdout",
     "output_type": "stream",
     "text": [
      "\n",
      "The user-provided path Autism_Prediction/test.csv does not exist.\n",
      "\n",
      "The user-provided path Autism_Prediction/train.csv does not exist.\n"
     ]
    }
   ],
   "source": [
    "!aws s3 cp \"Autism_Prediction/test.csv\" $s3_private_path_tsv/\n",
    "!aws s3 cp \"Autism_Prediction/train.csv\" $s3_private_path_tsv/"
   ]
  },
  {
   "cell_type": "markdown",
   "id": "29504fe7-3a40-4e38-8214-ec9b4f8b2553",
   "metadata": {},
   "source": [
    "### Create ASW S3 Athena Database"
   ]
  },
  {
   "cell_type": "code",
   "execution_count": 21,
   "id": "68991bbc-2e3f-4dcd-b751-16dabafc87ad",
   "metadata": {
    "execution": {
     "iopub.execute_input": "2025-06-19T18:50:21.956916Z",
     "iopub.status.busy": "2025-06-19T18:50:21.956539Z",
     "iopub.status.idle": "2025-06-19T18:50:23.265470Z",
     "shell.execute_reply": "2025-06-19T18:50:23.264807Z",
     "shell.execute_reply.started": "2025-06-19T18:50:21.956890Z"
    }
   },
   "outputs": [
    {
     "name": "stdout",
     "output_type": "stream",
     "text": [
      "CREATE DATABASE IF NOT EXISTS dso_asd_v1\n"
     ]
    },
    {
     "name": "stderr",
     "output_type": "stream",
     "text": [
      "/tmp/ipykernel_205/873326040.py:6: UserWarning: pandas only supports SQLAlchemy connectable (engine/connection) or database string URI or sqlite3 DBAPI2 connection. Other DBAPI2 objects are not tested. Please consider using SQLAlchemy.\n",
      "  pd.read_sql(statement, conn)\n"
     ]
    },
    {
     "data": {
      "text/html": [
       "<div>\n",
       "<style scoped>\n",
       "    .dataframe tbody tr th:only-of-type {\n",
       "        vertical-align: middle;\n",
       "    }\n",
       "\n",
       "    .dataframe tbody tr th {\n",
       "        vertical-align: top;\n",
       "    }\n",
       "\n",
       "    .dataframe thead th {\n",
       "        text-align: right;\n",
       "    }\n",
       "</style>\n",
       "<table border=\"1\" class=\"dataframe\">\n",
       "  <thead>\n",
       "    <tr style=\"text-align: right;\">\n",
       "      <th></th>\n",
       "    </tr>\n",
       "  </thead>\n",
       "  <tbody>\n",
       "  </tbody>\n",
       "</table>\n",
       "</div>"
      ],
      "text/plain": [
       "Empty DataFrame\n",
       "Columns: []\n",
       "Index: []"
      ]
     },
     "execution_count": 21,
     "metadata": {},
     "output_type": "execute_result"
    }
   ],
   "source": [
    "database_name = \"dso_asd_v1\"\n",
    "s3_staging_dir = \"s3://sagemaker-us-east-1-672518276407/autism_prediction/tsv\"\n",
    "conn = connect(region_name=region, s3_staging_dir=s3_staging_dir)\n",
    "statement = \"CREATE DATABASE IF NOT EXISTS {}\".format(database_name)\n",
    "print(statement)\n",
    "pd.read_sql(statement, conn)"
   ]
  },
  {
   "cell_type": "code",
   "execution_count": 22,
   "id": "665647ce-d1d7-45e1-b67b-e71d64599288",
   "metadata": {
    "execution": {
     "iopub.execute_input": "2025-06-19T18:50:23.266818Z",
     "iopub.status.busy": "2025-06-19T18:50:23.266438Z",
     "iopub.status.idle": "2025-06-19T18:50:24.484972Z",
     "shell.execute_reply": "2025-06-19T18:50:24.484313Z",
     "shell.execute_reply.started": "2025-06-19T18:50:23.266735Z"
    }
   },
   "outputs": [
    {
     "name": "stderr",
     "output_type": "stream",
     "text": [
      "/tmp/ipykernel_205/2483888340.py:3: UserWarning: pandas only supports SQLAlchemy connectable (engine/connection) or database string URI or sqlite3 DBAPI2 connection. Other DBAPI2 objects are not tested. Please consider using SQLAlchemy.\n",
      "  df_show = pd.read_sql(statement, conn)\n"
     ]
    },
    {
     "data": {
      "text/html": [
       "<div>\n",
       "<style scoped>\n",
       "    .dataframe tbody tr th:only-of-type {\n",
       "        vertical-align: middle;\n",
       "    }\n",
       "\n",
       "    .dataframe tbody tr th {\n",
       "        vertical-align: top;\n",
       "    }\n",
       "\n",
       "    .dataframe thead th {\n",
       "        text-align: right;\n",
       "    }\n",
       "</style>\n",
       "<table border=\"1\" class=\"dataframe\">\n",
       "  <thead>\n",
       "    <tr style=\"text-align: right;\">\n",
       "      <th></th>\n",
       "      <th>database_name</th>\n",
       "    </tr>\n",
       "  </thead>\n",
       "  <tbody>\n",
       "    <tr>\n",
       "      <th>0</th>\n",
       "      <td>dso_asd_v1</td>\n",
       "    </tr>\n",
       "  </tbody>\n",
       "</table>\n",
       "</div>"
      ],
      "text/plain": [
       "  database_name\n",
       "0    dso_asd_v1"
      ]
     },
     "execution_count": 22,
     "metadata": {},
     "output_type": "execute_result"
    }
   ],
   "source": [
    "statement = \"SHOW DATABASES LIKE 'dso_asd_v1'\"\n",
    "\n",
    "df_show = pd.read_sql(statement, conn)\n",
    "df_show.head(10)"
   ]
  },
  {
   "cell_type": "code",
   "execution_count": 23,
   "id": "47797003-baba-4438-835e-2432d1667520",
   "metadata": {
    "execution": {
     "iopub.execute_input": "2025-06-19T18:50:24.486274Z",
     "iopub.status.busy": "2025-06-19T18:50:24.485976Z",
     "iopub.status.idle": "2025-06-19T18:50:24.571691Z",
     "shell.execute_reply": "2025-06-19T18:50:24.571055Z",
     "shell.execute_reply.started": "2025-06-19T18:50:24.486247Z"
    }
   },
   "outputs": [],
   "source": [
    "sm = boto3.Session().client(service_name=\"sagemaker\", region_name=region)"
   ]
  },
  {
   "cell_type": "code",
   "execution_count": 24,
   "id": "dd4d2f8a-08f6-43d4-81e7-148471fb8c7b",
   "metadata": {
    "execution": {
     "iopub.execute_input": "2025-06-19T18:50:24.573049Z",
     "iopub.status.busy": "2025-06-19T18:50:24.572562Z",
     "iopub.status.idle": "2025-06-19T18:50:25.618182Z",
     "shell.execute_reply": "2025-06-19T18:50:25.617461Z",
     "shell.execute_reply.started": "2025-06-19T18:50:24.573019Z"
    }
   },
   "outputs": [
    {
     "name": "stdout",
     "output_type": "stream",
     "text": [
      "Database 'dso_asd_v1_parquet' created successfully or already exists.\n"
     ]
    }
   ],
   "source": [
    "import awswrangler as wr\n",
    "\n",
    "# Database name\n",
    "database_name = \"dso_asd_v1_parquet\"\n",
    "\n",
    "# Create the Glue database if it doesn't exist\n",
    "try:\n",
    "    wr.catalog.create_database(name=database_name)\n",
    "    print(f\"Database '{database_name}' created successfully or already exists.\")\n",
    "except Exception as e:\n",
    "    print(f\"Error creating database: {e}\")"
   ]
  },
  {
   "cell_type": "code",
   "execution_count": 25,
   "id": "e01fee6b-0ffa-451e-afa8-ed2e37a34b8b",
   "metadata": {
    "execution": {
     "iopub.execute_input": "2025-06-19T18:50:25.620129Z",
     "iopub.status.busy": "2025-06-19T18:50:25.619735Z",
     "iopub.status.idle": "2025-06-19T18:50:29.830288Z",
     "shell.execute_reply": "2025-06-19T18:50:29.829595Z",
     "shell.execute_reply.started": "2025-06-19T18:50:25.620108Z"
    }
   },
   "outputs": [
    {
     "name": "stderr",
     "output_type": "stream",
     "text": [
      "2025-06-19 18:50:27,560\tWARNING services.py:2070 -- WARNING: The object store is using /tmp instead of /dev/shm because /dev/shm has only 411021312 bytes available. This will harm performance! You may be able to free up space by deleting files in /dev/shm. If you are inside a Docker container, you can increase /dev/shm size by passing '--shm-size=0.90gb' to 'docker run' (or add it to the run_options list in a Ray cluster config). Make sure to set this to more than 30% of available RAM.\n",
      "2025-06-19 18:50:27,823\tINFO worker.py:1852 -- Started a local Ray instance.\n"
     ]
    },
    {
     "name": "stdout",
     "output_type": "stream",
     "text": [
      "Data uploaded successfully to s3://sagemaker-us-east-1-672518276407/autism_prediction/parquet/asd_dataset.parquet as Parquet.\n"
     ]
    }
   ],
   "source": [
    "# S3 bucket and file path for Parquet\n",
    "bucket_name = \"sagemaker-us-east-1-672518276407\"\n",
    "parquet_path = f\"s3://{bucket_name}/autism_prediction/parquet/asd_dataset.parquet\" \n",
    "\n",
    "# Save DataFrame as Parquet to S3\n",
    "try:\n",
    "    wr.s3.to_parquet(\n",
    "        df=train_df,\n",
    "        path=parquet_path,\n",
    "        dataset=True,\n",
    "        mode=\"overwrite\",\n",
    "        database=database_name,\n",
    "        table=\"asd_parquet\"\n",
    "    )\n",
    "    print(f\"Data uploaded successfully to {parquet_path} as Parquet.\")\n",
    "except Exception as e:\n",
    "    print(f\"Error uploading DataFrame to S3: {e}\")"
   ]
  },
  {
   "cell_type": "code",
   "execution_count": 26,
   "id": "bad24682-55aa-4984-96dd-c465d1793978",
   "metadata": {
    "execution": {
     "iopub.execute_input": "2025-06-19T18:50:29.831910Z",
     "iopub.status.busy": "2025-06-19T18:50:29.831345Z",
     "iopub.status.idle": "2025-06-19T18:50:30.367104Z",
     "shell.execute_reply": "2025-06-19T18:50:30.366362Z",
     "shell.execute_reply.started": "2025-06-19T18:50:29.831883Z"
    }
   },
   "outputs": [
    {
     "name": "stdout",
     "output_type": "stream",
     "text": [
      "Tables in the database:\n",
      "- asd_parquet\n"
     ]
    }
   ],
   "source": [
    "# List all tables in the specified database\n",
    "try:\n",
    "    tables = list(wr.catalog.get_tables(database=database_name))\n",
    "    print(\"Tables in the database:\")\n",
    "    for table in tables:\n",
    "        print(f\"- {table['Name']}\")\n",
    "except Exception as e:\n",
    "    print(f\"Error retrieving tables: {e}\")"
   ]
  },
  {
   "cell_type": "markdown",
   "id": "bbbb4147-18b2-495d-8d60-6714a028c414",
   "metadata": {},
   "source": [
    "### Query the data from AWS Athena DB"
   ]
  },
  {
   "cell_type": "code",
   "execution_count": 27,
   "id": "513a110e-13a2-4b4f-b622-fc44dd654f9b",
   "metadata": {
    "execution": {
     "iopub.execute_input": "2025-06-19T18:50:30.369735Z",
     "iopub.status.busy": "2025-06-19T18:50:30.369443Z",
     "iopub.status.idle": "2025-06-19T18:50:33.527706Z",
     "shell.execute_reply": "2025-06-19T18:50:33.527075Z",
     "shell.execute_reply.started": "2025-06-19T18:50:30.369708Z"
    }
   },
   "outputs": [
    {
     "name": "stdout",
     "output_type": "stream",
     "text": [
      "Data from the ASD Athena table:\n",
      "   id  a1_score  a2_score  a3_score  a4_score  a5_score  a6_score  a7_score  \\\n",
      "0   1         1         0         1         0         1         0         1   \n",
      "1   2         0         0         0         0         0         0         0   \n",
      "2   3         1         1         1         1         1         1         1   \n",
      "3   4         0         0         0         0         0         0         0   \n",
      "4   5         0         0         0         0         0         0         0   \n",
      "\n",
      "   a8_score  a9_score  ...  gender       ethnicity jaundice austim  \\\n",
      "0         0         1  ...       f               ?       no     no   \n",
      "1         0         0  ...       m               ?       no     no   \n",
      "2         1         1  ...       m  White-European       no    yes   \n",
      "3         0         0  ...       f               ?       no     no   \n",
      "4         0         0  ...       m               ?       no     no   \n",
      "\n",
      "   contry_of_res used_app_before     result     age_desc  relation class_asd  \n",
      "0        Austria              no   6.351166  18 and more      Self         0  \n",
      "1          India              no   2.255185  18 and more      Self         0  \n",
      "2  United States              no  14.851484  18 and more      Self         1  \n",
      "3  United States              no   2.276617  18 and more      Self         0  \n",
      "4   South Africa              no  -4.777286  18 and more      Self         0  \n",
      "\n",
      "[5 rows x 22 columns]\n"
     ]
    }
   ],
   "source": [
    "# Query the table to check if the data is loaded\n",
    "try:\n",
    "    query = f\"SELECT * FROM {database_name}.asd_parquet LIMIT 5\"\n",
    "    df_sample = wr.athena.read_sql_query(query, database=database_name)\n",
    "    print(\"Data from the ASD Athena table:\")\n",
    "    print(df_sample)\n",
    "except Exception as e:\n",
    "    print(f\"Error querying table: {e}\")"
   ]
  },
  {
   "cell_type": "markdown",
   "id": "14a25aa5-b512-4a29-a0be-69d3a9e6db8d",
   "metadata": {},
   "source": [
    "### Plotting diagrams"
   ]
  },
  {
   "cell_type": "code",
   "execution_count": 28,
   "id": "6bbe3d15-75c9-4927-b09b-0eb11e2a2bab",
   "metadata": {
    "execution": {
     "iopub.execute_input": "2025-06-19T18:50:33.528545Z",
     "iopub.status.busy": "2025-06-19T18:50:33.528328Z",
     "iopub.status.idle": "2025-06-19T18:50:33.725500Z",
     "shell.execute_reply": "2025-06-19T18:50:33.724961Z",
     "shell.execute_reply.started": "2025-06-19T18:50:33.528528Z"
    }
   },
   "outputs": [
    {
     "data": {
      "text/plain": [
       "<Axes: xlabel='Class/ASD', ylabel='age'>"
      ]
     },
     "execution_count": 28,
     "metadata": {},
     "output_type": "execute_result"
    },
    {
     "data": {
      "image/png": "[encoded data removed]",
      "text/plain": [
       "<Figure size 640x480 with 1 Axes>"
      ]
     },
     "metadata": {},
     "output_type": "display_data"
    }
   ],
   "source": [
    "sns.boxplot(x = train_df['Class/ASD'], y = train_df['age'])"
   ]
  },
  {
   "cell_type": "code",
   "execution_count": 29,
   "id": "93d5912f-8155-4dac-9ab3-1c5b7e5a37f5",
   "metadata": {
    "execution": {
     "iopub.execute_input": "2025-06-19T18:50:33.726449Z",
     "iopub.status.busy": "2025-06-19T18:50:33.726252Z",
     "iopub.status.idle": "2025-06-19T18:50:33.904110Z",
     "shell.execute_reply": "2025-06-19T18:50:33.903573Z",
     "shell.execute_reply.started": "2025-06-19T18:50:33.726432Z"
    }
   },
   "outputs": [
    {
     "data": {
      "text/plain": [
       "<Axes: xlabel='age', ylabel='Count'>"
      ]
     },
     "execution_count": 29,
     "metadata": {},
     "output_type": "execute_result"
    },
    {
     "data": {
      "image/png": "[encoded data removed]",
      "text/plain": [
       "<Figure size 640x480 with 1 Axes>"
      ]
     },
     "metadata": {},
     "output_type": "display_data"
    }
   ],
   "source": [
    "sns.histplot(x = train_df['age'], hue = train_df['Class/ASD'])"
   ]
  },
  {
   "cell_type": "code",
   "execution_count": 30,
   "id": "12c9f1e5-14e6-4363-9168-d332546284f0",
   "metadata": {
    "execution": {
     "iopub.execute_input": "2025-06-19T18:50:33.905001Z",
     "iopub.status.busy": "2025-06-19T18:50:33.904794Z",
     "iopub.status.idle": "2025-06-19T18:50:34.003109Z",
     "shell.execute_reply": "2025-06-19T18:50:34.002580Z",
     "shell.execute_reply.started": "2025-06-19T18:50:33.904984Z"
    }
   },
   "outputs": [
    {
     "data": {
      "text/plain": [
       "<Axes: xlabel='Class/ASD', ylabel='result'>"
      ]
     },
     "execution_count": 30,
     "metadata": {},
     "output_type": "execute_result"
    },
    {
     "data": {
      "image/png": "[encoded data removed]",
      "text/plain": [
       "<Figure size 640x480 with 1 Axes>"
      ]
     },
     "metadata": {},
     "output_type": "display_data"
    }
   ],
   "source": [
    "sns.boxplot(x = train_df['Class/ASD'], y = train_df['result'])"
   ]
  },
  {
   "cell_type": "code",
   "execution_count": 34,
   "id": "ce694012-e198-41b2-879e-e7b05f1b5afe",
   "metadata": {
    "execution": {
     "iopub.execute_input": "2025-06-19T19:01:00.656667Z",
     "iopub.status.busy": "2025-06-19T19:01:00.656077Z",
     "iopub.status.idle": "2025-06-19T19:01:00.660868Z",
     "shell.execute_reply": "2025-06-19T19:01:00.660379Z",
     "shell.execute_reply.started": "2025-06-19T19:01:00.656642Z"
    }
   },
   "outputs": [
    {
     "name": "stdout",
     "output_type": "stream",
     "text": [
      "Numerical columns \n",
      " ['ID', 'A1_Score', 'A2_Score', 'A3_Score', 'A4_Score', 'A5_Score', 'A6_Score', 'A7_Score', 'A8_Score', 'A9_Score', 'A10_Score', 'age', 'result', 'Class/ASD']\n",
      "Categorical columns \n",
      " ['gender', 'ethnicity', 'jaundice', 'austim', 'contry_of_res', 'used_app_before', 'age_desc', 'relation']\n"
     ]
    }
   ],
   "source": [
    "def get_num_cat_cols(df):\n",
    "    num_cls = [x for x in df.columns if df[x].dtype != 'object']\n",
    "    cat_cls = [x for x in df.columns if x not in num_cls]\n",
    "\n",
    "    print(f'Numerical columns \\n',num_cls)\n",
    "    print(f'Categorical columns \\n',cat_cls)\n",
    "    \n",
    "    return num_cls, cat_cls\n",
    "num_cols, cat_cols = get_num_cat_cols(train_df)"
   ]
  },
  {
   "cell_type": "code",
   "execution_count": 38,
   "id": "db1e99c4-3989-42ca-8f97-a005727100da",
   "metadata": {
    "execution": {
     "iopub.execute_input": "2025-06-19T19:06:23.829157Z",
     "iopub.status.busy": "2025-06-19T19:06:23.828574Z",
     "iopub.status.idle": "2025-06-19T19:06:23.835038Z",
     "shell.execute_reply": "2025-06-19T19:06:23.834425Z",
     "shell.execute_reply.started": "2025-06-19T19:06:23.829130Z"
    }
   },
   "outputs": [],
   "source": [
    "import pandas as pd\n",
    "import matplotlib.pyplot as plt\n",
    "from scipy.stats import chi2_contingency\n",
    "\n",
    "def cat_col_test(df, cat_colname, target_colname):\n",
    "    print(f\"Column name : {cat_colname}\")\n",
    "\n",
    "    # Contingency table\n",
    "    ct = pd.crosstab(df[cat_colname], df[target_colname])\n",
    "    print(\"\\nContingency Table:\\n\", ct)\n",
    "\n",
    "    # Chi-square test\n",
    "    chi2, p, dof, expected = chi2_contingency(ct)\n",
    "    print(f\"\\nChi-square Statistic: {chi2:.4f}\")\n",
    "    print(f\"P-value: {p:.4f}\")\n",
    "    print(f\"Degrees of Freedom: {dof}\")\n",
    "    print(f\"Expected Frequencies:\\n{expected}\")\n",
    "\n",
    "    # Interpretation\n",
    "    alpha = 0.05\n",
    "    if p < alpha:\n",
    "        print(f\"Significant relationship (p={p:.4f}) between '{cat_colname}' and '{target_colname}'\")\n",
    "    else:\n",
    "        print(f\"No significant relationship (p={p:.4f}) between '{cat_colname}' and '{target_colname}'\")\n",
    "\n",
    "    # Plot\n",
    "    ax = ct.plot(kind='bar', stacked=True, rot=45)\n",
    "    ax.legend(title=target_colname, bbox_to_anchor=(1, 1.02), loc='upper left')\n",
    "\n",
    "    for c in ax.containers:\n",
    "        ax.bar_label(c, label_type='center', fontsize=8)\n",
    "    plt.tight_layout()\n",
    "    plt.show()\n"
   ]
  },
  {
   "cell_type": "code",
   "execution_count": 40,
   "id": "dc74f5a6-57e4-4844-b294-9e0ea8978bc3",
   "metadata": {
    "execution": {
     "iopub.execute_input": "2025-06-19T19:07:16.519458Z",
     "iopub.status.busy": "2025-06-19T19:07:16.518880Z",
     "iopub.status.idle": "2025-06-19T19:07:18.162946Z",
     "shell.execute_reply": "2025-06-19T19:07:18.162332Z",
     "shell.execute_reply.started": "2025-06-19T19:07:16.519432Z"
    }
   },
   "outputs": [
    {
     "name": "stdout",
     "output_type": "stream",
     "text": [
      "Column name : gender\n",
      "\n",
      "Contingency Table:\n",
      " Class/ASD    0    1\n",
      "gender             \n",
      "f          215   55\n",
      "m          424  106\n",
      "\n",
      "Chi-square Statistic: 0.0009\n",
      "P-value: 0.9758\n",
      "Degrees of Freedom: 1\n",
      "Expected Frequencies:\n",
      "[[215.6625  54.3375]\n",
      " [423.3375 106.6625]]\n",
      "No significant relationship (p=0.9758) between 'gender' and 'Class/ASD'\n"
     ]
    },
    {
     "data": {
      "image/png": "[encoded data removed]",
      "text/plain": [
       "<Figure size 640x480 with 1 Axes>"
      ]
     },
     "metadata": {},
     "output_type": "display_data"
    },
    {
     "name": "stdout",
     "output_type": "stream",
     "text": [
      "Column name : ethnicity\n",
      "\n",
      "Contingency Table:\n",
      " Class/ASD          0    1\n",
      "ethnicity                \n",
      "?                196    7\n",
      "Asian             63    4\n",
      "Black             41    6\n",
      "Hispanic           7    2\n",
      "Latino            13    4\n",
      "Middle Eastern    91    6\n",
      "Others            27    2\n",
      "Pasifika          26    6\n",
      "South Asian       31    3\n",
      "Turkish            5    0\n",
      "White-European   136  121\n",
      "others             3    0\n",
      "\n",
      "Chi-square Statistic: 181.0167\n",
      "P-value: 0.0000\n",
      "Degrees of Freedom: 11\n",
      "Expected Frequencies:\n",
      "[[162.14625  40.85375]\n",
      " [ 53.51625  13.48375]\n",
      " [ 37.54125   9.45875]\n",
      " [  7.18875   1.81125]\n",
      " [ 13.57875   3.42125]\n",
      " [ 77.47875  19.52125]\n",
      " [ 23.16375   5.83625]\n",
      " [ 25.56      6.44   ]\n",
      " [ 27.1575    6.8425 ]\n",
      " [  3.99375   1.00625]\n",
      " [205.27875  51.72125]\n",
      " [  2.39625   0.60375]]\n",
      "Significant relationship (p=0.0000) between 'ethnicity' and 'Class/ASD'\n"
     ]
    },
    {
     "data": {
      "image/png": "[encoded data removed]",
      "text/plain": [
       "<Figure size 640x480 with 1 Axes>"
      ]
     },
     "metadata": {},
     "output_type": "display_data"
    },
    {
     "name": "stdout",
     "output_type": "stream",
     "text": [
      "Column name : jaundice\n",
      "\n",
      "Contingency Table:\n",
      " Class/ASD    0    1\n",
      "jaundice           \n",
      "no         510  105\n",
      "yes        129   56\n",
      "\n",
      "Chi-square Statistic: 14.5987\n",
      "P-value: 0.0001\n",
      "Degrees of Freedom: 1\n",
      "Expected Frequencies:\n",
      "[[491.23125 123.76875]\n",
      " [147.76875  37.23125]]\n",
      "Significant relationship (p=0.0001) between 'jaundice' and 'Class/ASD'\n"
     ]
    },
    {
     "data": {
      "image/png": "[encoded data removed]",
      "text/plain": [
       "<Figure size 640x480 with 1 Axes>"
      ]
     },
     "metadata": {},
     "output_type": "display_data"
    },
    {
     "name": "stdout",
     "output_type": "stream",
     "text": [
      "Column name : austim\n",
      "\n",
      "Contingency Table:\n",
      " Class/ASD    0   1\n",
      "austim            \n",
      "no         577  92\n",
      "yes         62  69\n",
      "\n",
      "Chi-square Statistic: 100.8225\n",
      "P-value: 0.0000\n",
      "Degrees of Freedom: 1\n",
      "Expected Frequencies:\n",
      "[[534.36375 134.63625]\n",
      " [104.63625  26.36375]]\n",
      "Significant relationship (p=0.0000) between 'austim' and 'Class/ASD'\n"
     ]
    },
    {
     "data": {
      "image/png": "[encoded data removed]",
      "text/plain": [
       "<Figure size 640x480 with 1 Axes>"
      ]
     },
     "metadata": {},
     "output_type": "display_data"
    },
    {
     "name": "stdout",
     "output_type": "stream",
     "text": [
      "Column name : contry_of_res\n",
      "\n",
      "Contingency Table:\n",
      " Class/ASD               0   1\n",
      "contry_of_res                \n",
      "Afghanistan            19   3\n",
      "AmericanSamoa           4   0\n",
      "Angola                  1   0\n",
      "Argentina               1   0\n",
      "Armenia                 2   2\n",
      "Aruba                   2   2\n",
      "Australia              30   7\n",
      "Austria                17   1\n",
      "Azerbaijan              2   2\n",
      "Bahamas                 5   1\n",
      "Bangladesh              1   0\n",
      "Belgium                 1   0\n",
      "Bolivia                 2   1\n",
      "Brazil                 11   1\n",
      "Burundi                 0   1\n",
      "Canada                 21   9\n",
      "China                   4   0\n",
      "Cyprus                  1   1\n",
      "Czech Republic          1   0\n",
      "Egypt                   1   0\n",
      "Ethiopia                2   1\n",
      "France                  7   3\n",
      "Germany                 3   0\n",
      "Hong Kong               1   0\n",
      "Iceland                 3   0\n",
      "India                 105   3\n",
      "Iran                    7   1\n",
      "Iraq                    4   0\n",
      "Ireland                 7   2\n",
      "Italy                   5   1\n",
      "Japan                   1   0\n",
      "Jordan                 52   3\n",
      "Kazakhstan              7   3\n",
      "Malaysia                5   1\n",
      "Mexico                  4   0\n",
      "Netherlands            18   2\n",
      "New Zealand            77   1\n",
      "Nicaragua               4   0\n",
      "Niger                   2   1\n",
      "Oman                    0   2\n",
      "Pakistan                2   2\n",
      "Romania                 1   0\n",
      "Russia                  7   0\n",
      "Saudi Arabia            3   1\n",
      "Serbia                  3   0\n",
      "Sierra Leone            1   0\n",
      "South Africa            6   0\n",
      "Spain                   8   2\n",
      "Sri Lanka              16   1\n",
      "Sweden                  2   0\n",
      "Tonga                   1   0\n",
      "Ukraine                 2   1\n",
      "United Arab Emirates   40   0\n",
      "United Kingdom         39  28\n",
      "United States          65  69\n",
      "Viet Nam                3   2\n",
      "\n",
      "Chi-square Statistic: 205.7487\n",
      "P-value: 0.0000\n",
      "Degrees of Freedom: 55\n",
      "Expected Frequencies:\n",
      "[[ 17.5725    4.4275 ]\n",
      " [  3.195     0.805  ]\n",
      " [  0.79875   0.20125]\n",
      " [  0.79875   0.20125]\n",
      " [  3.195     0.805  ]\n",
      " [  3.195     0.805  ]\n",
      " [ 29.55375   7.44625]\n",
      " [ 14.3775    3.6225 ]\n",
      " [  3.195     0.805  ]\n",
      " [  4.7925    1.2075 ]\n",
      " [  0.79875   0.20125]\n",
      " [  0.79875   0.20125]\n",
      " [  2.39625   0.60375]\n",
      " [  9.585     2.415  ]\n",
      " [  0.79875   0.20125]\n",
      " [ 23.9625    6.0375 ]\n",
      " [  3.195     0.805  ]\n",
      " [  1.5975    0.4025 ]\n",
      " [  0.79875   0.20125]\n",
      " [  0.79875   0.20125]\n",
      " [  2.39625   0.60375]\n",
      " [  7.9875    2.0125 ]\n",
      " [  2.39625   0.60375]\n",
      " [  0.79875   0.20125]\n",
      " [  2.39625   0.60375]\n",
      " [ 86.265    21.735  ]\n",
      " [  6.39      1.61   ]\n",
      " [  3.195     0.805  ]\n",
      " [  7.18875   1.81125]\n",
      " [  4.7925    1.2075 ]\n",
      " [  0.79875   0.20125]\n",
      " [ 43.93125  11.06875]\n",
      " [  7.9875    2.0125 ]\n",
      " [  4.7925    1.2075 ]\n",
      " [  3.195     0.805  ]\n",
      " [ 15.975     4.025  ]\n",
      " [ 62.3025   15.6975 ]\n",
      " [  3.195     0.805  ]\n",
      " [  2.39625   0.60375]\n",
      " [  1.5975    0.4025 ]\n",
      " [  3.195     0.805  ]\n",
      " [  0.79875   0.20125]\n",
      " [  5.59125   1.40875]\n",
      " [  3.195     0.805  ]\n",
      " [  2.39625   0.60375]\n",
      " [  0.79875   0.20125]\n",
      " [  4.7925    1.2075 ]\n",
      " [  7.9875    2.0125 ]\n",
      " [ 13.57875   3.42125]\n",
      " [  1.5975    0.4025 ]\n",
      " [  0.79875   0.20125]\n",
      " [  2.39625   0.60375]\n",
      " [ 31.95      8.05   ]\n",
      " [ 53.51625  13.48375]\n",
      " [107.0325   26.9675 ]\n",
      " [  3.99375   1.00625]]\n",
      "Significant relationship (p=0.0000) between 'contry_of_res' and 'Class/ASD'\n"
     ]
    },
    {
     "data": {
      "image/png": "[encoded data removed]",
      "text/plain": [
       "<Figure size 640x480 with 1 Axes>"
      ]
     },
     "metadata": {},
     "output_type": "display_data"
    },
    {
     "name": "stdout",
     "output_type": "stream",
     "text": [
      "Column name : used_app_before\n",
      "\n",
      "Contingency Table:\n",
      " Class/ASD          0    1\n",
      "used_app_before          \n",
      "no               602  148\n",
      "yes               37   13\n",
      "\n",
      "Chi-square Statistic: 0.7885\n",
      "P-value: 0.3746\n",
      "Degrees of Freedom: 1\n",
      "Expected Frequencies:\n",
      "[[599.0625 150.9375]\n",
      " [ 39.9375  10.0625]]\n",
      "No significant relationship (p=0.3746) between 'used_app_before' and 'Class/ASD'\n"
     ]
    },
    {
     "data": {
      "image/png": "[encoded data removed]",
      "text/plain": [
       "<Figure size 640x480 with 1 Axes>"
      ]
     },
     "metadata": {},
     "output_type": "display_data"
    },
    {
     "name": "stdout",
     "output_type": "stream",
     "text": [
      "Column name : age_desc\n",
      "\n",
      "Contingency Table:\n",
      " Class/ASD      0    1\n",
      "age_desc             \n",
      "18 and more  639  161\n",
      "\n",
      "Chi-square Statistic: 0.0000\n",
      "P-value: 1.0000\n",
      "Degrees of Freedom: 0\n",
      "Expected Frequencies:\n",
      "[[639. 161.]]\n",
      "No significant relationship (p=1.0000) between 'age_desc' and 'Class/ASD'\n"
     ]
    },
    {
     "data": {
      "image/png": "[encoded data removed]",
      "text/plain": [
       "<Figure size 640x480 with 1 Axes>"
      ]
     },
     "metadata": {},
     "output_type": "display_data"
    },
    {
     "name": "stdout",
     "output_type": "stream",
     "text": [
      "Column name : relation\n",
      "\n",
      "Contingency Table:\n",
      " Class/ASD                   0    1\n",
      "relation                          \n",
      "?                          39    1\n",
      "Health care professional    1    1\n",
      "Others                      2    0\n",
      "Parent                     21    8\n",
      "Relative                   14    4\n",
      "Self                      562  147\n",
      "\n",
      "Chi-square Statistic: 10.5611\n",
      "P-value: 0.0608\n",
      "Degrees of Freedom: 5\n",
      "Expected Frequencies:\n",
      "[[3.1950000e+01 8.0500000e+00]\n",
      " [1.5975000e+00 4.0250000e-01]\n",
      " [1.5975000e+00 4.0250000e-01]\n",
      " [2.3163750e+01 5.8362500e+00]\n",
      " [1.4377500e+01 3.6225000e+00]\n",
      " [5.6631375e+02 1.4268625e+02]]\n",
      "No significant relationship (p=0.0608) between 'relation' and 'Class/ASD'\n"
     ]
    },
    {
     "data": {
      "image/png": "[encoded data removed]",
      "text/plain": [
       "<Figure size 640x480 with 1 Axes>"
      ]
     },
     "metadata": {},
     "output_type": "display_data"
    }
   ],
   "source": [
    "for col in cat_cols:\n",
    "    cat_col_test(train_df, col, 'Class/ASD')"
   ]
  },
  {
   "cell_type": "markdown",
   "id": "de669e4d-3adc-4ca0-beb9-546b98f5dfdc",
   "metadata": {},
   "source": [
    "## Create the feature group"
   ]
  },
  {
   "cell_type": "code",
   "execution_count": 42,
   "id": "68538472-a088-4240-b454-0824276914c6",
   "metadata": {
    "execution": {
     "iopub.execute_input": "2025-06-19T19:42:09.422178Z",
     "iopub.status.busy": "2025-06-19T19:42:09.421464Z",
     "iopub.status.idle": "2025-06-19T19:42:39.266278Z",
     "shell.execute_reply": "2025-06-19T19:42:39.265648Z",
     "shell.execute_reply.started": "2025-06-19T19:42:09.422151Z"
    }
   },
   "outputs": [
    {
     "name": "stdout",
     "output_type": "stream",
     "text": [
      "Loaded Parquet file from s3://sagemaker-us-east-1-672518276407/autism_prediction/parquet/asd_dataset.parquet with shape: (800, 22)\n",
      "Waiting for Feature Group creation...\n",
      "Waiting for Feature Group creation...\n",
      "Waiting for Feature Group creation...\n",
      "Waiting for Feature Group creation...\n",
      "Feature Group 'asd-feature-group-55aa5b50' created successfully.\n",
      " Data ingestion completed for Feature Group: asd-feature-group-55aa5b50\n"
     ]
    }
   ],
   "source": [
    "import boto3\n",
    "import pandas as pd\n",
    "import time\n",
    "import uuid\n",
    "from sagemaker.session import Session\n",
    "from sagemaker.feature_store.feature_group import FeatureGroup\n",
    "from sagemaker import get_execution_role\n",
    "\n",
    "# --- Configuration ---\n",
    "s3_parquet_uri = \"s3://sagemaker-us-east-1-672518276407/autism_prediction/parquet/asd_dataset.parquet\"\n",
    "bucket_prefix = \"autism-feature-store\"\n",
    "record_identifier_feature_name = \"record_id\"\n",
    "event_time_feature_name = \"event_time\"\n",
    "feature_group_name = f\"asd-feature-group-{uuid.uuid4().hex[:8]}\"\n",
    "\n",
    "# --- Initialize Session and Clients ---\n",
    "region = boto3.Session().region_name\n",
    "boto_session = boto3.Session(region_name=region)\n",
    "sagemaker_client = boto_session.client(\"sagemaker\")\n",
    "featurestore_runtime = boto_session.client(\"sagemaker-featurestore-runtime\")\n",
    "\n",
    "feature_store_session = Session(\n",
    "    boto_session=boto_session,\n",
    "    sagemaker_client=sagemaker_client,\n",
    "    sagemaker_featurestore_runtime_client=featurestore_runtime,\n",
    ")\n",
    "\n",
    "default_s3_bucket = feature_store_session.default_bucket()\n",
    "\n",
    "# --- Load Parquet from S3 ---\n",
    "df = pd.read_parquet(s3_parquet_uri)\n",
    "print(f\"Loaded Parquet file from {s3_parquet_uri} with shape: {df.shape}\")\n",
    "\n",
    "# --- Prepare Data ---\n",
    "df.columns = [c.strip().replace(\" \", \"_\").replace(\"<\", \"less_than_\") for c in df.columns]\n",
    "\n",
    "# Add required columns\n",
    "if record_identifier_feature_name not in df.columns:\n",
    "    df.insert(0, record_identifier_feature_name, range(1, 1 + len(df)))\n",
    "\n",
    "if event_time_feature_name not in df.columns:\n",
    "    df[event_time_feature_name] = pd.Timestamp.now().strftime(\"%Y-%m-%dT%H:%M:%SZ\")\n",
    "\n",
    "# --- Create Feature Group ---\n",
    "feature_group = FeatureGroup(name=feature_group_name, sagemaker_session=feature_store_session)\n",
    "feature_group.load_feature_definitions(data_frame=df)\n",
    "\n",
    "role_arn = get_execution_role()\n",
    "\n",
    "feature_group.create(\n",
    "    s3_uri=f\"s3://{default_s3_bucket}/{bucket_prefix}/offline_store\",\n",
    "    record_identifier_name=record_identifier_feature_name,\n",
    "    event_time_feature_name=event_time_feature_name,\n",
    "    role_arn=role_arn,\n",
    "    enable_online_store=True\n",
    ")\n",
    "\n",
    "# --- Wait for Feature Group to be Active ---\n",
    "def wait_for_feature_group_creation_complete(fg):\n",
    "    status = fg.describe().get(\"FeatureGroupStatus\")\n",
    "    while status == \"Creating\":\n",
    "        print(\"Waiting for Feature Group creation...\")\n",
    "        time.sleep(5)\n",
    "        status = fg.describe().get(\"FeatureGroupStatus\")\n",
    "    if status != \"Created\":\n",
    "        raise RuntimeError(f\"Feature Group creation failed: {status}\")\n",
    "    print(f\"Feature Group '{fg.name}' created successfully.\")\n",
    "\n",
    "wait_for_feature_group_creation_complete(feature_group)\n",
    "\n",
    "# --- Ingest Records into Feature Store ---\n",
    "records = df.to_dict(orient=\"records\")\n",
    "\n",
    "for record in records:\n",
    "    featurestore_runtime.put_record(\n",
    "        FeatureGroupName=feature_group_name,\n",
    "        Record=[{\"FeatureName\": k, \"ValueAsString\": str(v)} for k, v in record.items()]\n",
    "    )\n",
    "\n",
    "print(f\" Data ingestion completed for Feature Group: {feature_group_name}\")\n"
   ]
  },
  {
   "cell_type": "markdown",
   "id": "ee4f7f30-7ac6-4f20-b39f-a6c8f3164f72",
   "metadata": {},
   "source": [
    "### Query online values from feature group"
   ]
  },
  {
   "cell_type": "code",
   "execution_count": 45,
   "id": "09c52c77-c198-461c-b5de-0f40e33222f4",
   "metadata": {
    "execution": {
     "iopub.execute_input": "2025-06-19T20:02:27.181294Z",
     "iopub.status.busy": "2025-06-19T20:02:27.180832Z",
     "iopub.status.idle": "2025-06-19T20:02:27.297302Z",
     "shell.execute_reply": "2025-06-19T20:02:27.296715Z",
     "shell.execute_reply.started": "2025-06-19T20:02:27.181272Z"
    }
   },
   "outputs": [
    {
     "name": "stdout",
     "output_type": "stream",
     "text": [
      "Record fetched from Online Store:\n",
      "record_id: 1\n",
      "id: 1\n",
      "a1_score: 1\n",
      "a2_score: 0\n",
      "a3_score: 1\n",
      "a4_score: 0\n",
      "a5_score: 1\n",
      "a6_score: 0\n",
      "a7_score: 1\n",
      "a8_score: 0\n",
      "a9_score: 1\n",
      "a10_score: 1\n",
      "age: 38.17274623\n",
      "gender: f\n",
      "ethnicity: ?\n",
      "jaundice: no\n",
      "austim: no\n",
      "contry_of_res: Austria\n",
      "used_app_before: no\n",
      "result: 6.351165589\n",
      "age_desc: 18 and more\n",
      "relation: Self\n",
      "class_asd: 0\n",
      "event_time: 2025-06-19T19:42:10Z\n"
     ]
    }
   ],
   "source": [
    "import boto3\n",
    "\n",
    "# --- Configuration ---\n",
    "feature_group_name = \"asd-feature-group-55aa5b50\"  \n",
    "# Assuming this line already exists:\n",
    "records = df.to_dict(orient=\"records\")\n",
    "\n",
    "# Extract all record_id values\n",
    "record_ids = [record[\"record_id\"] for record in records]\n",
    "\n",
    "\n",
    "# --- Initialize Feature Store Runtime Client ---\n",
    "region = boto3.Session().region_name\n",
    "featurestore_runtime = boto3.client(\"sagemaker-featurestore-runtime\", region_name=region)\n",
    "\n",
    "# --- Query from Online Store ---\n",
    "response = featurestore_runtime.get_record(\n",
    "    FeatureGroupName=feature_group_name,\n",
    "    RecordIdentifierValueAsString=str(record_ids[0])\n",
    ")\n",
    "\n",
    "# --- Process and Print Results ---\n",
    "if \"Record\" in response:\n",
    "    record_values = {item['FeatureName']: item['ValueAsString'] for item in response['Record']}\n",
    "    print(\"Record fetched from Online Store:\")\n",
    "    for key, value in record_values.items():\n",
    "        print(f\"{key}: {value}\")\n",
    "else:\n",
    "    print(\"Record not found in Online Store.\")\n"
   ]
  },
  {
   "cell_type": "markdown",
   "id": "77ec0c41-0b3d-4f22-97cc-7ad64c447924",
   "metadata": {},
   "source": [
    "## Build and train dataset from Online store using RandomForestClassifier"
   ]
  },
  {
   "cell_type": "code",
   "execution_count": 84,
   "id": "a3ada055-8603-48c5-9e9c-9cf826612a14",
   "metadata": {
    "execution": {
     "iopub.execute_input": "2025-06-20T00:49:40.962087Z",
     "iopub.status.busy": "2025-06-20T00:49:40.961804Z",
     "iopub.status.idle": "2025-06-20T00:49:52.345836Z",
     "shell.execute_reply": "2025-06-20T00:49:52.344990Z",
     "shell.execute_reply.started": "2025-06-20T00:49:40.962066Z"
    }
   },
   "outputs": [
    {
     "name": "stdout",
     "output_type": "stream",
     "text": [
      "Fetching records from Online Store...\n",
      " Fetched 100 records from Online Store\n",
      "\n",
      " Classification Report:\n",
      "              precision    recall  f1-score   support\n",
      "\n",
      "           0       0.94      0.94      0.94        18\n",
      "           1       0.50      0.50      0.50         2\n",
      "\n",
      "    accuracy                           0.90        20\n",
      "   macro avg       0.72      0.72      0.72        20\n",
      "weighted avg       0.90      0.90      0.90        20\n",
      "\n"
     ]
    }
   ],
   "source": [
    "import boto3\n",
    "import pandas as pd\n",
    "import time\n",
    "import random\n",
    "from sklearn.ensemble import RandomForestClassifier\n",
    "from sklearn.model_selection import train_test_split\n",
    "from sklearn.metrics import classification_report\n",
    "import joblib\n",
    "\n",
    "\n",
    "# --- Config ---\n",
    "feature_group_name = \"asd-feature-group-55aa5b50\"  \n",
    "record_identifier_feature_name = \"record_id\"\n",
    "target_column = \"class_asd\"  # Label column\n",
    "region = boto3.Session().region_name\n",
    "\n",
    "# --- Initialize Feature Store Runtime Client ---\n",
    "featurestore_runtime = boto3.client(\"sagemaker-featurestore-runtime\", region_name=region)\n",
    "\n",
    "# --- Generate Sample Record IDs (adjust as needed) ---\n",
    "record_ids = list(range(1, 101))  # Simulate 100 known record_ids: 1 to 100\n",
    "\n",
    "# --- Fetch Records from Online Store ---\n",
    "fetched_data = []\n",
    "print(\"Fetching records from Online Store...\")\n",
    "\n",
    "for rid in record_ids:\n",
    "    try:\n",
    "        response = featurestore_runtime.get_record(\n",
    "            FeatureGroupName=feature_group_name,\n",
    "            RecordIdentifierValueAsString=str(rid)\n",
    "        )\n",
    "        if \"Record\" in response:\n",
    "            row = {item['FeatureName']: item['ValueAsString'] for item in response['Record']}\n",
    "            fetched_data.append(row)\n",
    "        else:\n",
    "            print(f\"Record ID {rid} not found.\")\n",
    "    except Exception as e:\n",
    "        print(f\"Error fetching record ID {rid}: {str(e)}\")\n",
    "    time.sleep(0.1)  # prevent throttling\n",
    "\n",
    "print(f\" Fetched {len(fetched_data)} records from Online Store\")\n",
    "\n",
    "# --- Create DataFrame ---\n",
    "df_online = pd.DataFrame(fetched_data)\n",
    "\n",
    "# --- Clean Column Names ---\n",
    "df_online.columns = df_online.columns.str.replace(r\"[^A-Za-z0-9_]\", \"_\", regex=True)\n",
    "\n",
    "# --- Drop unnecessary or identifier columns ---\n",
    "drop_cols = [\"record_id\", \"event_time\", \"id\", \"age_desc\", \"contry_of_res\", \"relation\"]\n",
    "df_online.drop(columns=drop_cols, inplace=True, errors=\"ignore\")\n",
    "\n",
    "# --- Encode categorical columns ---\n",
    "for col in df_online.columns:\n",
    "    if df_online[col].dtype == \"object\":\n",
    "        df_online[col] = df_online[col].astype(\"category\").cat.codes\n",
    "\n",
    "# --- Ensure target is numeric ---\n",
    "if target_column not in df_online.columns:\n",
    "    raise ValueError(f\"Target column '{target_column}' not found in dataset.\")\n",
    "\n",
    "df_online[target_column] = df_online[target_column].astype(int)\n",
    "\n",
    "# --- Split into features and target ---\n",
    "X = df_online.drop(columns=[target_column])\n",
    "y = df_online[target_column]\n",
    "\n",
    "# --- Train-Test Split ---\n",
    "X_train, X_test, y_train, y_test = train_test_split(X, y, test_size=0.2, random_state=42)\n",
    "\n",
    "# --- Train RandomForestClassifier ---\n",
    "clf = RandomForestClassifier(n_estimators=100, random_state=42)\n",
    "clf.fit(X_train, y_train)\n",
    "\n",
    "# Save model (compatible format)\n",
    "joblib.dump(clf, \"model.joblib\")\n",
    "\n",
    "# --- Predict and Evaluate ---\n",
    "y_pred = clf.predict(X_test)\n",
    "\n",
    "print(\"\\n Classification Report:\")\n",
    "print(classification_report(y_test, y_pred))"
   ]
  },
  {
   "cell_type": "markdown",
   "id": "fecc853e-f142-4465-bc30-c04ac55b75d9",
   "metadata": {},
   "source": [
    "## Create a Model store from the previously created RandomForestClassifier model"
   ]
  },
  {
   "cell_type": "code",
   "execution_count": 85,
   "id": "c2bb1dae-0e8f-4f94-a4c8-1a4dbef54cba",
   "metadata": {
    "execution": {
     "iopub.execute_input": "2025-06-20T00:54:19.035605Z",
     "iopub.status.busy": "2025-06-20T00:54:19.035323Z",
     "iopub.status.idle": "2025-06-20T00:54:19.464475Z",
     "shell.execute_reply": "2025-06-20T00:54:19.463922Z",
     "shell.execute_reply.started": "2025-06-20T00:54:19.035585Z"
    }
   },
   "outputs": [
    {
     "name": "stdout",
     "output_type": "stream",
     "text": [
      " Uploaded model.tar.gz to S3: s3://sagemaker-us-east-1-553246940090/autism-model-store/model.tar.gz\n"
     ]
    }
   ],
   "source": [
    "import joblib\n",
    "import os\n",
    "import tarfile\n",
    "import boto3\n",
    "import sagemaker\n",
    "from sagemaker import get_execution_role\n",
    "\n",
    "\n",
    "# --- SageMaker + S3 Setup ---\n",
    "region = boto3.Session().region_name\n",
    "sagemaker_session = sagemaker.Session()\n",
    "bucket = sagemaker_session.default_bucket()\n",
    "role = get_execution_role()\n",
    "prefix = \"autism-model-store\"\n",
    "model_dir = \"model\"\n",
    "os.makedirs(model_dir, exist_ok=True)\n",
    "\n",
    "# --- Save model locally ---\n",
    "model_file = os.path.join(model_dir, \"model.joblib\")\n",
    "joblib.dump(clf, model_file)\n",
    "\n",
    "# --- Package as model.tar.gz (SageMaker expects this format) ---\n",
    "tar_file = os.path.join(model_dir, \"model.tar.gz\")\n",
    "with tarfile.open(tar_file, mode=\"w:gz\") as tar:\n",
    "    tar.add(model_file, arcname=\"model.joblib\")\n",
    "\n",
    "# --- Upload to S3 ---\n",
    "model_artifact_s3_uri = sagemaker_session.upload_data(tar_file, bucket=bucket, key_prefix=prefix)\n",
    "print(f\" Uploaded model.tar.gz to S3: {model_artifact_s3_uri}\")\n"
   ]
  },
  {
   "cell_type": "markdown",
   "id": "391ae705-ace5-42a7-a3b6-8b23524b8f3e",
   "metadata": {},
   "source": [
    "### Register model to SageMaker Model store"
   ]
  },
  {
   "cell_type": "code",
   "execution_count": 86,
   "id": "1e82df6c-6aa3-4f55-872c-581a2ea1f5de",
   "metadata": {
    "execution": {
     "iopub.execute_input": "2025-06-20T00:54:38.429421Z",
     "iopub.status.busy": "2025-06-20T00:54:38.429136Z",
     "iopub.status.idle": "2025-06-20T00:54:39.042065Z",
     "shell.execute_reply": "2025-06-20T00:54:39.041408Z",
     "shell.execute_reply.started": "2025-06-20T00:54:38.429402Z"
    }
   },
   "outputs": [
    {
     "name": "stderr",
     "output_type": "stream",
     "text": [
      "INFO:sagemaker.image_uris:Defaulting to only available Python version: py3\n",
      "INFO:sagemaker.image_uris:Defaulting to only supported image scope: cpu.\n"
     ]
    },
    {
     "name": "stdout",
     "output_type": "stream",
     "text": [
      "Created Model Package Group: AutismClassifierPackageGroupV2\n",
      "Model registered to Model Package Group 'AutismClassifierPackageGroupV2'\n"
     ]
    }
   ],
   "source": [
    "# --- Create Model Package Group (if not exists) ---\n",
    "client = boto3.client(\"sagemaker\", region_name=region)\n",
    "model_package_group_name = \"AutismClassifierPackageGroupV2\"\n",
    "\n",
    "try:\n",
    "    client.create_model_package_group(\n",
    "        ModelPackageGroupName=model_package_group_name,\n",
    "        ModelPackageGroupDescription=\"RandomForestClassifier for ASD detection\"\n",
    "    )\n",
    "    print(f\"Created Model Package Group: {model_package_group_name}\")\n",
    "except client.exceptions.ResourceInUse:\n",
    "    print(f\"Model Package Group '{model_package_group_name}' already exists.\")\n",
    "\n",
    "# --- Register the model ---\n",
    "model_package_response = client.create_model_package(\n",
    "    ModelPackageGroupName=model_package_group_name,\n",
    "    ModelPackageDescription=\"ASD prediction model using RandomForestClassifier\",\n",
    "    InferenceSpecification={\n",
    "        \"Containers\": [\n",
    "            {\n",
    "                \"Image\": sagemaker.image_uris.retrieve(\n",
    "                    framework=\"sklearn\", region=region, version=\"1.0-1\"\n",
    "                ),\n",
    "                \"ModelDataUrl\": model_artifact_s3_uri,\n",
    "            }\n",
    "        ],\n",
    "        \"SupportedContentTypes\": [\"text/csv\"],\n",
    "        \"SupportedResponseMIMETypes\": [\"text/csv\"]\n",
    "    },\n",
    "    ModelApprovalStatus=\"PendingManualApproval\"\n",
    ")\n",
    "\n",
    "print(f\"Model registered to Model Package Group '{model_package_group_name}'\")\n"
   ]
  },
  {
   "cell_type": "code",
   "execution_count": 87,
   "id": "b57483c1-7c13-414a-b9fa-f933575f3e1a",
   "metadata": {
    "execution": {
     "iopub.execute_input": "2025-06-20T00:54:44.731669Z",
     "iopub.status.busy": "2025-06-20T00:54:44.731060Z",
     "iopub.status.idle": "2025-06-20T00:54:44.736083Z",
     "shell.execute_reply": "2025-06-20T00:54:44.735355Z",
     "shell.execute_reply.started": "2025-06-20T00:54:44.731644Z"
    }
   },
   "outputs": [
    {
     "name": "stdout",
     "output_type": "stream",
     "text": [
      "Model ARN: arn:aws:sagemaker:us-east-1:553246940090:model-package/AutismClassifierPackageGroupV2/1\n"
     ]
    }
   ],
   "source": [
    "print(\"Model ARN:\", model_package_response[\"ModelPackageArn\"])"
   ]
  },
  {
   "cell_type": "code",
   "execution_count": 88,
   "id": "233f253e-934c-4bab-9ef5-5071dda359e4",
   "metadata": {
    "execution": {
     "iopub.execute_input": "2025-06-20T00:54:55.671159Z",
     "iopub.status.busy": "2025-06-20T00:54:55.670878Z",
     "iopub.status.idle": "2025-06-20T00:54:55.675143Z",
     "shell.execute_reply": "2025-06-20T00:54:55.674211Z",
     "shell.execute_reply.started": "2025-06-20T00:54:55.671137Z"
    }
   },
   "outputs": [],
   "source": [
    "model_package_arn = model_package_response[\"ModelPackageArn\"]"
   ]
  },
  {
   "cell_type": "markdown",
   "id": "0813d6c1-6ed9-4a1c-a1af-013d2503af24",
   "metadata": {},
   "source": [
    "## Create a model endpoint"
   ]
  },
  {
   "cell_type": "markdown",
   "id": "db093fc4-6e46-460d-8bbd-2dfe815c1199",
   "metadata": {},
   "source": [
    "### Set the Model status to Approved"
   ]
  },
  {
   "cell_type": "code",
   "execution_count": 89,
   "id": "7be02951-bf2a-4b6b-bcde-907bfa154010",
   "metadata": {
    "execution": {
     "iopub.execute_input": "2025-06-20T00:55:04.194082Z",
     "iopub.status.busy": "2025-06-20T00:55:04.193762Z",
     "iopub.status.idle": "2025-06-20T00:55:04.292098Z",
     "shell.execute_reply": "2025-06-20T00:55:04.291405Z",
     "shell.execute_reply.started": "2025-06-20T00:55:04.194060Z"
    }
   },
   "outputs": [
    {
     "name": "stdout",
     "output_type": "stream",
     "text": [
      "Latest Model Package ARN: arn:aws:sagemaker:us-east-1:553246940090:model-package/AutismClassifierPackageGroupV1/1\n"
     ]
    }
   ],
   "source": [
    "response = sm_client.list_model_packages(\n",
    "    ModelPackageGroupName=\"AutismClassifierPackageGroupV1\",\n",
    "    SortBy=\"CreationTime\",\n",
    "    SortOrder=\"Descending\",\n",
    "    MaxResults=1\n",
    ")\n",
    "\n",
    "model_package_arn = response[\"ModelPackageSummaryList\"][0][\"ModelPackageArn\"]\n",
    "print(f\"Latest Model Package ARN: {model_package_arn}\")\n"
   ]
  },
  {
   "cell_type": "code",
   "execution_count": 66,
   "id": "65e29706-30d3-4603-b549-ecbbf8d8a78b",
   "metadata": {
    "execution": {
     "iopub.execute_input": "2025-06-19T22:29:36.916748Z",
     "iopub.status.busy": "2025-06-19T22:29:36.916290Z",
     "iopub.status.idle": "2025-06-19T22:29:37.052407Z",
     "shell.execute_reply": "2025-06-19T22:29:37.051813Z",
     "shell.execute_reply.started": "2025-06-19T22:29:36.916725Z"
    }
   },
   "outputs": [
    {
     "name": "stdout",
     "output_type": "stream",
     "text": [
      "Model Package approved: arn:aws:sagemaker:us-east-1:553246940090:model-package/AutismClassifierPackageGroupV1/1\n"
     ]
    }
   ],
   "source": [
    "sm_client.update_model_package(\n",
    "    ModelPackageArn=model_package_arn,\n",
    "    ModelApprovalStatus=\"Approved\",\n",
    "    ApprovalDescription=\"Manually approved for endpoint deployment\"\n",
    ")\n",
    "\n",
    "print(f\"Model Package approved: {model_package_arn}\")"
   ]
  },
  {
   "cell_type": "markdown",
   "id": "57f7365b-9277-4f91-ba1f-9bdf34bae48a",
   "metadata": {},
   "source": [
    "### Create an model deployment"
   ]
  },
  {
   "cell_type": "code",
   "execution_count": 68,
   "id": "6faae74c-0b97-4f9b-81bd-29f43baa4941",
   "metadata": {
    "execution": {
     "iopub.execute_input": "2025-06-19T22:35:46.030958Z",
     "iopub.status.busy": "2025-06-19T22:35:46.030372Z",
     "iopub.status.idle": "2025-06-19T22:35:46.154887Z",
     "shell.execute_reply": "2025-06-19T22:35:46.154234Z",
     "shell.execute_reply.started": "2025-06-19T22:35:46.030934Z"
    }
   },
   "outputs": [
    {
     "name": "stdout",
     "output_type": "stream",
     "text": [
      "Using Model Package ARN: arn:aws:sagemaker:us-east-1:553246940090:model-package/AutismClassifierPackageGroupV1/1\n"
     ]
    }
   ],
   "source": [
    "import boto3\n",
    "import time\n",
    "import sagemaker\n",
    "from sagemaker import get_execution_role\n",
    "\n",
    "# --- Config ---\n",
    "region = boto3.Session().region_name\n",
    "sm_client = boto3.client(\"sagemaker\", region_name=region)\n",
    "sagemaker_session = sagemaker.Session()\n",
    "role = get_execution_role()\n",
    "\n",
    "# --- Use the latest approved model package ARN from the registry ---\n",
    "\n",
    "# Get the latest approved model package\n",
    "response = sm_client.list_model_packages(\n",
    "    ModelPackageGroupName=\"AutismClassifierPackageGroupV1\",\n",
    "    ModelApprovalStatus=\"Approved\",\n",
    "    SortBy=\"CreationTime\",\n",
    "    SortOrder=\"Descending\",\n",
    "    MaxResults=1\n",
    ")\n",
    "\n",
    "\n",
    "if not response[\"ModelPackageSummaryList\"]:\n",
    "    raise ValueError(\"No approved model found. Approve one in SageMaker Model Registry first.\")\n",
    "\n",
    "model_package_arn = response[\"ModelPackageSummaryList\"][0][\"ModelPackageArn\"]\n",
    "print(f\"Using Model Package ARN: {model_package_arn}\")\n"
   ]
  },
  {
   "cell_type": "code",
   "execution_count": 69,
   "id": "07ffdb86-6842-4b0e-b25a-81f2b06cf296",
   "metadata": {
    "execution": {
     "iopub.execute_input": "2025-06-19T22:36:51.839504Z",
     "iopub.status.busy": "2025-06-19T22:36:51.839103Z",
     "iopub.status.idle": "2025-06-19T22:36:53.428012Z",
     "shell.execute_reply": "2025-06-19T22:36:53.427422Z",
     "shell.execute_reply.started": "2025-06-19T22:36:51.839482Z"
    }
   },
   "outputs": [
    {
     "name": "stdout",
     "output_type": "stream",
     "text": [
      "Created model: asd-classifier-model-1750372611\n",
      "Created endpoint config: asd-classifier-endpoint-1750372611-config\n",
      "Creating endpoint: asd-classifier-endpoint-1750372611 (this may take a few minutes...)\n"
     ]
    }
   ],
   "source": [
    "# --- Unique names for endpoint and config ---\n",
    "endpoint_name = f\"asd-classifier-endpoint-{int(time.time())}\"\n",
    "model_name = f\"asd-classifier-model-{int(time.time())}\"\n",
    "endpoint_config_name = f\"{endpoint_name}-config\"\n",
    "\n",
    "# --- Create Model from Model Package ---\n",
    "sm_client.create_model(\n",
    "    ModelName=model_name,\n",
    "    ExecutionRoleArn=role,\n",
    "    PrimaryContainer={\n",
    "        \"ModelPackageName\": model_package_arn\n",
    "    }\n",
    ")\n",
    "print(f\"Created model: {model_name}\")\n",
    "\n",
    "# --- Create Endpoint Configuration ---\n",
    "sm_client.create_endpoint_config(\n",
    "    EndpointConfigName=endpoint_config_name,\n",
    "    ProductionVariants=[\n",
    "        {\n",
    "            \"VariantName\": \"AllTraffic\",\n",
    "            \"ModelName\": model_name,\n",
    "            \"InitialInstanceCount\": 1,\n",
    "            \"InstanceType\": \"ml.m5.large\",\n",
    "            \"InitialVariantWeight\": 1\n",
    "        }\n",
    "    ]\n",
    ")\n",
    "print(f\"Created endpoint config: {endpoint_config_name}\")\n",
    "\n",
    "# --- Deploy the Endpoint ---\n",
    "sm_client.create_endpoint(\n",
    "    EndpointName=endpoint_name,\n",
    "    EndpointConfigName=endpoint_config_name\n",
    ")\n",
    "print(f\"Creating endpoint: {endpoint_name} (this may take a few minutes...)\")\n"
   ]
  },
  {
   "cell_type": "markdown",
   "id": "3421c015-10e0-4a60-b541-623c7f7ecd14",
   "metadata": {},
   "source": [
    "### Wait for the endpoint creation to complete"
   ]
  },
  {
   "cell_type": "code",
   "execution_count": null,
   "id": "c5d288e8-cd7b-4609-8e20-e084f6c20c20",
   "metadata": {
    "execution": {
     "iopub.status.busy": "2025-06-19T23:00:33.799850Z",
     "iopub.status.idle": "2025-06-19T23:00:33.800080Z",
     "shell.execute_reply": "2025-06-19T23:00:33.799979Z",
     "shell.execute_reply.started": "2025-06-19T23:00:33.799970Z"
    },
    "scrolled": true
   },
   "outputs": [],
   "source": [
    "import time\n",
    "\n",
    "def wait_for_endpoint(endpoint_name):\n",
    "    status = sm_client.describe_endpoint(EndpointName=endpoint_name)[\"EndpointStatus\"]\n",
    "    while status not in [\"InService\", \"Failed\"]:\n",
    "        print(f\"Endpoint status: {status}. Waiting...\")\n",
    "        time.sleep(15)\n",
    "        status = sm_client.describe_endpoint(EndpointName=endpoint_name)[\"EndpointStatus\"]\n",
    "    if status == \"InService\":\n",
    "        print(f\"Endpoint '{endpoint_name}' is InService and ready!\")\n",
    "    else:\n",
    "        raise RuntimeError(f\"Endpoint creation failed with status: {status}\")\n",
    "\n",
    "wait_for_endpoint(endpoint_name)"
   ]
  },
  {
   "cell_type": "markdown",
   "id": "393fb944-7044-46f6-bc6b-d5689a1821bb",
   "metadata": {},
   "source": [
    "### Model deployment failure troubleshooting\n",
    "The model deployment failed, so running few steps to make it succeeded"
   ]
  },
  {
   "cell_type": "code",
   "execution_count": 75,
   "id": "ee02c7c3-5609-42f7-be3b-d335711dc794",
   "metadata": {
    "execution": {
     "iopub.execute_input": "2025-06-19T23:34:09.210998Z",
     "iopub.status.busy": "2025-06-19T23:34:09.210662Z",
     "iopub.status.idle": "2025-06-19T23:34:09.222683Z",
     "shell.execute_reply": "2025-06-19T23:34:09.222081Z",
     "shell.execute_reply.started": "2025-06-19T23:34:09.210976Z"
    }
   },
   "outputs": [],
   "source": [
    "import joblib\n",
    "import os\n",
    "import pandas as pd\n",
    "from sagemaker.sklearn.model import SKLearnModel\n",
    "\n",
    "def model_fn(model_dir):\n",
    "    model_path = os.path.join(model_dir, \"model.joblib\")\n",
    "    return joblib.load(model_path)\n",
    "\n",
    "def input_fn(request_body, request_content_type):\n",
    "    if request_content_type == \"text/csv\":\n",
    "        return pd.read_csv(pd.compat.StringIO(request_body), header=None)\n",
    "    raise ValueError(\"Unsupported content type: {}\".format(request_content_type))\n",
    "\n",
    "def predict_fn(input_data, model):\n",
    "    return model.predict(input_data)\n",
    "\n",
    "def output_fn(prediction, content_type):\n",
    "    if content_type == \"text/csv\":\n",
    "        return \",\".join(str(x) for x in prediction)\n",
    "    raise ValueError(\"Unsupported content type: {}\".format(content_type))"
   ]
  },
  {
   "cell_type": "code",
   "execution_count": 80,
   "id": "abc8255e-6e14-4a9a-891e-d2054c54943b",
   "metadata": {
    "execution": {
     "iopub.execute_input": "2025-06-20T00:14:01.822165Z",
     "iopub.status.busy": "2025-06-20T00:14:01.821832Z",
     "iopub.status.idle": "2025-06-20T00:14:01.882052Z",
     "shell.execute_reply": "2025-06-20T00:14:01.881389Z",
     "shell.execute_reply.started": "2025-06-20T00:14:01.822143Z"
    }
   },
   "outputs": [],
   "source": [
    "import tarfile\n",
    "\n",
    "with tarfile.open(\"model.tar.gz\", \"w:gz\") as tar:\n",
    "    tar.add(\"model/model.joblib\", arcname=\"model.joblib\")\n",
    "    tar.add(\"model/code/inference.py\", arcname=\"code/inference.py\")\n"
   ]
  },
  {
   "cell_type": "code",
   "execution_count": 81,
   "id": "5d6bdbfa-e958-4add-8b83-97f825ec6370",
   "metadata": {
    "execution": {
     "iopub.execute_input": "2025-06-20T00:14:38.044000Z",
     "iopub.status.busy": "2025-06-20T00:14:38.043431Z",
     "iopub.status.idle": "2025-06-20T00:14:38.346444Z",
     "shell.execute_reply": "2025-06-20T00:14:38.345860Z",
     "shell.execute_reply.started": "2025-06-20T00:14:38.043962Z"
    }
   },
   "outputs": [
    {
     "name": "stdout",
     "output_type": "stream",
     "text": [
      "\n",
      "Uploaded model with correct inference script: s3://sagemaker-us-east-1-553246940090/autism-model/fixed/model.tar.gz\n"
     ]
    }
   ],
   "source": [
    "from sagemaker import Session\n",
    "\n",
    "sagemaker_session = Session()\n",
    "s3_model_path = sagemaker_session.upload_data(\"model.tar.gz\", key_prefix=\"autism-model/fixed\")\n",
    "print(\"\\nUploaded model with correct inference script:\", s3_model_path)\n"
   ]
  },
  {
   "cell_type": "code",
   "execution_count": 95,
   "id": "e4021ed1-433a-4f38-b737-f0b1b6b38207",
   "metadata": {
    "execution": {
     "iopub.execute_input": "2025-06-20T06:20:17.675326Z",
     "iopub.status.busy": "2025-06-20T06:20:17.674708Z",
     "iopub.status.idle": "2025-06-20T06:20:18.085861Z",
     "shell.execute_reply": "2025-06-20T06:20:18.083453Z",
     "shell.execute_reply.started": "2025-06-20T06:20:17.675303Z"
    }
   },
   "outputs": [
    {
     "data": {
      "text/plain": [
       "['model.joblib']"
      ]
     },
     "execution_count": 95,
     "metadata": {},
     "output_type": "execute_result"
    }
   ],
   "source": [
    "from sklearn.ensemble import RandomForestClassifier\n",
    "from sklearn.datasets import load_iris\n",
    "import joblib\n",
    "\n",
    "X, y = load_iris(return_X_y=True)\n",
    "model = RandomForestClassifier()\n",
    "model.fit(X, y)\n",
    "\n",
    "joblib.dump(model, \"model.joblib\")"
   ]
  },
  {
   "cell_type": "markdown",
   "id": "3220a69e-5e2e-44df-918f-9106b8b595e4",
   "metadata": {},
   "source": [
    "## Using XGBoost model"
   ]
  },
  {
   "cell_type": "code",
   "execution_count": 106,
   "id": "3b69baff-6503-4d9a-be78-116af85033d5",
   "metadata": {
    "execution": {
     "iopub.execute_input": "2025-06-21T06:18:19.465590Z",
     "iopub.status.busy": "2025-06-21T06:18:19.465196Z",
     "iopub.status.idle": "2025-06-21T06:21:22.045533Z",
     "shell.execute_reply": "2025-06-21T06:21:22.044709Z",
     "shell.execute_reply.started": "2025-06-21T06:18:19.465567Z"
    }
   },
   "outputs": [
    {
     "name": "stderr",
     "output_type": "stream",
     "text": [
      "/tmp/ipykernel_205/3182243152.py:19: DeprecationWarning: datetime.datetime.utcnow() is deprecated and scheduled for removal in a future version. Use timezone-aware objects to represent datetimes in UTC: datetime.datetime.now(datetime.UTC).\n",
      "  timestamp = datetime.utcnow().strftime(\"%Y-%m-%d-%H%M\")\n",
      "INFO:sagemaker.image_uris:Defaulting to only available Python version: py3\n",
      "INFO:sagemaker.image_uris:Defaulting to only supported image scope: cpu.\n",
      "INFO:sagemaker:Creating model with name: sagemaker-xgboost-2025-06-21-06-18-19-782\n",
      "INFO:sagemaker:Creating endpoint-config with name xgb-monitor-endpoint-2025-06-21-0618\n",
      "INFO:sagemaker:Creating endpoint with name xgb-monitor-endpoint-2025-06-21-0618\n"
     ]
    },
    {
     "name": "stdout",
     "output_type": "stream",
     "text": [
      "-----!"
     ]
    },
    {
     "name": "stderr",
     "output_type": "stream",
     "text": [
      "INFO:sagemaker.image_uris:Ignoring unnecessary instance type: None.\n"
     ]
    },
    {
     "name": "stdout",
     "output_type": "stream",
     "text": [
      "Endpoint 'xgb-monitor-endpoint-2025-06-21-0618' deployed with data capture enabled.\n"
     ]
    }
   ],
   "source": [
    "from datetime import datetime\n",
    "import boto3\n",
    "import sagemaker\n",
    "from sagemaker import get_execution_role\n",
    "from sagemaker.model import Model\n",
    "from sagemaker.model_monitor import DataCaptureConfig, CronExpressionGenerator\n",
    "from sagemaker.model_monitor import ModelQualityMonitor, MonitoringDatasetFormat\n",
    "from sagemaker.image_uris import retrieve\n",
    "from sagemaker.session import Session\n",
    "\n",
    "# --- Initialize session ---\n",
    "role = get_execution_role()\n",
    "sagemaker_session = Session()\n",
    "region = sagemaker_session.boto_region_name\n",
    "bucket = sagemaker_session.default_bucket()\n",
    "prefix = \"sagemaker/xgb-monitoring\"\n",
    "\n",
    "# --- Paths ---\n",
    "timestamp = datetime.utcnow().strftime(\"%Y-%m-%d-%H%M\")\n",
    "#model_s3_path = f\"s3://{bucket}/{prefix}/model/xgb-churn-prediction-model.tar.gz\"\n",
    "model_s3_path = \"s3://sagemaker-us-east-1-553246940090/autism-model-store/model.tar.gz\"\n",
    "endpoint_name = f\"xgb-monitor-endpoint-{timestamp}\"\n",
    "capture_path = f\"s3://{bucket}/{prefix}/capture\"\n",
    "report_path = f\"s3://{bucket}/{prefix}/reports\"\n",
    "ground_truth_path = f\"s3://{bucket}/{prefix}/ground-truth/{timestamp}\"\n",
    "\n",
    "# --- Deploy model with data capture ---\n",
    "image_uri = retrieve(\"xgboost\", region=region, version=\"0.90-1\")\n",
    "model = Model(\n",
    "    image_uri=image_uri,\n",
    "    model_data=model_s3_path,\n",
    "    role=role,\n",
    "    sagemaker_session=sagemaker_session\n",
    ")\n",
    "\n",
    "data_capture_config = DataCaptureConfig(\n",
    "    enable_capture=True,\n",
    "    sampling_percentage=100,\n",
    "    destination_s3_uri=capture_path\n",
    ")\n",
    "\n",
    "model.deploy(\n",
    "    initial_instance_count=1,\n",
    "    instance_type=\"ml.m5.xlarge\",\n",
    "    endpoint_name=endpoint_name,\n",
    "    data_capture_config=data_capture_config\n",
    ")\n",
    "\n",
    "print(f\"Endpoint '{endpoint_name}' deployed with data capture enabled.\")\n",
    "\n",
    "# --- Set up Model Quality Monitor ---\n",
    "monitor = ModelQualityMonitor(\n",
    "    role=role,\n",
    "    instance_count=1,\n",
    "    instance_type=\"ml.m5.large\",\n",
    "    volume_size_in_gb=20,\n",
    "    max_runtime_in_seconds=3600,\n",
    "    sagemaker_session=sagemaker_session\n",
    ")\n",
    "\n",
    "schedule_name = f\"xgb-model-quality-monitoring-{timestamp}\"\n"
   ]
  },
  {
   "cell_type": "markdown",
   "id": "578be7a7-61c5-48fe-90fe-22d72a4caaca",
   "metadata": {},
   "source": [
    "## Monitoring setup"
   ]
  },
  {
   "cell_type": "markdown",
   "id": "465ba256-ef67-422c-b04a-1b4dc00c9d78",
   "metadata": {},
   "source": [
    "To perform the monitoring setup, we will follow the below steps:\n",
    "* Setup Baseline Job using training data\n",
    "* Create a monitoring schedule\n",
    "* View Monitoring Reports\n",
    "* View Monitoring Status"
   ]
  },
  {
   "cell_type": "code",
   "execution_count": 73,
   "id": "9dc67390-8132-4171-9b94-8d0cd7b4f1f0",
   "metadata": {
    "execution": {
     "iopub.execute_input": "2025-06-19T23:16:03.555408Z",
     "iopub.status.busy": "2025-06-19T23:16:03.554807Z",
     "iopub.status.idle": "2025-06-19T23:16:04.012255Z",
     "shell.execute_reply": "2025-06-19T23:16:04.011704Z",
     "shell.execute_reply.started": "2025-06-19T23:16:03.555382Z"
    }
   },
   "outputs": [
    {
     "name": "stdout",
     "output_type": "stream",
     "text": [
      "CSV uploaded: s3://sagemaker-us-east-1-553246940090/autism_prediction/csv/asd_dataset.csv\n"
     ]
    }
   ],
   "source": [
    "import pandas as pd\n",
    "import boto3\n",
    "import sagemaker\n",
    "\n",
    "# --- Load Parquet ---\n",
    "parquet_s3_uri = \"s3://sagemaker-us-east-1-672518276407/autism_prediction/parquet/asd_dataset.parquet\"\n",
    "df = pd.read_parquet(parquet_s3_uri)\n",
    "\n",
    "# --- Save as CSV ---\n",
    "csv_file = \"asd_dataset.csv\"\n",
    "df.to_csv(csv_file, index=False)\n",
    "\n",
    "# --- Upload CSV to S3 ---\n",
    "sagemaker_session = sagemaker.Session()\n",
    "bucket = sagemaker_session.default_bucket()\n",
    "upload_prefix = \"autism_prediction/csv\"\n",
    "\n",
    "csv_s3_uri = sagemaker_session.upload_data(\n",
    "    path=csv_file,\n",
    "    bucket=bucket,\n",
    "    key_prefix=upload_prefix\n",
    ")\n",
    "\n",
    "print(f\"CSV uploaded: {csv_s3_uri}\")\n"
   ]
  },
  {
   "cell_type": "code",
   "execution_count": 74,
   "id": "1f7b65d7-10a6-4d9c-817c-91a0aeb6910b",
   "metadata": {
    "execution": {
     "iopub.execute_input": "2025-06-19T23:16:57.261804Z",
     "iopub.status.busy": "2025-06-19T23:16:57.261222Z",
     "iopub.status.idle": "2025-06-19T23:22:21.678825Z",
     "shell.execute_reply": "2025-06-19T23:22:21.678204Z",
     "shell.execute_reply.started": "2025-06-19T23:16:57.261779Z"
    }
   },
   "outputs": [
    {
     "name": "stderr",
     "output_type": "stream",
     "text": [
      "INFO:sagemaker.image_uris:Ignoring unnecessary instance type: None.\n",
      "INFO:sagemaker:Creating processing-job with name baseline-suggestion-job-2025-06-19-23-16-57-307\n"
     ]
    },
    {
     "name": "stdout",
     "output_type": "stream",
     "text": [
      "...............\u001b[34m2025-06-19 23:19:28.005924: W tensorflow/stream_executor/platform/default/dso_loader.cc:64] Could not load dynamic library 'libcudart.so.11.0'; dlerror: libcudart.so.11.0: cannot open shared object file: No such file or directory\u001b[0m\n",
      "\u001b[34m2025-06-19 23:19:28.005963: I tensorflow/stream_executor/cuda/cudart_stub.cc:29] Ignore above cudart dlerror if you do not have a GPU set up on your machine.\u001b[0m\n",
      "\u001b[34m2025-06-19 23:19:29.667966: W tensorflow/stream_executor/platform/default/dso_loader.cc:64] Could not load dynamic library 'libcuda.so.1'; dlerror: libcuda.so.1: cannot open shared object file: No such file or directory\u001b[0m\n",
      "\u001b[34m2025-06-19 23:19:29.667997: W tensorflow/stream_executor/cuda/cuda_driver.cc:269] failed call to cuInit: UNKNOWN ERROR (303)\u001b[0m\n",
      "\u001b[34m2025-06-19 23:19:29.668057: I tensorflow/stream_executor/cuda/cuda_diagnostics.cc:156] kernel driver does not appear to be running on this host (ip-10-2-223-201.ec2.internal): /proc/driver/nvidia/version does not exist\u001b[0m\n",
      "\u001b[34m2025-06-19 23:19:29.668355: I tensorflow/core/platform/cpu_feature_guard.cc:142] This TensorFlow binary is optimized with oneAPI Deep Neural Network Library (oneDNN) to use the following CPU instructions in performance-critical operations:  AVX2 AVX512F FMA\u001b[0m\n",
      "\u001b[34mTo enable them in other operations, rebuild TensorFlow with the appropriate compiler flags.\u001b[0m\n",
      "\u001b[34m2025-06-19 23:19:31,577 - __main__ - INFO - All params:{'ProcessingJobArn': 'arn:aws:sagemaker:us-east-1:553246940090:processing-job/baseline-suggestion-job-2025-06-19-23-16-57-307', 'ProcessingJobName': 'baseline-suggestion-job-2025-06-19-23-16-57-307', 'Environment': {'dataset_format': '{\"csv\": {\"header\": true, \"output_columns_position\": \"START\"}}', 'dataset_source': '/opt/ml/processing/input/baseline_dataset_input', 'output_path': '/opt/ml/processing/output', 'publish_cloudwatch_metrics': 'Disabled'}, 'AppSpecification': {'ImageUri': '156813124566.dkr.ecr.us-east-1.amazonaws.com/sagemaker-model-monitor-analyzer', 'ContainerEntrypoint': None, 'ContainerArguments': None}, 'ProcessingInputs': [{'InputName': 'baseline_dataset_input', 'AppManaged': False, 'S3Input': {'LocalPath': '/opt/ml/processing/input/baseline_dataset_input', 'S3Uri': 's3://sagemaker-us-east-1-553246940090/autism_prediction/csv/asd_dataset.csv', 'S3DataDistributionType': 'FullyReplicated', 'S3DataType': 'S3Prefix', 'S3InputMode': 'File', 'S3CompressionType': 'None', 'S3DownloadMode': 'StartOfJob'}, 'DatasetDefinitionInput': None}], 'ProcessingOutputConfig': {'Outputs': [{'OutputName': 'monitoring_output', 'AppManaged': False, 'S3Output': {'LocalPath': '/opt/ml/processing/output', 'S3Uri': 's3://sagemaker-us-east-1-553246940090/monitoring/baseline-output', 'S3UploadMode': 'EndOfJob'}, 'FeatureStoreOutput': None}], 'KmsKeyId': None}, 'ProcessingResources': {'ClusterConfig': {'InstanceCount': 1, 'InstanceType': 'ml.m5.large', 'VolumeSizeInGB': 20, 'VolumeKmsKeyId': None}}, 'NetworkConfig': {'VpcConfig': None, 'EnableNetworkIsolation': False, 'EnableInterContainerTrafficEncryption': False}, 'RoleArn': 'arn:aws:iam::553246940090:role/LabRole', 'StoppingCondition': {'MaxRuntimeInSeconds': 3600}}\u001b[0m\n",
      "\u001b[34m2025-06-19 23:19:31,577 - __main__ - INFO - Current Environment:{'dataset_format': '{\"csv\": {\"header\": true, \"output_columns_position\": \"START\"}}', 'dataset_source': '/opt/ml/processing/input/baseline_dataset_input', 'output_path': '/opt/ml/processing/output', 'publish_cloudwatch_metrics': 'Disabled'}\u001b[0m\n",
      "\u001b[34m2025-06-19 23:19:31,577 - __main__ - INFO - categorical_drift_method:None\u001b[0m\n",
      "\u001b[34m2025-06-19 23:19:31,577 - DefaultDataAnalyzer - INFO - Performing analysis with input: {\"dataset_source\": \"/opt/ml/processing/input/baseline_dataset_input\", \"dataset_format\": {\"csv\": {\"header\": true, \"output_columns_position\": \"START\"}}, \"output_path\": \"/opt/ml/processing/output\", \"monitoring_input_type\": null, \"analysis_type\": null, \"problem_type\": null, \"inference_attribute\": null, \"probability_attribute\": null, \"ground_truth_attribute\": null, \"probability_threshold_attribute\": null, \"positive_label\": null, \"exclude_features_attribute\": null, \"record_preprocessor_script\": null, \"post_analytics_processor_script\": null, \"baseline_constraints\": null, \"baseline_statistics\": null, \"data_quality_monitoring_config\": {\"evaluate_constraints\": \"Enabled\", \"emit_metrics\": \"Enabled\", \"datatype_check_threshold\": 1.0, \"domain_content_threshold\": 1.0, \"distribution_constraints\": {\"perform_comparison\": \"Enabled\", \"comparison_threshold\": 0.1, \"comparison_method\": \"Robust\", \"categorical_comparison_threshold\": 0.1, \"categorical_drift_method\": \"LInfinity\"}}, \"start_time\": null, \"end_time\": null, \"metric_time\": null, \"cloudwatch_metrics_directory\": \"/opt/ml/output/metrics/cloudwatch\", \"publish_cloudwatch_metrics\": \"Disabled\", \"sagemaker_endpoint_name\": null, \"sagemaker_monitoring_schedule_name\": null, \"output_message_file\": \"/opt/ml/output/message\", \"detect_outliers\": null, \"detect_drift\": null, \"image_data\": null, \"report_enabled\": false, \"auto_ml_job_detail\": null}\u001b[0m\n",
      "\u001b[34m2025-06-19 23:19:31,577 - DefaultDataAnalyzer - INFO - Bootstrapping yarn\u001b[0m\n",
      "\u001b[34m2025-06-19 23:19:31,577 - bootstrap - INFO - Copy aws jars\u001b[0m\n",
      "\u001b[34m2025-06-19 23:19:31,914 - bootstrap - INFO - Copy cluster config\u001b[0m\n",
      "\u001b[34m2025-06-19 23:19:31,915 - bootstrap - INFO - Write runtime cluster config\u001b[0m\n",
      "\u001b[34m2025-06-19 23:19:31,915 - bootstrap - INFO - Resource Config is: {'current_host': 'algo-1', 'current_instance_type': 'ml.m5.large', 'current_group_name': 'homogeneousCluster', 'hosts': ['algo-1'], 'instance_groups': [{'instance_group_name': 'homogeneousCluster', 'instance_type': 'ml.m5.large', 'hosts': ['algo-1']}], 'network_interface_name': 'eth0', 'topology': None}\u001b[0m\n",
      "\u001b[34m2025-06-19 23:19:31,927 - bootstrap - INFO - Finished Yarn configuration files setup.\u001b[0m\n",
      "\u001b[34m2025-06-19 23:19:31,927 - bootstrap - INFO - Starting spark process for master node algo-1\u001b[0m\n",
      "\u001b[34m2025-06-19 23:19:31,928 - bootstrap - INFO - Running command: /usr/hadoop-3.0.0/bin/hdfs namenode -format -force\u001b[0m\n",
      "\u001b[34mWARNING: /usr/hadoop-3.0.0/logs does not exist. Creating.\u001b[0m\n",
      "\u001b[34m2025-06-19 23:19:33,439 INFO namenode.NameNode: STARTUP_MSG: \u001b[0m\n",
      "\u001b[34m/************************************************************\u001b[0m\n",
      "\u001b[34mSTARTUP_MSG: Starting NameNode\u001b[0m\n",
      "\u001b[34mSTARTUP_MSG:   host = algo-1/10.2.223.201\u001b[0m\n",
      "\u001b[34mSTARTUP_MSG:   args = [-format, -force]\u001b[0m\n",
      "\u001b[34mSTARTUP_MSG:   version = 3.0.0\u001b[0m\n",
      "\u001b[34mSTARTUP_MSG:   classpath = /usr/hadoop-3.0.0/etc/hadoop:/usr/hadoop-3.0.0/share/hadoop/common/lib/kerby-pkix-1.0.1.jar:/usr/hadoop-3.0.0/share/hadoop/common/lib/asm-5.0.4.jar:/usr/hadoop-3.0.0/share/hadoop/common/lib/httpcore-4.4.4.jar:/usr/hadoop-3.0.0/share/hadoop/common/lib/commons-collections-3.2.2.jar:/usr/hadoop-3.0.0/share/hadoop/common/lib/guava-11.0.2.jar:/usr/hadoop-3.0.0/share/hadoop/common/lib/htrace-core4-4.1.0-incubating.jar:/usr/hadoop-3.0.0/share/hadoop/common/lib/commons-io-2.4.jar:/usr/hadoop-3.0.0/share/hadoop/common/lib/jetty-io-9.3.19.v20170502.jar:/usr/hadoop-3.0.0/share/hadoop/common/lib/jaxb-impl-2.2.3-1.jar:/usr/hadoop-3.0.0/share/hadoop/common/lib/stax2-api-3.1.4.jar:/usr/hadoop-3.0.0/share/hadoop/common/lib/kerby-util-1.0.1.jar:/usr/hadoop-3.0.0/share/hadoop/common/lib/kerb-server-1.0.1.jar:/usr/hadoop-3.0.0/share/hadoop/common/lib/json-smart-2.3.jar:/usr/hadoop-3.0.0/share/hadoop/common/lib/commons-compress-1.4.1.jar:/usr/hadoop-3.0.0/share/hadoop/common/lib/jetty-server-9.3.19.v20170502.jar:/usr/hadoop-3.0.0/share/hadoop/common/lib/jersey-core-1.19.jar:/usr/hadoop-3.0.0/share/hadoop/common/lib/re2j-1.1.jar:/usr/hadoop-3.0.0/share/hadoop/common/lib/kerby-config-1.0.1.jar:/usr/hadoop-3.0.0/share/hadoop/common/lib/nimbus-jose-jwt-4.41.1.jar:/usr/hadoop-3.0.0/share/hadoop/common/lib/jersey-server-1.19.jar:/usr/hadoop-3.0.0/share/hadoop/common/lib/commons-logging-1.1.3.jar:/usr/hadoop-3.0.0/share/hadoop/common/lib/metrics-core-3.0.1.jar:/usr/hadoop-3.0.0/share/hadoop/common/lib/kerb-identity-1.0.1.jar:/usr/hadoop-3.0.0/share/hadoop/common/lib/javax.servlet-api-3.1.0.jar:/usr/hadoop-3.0.0/share/hadoop/common/lib/commons-lang3-3.4.jar:/usr/hadoop-3.0.0/share/hadoop/common/lib/token-provider-1.0.1.jar:/usr/hadoop-3.0.0/share/hadoop/common/lib/jetty-webapp-9.3.19.v20170502.jar:/usr/hadoop-3.0.0/share/hadoop/common/lib/kerb-core-1.0.1.jar:/usr/hadoop-3.0.0/share/hadoop/common/lib/httpclient-4.5.2.jar:/usr/hadoop-3.0.0/share/hadoop/common/lib/commons-beanutils-1.9.3.jar:/usr/hadoop-3.0.0/share/hadoop/common/lib/netty-3.10.5.Final.jar:/usr/hadoop-3.0.0/share/hadoop/common/lib/zookeeper-3.4.9.jar:/usr/hadoop-3.0.0/share/hadoop/common/lib/hadoop-auth-3.0.0.jar:/usr/hadoop-3.0.0/share/hadoop/common/lib/snappy-java-1.0.5.jar:/usr/hadoop-3.0.0/share/hadoop/common/lib/paranamer-2.3.jar:/usr/hadoop-3.0.0/share/hadoop/common/lib/xz-1.0.jar:/usr/hadoop-3.0.0/share/hadoop/common/lib/commons-configuration2-2.1.1.jar:/usr/hadoop-3.0.0/share/hadoop/common/lib/jul-to-slf4j-1.7.25.jar:/usr/hadoop-3.0.0/share/hadoop/common/lib/jackson-jaxrs-1.9.13.jar:/usr/hadoop-3.0.0/share/hadoop/common/lib/jersey-json-1.19.jar:/usr/hadoop-3.0.0/share/hadoop/common/lib/kerb-admin-1.0.1.jar:/usr/hadoop-3.0.0/share/hadoop/common/lib/curator-client-2.12.0.jar:/usr/hadoop-3.0.0/share/hadoop/common/lib/jsp-api-2.1.jar:/usr/hadoop-3.0.0/share/hadoop/common/lib/kerb-client-1.0.1.jar:/usr/hadoop-3.0.0/share/hadoop/common/lib/jackson-core-2.7.8.jar:/usr/hadoop-3.0.0/share/hadoop/common/lib/jackson-xc-1.9.13.jar:/usr/hadoop-3.0.0/share/hadoop/common/lib/jackson-mapper-asl-1.9.13.jar:/usr/hadoop-3.0.0/share/hadoop/common/lib/commons-lang-2.6.jar:/usr/hadoop-3.0.0/share/hadoop/common/lib/jackson-core-asl-1.9.13.jar:/usr/hadoop-3.0.0/share/hadoop/common/lib/hamcrest-core-1.3.jar:/usr/hadoop-3.0.0/share/hadoop/common/lib/jetty-xml-9.3.19.v20170502.jar:/usr/hadoop-3.0.0/share/hadoop/common/lib/mockito-all-1.8.5.jar:/usr/hadoop-3.0.0/share/hadoop/common/lib/kerby-asn1-1.0.1.jar:/usr/hadoop-3.0.0/share/hadoop/common/lib/slf4j-api-1.7.25.jar:/usr/hadoop-3.0.0/share/hadoop/common/lib/gson-2.2.4.jar:/usr/hadoop-3.0.0/share/hadoop/common/lib/accessors-smart-1.2.jar:/usr/hadoop-3.0.0/share/hadoop/common/lib/hadoop-annotations-3.0.0.jar:/usr/hadoop-3.0.0/share/hadoop/common/lib/junit-4.11.jar:/usr/hadoop-3.0.0/share/hadoop/common/lib/kerb-util-1.0.1.jar:/usr/hadoop-3.0.0/share/hadoop/common/lib/jackson-databind-2.7.8.jar:/usr/hadoop-3.0.0/share/hadoop/common/lib/commons-net-3.1.jar:/usr/hadoop-3.0.0/share/hadoop/common/lib/jackson-annotations-2.7.8.jar:/usr/hadoop-3.0.0/share/hadoop/common/lib/curator-framework-2.12.0.jar:/usr/hadoop-3.0.0/share/hadoop/common/lib/jsr305-3.0.0.jar:/usr/hadoop-3.0.0/share/hadoop/common/lib/kerb-crypto-1.0.1.jar:/usr/hadoop-3.0.0/share/hadoop/common/lib/commons-codec-1.4.jar:/usr/hadoop-3.0.0/share/hadoop/common/lib/kerb-common-1.0.1.jar:/usr/hadoop-3.0.0/share/hadoop/common/lib/kerby-xdr-1.0.1.jar:/usr/hadoop-3.0.0/share/hadoop/common/lib/commons-cli-1.2.jar:/usr/hadoop-3.0.0/share/hadoop/common/lib/jsch-0.1.54.jar:/usr/hadoop-3.0.0/share/hadoop/common/lib/jetty-util-9.3.19.v20170502.jar:/usr/hadoop-3.0.0/share/hadoop/common/lib/protobuf-java-2.5.0.jar:/usr/hadoop-3.0.0/share/hadoop/common/lib/jettison-1.1.jar:/usr/hadoop-3.0.0/share/hadoop/common/lib/woodstox-core-5.0.3.jar:/usr/hadoop-3.0.0/share/hadoop/common/lib/log4j-1.2.17.jar:/usr/hadoop-3.0.0/share/hadoop/common/lib/commons-math3-3.1.1.jar:/usr/hadoop-3.0.0/share/hadoop/common/lib/jetty-servlet-9.3.19.v20170502.jar:/usr/hadoop-3.0.0/share/hadoop/common/lib/jetty-http-9.3.19.v20170502.jar:/usr/hadoop-3.0.0/share/hadoop/common/lib/jetty-security-9.3.19.v20170502.jar:/usr/hadoop-3.0.0/share/hadoop/common/lib/jersey-servlet-1.19.jar:/usr/hadoop-3.0.0/share/hadoop/common/lib/avro-1.7.7.jar:/usr/hadoop-3.0.0/share/hadoop/common/lib/slf4j-log4j12-1.7.25.jar:/usr/hadoop-3.0.0/share/hadoop/common/lib/jsr311-api-1.1.1.jar:/usr/hadoop-3.0.0/share/hadoop/common/lib/jaxb-api-2.2.11.jar:/usr/hadoop-3.0.0/share/hadoop/common/lib/kerb-simplekdc-1.0.1.jar:/usr/hadoop-3.0.0/share/hadoop/common/lib/curator-recipes-2.12.0.jar:/usr/hadoop-3.0.0/share/hadoop/common/lib/jcip-annotations-1.0-1.jar:/usr/hadoop-3.0.0/share/hadoop/common/lib/hadoop-aws-3.0.0.jar:/usr/hadoop-3.0.0/share/hadoop/common/lib/aws-java-sdk-bundle-1.11.199.jar:/usr/hadoop-3.0.0/share/hadoop/common/hadoop-kms-3.0.0.jar:/usr/hadoop-3.0.0/share/hadoop/common/hadoop-common-3.0.0-tests.jar:/usr/hadoop-3.0.0/share/hadoop/common/hadoop-common-3.0.0.jar:/usr/hadoop-3.0.0/share/hadoop/common/hadoop-nfs-3.0.0.jar:/usr/hadoop-3.0.0/share/hadoop/hdfs:/usr/hadoop-3.0.0/share/hadoop/hdfs/lib/kerby-pkix-1.0.1.jar:/usr/hadoop-3.0.0/share/hadoop/hdfs/lib/asm-5.0.4.jar:/usr/hadoop-3.0.0/share/hadoop/hdfs/lib/httpcore-4.4.4.jar:/usr/hadoop-3.0.0/share/hadoop/hdfs/lib/commons-collections-3.2.2.jar:/usr/hadoop-3.0.0/share/hadoop/hdfs/lib/guava-11.0.2.jar:/usr/hadoop-3.0.0/share/hadoop/hdfs/lib/htrace-core4-4.1.0-incubating.jar:/usr/hadoop-3.0.0/share/hadoop/hdfs/lib/commons-io-2.4.jar:/usr/hadoop-3.0.0/share/hadoop/hdfs/lib/jetty-io-9.3.19.v20170502.jar:/usr/hadoop-3.0.0/share/hadoop/hdfs/lib/jaxb-impl-2.2.3-1.jar:/usr/hadoop-3.0.0/share/hadoop/hdfs/lib/stax2-api-3.1.4.jar:/usr/hadoop-3.0.0/share/hadoop/hdfs/lib/kerby-util-1.0.1.jar:/usr/hadoop-3.0.0/share/hadoop/hdfs/lib/kerb-server-1.0.1.jar:/usr/hadoop-3.0.0/share/hadoop/hdfs/lib/json-smart-2.3.jar:/usr/hadoop-3.0.0/share/hadoop/hdfs/lib/commons-compress-1.4.1.jar:/usr/hadoop-3.0.0/share/hadoop/hdfs/lib/jetty-server-9.3.19.v20170502.jar:/usr/hadoop-3.0.0/share/hadoop/hdfs/lib/jersey-core-1.19.jar:/usr/hadoop-3.0.0/share/hadoop/hdfs/lib/re2j-1.1.jar:/usr/hadoop-3.0.0/share/hadoop/hdfs/lib/kerby-config-1.0.1.jar:/usr/hadoop-3.0.0/share/hadoop/hdfs/lib/nimbus-jose-jwt-4.41.1.jar:/usr/hadoop-3.0.0/share/hadoop/hdfs/lib/netty-all-4.0.23.Final.jar:/usr/hadoop-3.0.0/share/hadoop/hdfs/lib/jersey-server-1.19.jar:/usr/hadoop-3.0.0/share/hadoop/hdfs/lib/commons-logging-1.1.3.jar:/usr/hadoop-3.0.0/share/hadoop/hdfs/lib/kerb-identity-1.0.1.jar:/usr/hadoop-3.0.0/share/hadoop/hdfs/lib/leveldbjni-all-1.8.jar:/usr/hadoop-3.0.0/share/hadoop/hdfs/lib/javax.servlet-api-3.1.0.jar:/usr/hadoop-3.0.0/share/hadoop/hdfs/lib/commons-lang3-3.4.jar:/usr/hadoop-3.0.0/share/hadoop/hdfs/lib/token-provider-1.0.1.jar:/usr/hadoop-3.0.0/share/hadoop/hdfs/lib/jetty-webapp-9.3.19.v20170502.jar:/usr/hadoop-3.0.0/share/hadoop/hdfs/lib/kerb-core-1.0.1.jar:/usr/hadoop-3.0.0/share/hadoop/hdfs/lib/httpclient-4.5.2.jar:/usr/hadoop-3.0.0/share/hadoop/hdfs/lib/commons-beanutils-1.9.3.jar:/usr/hadoop-3.0.0/share/hadoop/hdfs/lib/netty-3.10.5.Final.jar:/usr/hadoop-3.0.0/share/hadoop/hdfs/lib/zookeeper-3.4.9.jar:/usr/hadoop-3.0.0/share/hadoop/hdfs/lib/hadoop-auth-3.0.0.jar:/usr/hadoop-3.0.0/share/hadoop/hdfs/lib/snappy-java-1.0.5.jar:/usr/hadoop-3.0.0/share/hadoop/hdfs/lib/paranamer-2.3.jar:/usr/hadoop-3.0.0/share/hadoop/hdfs/lib/xz-1.0.jar:/usr/hadoop-3.0.0/share/hadoop/hdfs/lib/commons-configuration2-2.1.1.jar:/usr/hadoop-3.0.0/share/hadoop/hdfs/lib/jackson-jaxrs-1.9.13.jar:/usr/hadoop-3.0.0/share/hadoop/hdfs/lib/jersey-json-1.19.jar:/usr/hadoop-3.0.0/share/hadoop/hdfs/lib/kerb-admin-1.0.1.jar:/usr/hadoop-3.0.0/share/hadoop/hdfs/lib/curator-client-2.12.0.jar:/usr/hadoop-3.0.0/share/hadoop/hdfs/lib/kerb-client-1.0.1.jar:/usr/hadoop-3.0.0/share/hadoop/hdfs/lib/jackson-core-2.7.8.jar:/usr/hadoop-3.0.0/share/hadoop/hdfs/lib/jackson-xc-1.9.13.jar:/usr/hadoop-3.0.0/share/hadoop/hdfs/lib/jackson-mapper-asl-1.9.13.jar:/usr/hadoop-3.0.0/share/hadoop/hdfs/lib/commons-lang-2.6.jar:/usr/hadoop-3.0.0/share/hadoop/hdfs/lib/json-simple-1.1.1.jar:/usr/hadoop-3.0.0/share/hadoop/hdfs/lib/jackson-core-asl-1.9.13.jar:/usr/hadoop-3.0.0/share/hadoop/hdfs/lib/jetty-xml-9.3.19.v20170502.jar:/usr/hadoop-3.0.0/share/hadoop/hdfs/lib/kerby-asn1-1.0.1.jar:/usr/hadoop-3.0.0/share/hadoop/hdfs/lib/gson-2.2.4.jar:/usr/hadoop-3.0.0/share/hadoop/hdfs/lib/accessors-smart-1.2.jar:/usr/hadoop-3.0.0/share/hadoop/hdfs/lib/hadoop-annotations-3.0.0.jar:/usr/hadoop-3.0.0/share/hadoop/hdfs/lib/kerb-util-1.0.1.jar:/usr/hadoop-3.0.0/share/hadoop/hdfs/lib/jackson-databind-2.7.8.jar:/usr/hadoop-3.0.0/share/hadoop/hdfs/lib/commons-net-3.1.jar:/usr/hadoop-3.0.0/share/hadoop/hdfs/lib/jackson-annotations-2.7.8.jar:/usr/hadoop-3.0.0/share/hadoop/hdfs/lib/curator-framework-2.12.0.jar:/usr/hadoop-3.0.0/share/hadoop/hdfs/lib/jsr305-3.0.0.jar:/usr/hadoop-3.0.0/share/hadoop/hdfs/lib/kerb-crypto-1.0.1.jar:/usr/hadoop-3.0.0/share/hadoop/hdfs/lib/commons-codec-1.4.jar:/usr/hadoop-3.0.0/share/hadoop/hdfs/lib/kerb-common-1.0.1.jar:/usr/hadoop-3.0.0/share/hadoop/hdfs/lib/jetty-util-ajax-9.3.19.v20170502.jar:/usr/hadoop-3.0.0/share/hadoop/hdfs/lib/kerby-xdr-1.0.1.jar:/usr/hadoop-3.0.0/share/hadoop/hdfs/lib/commons-cli-1.2.jar:/usr/hadoop-3.0.0/share/hadoop/hdfs/lib/jsch-0.1.54.jar:/usr/hadoop-3.0.0/share/hadoop/hdfs/lib/jetty-util-9.3.19.v20170502.jar:/usr/hadoop-3.0.0/share/hadoop/hdfs/lib/protobuf-java-2.5.0.jar:/usr/hadoop-3.0.0/share/hadoop/hdfs/lib/commons-daemon-1.0.13.jar:/usr/hadoop-3.0.0/share/hadoop/hdfs/lib/jettison-1.1.jar:/usr/hadoop-3.0.0/share/hadoop/hdfs/lib/woodstox-core-5.0.3.jar:/usr/hadoop-3.0.0/share/hadoop/hdfs/lib/log4j-1.2.17.jar:/usr/hadoop-3.0.0/share/hadoop/hdfs/lib/okhttp-2.4.0.jar:/usr/hadoop-3.0.0/share/hadoop/hdfs/lib/commons-math3-3.1.1.jar:/usr/hadoop-3.0.0/share/hadoop/hdfs/lib/jetty-servlet-9.3.19.v20170502.jar:/usr/hadoop-3.0.0/share/hadoop/hdfs/lib/jetty-http-9.3.19.v20170502.jar:/usr/hadoop-3.0.0/share/hadoop/hdfs/lib/okio-1.4.0.jar:/usr/hadoop-3.0.0/share/hadoop/hdfs/lib/jetty-security-9.3.19.v20170502.jar:/usr/hadoop-3.0.0/share/hadoop/hdfs/lib/jersey-servlet-1.19.jar:/usr/hadoop-3.0.0/share/hadoop/hdfs/lib/avro-1.7.7.jar:/usr/hadoop-3.0.0/share/hadoop/hdfs/lib/jsr311-api-1.1.1.jar:/usr/hadoop-3.0.0/share/hadoop/hdfs/lib/jaxb-api-2.2.11.jar:/usr/hadoop-3.0.0/share/hadoop/hdfs/lib/kerb-simplekdc-1.0.1.jar:/usr/hadoop-3.0.0/share/hadoop/hdfs/lib/curator-recipes-2.12.0.jar:/usr/hadoop-3.0.0/share/hadoop/hdfs/lib/jcip-annotations-1.0-1.jar:/usr/hadoop-3.0.0/share/hadoop/hdfs/hadoop-hdfs-httpfs-3.0.0.jar:/usr/hadoop-3.0.0/share/hadoop/hdfs/hadoop-hdfs-3.0.0.jar:/usr/hadoop-3.0.0/share/hadoop/hdfs/hadoop-hdfs-client-3.0.0.jar:/usr/hadoop-3.0.0/share/hadoop/hdfs/hadoop-hdfs-native-client-3.0.0-tests.jar:/usr/hadoop-3.0.0/share/hadoop/hdfs/hadoop-hdfs-client-3.0.0-tests.jar:/usr/hadoop-3.0.0/share/hadoop/hdfs/hadoop-hdfs-3.0.0-tests.jar:/usr/hadoop-3.0.0/share/hadoop/hdfs/hadoop-hdfs-nfs-3.0.0.jar:/usr/hadoop-3.0.0/share/hadoop/hdfs/hadoop-hdfs-native-client-3.0.0.jar:/usr/hadoop-3.0.0/share/hadoop/mapreduce/hadoop-mapreduce-client-app-3.0.0.jar:/usr/hadoop-3.0.0/share/hadoop/mapreduce/hadoop-mapreduce-client-shuffle-3.0.0.jar:/usr/hadoop-3.0.0/share/hadoop/mapreduce/hadoop-mapreduce-client-hs-3.0.0.jar:/usr/hadoop-3.0.0/share/hadoop/mapreduce/hadoop-mapreduce-client-jobclient-3.0.0-tests.jar:/usr/hadoop-3.0.0/share/hadoop/mapreduce/hadoop-mapreduce-client-core-3.0.0.jar:/usr/hadoop-3.0.0/share/hadoop/mapreduce/hadoop-mapreduce-client-nativetask-3.0.0.jar:/usr/hadoop-3.0.0/share/hadoop/mapreduce/hadoop-mapreduce-client-hs-plugins-3.0.0.jar:/usr/hadoop-3.0.0/share/hadoop/mapreduce/hadoop-mapreduce-client-jobclient-3.0.0.jar:/usr/hadoop-3.0.0/share/hadoop/mapreduce/hadoop-mapreduce-client-common-3.0.0.jar:/usr/hadoop-3.0.0/share/hadoop/mapreduce/hadoop-mapreduce-examples-3.0.0.jar:/usr/hadoop-3.0.0/share/hadoop/yarn:/usr/hadoop-3.0.0/share/hadoop/yarn/lib/jackson-module-jaxb-annotations-2.7.8.jar:/usr/hadoop-3.0.0/share/hadoop/yarn/lib/fst-2.50.jar:/usr/hadoop-3.0.0/share/hadoop/yarn/lib/commons-el-1.0.jar:/usr/hadoop-3.0.0/share/hadoop/yarn/lib/ehcache-3.3.1.jar:/usr/hadoop-3.0.0/share/hadoop/yarn/lib/joni-2.1.2.jar:/usr/hadoop-3.0.0/share/hadoop/yarn/lib/jackson-jaxrs-json-provider-2.7.8.jar:/usr/hadoop-3.0.0/share/hadoop/yarn/lib/jasper-runtime-5.5.23.jar:/usr/hadoop-3.0.0/share/hadoop/yarn/lib/guice-4.0.jar:/usr/hadoop-3.0.0/share/hadoop/yarn/lib/HikariCP-java7-2.4.12.jar:/usr/hadoop-3.0.0/share/hadoop/yarn/lib/javax.inject-1.jar:/usr/hadoop-3.0.0/share/hadoop/yarn/lib/jersey-guice-1.19.jar:/usr/hadoop-3.0.0/share/hadoop/yarn/lib/metrics-core-3.0.1.jar:/usr/hadoop-3.0.0/share/hadoop/yarn/lib/jcodings-1.0.8.jar:/usr/hadoop-3.0.0/share/hadoop/yarn/lib/java-util-1.9.0.jar:/usr/hadoop-3.0.0/share/hadoop/yarn/lib/hbase-annotations-1.2.6.jar:/usr/hadoop-3.0.0/share/hadoop/yarn/lib/guice-servlet-4.0.jar:/usr/hadoop-3.0.0/share/hadoop/yarn/lib/aopalliance-1.0.jar:/usr/hadoop-3.0.0/share/hadoop/yarn/lib/hbase-common-1.2.6.jar:/usr/hadoop-3.0.0/share/hadoop/yarn/lib/hbase-hadoop2-compat-1.2.6.jar:/usr/hadoop-3.0.0/share/hadoop/yarn/lib/hbase-hadoop-compat-1.2.6.jar:/usr/hadoop-3.0.0/share/hadoop/yarn/lib/jamon-runtime-2.4.1.jar:/usr/hadoop-3.0.0/share/hadoop/yarn/lib/mssql-jdbc-6.2.1.jre7.jar:/usr/hadoop-3.0.0/share/hadoop/yarn/lib/jsp-2.1-6.1.14.jar:/usr/hadoop-3.0.0/share/hadoop/yarn/lib/hbase-procedure-1.2.6.jar:/usr/hadoop-3.0.0/share/hadoop/yarn/lib/jackson-jaxrs-base-2.7.8.jar:/usr/hadoop-3.0.0/share/hadoop/yarn/lib/json-io-2.5.1.jar:/usr/hadoop-3.0.0/share/hadoop/yarn/lib/htrace-core-3.1.0-incubating.jar:/usr/hadoop-3.0.0/share/hadoop/yarn/lib/commons-math-2.2.jar:/usr/hadoop-3.0.0/share/hadoop/yarn/lib/findbugs-annotations-1.3.9-1.jar:/usr/hadoop-3.0.0/share/hadoop/yarn/lib/jasper-compiler-5.5.23.jar:/usr/hadoop-3.0.0/share/hadoop/yarn/lib/hbase-protocol-1.2.6.jar:/usr/hadoop-3.0.0/share/hadoop/yarn/lib/disruptor-3.3.0.jar:/usr/hadoop-3.0.0/share/hadoop/yarn/lib/hbase-server-1.2.6.jar:/usr/hadoop-3.0.0/share/hadoop/yarn/lib/commons-httpclient-3.1.jar:/usr/hadoop-3.0.0/share/hadoop/yarn/lib/geronimo-jcache_1.0_spec-1.0-alpha-1.jar:/usr/hadoop-3.0.0/share/hadoop/yarn/lib/metrics-core-2.2.0.jar:/usr/hadoop-3.0.0/share/hadoop/yarn/lib/jersey-client-1.19.jar:/usr/hadoop-3.0.0/share/hadoop/yarn/lib/servlet-api-2.5-6.1.14.jar:/usr/hadoop-3.0.0/share/hadoop/yarn/lib/jsp-api-2.1-6.1.14.jar:/usr/hadoop-3.0.0/share/hadoop/yarn/lib/commons-csv-1.0.jar:/usr/hadoop-3.0.0/share/hadoop/yarn/lib/hbase-prefix-tree-1.2.6.jar:/usr/hadoop-3.0.0/share/hadoop/yarn/lib/hbase-client-1.2.6.jar:/usr/hadoop-3.0.0/share/hadoop/yarn/hadoop-yarn-server-timelineservice-3.0.0.jar:/usr/hadoop-3.0.0/share/hadoop/yarn/hadoop-yarn-client-3.0.0.jar:/usr/hadoop-3.0.0/share/hadoop/yarn/hadoop-yarn-server-timeline-pluginstorage-3.0.0.jar:/usr/hadoop-3.0.0/share/hadoop/yarn/hadoop-yarn-applications-distributedshell-3.0.0.jar:/usr/hadoop-3.0.0/share/hadoop/yarn/hadoop-yarn-server-timelineservice-hbase-tests-3.0.0.jar:/usr/hadoop-3.0.0/share/hadoop/yarn/hadoop-yarn-server-applicationhistoryservice-3.0.0.jar:/usr/hadoop-3.0.0/share/hadoop/yarn/hadoop-yarn-server-router-3.0.0.jar:/usr/hadoop-3.0.0/share/hadoop/yarn/hadoop-yarn-registry-3.0.0.jar:/usr/hadoop-3\u001b[0m\n",
      "\u001b[34m.0.0/share/hadoop/yarn/hadoop-yarn-api-3.0.0.jar:/usr/hadoop-3.0.0/share/hadoop/yarn/hadoop-yarn-server-resourcemanager-3.0.0.jar:/usr/hadoop-3.0.0/share/hadoop/yarn/hadoop-yarn-applications-unmanaged-am-launcher-3.0.0.jar:/usr/hadoop-3.0.0/share/hadoop/yarn/hadoop-yarn-server-timelineservice-hbase-3.0.0.jar:/usr/hadoop-3.0.0/share/hadoop/yarn/hadoop-yarn-server-tests-3.0.0.jar:/usr/hadoop-3.0.0/share/hadoop/yarn/hadoop-yarn-server-common-3.0.0.jar:/usr/hadoop-3.0.0/share/hadoop/yarn/hadoop-yarn-server-nodemanager-3.0.0.jar:/usr/hadoop-3.0.0/share/hadoop/yarn/hadoop-yarn-common-3.0.0.jar:/usr/hadoop-3.0.0/share/hadoop/yarn/hadoop-yarn-server-web-proxy-3.0.0.jar:/usr/hadoop-3.0.0/share/hadoop/yarn/hadoop-yarn-server-sharedcachemanager-3.0.0.jar\u001b[0m\n",
      "\u001b[34mSTARTUP_MSG:   build = https://git-wip-us.apache.org/repos/asf/hadoop.git -r c25427ceca461ee979d30edd7a4b0f50718e6533; compiled by 'andrew' on 2017-12-08T19:16Z\u001b[0m\n",
      "\u001b[34mSTARTUP_MSG:   java = 1.8.0_392\u001b[0m\n",
      "\u001b[34m************************************************************/\u001b[0m\n",
      "\u001b[34m2025-06-19 23:19:33,467 INFO namenode.NameNode: registered UNIX signal handlers for [TERM, HUP, INT]\u001b[0m\n",
      "\u001b[34m2025-06-19 23:19:33,472 INFO namenode.NameNode: createNameNode [-format, -force]\u001b[0m\n",
      "\u001b[34mFormatting using clusterid: CID-17eb24d7-7146-4309-a348-d46737b6f12c\u001b[0m\n",
      "\u001b[34m2025-06-19 23:19:34,413 INFO namenode.FSEditLog: Edit logging is async:true\u001b[0m\n",
      "\u001b[34m2025-06-19 23:19:34,433 INFO namenode.FSNamesystem: KeyProvider: null\u001b[0m\n",
      "\u001b[34m2025-06-19 23:19:34,434 INFO namenode.FSNamesystem: fsLock is fair: true\u001b[0m\n",
      "\u001b[34m2025-06-19 23:19:34,439 INFO namenode.FSNamesystem: Detailed lock hold time metrics enabled: false\u001b[0m\n",
      "\u001b[34m2025-06-19 23:19:34,455 INFO namenode.FSNamesystem: fsOwner             = root (auth:SIMPLE)\u001b[0m\n",
      "\u001b[34m2025-06-19 23:19:34,455 INFO namenode.FSNamesystem: supergroup          = supergroup\u001b[0m\n",
      "\u001b[34m2025-06-19 23:19:34,455 INFO namenode.FSNamesystem: isPermissionEnabled = true\u001b[0m\n",
      "\u001b[34m2025-06-19 23:19:34,455 INFO namenode.FSNamesystem: HA Enabled: false\u001b[0m\n",
      "\u001b[34m2025-06-19 23:19:34,514 INFO common.Util: dfs.datanode.fileio.profiling.sampling.percentage set to 0. Disabling file IO profiling\u001b[0m\n",
      "\u001b[34m2025-06-19 23:19:34,533 INFO blockmanagement.DatanodeManager: dfs.block.invalidate.limit: configured=1000, counted=60, effected=1000\u001b[0m\n",
      "\u001b[34m2025-06-19 23:19:34,533 INFO blockmanagement.DatanodeManager: dfs.namenode.datanode.registration.ip-hostname-check=true\u001b[0m\n",
      "\u001b[34m2025-06-19 23:19:34,537 INFO blockmanagement.BlockManager: dfs.namenode.startup.delay.block.deletion.sec is set to 000:00:00:00.000\u001b[0m\n",
      "\u001b[34m2025-06-19 23:19:34,541 INFO blockmanagement.BlockManager: The block deletion will start around 2025 Jun 19 23:19:34\u001b[0m\n",
      "\u001b[34m2025-06-19 23:19:34,542 INFO util.GSet: Computing capacity for map BlocksMap\u001b[0m\n",
      "\u001b[34m2025-06-19 23:19:34,543 INFO util.GSet: VM type       = 64-bit\u001b[0m\n",
      "\u001b[34m2025-06-19 23:19:34,545 INFO util.GSet: 2.0% max memory 1.4 GB = 28.3 MB\u001b[0m\n",
      "\u001b[34m2025-06-19 23:19:34,545 INFO util.GSet: capacity      = 2^22 = 4194304 entries\u001b[0m\n",
      "\u001b[34m2025-06-19 23:19:34,575 INFO blockmanagement.BlockManager: dfs.block.access.token.enable = false\u001b[0m\n",
      "\u001b[34m2025-06-19 23:19:34,579 INFO Configuration.deprecation: No unit for dfs.namenode.safemode.extension(30000) assuming MILLISECONDS\u001b[0m\n",
      "\u001b[34m2025-06-19 23:19:34,579 INFO blockmanagement.BlockManagerSafeMode: dfs.namenode.safemode.threshold-pct = 0.9990000128746033\u001b[0m\n",
      "\u001b[34m2025-06-19 23:19:34,579 INFO blockmanagement.BlockManagerSafeMode: dfs.namenode.safemode.min.datanodes = 0\u001b[0m\n",
      "\u001b[34m2025-06-19 23:19:34,579 INFO blockmanagement.BlockManagerSafeMode: dfs.namenode.safemode.extension = 30000\u001b[0m\n",
      "\u001b[34m2025-06-19 23:19:34,580 INFO blockmanagement.BlockManager: defaultReplication         = 3\u001b[0m\n",
      "\u001b[34m2025-06-19 23:19:34,580 INFO blockmanagement.BlockManager: maxReplication             = 512\u001b[0m\n",
      "\u001b[34m2025-06-19 23:19:34,580 INFO blockmanagement.BlockManager: minReplication             = 1\u001b[0m\n",
      "\u001b[34m2025-06-19 23:19:34,580 INFO blockmanagement.BlockManager: maxReplicationStreams      = 2\u001b[0m\n",
      "\u001b[34m2025-06-19 23:19:34,580 INFO blockmanagement.BlockManager: redundancyRecheckInterval  = 3000ms\u001b[0m\n",
      "\u001b[34m2025-06-19 23:19:34,580 INFO blockmanagement.BlockManager: encryptDataTransfer        = false\u001b[0m\n",
      "\u001b[34m2025-06-19 23:19:34,580 INFO blockmanagement.BlockManager: maxNumBlocksToLog          = 1000\u001b[0m\n",
      "\u001b[34m2025-06-19 23:19:34,638 INFO util.GSet: Computing capacity for map INodeMap\u001b[0m\n",
      "\u001b[34m2025-06-19 23:19:34,638 INFO util.GSet: VM type       = 64-bit\u001b[0m\n",
      "\u001b[34m2025-06-19 23:19:34,638 INFO util.GSet: 1.0% max memory 1.4 GB = 14.2 MB\u001b[0m\n",
      "\u001b[34m2025-06-19 23:19:34,638 INFO util.GSet: capacity      = 2^21 = 2097152 entries\u001b[0m\n",
      "\u001b[34m2025-06-19 23:19:34,639 INFO namenode.FSDirectory: ACLs enabled? false\u001b[0m\n",
      "\u001b[34m2025-06-19 23:19:34,639 INFO namenode.FSDirectory: POSIX ACL inheritance enabled? true\u001b[0m\n",
      "\u001b[34m2025-06-19 23:19:34,639 INFO namenode.FSDirectory: XAttrs enabled? true\u001b[0m\n",
      "\u001b[34m2025-06-19 23:19:34,640 INFO namenode.NameNode: Caching file names occurring more than 10 times\u001b[0m\n",
      "\u001b[34m2025-06-19 23:19:34,645 INFO snapshot.SnapshotManager: Loaded config captureOpenFiles: false, skipCaptureAccessTimeOnlyChange: false, snapshotDiffAllowSnapRootDescendant: true\u001b[0m\n",
      "\u001b[34m2025-06-19 23:19:34,649 INFO util.GSet: Computing capacity for map cachedBlocks\u001b[0m\n",
      "\u001b[34m2025-06-19 23:19:34,649 INFO util.GSet: VM type       = 64-bit\u001b[0m\n",
      "\u001b[34m2025-06-19 23:19:34,649 INFO util.GSet: 0.25% max memory 1.4 GB = 3.5 MB\u001b[0m\n",
      "\u001b[34m2025-06-19 23:19:34,649 INFO util.GSet: capacity      = 2^19 = 524288 entries\u001b[0m\n",
      "\u001b[34m2025-06-19 23:19:34,657 INFO metrics.TopMetrics: NNTop conf: dfs.namenode.top.window.num.buckets = 10\u001b[0m\n",
      "\u001b[34m2025-06-19 23:19:34,657 INFO metrics.TopMetrics: NNTop conf: dfs.namenode.top.num.users = 10\u001b[0m\n",
      "\u001b[34m2025-06-19 23:19:34,657 INFO metrics.TopMetrics: NNTop conf: dfs.namenode.top.windows.minutes = 1,5,25\u001b[0m\n",
      "\u001b[34m2025-06-19 23:19:34,661 INFO namenode.FSNamesystem: Retry cache on namenode is enabled\u001b[0m\n",
      "\u001b[34m2025-06-19 23:19:34,661 INFO namenode.FSNamesystem: Retry cache will use 0.03 of total heap and retry cache entry expiry time is 600000 millis\u001b[0m\n",
      "\u001b[34m2025-06-19 23:19:34,664 INFO util.GSet: Computing capacity for map NameNodeRetryCache\u001b[0m\n",
      "\u001b[34m2025-06-19 23:19:34,664 INFO util.GSet: VM type       = 64-bit\u001b[0m\n",
      "\u001b[34m2025-06-19 23:19:34,664 INFO util.GSet: 0.029999999329447746% max memory 1.4 GB = 434.8 KB\u001b[0m\n",
      "\u001b[34m2025-06-19 23:19:34,664 INFO util.GSet: capacity      = 2^16 = 65536 entries\u001b[0m\n",
      "\u001b[34m2025-06-19 23:19:34,694 INFO namenode.FSImage: Allocated new BlockPoolId: BP-313585058-10.2.223.201-1750375174685\u001b[0m\n",
      "\u001b[34m2025-06-19 23:19:34,710 INFO common.Storage: Storage directory /opt/amazon/hadoop/hdfs/namenode has been successfully formatted.\u001b[0m\n",
      "\u001b[34m2025-06-19 23:19:34,722 INFO namenode.FSImageFormatProtobuf: Saving image file /opt/amazon/hadoop/hdfs/namenode/current/fsimage.ckpt_0000000000000000000 using no compression\u001b[0m\n",
      "\u001b[34m2025-06-19 23:19:34,836 INFO namenode.FSImageFormatProtobuf: Image file /opt/amazon/hadoop/hdfs/namenode/current/fsimage.ckpt_0000000000000000000 of size 389 bytes saved in 0 seconds.\u001b[0m\n",
      "\u001b[34m2025-06-19 23:19:34,854 INFO namenode.NNStorageRetentionManager: Going to retain 1 images with txid >= 0\u001b[0m\n",
      "\u001b[34m2025-06-19 23:19:34,861 INFO namenode.NameNode: SHUTDOWN_MSG: \u001b[0m\n",
      "\u001b[34m/************************************************************\u001b[0m\n",
      "\u001b[34mSHUTDOWN_MSG: Shutting down NameNode at algo-1/10.2.223.201\u001b[0m\n",
      "\u001b[34m************************************************************/\u001b[0m\n",
      "\u001b[34m2025-06-19 23:19:34,870 - bootstrap - INFO - Running command: /usr/hadoop-3.0.0/bin/hdfs --daemon start namenode\u001b[0m\n",
      "\u001b[34m2025-06-19 23:19:36,947 - bootstrap - INFO - Failed to run /usr/hadoop-3.0.0/bin/hdfs --daemon start namenode, return code 1\u001b[0m\n",
      "\u001b[34m2025-06-19 23:19:36,948 - bootstrap - INFO - Running command: /usr/hadoop-3.0.0/bin/hdfs --daemon start datanode\u001b[0m\n",
      "\u001b[34m2025-06-19 23:19:39,050 - bootstrap - INFO - Failed to run /usr/hadoop-3.0.0/bin/hdfs --daemon start datanode, return code 1\u001b[0m\n",
      "\u001b[34m2025-06-19 23:19:39,051 - bootstrap - INFO - Running command: /usr/hadoop-3.0.0/bin/yarn --daemon start resourcemanager\u001b[0m\n",
      "\u001b[34mWARNING: YARN_LOG_DIR has been replaced by HADOOP_LOG_DIR. Using value of YARN_LOG_DIR.\u001b[0m\n",
      "\u001b[34mWARNING: /var/log/yarn/ does not exist. Creating.\u001b[0m\n",
      "\u001b[34m2025-06-19 23:19:41,470 - bootstrap - INFO - Failed to run /usr/hadoop-3.0.0/bin/yarn --daemon start resourcemanager, return code 1\u001b[0m\n",
      "\u001b[34m2025-06-19 23:19:41,471 - bootstrap - INFO - Running command: /usr/hadoop-3.0.0/bin/yarn --daemon start nodemanager\u001b[0m\n",
      "\u001b[34mWARNING: YARN_LOG_DIR has been replaced by HADOOP_LOG_DIR. Using value of YARN_LOG_DIR.\u001b[0m\n",
      "\u001b[34m2025-06-19 23:19:43,872 - bootstrap - INFO - Failed to run /usr/hadoop-3.0.0/bin/yarn --daemon start nodemanager, return code 1\u001b[0m\n",
      "\u001b[34m2025-06-19 23:19:43,873 - bootstrap - INFO - Running command: /usr/hadoop-3.0.0/bin/yarn --daemon start proxyserver\u001b[0m\n",
      "\u001b[34mWARNING: YARN_LOG_DIR has been replaced by HADOOP_LOG_DIR. Using value of YARN_LOG_DIR.\u001b[0m\n",
      "\u001b[34m2025-06-19 23:19:46,446 - bootstrap - INFO - Failed to run /usr/hadoop-3.0.0/bin/yarn --daemon start proxyserver, return code 1\u001b[0m\n",
      "\u001b[34m2025-06-19 23:19:46,447 - DefaultDataAnalyzer - INFO - Total number of hosts in the cluster: 1\u001b[0m\n",
      "\u001b[34m2025-06-19 23:19:56,457 - DefaultDataAnalyzer - INFO - Running command: bin/spark-submit --master yarn --deploy-mode client --conf spark.hadoop.fs.s3a.aws.credentials.provider=org.apache.hadoop.fs.s3a.SimpleAWSCredentialsProvider --conf spark.serializer=org.apache.spark.serializer.KryoSerializer /opt/amazon/sagemaker-data-analyzer-1.0-jar-with-dependencies.jar --analytics_input /tmp/spark_job_config.json\u001b[0m\n",
      "\u001b[34m2025-06-19 23:19:59,242 WARN util.NativeCodeLoader: Unable to load native-hadoop library for your platform... using builtin-java classes where applicable\u001b[0m\n",
      "\u001b[34m2025-06-19 23:19:59,801 INFO Main: Start analyzing with args: --analytics_input /tmp/spark_job_config.json\u001b[0m\n",
      "\u001b[34m2025-06-19 23:19:59,856 INFO Main: Analytics input path: DataAnalyzerParams(/tmp/spark_job_config.json,yarn)\u001b[0m\n",
      "\u001b[34m2025-06-19 23:19:59,874 INFO FileUtil: Read file from path /tmp/spark_job_config.json.\u001b[0m\n",
      "\u001b[34m2025-06-19 23:20:00,673 INFO spark.SparkContext: Running Spark version 3.3.0\u001b[0m\n",
      "\u001b[34m2025-06-19 23:20:00,726 INFO resource.ResourceUtils: ==============================================================\u001b[0m\n",
      "\u001b[34m2025-06-19 23:20:00,728 INFO resource.ResourceUtils: No custom resources configured for spark.driver.\u001b[0m\n",
      "\u001b[34m2025-06-19 23:20:00,728 INFO resource.ResourceUtils: ==============================================================\u001b[0m\n",
      "\u001b[34m2025-06-19 23:20:00,729 INFO spark.SparkContext: Submitted application: SageMakerDataAnalyzer\u001b[0m\n",
      "\u001b[34m2025-06-19 23:20:00,780 INFO resource.ResourceProfile: Default ResourceProfile created, executor resources: Map(cores -> name: cores, amount: 1, script: , vendor: , memory -> name: memory, amount: 5664, script: , vendor: , offHeap -> name: offHeap, amount: 0, script: , vendor: ), task resources: Map(cpus -> name: cpus, amount: 1.0)\u001b[0m\n",
      "\u001b[34m2025-06-19 23:20:00,801 INFO resource.ResourceProfile: Limiting resource is cpus at 1 tasks per executor\u001b[0m\n",
      "\u001b[34m2025-06-19 23:20:00,804 INFO resource.ResourceProfileManager: Added ResourceProfile id: 0\u001b[0m\n",
      "\u001b[34m2025-06-19 23:20:00,910 INFO spark.SecurityManager: Changing view acls to: root\u001b[0m\n",
      "\u001b[34m2025-06-19 23:20:00,910 INFO spark.SecurityManager: Changing modify acls to: root\u001b[0m\n",
      "\u001b[34m2025-06-19 23:20:00,913 INFO spark.SecurityManager: Changing view acls groups to: \u001b[0m\n",
      "\u001b[34m2025-06-19 23:20:00,913 INFO spark.SecurityManager: Changing modify acls groups to: \u001b[0m\n",
      "\u001b[34m2025-06-19 23:20:00,913 INFO spark.SecurityManager: SecurityManager: authentication disabled; ui acls disabled; users  with view permissions: Set(root); groups with view permissions: Set(); users  with modify permissions: Set(root); groups with modify permissions: Set()\u001b[0m\n",
      "\u001b[34m2025-06-19 23:20:01,919 INFO util.Utils: Successfully started service 'sparkDriver' on port 44703.\u001b[0m\n",
      "\u001b[34m2025-06-19 23:20:01,984 INFO spark.SparkEnv: Registering MapOutputTracker\u001b[0m\n",
      "\u001b[34m2025-06-19 23:20:02,045 INFO spark.SparkEnv: Registering BlockManagerMaster\u001b[0m\n",
      "\u001b[34m2025-06-19 23:20:02,099 INFO storage.BlockManagerMasterEndpoint: Using org.apache.spark.storage.DefaultTopologyMapper for getting topology information\u001b[0m\n",
      "\u001b[34m2025-06-19 23:20:02,100 INFO storage.BlockManagerMasterEndpoint: BlockManagerMasterEndpoint up\u001b[0m\n",
      "\u001b[34m2025-06-19 23:20:02,161 INFO spark.SparkEnv: Registering BlockManagerMasterHeartbeat\u001b[0m\n",
      "\u001b[34m2025-06-19 23:20:02,219 INFO storage.DiskBlockManager: Created local directory at /tmp/blockmgr-084db92c-9616-4cac-a618-92f0c7268679\u001b[0m\n",
      "\u001b[34m2025-06-19 23:20:02,245 INFO memory.MemoryStore: MemoryStore started with capacity 1458.6 MiB\u001b[0m\n",
      "\u001b[34m2025-06-19 23:20:02,317 INFO spark.SparkEnv: Registering OutputCommitCoordinator\u001b[0m\n",
      "\u001b[34m2025-06-19 23:20:02,374 INFO spark.SparkContext: Added JAR file:/opt/amazon/sagemaker-data-analyzer-1.0-jar-with-dependencies.jar at spark://10.2.223.201:44703/jars/sagemaker-data-analyzer-1.0-jar-with-dependencies.jar with timestamp 1750375200666\u001b[0m\n",
      "\u001b[34m2025-06-19 23:20:03,177 INFO client.RMProxy: Connecting to ResourceManager at /10.2.223.201:8032\u001b[0m\n",
      "\u001b[34m2025-06-19 23:20:04,089 INFO conf.Configuration: resource-types.xml not found\u001b[0m\n",
      "\u001b[34m2025-06-19 23:20:04,090 INFO resource.ResourceUtils: Unable to find 'resource-types.xml'.\u001b[0m\n",
      "\u001b[34m2025-06-19 23:20:04,100 INFO yarn.Client: Verifying our application has not requested more than the maximum memory capability of the cluster (7724 MB per container)\u001b[0m\n",
      "\u001b[34m2025-06-19 23:20:04,101 INFO yarn.Client: Will allocate AM container, with 896 MB memory including 384 MB overhead\u001b[0m\n",
      "\u001b[34m2025-06-19 23:20:04,101 INFO yarn.Client: Setting up container launch context for our AM\u001b[0m\n",
      "\u001b[34m2025-06-19 23:20:04,102 INFO yarn.Client: Setting up the launch environment for our AM container\u001b[0m\n",
      "\u001b[34m2025-06-19 23:20:04,109 INFO yarn.Client: Preparing resources for our AM container\u001b[0m\n",
      "\u001b[34m2025-06-19 23:20:04,214 WARN yarn.Client: Neither spark.yarn.jars nor spark.yarn.archive is set, falling back to uploading libraries under SPARK_HOME.\u001b[0m\n",
      "\u001b[34m2025-06-19 23:20:06,778 INFO yarn.Client: Uploading resource file:/tmp/spark-cab5b9cd-d21b-4d90-9936-d66ea819b80c/__spark_libs__828250215727502529.zip -> hdfs://10.2.223.201/user/root/.sparkStaging/application_1750375183209_0001/__spark_libs__828250215727502529.zip\u001b[0m\n",
      "\u001b[34m2025-06-19 23:20:09,049 INFO yarn.Client: Uploading resource file:/tmp/spark-cab5b9cd-d21b-4d90-9936-d66ea819b80c/__spark_conf__8843866935407386018.zip -> hdfs://10.2.223.201/user/root/.sparkStaging/application_1750375183209_0001/__spark_conf__.zip\u001b[0m\n",
      "\u001b[34m2025-06-19 23:20:09,112 INFO spark.SecurityManager: Changing view acls to: root\u001b[0m\n",
      "\u001b[34m2025-06-19 23:20:09,113 INFO spark.SecurityManager: Changing modify acls to: root\u001b[0m\n",
      "\u001b[34m2025-06-19 23:20:09,113 INFO spark.SecurityManager: Changing view acls groups to: \u001b[0m\n",
      "\u001b[34m2025-06-19 23:20:09,113 INFO spark.SecurityManager: Changing modify acls groups to: \u001b[0m\n",
      "\u001b[34m2025-06-19 23:20:09,113 INFO spark.SecurityManager: SecurityManager: authentication disabled; ui acls disabled; users  with view permissions: Set(root); groups with view permissions: Set(); users  with modify permissions: Set(root); groups with modify permissions: Set()\u001b[0m\n",
      "\u001b[34m2025-06-19 23:20:09,157 INFO yarn.Client: Submitting application application_1750375183209_0001 to ResourceManager\u001b[0m\n",
      "\u001b[34m2025-06-19 23:20:09,574 INFO impl.YarnClientImpl: Submitted application application_1750375183209_0001\u001b[0m\n",
      "\u001b[34m2025-06-19 23:20:10,580 INFO yarn.Client: Application report for application_1750375183209_0001 (state: ACCEPTED)\u001b[0m\n",
      "\u001b[34m2025-06-19 23:20:10,583 INFO yarn.Client: \u001b[0m\n",
      "\u001b[34m#011 client token: N/A\u001b[0m\n",
      "\u001b[34m#011 diagnostics: AM container is launched, waiting for AM container to Register with RM\u001b[0m\n",
      "\u001b[34m#011 ApplicationMaster host: N/A\u001b[0m\n",
      "\u001b[34m#011 ApplicationMaster RPC port: -1\u001b[0m\n",
      "\u001b[34m#011 queue: default\u001b[0m\n",
      "\u001b[34m#011 start time: 1750375209270\u001b[0m\n",
      "\u001b[34m#011 final status: UNDEFINED\u001b[0m\n",
      "\u001b[34m#011 tracking URL: http://algo-1:8088/proxy/application_1750375183209_0001/\u001b[0m\n",
      "\u001b[34m#011 user: root\u001b[0m\n",
      "\u001b[34m2025-06-19 23:20:11,587 INFO yarn.Client: Application report for application_1750375183209_0001 (state: ACCEPTED)\u001b[0m\n",
      "\u001b[34m2025-06-19 23:20:12,592 INFO yarn.Client: Application report for application_1750375183209_0001 (state: ACCEPTED)\u001b[0m\n",
      "\u001b[34m2025-06-19 23:20:13,599 INFO yarn.Client: Application report for application_1750375183209_0001 (state: ACCEPTED)\u001b[0m\n",
      "\u001b[34m2025-06-19 23:20:14,602 INFO yarn.Client: Application report for application_1750375183209_0001 (state: ACCEPTED)\u001b[0m\n",
      "\u001b[34m2025-06-19 23:20:15,611 INFO yarn.Client: Application report for application_1750375183209_0001 (state: ACCEPTED)\u001b[0m\n",
      "\u001b[34m2025-06-19 23:20:16,529 INFO cluster.YarnClientSchedulerBackend: Add WebUI Filter. org.apache.hadoop.yarn.server.webproxy.amfilter.AmIpFilter, Map(PROXY_HOSTS -> algo-1, PROXY_URI_BASES -> http://algo-1:8088/proxy/application_1750375183209_0001), /proxy/application_1750375183209_0001\u001b[0m\n",
      "\u001b[34m2025-06-19 23:20:16,619 INFO yarn.Client: Application report for application_1750375183209_0001 (state: RUNNING)\u001b[0m\n",
      "\u001b[34m2025-06-19 23:20:16,620 INFO yarn.Client: \u001b[0m\n",
      "\u001b[34m#011 client token: N/A\u001b[0m\n",
      "\u001b[34m#011 diagnostics: N/A\u001b[0m\n",
      "\u001b[34m#011 ApplicationMaster host: 10.2.223.201\u001b[0m\n",
      "\u001b[34m#011 ApplicationMaster RPC port: -1\u001b[0m\n",
      "\u001b[34m#011 queue: default\u001b[0m\n",
      "\u001b[34m#011 start time: 1750375209270\u001b[0m\n",
      "\u001b[34m#011 final status: UNDEFINED\u001b[0m\n",
      "\u001b[34m#011 tracking URL: http://algo-1:8088/proxy/application_1750375183209_0001/\u001b[0m\n",
      "\u001b[34m#011 user: root\u001b[0m\n",
      "\u001b[34m2025-06-19 23:20:16,622 INFO cluster.YarnClientSchedulerBackend: Application application_1750375183209_0001 has started running.\u001b[0m\n",
      "\u001b[34m2025-06-19 23:20:16,647 INFO util.Utils: Successfully started service 'org.apache.spark.network.netty.NettyBlockTransferService' on port 41959.\u001b[0m\n",
      "\u001b[34m2025-06-19 23:20:16,647 INFO netty.NettyBlockTransferService: Server created on 10.2.223.201:41959\u001b[0m\n",
      "\u001b[34m2025-06-19 23:20:16,649 INFO storage.BlockManager: Using org.apache.spark.storage.RandomBlockReplicationPolicy for block replication policy\u001b[0m\n",
      "\u001b[34m2025-06-19 23:20:16,664 INFO storage.BlockManagerMaster: Registering BlockManager BlockManagerId(driver, 10.2.223.201, 41959, None)\u001b[0m\n",
      "\u001b[34m2025-06-19 23:20:16,677 INFO storage.BlockManagerMasterEndpoint: Registering block manager 10.2.223.201:41959 with 1458.6 MiB RAM, BlockManagerId(driver, 10.2.223.201, 41959, None)\u001b[0m\n",
      "\u001b[34m2025-06-19 23:20:16,690 INFO storage.BlockManagerMaster: Registered BlockManager BlockManagerId(driver, 10.2.223.201, 41959, None)\u001b[0m\n",
      "\u001b[34m2025-06-19 23:20:16,691 INFO storage.BlockManager: Initialized BlockManager: BlockManagerId(driver, 10.2.223.201, 41959, None)\u001b[0m\n",
      "\u001b[34m2025-06-19 23:20:16,899 INFO util.log: Logging initialized @20129ms to org.sparkproject.jetty.util.log.Slf4jLog\u001b[0m\n",
      "\u001b[34m2025-06-19 23:20:19,057 INFO cluster.YarnSchedulerBackend$YarnSchedulerEndpoint: ApplicationMaster registered as NettyRpcEndpointRef(spark-client://YarnAM)\u001b[0m\n",
      "\u001b[34m2025-06-19 23:20:24,330 INFO cluster.YarnSchedulerBackend$YarnDriverEndpoint: Registered executor NettyRpcEndpointRef(spark-client://Executor) (10.2.223.201:51330) with ID 1,  ResourceProfileId 0\u001b[0m\n",
      "\u001b[34m2025-06-19 23:20:24,745 INFO storage.BlockManagerMasterEndpoint: Registering block manager algo-1:44997 with 2.8 GiB RAM, BlockManagerId(1, algo-1, 44997, None)\u001b[0m\n",
      "\u001b[34m2025-06-19 23:20:32,939 INFO cluster.YarnClientSchedulerBackend: SchedulerBackend is ready for scheduling beginning after waiting maxRegisteredResourcesWaitingTime: 30000000000(ns)\u001b[0m\n",
      "\u001b[34m2025-06-19 23:20:33,342 WARN spark.SparkContext: Spark is not running in local mode, therefore the checkpoint directory must not be on the local filesystem. Directory '/tmp' appears to be on the local filesystem.\u001b[0m\n",
      "\u001b[34m2025-06-19 23:20:33,443 INFO internal.SharedState: Setting hive.metastore.warehouse.dir ('null') to the value of spark.sql.warehouse.dir.\u001b[0m\n",
      "\u001b[34m2025-06-19 23:20:33,452 INFO internal.SharedState: Warehouse path is 'file:/usr/spark-3.3.0/spark-warehouse'.\u001b[0m\n",
      "\u001b[34m2025-06-19 23:20:35,158 INFO datasources.InMemoryFileIndex: It took 86 ms to list leaf files for 1 paths.\u001b[0m\n",
      "\u001b[34m2025-06-19 23:20:35,504 INFO memory.MemoryStore: Block broadcast_0 stored as values in memory (estimated size 416.9 KiB, free 1458.2 MiB)\u001b[0m\n",
      "\u001b[34m2025-06-19 23:20:35,957 INFO memory.MemoryStore: Block broadcast_0_piece0 stored as bytes in memory (estimated size 39.1 KiB, free 1458.2 MiB)\u001b[0m\n",
      "\u001b[34m2025-06-19 23:20:35,962 INFO storage.BlockManagerInfo: Added broadcast_0_piece0 in memory on 10.2.223.201:41959 (size: 39.1 KiB, free: 1458.6 MiB)\u001b[0m\n",
      "\u001b[34m2025-06-19 23:20:35,970 INFO spark.SparkContext: Created broadcast 0 from csv at DatasetReader.scala:99\u001b[0m\n",
      "\u001b[34m2025-06-19 23:20:36,485 INFO input.FileInputFormat: Total input files to process : 1\u001b[0m\n",
      "\u001b[34m2025-06-19 23:20:36,495 INFO input.FileInputFormat: Total input files to process : 1\u001b[0m\n",
      "\u001b[34m2025-06-19 23:20:36,500 INFO input.CombineFileInputFormat: DEBUG: Terminated node allocation with : CompletedNodes: 1, size left: 78933\u001b[0m\n",
      "\u001b[34m2025-06-19 23:20:36,592 INFO spark.SparkContext: Starting job: csv at DatasetReader.scala:99\u001b[0m\n",
      "\u001b[34m2025-06-19 23:20:36,613 INFO scheduler.DAGScheduler: Got job 0 (csv at DatasetReader.scala:99) with 1 output partitions\u001b[0m\n",
      "\u001b[34m2025-06-19 23:20:36,614 INFO scheduler.DAGScheduler: Final stage: ResultStage 0 (csv at DatasetReader.scala:99)\u001b[0m\n",
      "\u001b[34m2025-06-19 23:20:36,614 INFO scheduler.DAGScheduler: Parents of final stage: List()\u001b[0m\n",
      "\u001b[34m2025-06-19 23:20:36,616 INFO scheduler.DAGScheduler: Missing parents: List()\u001b[0m\n",
      "\u001b[34m2025-06-19 23:20:36,622 INFO scheduler.DAGScheduler: Submitting ResultStage 0 (MapPartitionsRDD[2] at csv at DatasetReader.scala:99), which has no missing parents\u001b[0m\n",
      "\u001b[34m2025-06-19 23:20:36,746 INFO memory.MemoryStore: Block broadcast_1 stored as values in memory (estimated size 7.3 KiB, free 1458.1 MiB)\u001b[0m\n",
      "\u001b[34m2025-06-19 23:20:36,757 INFO memory.MemoryStore: Block broadcast_1_piece0 stored as bytes in memory (estimated size 4.2 KiB, free 1458.1 MiB)\u001b[0m\n",
      "\u001b[34m2025-06-19 23:20:36,758 INFO storage.BlockManagerInfo: Added broadcast_1_piece0 in memory on 10.2.223.201:41959 (size: 4.2 KiB, free: 1458.6 MiB)\u001b[0m\n",
      "\u001b[34m2025-06-19 23:20:36,760 INFO spark.SparkContext: Created broadcast 1 from broadcast at DAGScheduler.scala:1513\u001b[0m\n",
      "\u001b[34m2025-06-19 23:20:36,784 INFO scheduler.DAGScheduler: Submitting 1 missing tasks from ResultStage 0 (MapPartitionsRDD[2] at csv at DatasetReader.scala:99) (first 15 tasks are for partitions Vector(0))\u001b[0m\n",
      "\u001b[34m2025-06-19 23:20:36,785 INFO cluster.YarnScheduler: Adding task set 0.0 with 1 tasks resource profile 0\u001b[0m\n",
      "\u001b[34m2025-06-19 23:20:36,846 INFO scheduler.TaskSetManager: Starting task 0.0 in stage 0.0 (TID 0) (algo-1, executor 1, partition 0, PROCESS_LOCAL, 4624 bytes) taskResourceAssignments Map()\u001b[0m\n",
      "\u001b[34m2025-06-19 23:20:37,237 INFO storage.BlockManagerInfo: Added broadcast_1_piece0 in memory on algo-1:44997 (size: 4.2 KiB, free: 2.8 GiB)\u001b[0m\n",
      "\u001b[34m2025-06-19 23:20:38,398 INFO storage.BlockManagerInfo: Added broadcast_0_piece0 in memory on algo-1:44997 (size: 39.1 KiB, free: 2.8 GiB)\u001b[0m\n",
      "\u001b[34m2025-06-19 23:20:39,036 INFO scheduler.TaskSetManager: Finished task 0.0 in stage 0.0 (TID 0) in 2213 ms on algo-1 (executor 1) (1/1)\u001b[0m\n",
      "\u001b[34m2025-06-19 23:20:39,038 INFO cluster.YarnScheduler: Removed TaskSet 0.0, whose tasks have all completed, from pool \u001b[0m\n",
      "\u001b[34m2025-06-19 23:20:39,049 INFO scheduler.DAGScheduler: ResultStage 0 (csv at DatasetReader.scala:99) finished in 2.368 s\u001b[0m\n",
      "\u001b[34m2025-06-19 23:20:39,054 INFO scheduler.DAGScheduler: Job 0 is finished. Cancelling potential speculative or zombie tasks for this job\u001b[0m\n",
      "\u001b[34m2025-06-19 23:20:39,054 INFO cluster.YarnScheduler: Killing all running tasks in stage 0: Stage finished\u001b[0m\n",
      "\u001b[34m2025-06-19 23:20:39,056 INFO scheduler.DAGScheduler: Job 0 finished: csv at DatasetReader.scala:99, took 2.463251 s\u001b[0m\n",
      "\u001b[34m2025-06-19 23:20:39,480 INFO storage.BlockManagerInfo: Removed broadcast_1_piece0 on algo-1:44997 in memory (size: 4.2 KiB, free: 2.8 GiB)\u001b[0m\n",
      "\u001b[34m2025-06-19 23:20:39,492 INFO storage.BlockManagerInfo: Removed broadcast_1_piece0 on 10.2.223.201:41959 in memory (size: 4.2 KiB, free: 1458.6 MiB)\u001b[0m\n",
      "\u001b[34m2025-06-19 23:20:43,010 INFO datasources.FileSourceStrategy: Pushed Filters: \u001b[0m\n",
      "\u001b[34m2025-06-19 23:20:43,013 INFO datasources.FileSourceStrategy: Post-Scan Filters: \u001b[0m\n",
      "\u001b[34m2025-06-19 23:20:43,018 INFO datasources.FileSourceStrategy: Output Data Schema: struct<id: string, a1_score: string, a2_score: string, a3_score: string, a4_score: string ... 20 more fields>\u001b[0m\n",
      "\u001b[34m2025-06-19 23:20:43,266 INFO memory.MemoryStore: Block broadcast_2 stored as values in memory (estimated size 416.5 KiB, free 1457.7 MiB)\u001b[0m\n",
      "\u001b[34m2025-06-19 23:20:43,288 INFO memory.MemoryStore: Block broadcast_2_piece0 stored as bytes in memory (estimated size 39.1 KiB, free 1457.7 MiB)\u001b[0m\n",
      "\u001b[34m2025-06-19 23:20:43,291 INFO storage.BlockManagerInfo: Added broadcast_2_piece0 in memory on 10.2.223.201:41959 (size: 39.1 KiB, free: 1458.5 MiB)\u001b[0m\n",
      "\u001b[34m2025-06-19 23:20:43,298 INFO spark.SparkContext: Created broadcast 2 from head at DataAnalyzer.scala:124\u001b[0m\n",
      "\u001b[34m2025-06-19 23:20:43,316 INFO execution.FileSourceScanExec: Planning scan with bin packing, max size: 4194304 bytes, open cost is considered as scanning 4194304 bytes.\u001b[0m\n",
      "\u001b[34m2025-06-19 23:20:43,375 INFO spark.SparkContext: Starting job: head at DataAnalyzer.scala:124\u001b[0m\n",
      "\u001b[34m2025-06-19 23:20:43,377 INFO scheduler.DAGScheduler: Got job 1 (head at DataAnalyzer.scala:124) with 1 output partitions\u001b[0m\n",
      "\u001b[34m2025-06-19 23:20:43,377 INFO scheduler.DAGScheduler: Final stage: ResultStage 1 (head at DataAnalyzer.scala:124)\u001b[0m\n",
      "\u001b[34m2025-06-19 23:20:43,377 INFO scheduler.DAGScheduler: Parents of final stage: List()\u001b[0m\n",
      "\u001b[34m2025-06-19 23:20:43,379 INFO scheduler.DAGScheduler: Missing parents: List()\u001b[0m\n",
      "\u001b[34m2025-06-19 23:20:43,380 INFO scheduler.DAGScheduler: Submitting ResultStage 1 (MapPartitionsRDD[11] at head at DataAnalyzer.scala:124), which has no missing parents\u001b[0m\n",
      "\u001b[34m2025-06-19 23:20:43,486 INFO memory.MemoryStore: Block broadcast_3 stored as values in memory (estimated size 19.3 KiB, free 1457.7 MiB)\u001b[0m\n",
      "\u001b[34m2025-06-19 23:20:43,488 INFO memory.MemoryStore: Block broadcast_3_piece0 stored as bytes in memory (estimated size 8.6 KiB, free 1457.7 MiB)\u001b[0m\n",
      "\u001b[34m2025-06-19 23:20:43,492 INFO storage.BlockManagerInfo: Added broadcast_3_piece0 in memory on 10.2.223.201:41959 (size: 8.6 KiB, free: 1458.5 MiB)\u001b[0m\n",
      "\u001b[34m2025-06-19 23:20:43,493 INFO spark.SparkContext: Created broadcast 3 from broadcast at DAGScheduler.scala:1513\u001b[0m\n",
      "\u001b[34m2025-06-19 23:20:43,494 INFO scheduler.DAGScheduler: Submitting 1 missing tasks from ResultStage 1 (MapPartitionsRDD[11] at head at DataAnalyzer.scala:124) (first 15 tasks are for partitions Vector(0))\u001b[0m\n",
      "\u001b[34m2025-06-19 23:20:43,494 INFO cluster.YarnScheduler: Adding task set 1.0 with 1 tasks resource profile 0\u001b[0m\n",
      "\u001b[34m2025-06-19 23:20:43,501 INFO scheduler.TaskSetManager: Starting task 0.0 in stage 1.0 (TID 1) (algo-1, executor 1, partition 0, PROCESS_LOCAL, 4952 bytes) taskResourceAssignments Map()\u001b[0m\n",
      "\u001b[34m2025-06-19 23:20:43,611 INFO storage.BlockManagerInfo: Added broadcast_3_piece0 in memory on algo-1:44997 (size: 8.6 KiB, free: 2.8 GiB)\u001b[0m\n",
      "\u001b[34m2025-06-19 23:20:44,983 INFO storage.BlockManagerInfo: Added broadcast_2_piece0 in memory on algo-1:44997 (size: 39.1 KiB, free: 2.8 GiB)\u001b[0m\n",
      "\u001b[34m2025-06-19 23:20:45,238 INFO storage.BlockManagerInfo: Added rdd_7_0 in memory on algo-1:44997 (size: 61.8 KiB, free: 2.8 GiB)\u001b[0m\n",
      "\u001b[34m2025-06-19 23:20:45,405 INFO scheduler.TaskSetManager: Finished task 0.0 in stage 1.0 (TID 1) in 1908 ms on algo-1 (executor 1) (1/1)\u001b[0m\n",
      "\u001b[34m2025-06-19 23:20:45,405 INFO cluster.YarnScheduler: Removed TaskSet 1.0, whose tasks have all completed, from pool \u001b[0m\n",
      "\u001b[34m2025-06-19 23:20:45,406 INFO scheduler.DAGScheduler: ResultStage 1 (head at DataAnalyzer.scala:124) finished in 2.020 s\u001b[0m\n",
      "\u001b[34m2025-06-19 23:20:45,406 INFO scheduler.DAGScheduler: Job 1 is finished. Cancelling potential speculative or zombie tasks for this job\u001b[0m\n",
      "\u001b[34m2025-06-19 23:20:45,407 INFO cluster.YarnScheduler: Killing all running tasks in stage 1: Stage finished\u001b[0m\n",
      "\u001b[34m2025-06-19 23:20:45,407 INFO scheduler.DAGScheduler: Job 1 finished: head at DataAnalyzer.scala:124, took 2.031934 s\u001b[0m\n",
      "\u001b[34m2025-06-19 23:20:45,835 INFO codegen.CodeGenerator: Code generated in 343.127797 ms\u001b[0m\n",
      "\u001b[34m2025-06-19 23:20:46,530 WARN util.package: Truncated the string representation of a plan since it was too large. This behavior can be adjusted by setting 'spark.sql.debug.maxToStringFields'.\u001b[0m\n",
      "\u001b[34m2025-06-19 23:20:46,714 INFO scheduler.DAGScheduler: Registering RDD 16 (collect at AnalysisRunner.scala:326) as input to shuffle 0\u001b[0m\n",
      "\u001b[34m2025-06-19 23:20:46,718 INFO scheduler.DAGScheduler: Got map stage job 2 (collect at AnalysisRunner.scala:326) with 1 output partitions\u001b[0m\n",
      "\u001b[34m2025-06-19 23:20:46,718 INFO scheduler.DAGScheduler: Final stage: ShuffleMapStage 2 (collect at AnalysisRunner.scala:326)\u001b[0m\n",
      "\u001b[34m2025-06-19 23:20:46,719 INFO scheduler.DAGScheduler: Parents of final stage: List()\u001b[0m\n",
      "\u001b[34m2025-06-19 23:20:46,721 INFO scheduler.DAGScheduler: Missing parents: List()\u001b[0m\n",
      "\u001b[34m2025-06-19 23:20:46,723 INFO scheduler.DAGScheduler: Submitting ShuffleMapStage 2 (MapPartitionsRDD[16] at collect at AnalysisRunner.scala:326), which has no missing parents\u001b[0m\n",
      "\u001b[34m2025-06-19 23:20:46,765 INFO memory.MemoryStore: Block broadcast_4 stored as values in memory (estimated size 116.1 KiB, free 1457.6 MiB)\u001b[0m\n",
      "\u001b[34m2025-06-19 23:20:46,769 INFO memory.MemoryStore: Block broadcast_4_piece0 stored as bytes in memory (estimated size 35.4 KiB, free 1457.5 MiB)\u001b[0m\n",
      "\u001b[34m2025-06-19 23:20:46,770 INFO storage.BlockManagerInfo: Added broadcast_4_piece0 in memory on 10.2.223.201:41959 (size: 35.4 KiB, free: 1458.5 MiB)\u001b[0m\n",
      "\u001b[34m2025-06-19 23:20:46,770 INFO spark.SparkContext: Created broadcast 4 from broadcast at DAGScheduler.scala:1513\u001b[0m\n",
      "\u001b[34m2025-06-19 23:20:46,773 INFO scheduler.DAGScheduler: Submitting 1 missing tasks from ShuffleMapStage 2 (MapPartitionsRDD[16] at collect at AnalysisRunner.scala:326) (first 15 tasks are for partitions Vector(0))\u001b[0m\n",
      "\u001b[34m2025-06-19 23:20:46,773 INFO cluster.YarnScheduler: Adding task set 2.0 with 1 tasks resource profile 0\u001b[0m\n",
      "\u001b[34m2025-06-19 23:20:46,783 INFO scheduler.TaskSetManager: Starting task 0.0 in stage 2.0 (TID 2) (algo-1, executor 1, partition 0, PROCESS_LOCAL, 4941 bytes) taskResourceAssignments Map()\u001b[0m\n",
      "\u001b[34m2025-06-19 23:20:46,811 INFO storage.BlockManagerInfo: Added broadcast_4_piece0 in memory on algo-1:44997 (size: 35.4 KiB, free: 2.8 GiB)\u001b[0m\n",
      "\u001b[34m2025-06-19 23:20:48,889 INFO scheduler.TaskSetManager: Finished task 0.0 in stage 2.0 (TID 2) in 2108 ms on algo-1 (executor 1) (1/1)\u001b[0m\n",
      "\u001b[34m2025-06-19 23:20:48,890 INFO cluster.YarnScheduler: Removed TaskSet 2.0, whose tasks have all completed, from pool \u001b[0m\n",
      "\u001b[34m2025-06-19 23:20:48,894 INFO scheduler.DAGScheduler: ShuffleMapStage 2 (collect at AnalysisRunner.scala:326) finished in 2.168 s\u001b[0m\n",
      "\u001b[34m2025-06-19 23:20:48,898 INFO scheduler.DAGScheduler: looking for newly runnable stages\u001b[0m\n",
      "\u001b[34m2025-06-19 23:20:48,904 INFO scheduler.DAGScheduler: running: Set()\u001b[0m\n",
      "\u001b[34m2025-06-19 23:20:48,904 INFO scheduler.DAGScheduler: waiting: Set()\u001b[0m\n",
      "\u001b[34m2025-06-19 23:20:48,905 INFO scheduler.DAGScheduler: failed: Set()\u001b[0m\n",
      "\u001b[34m2025-06-19 23:20:49,041 INFO spark.SparkContext: Starting job: collect at AnalysisRunner.scala:326\u001b[0m\n",
      "\u001b[34m2025-06-19 23:20:49,045 INFO scheduler.DAGScheduler: Got job 3 (collect at AnalysisRunner.scala:326) with 1 output partitions\u001b[0m\n",
      "\u001b[34m2025-06-19 23:20:49,045 INFO scheduler.DAGScheduler: Final stage: ResultStage 4 (collect at AnalysisRunner.scala:326)\u001b[0m\n",
      "\u001b[34m2025-06-19 23:20:49,046 INFO scheduler.DAGScheduler: Parents of final stage: List(ShuffleMapStage 3)\u001b[0m\n",
      "\u001b[34m2025-06-19 23:20:49,046 INFO scheduler.DAGScheduler: Missing parents: List()\u001b[0m\n",
      "\u001b[34m2025-06-19 23:20:49,047 INFO scheduler.DAGScheduler: Submitting ResultStage 4 (MapPartitionsRDD[19] at collect at AnalysisRunner.scala:326), which has no missing parents\u001b[0m\n",
      "\u001b[34m2025-06-19 23:20:49,067 INFO memory.MemoryStore: Block broadcast_5 stored as values in memory (estimated size 168.8 KiB, free 1457.4 MiB)\u001b[0m\n",
      "\u001b[34m2025-06-19 23:20:49,069 INFO memory.MemoryStore: Block broadcast_5_piece0 stored as bytes in memory (estimated size 46.5 KiB, free 1457.3 MiB)\u001b[0m\n",
      "\u001b[34m2025-06-19 23:20:49,070 INFO storage.BlockManagerInfo: Added broadcast_5_piece0 in memory on 10.2.223.201:41959 (size: 46.5 KiB, free: 1458.4 MiB)\u001b[0m\n",
      "\u001b[34m2025-06-19 23:20:49,071 INFO spark.SparkContext: Created broadcast 5 from broadcast at DAGScheduler.scala:1513\u001b[0m\n",
      "\u001b[34m2025-06-19 23:20:49,071 INFO scheduler.DAGScheduler: Submitting 1 missing tasks from ResultStage 4 (MapPartitionsRDD[19] at collect at AnalysisRunner.scala:326) (first 15 tasks are for partitions Vector(0))\u001b[0m\n",
      "\u001b[34m2025-06-19 23:20:49,071 INFO cluster.YarnScheduler: Adding task set 4.0 with 1 tasks resource profile 0\u001b[0m\n",
      "\u001b[34m2025-06-19 23:20:49,074 INFO scheduler.TaskSetManager: Starting task 0.0 in stage 4.0 (TID 3) (algo-1, executor 1, partition 0, NODE_LOCAL, 4464 bytes) taskResourceAssignments Map()\u001b[0m\n",
      "\u001b[34m2025-06-19 23:20:49,097 INFO storage.BlockManagerInfo: Added broadcast_5_piece0 in memory on algo-1:44997 (size: 46.5 KiB, free: 2.8 GiB)\u001b[0m\n",
      "\u001b[34m2025-06-19 23:20:49,148 INFO spark.MapOutputTrackerMasterEndpoint: Asked to send map output locations for shuffle 0 to 10.2.223.201:51330\u001b[0m\n",
      "\u001b[34m2025-06-19 23:20:49,552 INFO scheduler.TaskSetManager: Finished task 0.0 in stage 4.0 (TID 3) in 474 ms on algo-1 (executor 1) (1/1)\u001b[0m\n",
      "\u001b[34m2025-06-19 23:20:49,553 INFO cluster.YarnScheduler: Removed TaskSet 4.0, whose tasks have all completed, from pool \u001b[0m\n",
      "\u001b[34m2025-06-19 23:20:49,560 INFO scheduler.DAGScheduler: ResultStage 4 (collect at AnalysisRunner.scala:326) finished in 0.506 s\u001b[0m\n",
      "\u001b[34m2025-06-19 23:20:49,562 INFO scheduler.DAGScheduler: Job 3 is finished. Cancelling potential speculative or zombie tasks for this job\u001b[0m\n",
      "\u001b[34m2025-06-19 23:20:49,562 INFO cluster.YarnScheduler: Killing all running tasks in stage 4: Stage finished\u001b[0m\n",
      "\u001b[34m2025-06-19 23:20:49,563 INFO scheduler.DAGScheduler: Job 3 finished: collect at AnalysisRunner.scala:326, took 0.520852 s\u001b[0m\n",
      "\u001b[34m2025-06-19 23:20:49,626 INFO codegen.CodeGenerator: Code generated in 47.430791 ms\u001b[0m\n",
      "\u001b[34m2025-06-19 23:20:49,984 INFO codegen.CodeGenerator: Code generated in 26.840227 ms\u001b[0m\n",
      "\u001b[34m2025-06-19 23:20:50,087 INFO spark.SparkContext: Starting job: treeReduce at KLLRunner.scala:107\u001b[0m\n",
      "\u001b[34m2025-06-19 23:20:50,089 INFO scheduler.DAGScheduler: Got job 4 (treeReduce at KLLRunner.scala:107) with 1 output partitions\u001b[0m\n",
      "\u001b[34m2025-06-19 23:20:50,089 INFO scheduler.DAGScheduler: Final stage: ResultStage 5 (treeReduce at KLLRunner.scala:107)\u001b[0m\n",
      "\u001b[34m2025-06-19 23:20:50,089 INFO scheduler.DAGScheduler: Parents of final stage: List()\u001b[0m\n",
      "\u001b[34m2025-06-19 23:20:50,090 INFO scheduler.DAGScheduler: Missing parents: List()\u001b[0m\n",
      "\u001b[34m2025-06-19 23:20:50,091 INFO scheduler.DAGScheduler: Submitting ResultStage 5 (MapPartitionsRDD[29] at treeReduce at KLLRunner.scala:107), which has no missing parents\u001b[0m\n",
      "\u001b[34m2025-06-19 23:20:50,113 INFO memory.MemoryStore: Block broadcast_6 stored as values in memory (estimated size 39.4 KiB, free 1457.3 MiB)\u001b[0m\n",
      "\u001b[34m2025-06-19 23:20:50,117 INFO memory.MemoryStore: Block broadcast_6_piece0 stored as bytes in memory (estimated size 16.7 KiB, free 1457.3 MiB)\u001b[0m\n",
      "\u001b[34m2025-06-19 23:20:50,118 INFO storage.BlockManagerInfo: Added broadcast_6_piece0 in memory on 10.2.223.201:41959 (size: 16.7 KiB, free: 1458.4 MiB)\u001b[0m\n",
      "\u001b[34m2025-06-19 23:20:50,122 INFO spark.SparkContext: Created broadcast 6 from broadcast at DAGScheduler.scala:1513\u001b[0m\n",
      "\u001b[34m2025-06-19 23:20:50,126 INFO scheduler.DAGScheduler: Submitting 1 missing tasks from ResultStage 5 (MapPartitionsRDD[29] at treeReduce at KLLRunner.scala:107) (first 15 tasks are for partitions Vector(0))\u001b[0m\n",
      "\u001b[34m2025-06-19 23:20:50,126 INFO cluster.YarnScheduler: Adding task set 5.0 with 1 tasks resource profile 0\u001b[0m\n",
      "\u001b[34m2025-06-19 23:20:50,128 INFO scheduler.TaskSetManager: Starting task 0.0 in stage 5.0 (TID 4) (algo-1, executor 1, partition 0, PROCESS_LOCAL, 4952 bytes) taskResourceAssignments Map()\u001b[0m\n",
      "\u001b[34m2025-06-19 23:20:50,149 INFO storage.BlockManagerInfo: Added broadcast_6_piece0 in memory on algo-1:44997 (size: 16.7 KiB, free: 2.8 GiB)\u001b[0m\n",
      "\u001b[34m2025-06-19 23:20:50,548 INFO scheduler.TaskSetManager: Finished task 0.0 in stage 5.0 (TID 4) in 421 ms on algo-1 (executor 1) (1/1)\u001b[0m\n",
      "\u001b[34m2025-06-19 23:20:50,549 INFO cluster.YarnScheduler: Removed TaskSet 5.0, whose tasks have all completed, from pool \u001b[0m\n",
      "\u001b[34m2025-06-19 23:20:50,550 INFO scheduler.DAGScheduler: ResultStage 5 (treeReduce at KLLRunner.scala:107) finished in 0.457 s\u001b[0m\n",
      "\u001b[34m2025-06-19 23:20:50,551 INFO scheduler.DAGScheduler: Job 4 is finished. Cancelling potential speculative or zombie tasks for this job\u001b[0m\n",
      "\u001b[34m2025-06-19 23:20:50,551 INFO cluster.YarnScheduler: Killing all running tasks in stage 5: Stage finished\u001b[0m\n",
      "\u001b[34m2025-06-19 23:20:50,551 INFO scheduler.DAGScheduler: Job 4 finished: treeReduce at KLLRunner.scala:107, took 0.464407 s\u001b[0m\n",
      "\u001b[34m2025-06-19 23:20:51,727 INFO storage.BlockManagerInfo: Removed broadcast_4_piece0 on 10.2.223.201:41959 in memory (size: 35.4 KiB, free: 1458.5 MiB)\u001b[0m\n",
      "\u001b[34m2025-06-19 23:20:51,733 INFO storage.BlockManagerInfo: Removed broadcast_4_piece0 on algo-1:44997 in memory (size: 35.4 KiB, free: 2.8 GiB)\u001b[0m\n",
      "\u001b[34m2025-06-19 23:20:51,764 INFO storage.BlockManagerInfo: Removed broadcast_3_piece0 on 10.2.223.201:41959 in memory (size: 8.6 KiB, free: 1458.5 MiB)\u001b[0m\n",
      "\u001b[34m2025-06-19 23:20:51,766 INFO storage.BlockManagerInfo: Removed broadcast_3_piece0 on algo-1:44997 in memory (size: 8.6 KiB, free: 2.8 GiB)\u001b[0m\n",
      "\u001b[34m2025-06-19 23:20:51,795 INFO storage.BlockManagerInfo: Removed broadcast_6_piece0 on 10.2.223.201:41959 in memory (size: 16.7 KiB, free: 1458.5 MiB)\u001b[0m\n",
      "\u001b[34m2025-06-19 23:20:51,803 INFO storage.BlockManagerInfo: Removed broadcast_6_piece0 on algo-1:44997 in memory (size: 16.7 KiB, free: 2.8 GiB)\u001b[0m\n",
      "\u001b[34m2025-06-19 23:20:51,879 INFO storage.BlockManagerInfo: Removed broadcast_5_piece0 on algo-1:44997 in memory (size: 46.5 KiB, free: 2.8 GiB)\u001b[0m\n",
      "\u001b[34m2025-06-19 23:20:51,894 INFO storage.BlockManagerInfo: Removed broadcast_5_piece0 on 10.2.223.201:41959 in memory (size: 46.5 KiB, free: 1458.5 MiB)\u001b[0m\n",
      "\u001b[34m2025-06-19 23:20:51,942 INFO codegen.CodeGenerator: Code generated in 343.965809 ms\u001b[0m\n",
      "\u001b[34m2025-06-19 23:20:51,958 INFO scheduler.DAGScheduler: Registering RDD 34 (collect at AnalysisRunner.scala:326) as input to shuffle 1\u001b[0m\n",
      "\u001b[34m2025-06-19 23:20:51,958 INFO scheduler.DAGScheduler: Got map stage job 5 (collect at AnalysisRunner.scala:326) with 1 output partitions\u001b[0m\n",
      "\u001b[34m2025-06-19 23:20:51,958 INFO scheduler.DAGScheduler: Final stage: ShuffleMapStage 6 (collect at AnalysisRunner.scala:326)\u001b[0m\n",
      "\u001b[34m2025-06-19 23:20:51,958 INFO scheduler.DAGScheduler: Parents of final stage: List()\u001b[0m\n",
      "\u001b[34m2025-06-19 23:20:51,959 INFO scheduler.DAGScheduler: Missing parents: List()\u001b[0m\n",
      "\u001b[34m2025-06-19 23:20:51,960 INFO scheduler.DAGScheduler: Submitting ShuffleMapStage 6 (MapPartitionsRDD[34] at collect at AnalysisRunner.scala:326), which has no missing parents\u001b[0m\n",
      "\u001b[34m2025-06-19 23:20:51,971 INFO memory.MemoryStore: Block broadcast_7 stored as values in memory (estimated size 77.6 KiB, free 1457.6 MiB)\u001b[0m\n",
      "\u001b[34m2025-06-19 23:20:51,977 INFO memory.MemoryStore: Block broadcast_7_piece0 stored as bytes in memory (estimated size 24.9 KiB, free 1457.6 MiB)\u001b[0m\n",
      "\u001b[34m2025-06-19 23:20:51,978 INFO storage.BlockManagerInfo: Added broadcast_7_piece0 in memory on 10.2.223.201:41959 (size: 24.9 KiB, free: 1458.5 MiB)\u001b[0m\n",
      "\u001b[34m2025-06-19 23:20:51,978 INFO spark.SparkContext: Created broadcast 7 from broadcast at DAGScheduler.scala:1513\u001b[0m\n",
      "\u001b[34m2025-06-19 23:20:51,979 INFO scheduler.DAGScheduler: Submitting 1 missing tasks from ShuffleMapStage 6 (MapPartitionsRDD[34] at collect at AnalysisRunner.scala:326) (first 15 tasks are for partitions Vector(0))\u001b[0m\n",
      "\u001b[34m2025-06-19 23:20:51,979 INFO cluster.YarnScheduler: Adding task set 6.0 with 1 tasks resource profile 0\u001b[0m\n",
      "\u001b[34m2025-06-19 23:20:51,980 INFO scheduler.TaskSetManager: Starting task 0.0 in stage 6.0 (TID 5) (algo-1, executor 1, partition 0, PROCESS_LOCAL, 4941 bytes) taskResourceAssignments Map()\u001b[0m\n",
      "\u001b[34m2025-06-19 23:20:52,002 INFO storage.BlockManagerInfo: Added broadcast_7_piece0 in memory on algo-1:44997 (size: 24.9 KiB, free: 2.8 GiB)\u001b[0m\n",
      "\u001b[34m2025-06-19 23:20:52,153 INFO scheduler.TaskSetManager: Finished task 0.0 in stage 6.0 (TID 5) in 173 ms on algo-1 (executor 1) (1/1)\u001b[0m\n",
      "\u001b[34m2025-06-19 23:20:52,154 INFO scheduler.DAGScheduler: ShuffleMapStage 6 (collect at AnalysisRunner.scala:326) finished in 0.190 s\u001b[0m\n",
      "\u001b[34m2025-06-19 23:20:52,154 INFO scheduler.DAGScheduler: looking for newly runnable stages\u001b[0m\n",
      "\u001b[34m2025-06-19 23:20:52,154 INFO cluster.YarnScheduler: Removed TaskSet 6.0, whose tasks have all completed, from pool \u001b[0m\n",
      "\u001b[34m2025-06-19 23:20:52,154 INFO scheduler.DAGScheduler: running: Set()\u001b[0m\n",
      "\u001b[34m2025-06-19 23:20:52,155 INFO scheduler.DAGScheduler: waiting: Set()\u001b[0m\n",
      "\u001b[34m2025-06-19 23:20:52,155 INFO scheduler.DAGScheduler: failed: Set()\u001b[0m\n",
      "\u001b[34m2025-06-19 23:20:52,437 INFO codegen.CodeGenerator: Code generated in 155.651729 ms\u001b[0m\n",
      "\u001b[34m2025-06-19 23:20:52,456 INFO spark.SparkContext: Starting job: collect at AnalysisRunner.scala:326\u001b[0m\n",
      "\u001b[34m2025-06-19 23:20:52,458 INFO scheduler.DAGScheduler: Got job 6 (collect at AnalysisRunner.scala:326) with 1 output partitions\u001b[0m\n",
      "\u001b[34m2025-06-19 23:20:52,458 INFO scheduler.DAGScheduler: Final stage: ResultStage 8 (collect at AnalysisRunner.scala:326)\u001b[0m\n",
      "\u001b[34m2025-06-19 23:20:52,458 INFO scheduler.DAGScheduler: Parents of final stage: List(ShuffleMapStage 7)\u001b[0m\n",
      "\u001b[34m2025-06-19 23:20:52,459 INFO scheduler.DAGScheduler: Missing parents: List()\u001b[0m\n",
      "\u001b[34m2025-06-19 23:20:52,459 INFO scheduler.DAGScheduler: Submitting ResultStage 8 (MapPartitionsRDD[37] at collect at AnalysisRunner.scala:326), which has no missing parents\u001b[0m\n",
      "\u001b[34m2025-06-19 23:20:52,462 INFO memory.MemoryStore: Block broadcast_8 stored as values in memory (estimated size 67.7 KiB, free 1457.5 MiB)\u001b[0m\n",
      "\u001b[34m2025-06-19 23:20:52,475 INFO memory.MemoryStore: Block broadcast_8_piece0 stored as bytes in memory (estimated size 19.9 KiB, free 1457.5 MiB)\u001b[0m\n",
      "\u001b[34m2025-06-19 23:20:52,476 INFO storage.BlockManagerInfo: Added broadcast_8_piece0 in memory on 10.2.223.201:41959 (size: 19.9 KiB, free: 1458.5 MiB)\u001b[0m\n",
      "\u001b[34m2025-06-19 23:20:52,477 INFO spark.SparkContext: Created broadcast 8 from broadcast at DAGScheduler.scala:1513\u001b[0m\n",
      "\u001b[34m2025-06-19 23:20:52,477 INFO scheduler.DAGScheduler: Submitting 1 missing tasks from ResultStage 8 (MapPartitionsRDD[37] at collect at AnalysisRunner.scala:326) (first 15 tasks are for partitions Vector(0))\u001b[0m\n",
      "\u001b[34m2025-06-19 23:20:52,478 INFO cluster.YarnScheduler: Adding task set 8.0 with 1 tasks resource profile 0\u001b[0m\n",
      "\u001b[34m2025-06-19 23:20:52,480 INFO scheduler.TaskSetManager: Starting task 0.0 in stage 8.0 (TID 6) (algo-1, executor 1, partition 0, NODE_LOCAL, 4464 bytes) taskResourceAssignments Map()\u001b[0m\n",
      "\u001b[34m2025-06-19 23:20:52,508 INFO storage.BlockManagerInfo: Added broadcast_8_piece0 in memory on algo-1:44997 (size: 19.9 KiB, free: 2.8 GiB)\u001b[0m\n",
      "\u001b[34m2025-06-19 23:20:52,514 INFO spark.MapOutputTrackerMasterEndpoint: Asked to send map output locations for shuffle 1 to 10.2.223.201:51330\u001b[0m\n",
      "\u001b[34m2025-06-19 23:20:52,632 INFO scheduler.TaskSetManager: Finished task 0.0 in stage 8.0 (TID 6) in 152 ms on algo-1 (executor 1) (1/1)\u001b[0m\n",
      "\u001b[34m2025-06-19 23:20:52,632 INFO cluster.YarnScheduler: Removed TaskSet 8.0, whose tasks have all completed, from pool \u001b[0m\n",
      "\u001b[34m2025-06-19 23:20:52,633 INFO scheduler.DAGScheduler: ResultStage 8 (collect at AnalysisRunner.scala:326) finished in 0.173 s\u001b[0m\n",
      "\u001b[34m2025-06-19 23:20:52,634 INFO scheduler.DAGScheduler: Job 6 is finished. Cancelling potential speculative or zombie tasks for this job\u001b[0m\n",
      "\u001b[34m2025-06-19 23:20:52,634 INFO cluster.YarnScheduler: Killing all running tasks in stage 8: Stage finished\u001b[0m\n",
      "\u001b[34m2025-06-19 23:20:52,635 INFO scheduler.DAGScheduler: Job 6 finished: collect at AnalysisRunner.scala:326, took 0.178013 s\u001b[0m\n",
      "\u001b[34m2025-06-19 23:20:52,793 INFO codegen.CodeGenerator: Code generated in 110.005921 ms\u001b[0m\n",
      "\u001b[34m2025-06-19 23:20:52,938 INFO spark.SparkContext: Starting job: countByKey at ColumnProfiler.scala:592\u001b[0m\n",
      "\u001b[34m2025-06-19 23:20:52,943 INFO scheduler.DAGScheduler: Registering RDD 45 (countByKey at ColumnProfiler.scala:592) as input to shuffle 2\u001b[0m\n",
      "\u001b[34m2025-06-19 23:20:52,944 INFO scheduler.DAGScheduler: Got job 7 (countByKey at ColumnProfiler.scala:592) with 1 output partitions\u001b[0m\n",
      "\u001b[34m2025-06-19 23:20:52,944 INFO scheduler.DAGScheduler: Final stage: ResultStage 10 (countByKey at ColumnProfiler.scala:592)\u001b[0m\n",
      "\u001b[34m2025-06-19 23:20:52,944 INFO scheduler.DAGScheduler: Parents of final stage: List(ShuffleMapStage 9)\u001b[0m\n",
      "\u001b[34m2025-06-19 23:20:52,944 INFO scheduler.DAGScheduler: Missing parents: List(ShuffleMapStage 9)\u001b[0m\n",
      "\u001b[34m2025-06-19 23:20:52,948 INFO scheduler.DAGScheduler: Submitting ShuffleMapStage 9 (MapPartitionsRDD[45] at countByKey at ColumnProfiler.scala:592), which has no missing parents\u001b[0m\n",
      "\u001b[34m2025-06-19 23:20:52,960 INFO memory.MemoryStore: Block broadcast_9 stored as values in memory (estimated size 32.3 KiB, free 1457.5 MiB)\u001b[0m\n",
      "\u001b[34m2025-06-19 23:20:52,964 INFO memory.MemoryStore: Block broadcast_9_piece0 stored as bytes in memory (estimated size 14.6 KiB, free 1457.5 MiB)\u001b[0m\n",
      "\u001b[34m2025-06-19 23:20:52,965 INFO storage.BlockManagerInfo: Added broadcast_9_piece0 in memory on 10.2.223.201:41959 (size: 14.6 KiB, free: 1458.5 MiB)\u001b[0m\n",
      "\u001b[34m2025-06-19 23:20:52,966 INFO spark.SparkContext: Created broadcast 9 from broadcast at DAGScheduler.scala:1513\u001b[0m\n",
      "\u001b[34m2025-06-19 23:20:52,968 INFO scheduler.DAGScheduler: Submitting 1 missing tasks from ShuffleMapStage 9 (MapPartitionsRDD[45] at countByKey at ColumnProfiler.scala:592) (first 15 tasks are for partitions Vector(0))\u001b[0m\n",
      "\u001b[34m2025-06-19 23:20:52,968 INFO cluster.YarnScheduler: Adding task set 9.0 with 1 tasks resource profile 0\u001b[0m\n",
      "\u001b[34m2025-06-19 23:20:52,970 INFO scheduler.TaskSetManager: Starting task 0.0 in stage 9.0 (TID 7) (algo-1, executor 1, partition 0, PROCESS_LOCAL, 4941 bytes) taskResourceAssignments Map()\u001b[0m\n",
      "\u001b[34m2025-06-19 23:20:52,987 INFO storage.BlockManagerInfo: Added broadcast_9_piece0 in memory on algo-1:44997 (size: 14.6 KiB, free: 2.8 GiB)\u001b[0m\n",
      "\u001b[34m2025-06-19 23:20:54,964 INFO scheduler.TaskSetManager: Finished task 0.0 in stage 9.0 (TID 7) in 1994 ms on algo-1 (executor 1) (1/1)\u001b[0m\n",
      "\u001b[34m2025-06-19 23:20:54,964 INFO cluster.YarnScheduler: Removed TaskSet 9.0, whose tasks have all completed, from pool \u001b[0m\n",
      "\u001b[34m2025-06-19 23:20:54,965 INFO scheduler.DAGScheduler: ShuffleMapStage 9 (countByKey at ColumnProfiler.scala:592) finished in 2.016 s\u001b[0m\n",
      "\u001b[34m2025-06-19 23:20:54,967 INFO scheduler.DAGScheduler: looking for newly runnable stages\u001b[0m\n",
      "\u001b[34m2025-06-19 23:20:54,967 INFO scheduler.DAGScheduler: running: Set()\u001b[0m\n",
      "\u001b[34m2025-06-19 23:20:54,967 INFO scheduler.DAGScheduler: waiting: Set(ResultStage 10)\u001b[0m\n",
      "\u001b[34m2025-06-19 23:20:54,967 INFO scheduler.DAGScheduler: failed: Set()\u001b[0m\n",
      "\u001b[34m2025-06-19 23:20:54,968 INFO scheduler.DAGScheduler: Submitting ResultStage 10 (ShuffledRDD[46] at countByKey at ColumnProfiler.scala:592), which has no missing parents\u001b[0m\n",
      "\u001b[34m2025-06-19 23:20:54,970 INFO memory.MemoryStore: Block broadcast_10 stored as values in memory (estimated size 5.1 KiB, free 1457.5 MiB)\u001b[0m\n",
      "\u001b[34m2025-06-19 23:20:54,973 INFO memory.MemoryStore: Block broadcast_10_piece0 stored as bytes in memory (estimated size 3.0 KiB, free 1457.5 MiB)\u001b[0m\n",
      "\u001b[34m2025-06-19 23:20:54,975 INFO storage.BlockManagerInfo: Added broadcast_10_piece0 in memory on 10.2.223.201:41959 (size: 3.0 KiB, free: 1458.5 MiB)\u001b[0m\n",
      "\u001b[34m2025-06-19 23:20:54,976 INFO spark.SparkContext: Created broadcast 10 from broadcast at DAGScheduler.scala:1513\u001b[0m\n",
      "\u001b[34m2025-06-19 23:20:54,977 INFO scheduler.DAGScheduler: Submitting 1 missing tasks from ResultStage 10 (ShuffledRDD[46] at countByKey at ColumnProfiler.scala:592) (first 15 tasks are for partitions Vector(0))\u001b[0m\n",
      "\u001b[34m2025-06-19 23:20:54,978 INFO cluster.YarnScheduler: Adding task set 10.0 with 1 tasks resource profile 0\u001b[0m\n",
      "\u001b[34m2025-06-19 23:20:54,982 INFO scheduler.TaskSetManager: Starting task 0.0 in stage 10.0 (TID 8) (algo-1, executor 1, partition 0, NODE_LOCAL, 4282 bytes) taskResourceAssignments Map()\u001b[0m\n",
      "\u001b[34m2025-06-19 23:20:54,999 INFO storage.BlockManagerInfo: Added broadcast_10_piece0 in memory on algo-1:44997 (size: 3.0 KiB, free: 2.8 GiB)\u001b[0m\n",
      "\u001b[34m2025-06-19 23:20:55,005 INFO spark.MapOutputTrackerMasterEndpoint: Asked to send map output locations for shuffle 2 to 10.2.223.201:51330\u001b[0m\n",
      "\u001b[34m2025-06-19 23:20:55,047 INFO scheduler.TaskSetManager: Finished task 0.0 in stage 10.0 (TID 8) in 66 ms on algo-1 (executor 1) (1/1)\u001b[0m\n",
      "\u001b[34m2025-06-19 23:20:55,051 INFO cluster.YarnScheduler: Removed TaskSet 10.0, whose tasks have all completed, from pool \u001b[0m\n",
      "\u001b[34m2025-06-19 23:20:55,052 INFO scheduler.DAGScheduler: ResultStage 10 (countByKey at ColumnProfiler.scala:592) finished in 0.083 s\u001b[0m\n",
      "\u001b[34m2025-06-19 23:20:55,052 INFO scheduler.DAGScheduler: Job 7 is finished. Cancelling potential speculative or zombie tasks for this job\u001b[0m\n",
      "\u001b[34m2025-06-19 23:20:55,052 INFO cluster.YarnScheduler: Killing all running tasks in stage 10: Stage finished\u001b[0m\n",
      "\u001b[34m2025-06-19 23:20:55,053 INFO scheduler.DAGScheduler: Job 7 finished: countByKey at ColumnProfiler.scala:592, took 2.114426 s\u001b[0m\n",
      "\u001b[34m2025-06-19 23:20:55,374 INFO scheduler.DAGScheduler: Registering RDD 51 (collect at AnalysisRunner.scala:326) as input to shuffle 3\u001b[0m\n",
      "\u001b[34m2025-06-19 23:20:55,374 INFO scheduler.DAGScheduler: Got map stage job 8 (collect at AnalysisRunner.scala:326) with 1 output partitions\u001b[0m\n",
      "\u001b[34m2025-06-19 23:20:55,374 INFO scheduler.DAGScheduler: Final stage: ShuffleMapStage 11 (collect at AnalysisRunner.scala:326)\u001b[0m\n",
      "\u001b[34m2025-06-19 23:20:55,374 INFO scheduler.DAGScheduler: Parents of final stage: List()\u001b[0m\n",
      "\u001b[34m2025-06-19 23:20:55,375 INFO scheduler.DAGScheduler: Missing parents: List()\u001b[0m\n",
      "\u001b[34m2025-06-19 23:20:55,376 INFO scheduler.DAGScheduler: Submitting ShuffleMapStage 11 (MapPartitionsRDD[51] at collect at AnalysisRunner.scala:326), which has no missing parents\u001b[0m\n",
      "\u001b[34m2025-06-19 23:20:55,389 INFO memory.MemoryStore: Block broadcast_11 stored as values in memory (estimated size 85.1 KiB, free 1457.4 MiB)\u001b[0m\n",
      "\u001b[34m2025-06-19 23:20:55,398 INFO memory.MemoryStore: Block broadcast_11_piece0 stored as bytes in memory (estimated size 27.6 KiB, free 1457.4 MiB)\u001b[0m\n",
      "\u001b[34m2025-06-19 23:20:55,399 INFO storage.BlockManagerInfo: Added broadcast_11_piece0 in memory on 10.2.223.201:41959 (size: 27.6 KiB, free: 1458.4 MiB)\u001b[0m\n",
      "\u001b[34m2025-06-19 23:20:55,401 INFO spark.SparkContext: Created broadcast 11 from broadcast at DAGScheduler.scala:1513\u001b[0m\n",
      "\u001b[34m2025-06-19 23:20:55,401 INFO scheduler.DAGScheduler: Submitting 1 missing tasks from ShuffleMapStage 11 (MapPartitionsRDD[51] at collect at AnalysisRunner.scala:326) (first 15 tasks are for partitions Vector(0))\u001b[0m\n",
      "\u001b[34m2025-06-19 23:20:55,401 INFO cluster.YarnScheduler: Adding task set 11.0 with 1 tasks resource profile 0\u001b[0m\n",
      "\u001b[34m2025-06-19 23:20:55,403 INFO scheduler.TaskSetManager: Starting task 0.0 in stage 11.0 (TID 9) (algo-1, executor 1, partition 0, PROCESS_LOCAL, 4941 bytes) taskResourceAssignments Map()\u001b[0m\n",
      "\u001b[34m2025-06-19 23:20:55,414 INFO storage.BlockManagerInfo: Added broadcast_11_piece0 in memory on algo-1:44997 (size: 27.6 KiB, free: 2.8 GiB)\u001b[0m\n",
      "\u001b[34m2025-06-19 23:20:55,662 INFO scheduler.TaskSetManager: Finished task 0.0 in stage 11.0 (TID 9) in 259 ms on algo-1 (executor 1) (1/1)\u001b[0m\n",
      "\u001b[34m2025-06-19 23:20:55,662 INFO cluster.YarnScheduler: Removed TaskSet 11.0, whose tasks have all completed, from pool \u001b[0m\n",
      "\u001b[34m2025-06-19 23:20:55,664 INFO scheduler.DAGScheduler: ShuffleMapStage 11 (collect at AnalysisRunner.scala:326) finished in 0.287 s\u001b[0m\n",
      "\u001b[34m2025-06-19 23:20:55,666 INFO scheduler.DAGScheduler: looking for newly runnable stages\u001b[0m\n",
      "\u001b[34m2025-06-19 23:20:55,667 INFO scheduler.DAGScheduler: running: Set()\u001b[0m\n",
      "\u001b[34m2025-06-19 23:20:55,667 INFO scheduler.DAGScheduler: waiting: Set()\u001b[0m\n",
      "\u001b[34m2025-06-19 23:20:55,667 INFO scheduler.DAGScheduler: failed: Set()\u001b[0m\n",
      "\u001b[34m2025-06-19 23:20:55,768 INFO spark.SparkContext: Starting job: collect at AnalysisRunner.scala:326\u001b[0m\n",
      "\u001b[34m2025-06-19 23:20:55,770 INFO scheduler.DAGScheduler: Got job 9 (collect at AnalysisRunner.scala:326) with 1 output partitions\u001b[0m\n",
      "\u001b[34m2025-06-19 23:20:55,770 INFO scheduler.DAGScheduler: Final stage: ResultStage 13 (collect at AnalysisRunner.scala:326)\u001b[0m\n",
      "\u001b[34m2025-06-19 23:20:55,770 INFO scheduler.DAGScheduler: Parents of final stage: List(ShuffleMapStage 12)\u001b[0m\n",
      "\u001b[34m2025-06-19 23:20:55,771 INFO scheduler.DAGScheduler: Missing parents: List()\u001b[0m\n",
      "\u001b[34m2025-06-19 23:20:55,771 INFO scheduler.DAGScheduler: Submitting ResultStage 13 (MapPartitionsRDD[54] at collect at AnalysisRunner.scala:326), which has no missing parents\u001b[0m\n",
      "\u001b[34m2025-06-19 23:20:55,790 INFO memory.MemoryStore: Block broadcast_12 stored as values in memory (estimated size 169.9 KiB, free 1457.2 MiB)\u001b[0m\n",
      "\u001b[34m2025-06-19 23:20:55,793 INFO memory.MemoryStore: Block broadcast_12_piece0 stored as bytes in memory (estimated size 46.6 KiB, free 1457.1 MiB)\u001b[0m\n",
      "\u001b[34m2025-06-19 23:20:55,794 INFO storage.BlockManagerInfo: Added broadcast_12_piece0 in memory on 10.2.223.201:41959 (size: 46.6 KiB, free: 1458.4 MiB)\u001b[0m\n",
      "\u001b[34m2025-06-19 23:20:55,795 INFO spark.SparkContext: Created broadcast 12 from broadcast at DAGScheduler.scala:1513\u001b[0m\n",
      "\u001b[34m2025-06-19 23:20:55,795 INFO scheduler.DAGScheduler: Submitting 1 missing tasks from ResultStage 13 (MapPartitionsRDD[54] at collect at AnalysisRunner.scala:326) (first 15 tasks are for partitions Vector(0))\u001b[0m\n",
      "\u001b[34m2025-06-19 23:20:55,795 INFO cluster.YarnScheduler: Adding task set 13.0 with 1 tasks resource profile 0\u001b[0m\n",
      "\u001b[34m2025-06-19 23:20:55,797 INFO scheduler.TaskSetManager: Starting task 0.0 in stage 13.0 (TID 10) (algo-1, executor 1, partition 0, NODE_LOCAL, 4464 bytes) taskResourceAssignments Map()\u001b[0m\n",
      "\u001b[34m2025-06-19 23:20:55,808 INFO storage.BlockManagerInfo: Added broadcast_12_piece0 in memory on algo-1:44997 (size: 46.6 KiB, free: 2.8 GiB)\u001b[0m\n",
      "\u001b[34m2025-06-19 23:20:55,831 INFO spark.MapOutputTrackerMasterEndpoint: Asked to send map output locations for shuffle 3 to 10.2.223.201:51330\u001b[0m\n",
      "\u001b[34m2025-06-19 23:20:55,986 INFO scheduler.TaskSetManager: Finished task 0.0 in stage 13.0 (TID 10) in 190 ms on algo-1 (executor 1) (1/1)\u001b[0m\n",
      "\u001b[34m2025-06-19 23:20:55,986 INFO cluster.YarnScheduler: Removed TaskSet 13.0, whose tasks have all completed, from pool \u001b[0m\n",
      "\u001b[34m2025-06-19 23:20:55,987 INFO scheduler.DAGScheduler: ResultStage 13 (collect at AnalysisRunner.scala:326) finished in 0.211 s\u001b[0m\n",
      "\u001b[34m2025-06-19 23:20:55,990 INFO scheduler.DAGScheduler: Job 9 is finished. Cancelling potential speculative or zombie tasks for this job\u001b[0m\n",
      "\u001b[34m2025-06-19 23:20:55,990 INFO cluster.YarnScheduler: Killing all running tasks in stage 13: Stage finished\u001b[0m\n",
      "\u001b[34m2025-06-19 23:20:55,991 INFO scheduler.DAGScheduler: Job 9 finished: collect at AnalysisRunner.scala:326, took 0.222335 s\u001b[0m\n",
      "\u001b[34m2025-06-19 23:20:56,146 INFO codegen.CodeGenerator: Code generated in 11.248782 ms\u001b[0m\n",
      "\u001b[34m2025-06-19 23:20:56,180 INFO spark.SparkContext: Starting job: treeReduce at KLLRunner.scala:107\u001b[0m\n",
      "\u001b[34m2025-06-19 23:20:56,181 INFO scheduler.DAGScheduler: Got job 10 (treeReduce at KLLRunner.scala:107) with 1 output partitions\u001b[0m\n",
      "\u001b[34m2025-06-19 23:20:56,181 INFO scheduler.DAGScheduler: Final stage: ResultStage 14 (treeReduce at KLLRunner.scala:107)\u001b[0m\n",
      "\u001b[34m2025-06-19 23:20:56,182 INFO scheduler.DAGScheduler: Parents of final stage: List()\u001b[0m\n",
      "\u001b[34m2025-06-19 23:20:56,182 INFO scheduler.DAGScheduler: Missing parents: List()\u001b[0m\n",
      "\u001b[34m2025-06-19 23:20:56,184 INFO scheduler.DAGScheduler: Submitting ResultStage 14 (MapPartitionsRDD[64] at treeReduce at KLLRunner.scala:107), which has no missing parents\u001b[0m\n",
      "\u001b[34m2025-06-19 23:20:56,193 INFO memory.MemoryStore: Block broadcast_13 stored as values in memory (estimated size 39.3 KiB, free 1457.1 MiB)\u001b[0m\n",
      "\u001b[34m2025-06-19 23:20:56,196 INFO memory.MemoryStore: Block broadcast_13_piece0 stored as bytes in memory (estimated size 16.7 KiB, free 1457.1 MiB)\u001b[0m\n",
      "\u001b[34m2025-06-19 23:20:56,198 INFO storage.BlockManagerInfo: Added broadcast_13_piece0 in memory on 10.2.223.201:41959 (size: 16.7 KiB, free: 1458.4 MiB)\u001b[0m\n",
      "\u001b[34m2025-06-19 23:20:56,199 INFO spark.SparkContext: Created broadcast 13 from broadcast at DAGScheduler.scala:1513\u001b[0m\n",
      "\u001b[34m2025-06-19 23:20:56,204 INFO scheduler.DAGScheduler: Submitting 1 missing tasks from ResultStage 14 (MapPartitionsRDD[64] at treeReduce at KLLRunner.scala:107) (first 15 tasks are for partitions Vector(0))\u001b[0m\n",
      "\u001b[34m2025-06-19 23:20:56,204 INFO cluster.YarnScheduler: Adding task set 14.0 with 1 tasks resource profile 0\u001b[0m\n",
      "\u001b[34m2025-06-19 23:20:56,206 INFO scheduler.TaskSetManager: Starting task 0.0 in stage 14.0 (TID 11) (algo-1, executor 1, partition 0, PROCESS_LOCAL, 4952 bytes) taskResourceAssignments Map()\u001b[0m\n",
      "\u001b[34m2025-06-19 23:20:56,223 INFO storage.BlockManagerInfo: Added broadcast_13_piece0 in memory on algo-1:44997 (size: 16.7 KiB, free: 2.8 GiB)\u001b[0m\n",
      "\u001b[34m2025-06-19 23:20:56,298 INFO scheduler.TaskSetManager: Finished task 0.0 in stage 14.0 (TID 11) in 92 ms on algo-1 (executor 1) (1/1)\u001b[0m\n",
      "\u001b[34m2025-06-19 23:20:56,305 INFO scheduler.DAGScheduler: ResultStage 14 (treeReduce at KLLRunner.scala:107) finished in 0.120 s\u001b[0m\n",
      "\u001b[34m2025-06-19 23:20:56,306 INFO scheduler.DAGScheduler: Job 10 is finished. Cancelling potential speculative or zombie tasks for this job\u001b[0m\n",
      "\u001b[34m2025-06-19 23:20:56,308 INFO cluster.YarnScheduler: Removed TaskSet 14.0, whose tasks have all completed, from pool \u001b[0m\n",
      "\u001b[34m2025-06-19 23:20:56,308 INFO cluster.YarnScheduler: Killing all running tasks in stage 14: Stage finished\u001b[0m\n",
      "\u001b[34m2025-06-19 23:20:56,308 INFO scheduler.DAGScheduler: Job 10 finished: treeReduce at KLLRunner.scala:107, took 0.128167 s\u001b[0m\n",
      "\u001b[34m2025-06-19 23:20:56,786 INFO codegen.CodeGenerator: Code generated in 91.125296 ms\u001b[0m\n",
      "\u001b[34m2025-06-19 23:20:56,803 INFO scheduler.DAGScheduler: Registering RDD 69 (collect at AnalysisRunner.scala:326) as input to shuffle 4\u001b[0m\n",
      "\u001b[34m2025-06-19 23:20:56,803 INFO scheduler.DAGScheduler: Got map stage job 11 (collect at AnalysisRunner.scala:326) with 1 output partitions\u001b[0m\n",
      "\u001b[34m2025-06-19 23:20:56,803 INFO scheduler.DAGScheduler: Final stage: ShuffleMapStage 15 (collect at AnalysisRunner.scala:326)\u001b[0m\n",
      "\u001b[34m2025-06-19 23:20:56,804 INFO scheduler.DAGScheduler: Parents of final stage: List()\u001b[0m\n",
      "\u001b[34m2025-06-19 23:20:56,804 INFO scheduler.DAGScheduler: Missing parents: List()\u001b[0m\n",
      "\u001b[34m2025-06-19 23:20:56,806 INFO scheduler.DAGScheduler: Submitting ShuffleMapStage 15 (MapPartitionsRDD[69] at collect at AnalysisRunner.scala:326), which has no missing parents\u001b[0m\n",
      "\u001b[34m2025-06-19 23:20:56,810 INFO memory.MemoryStore: Block broadcast_14 stored as values in memory (estimated size 77.6 KiB, free 1457.0 MiB)\u001b[0m\n",
      "\u001b[34m2025-06-19 23:20:56,822 INFO memory.MemoryStore: Block broadcast_14_piece0 stored as bytes in memory (estimated size 24.9 KiB, free 1457.0 MiB)\u001b[0m\n",
      "\u001b[34m2025-06-19 23:20:56,823 INFO storage.BlockManagerInfo: Added broadcast_14_piece0 in memory on 10.2.223.201:41959 (size: 24.9 KiB, free: 1458.3 MiB)\u001b[0m\n",
      "\u001b[34m2025-06-19 23:20:56,824 INFO spark.SparkContext: Created broadcast 14 from broadcast at DAGScheduler.scala:1513\u001b[0m\n",
      "\u001b[34m2025-06-19 23:20:56,824 INFO scheduler.DAGScheduler: Submitting 1 missing tasks from ShuffleMapStage 15 (MapPartitionsRDD[69] at collect at AnalysisRunner.scala:326) (first 15 tasks are for partitions Vector(0))\u001b[0m\n",
      "\u001b[34m2025-06-19 23:20:56,824 INFO cluster.YarnScheduler: Adding task set 15.0 with 1 tasks resource profile 0\u001b[0m\n",
      "\u001b[34m2025-06-19 23:20:56,825 INFO scheduler.TaskSetManager: Starting task 0.0 in stage 15.0 (TID 12) (algo-1, executor 1, partition 0, PROCESS_LOCAL, 4941 bytes) taskResourceAssignments Map()\u001b[0m\n",
      "\u001b[34m2025-06-19 23:20:56,856 INFO storage.BlockManagerInfo: Added broadcast_14_piece0 in memory on algo-1:44997 (size: 24.9 KiB, free: 2.8 GiB)\u001b[0m\n",
      "\u001b[34m2025-06-19 23:20:57,024 INFO scheduler.TaskSetManager: Finished task 0.0 in stage 15.0 (TID 12) in 199 ms on algo-1 (executor 1) (1/1)\u001b[0m\n",
      "\u001b[34m2025-06-19 23:20:57,025 INFO scheduler.DAGScheduler: ShuffleMapStage 15 (collect at AnalysisRunner.scala:326) finished in 0.217 s\u001b[0m\n",
      "\u001b[34m2025-06-19 23:20:57,025 INFO scheduler.DAGScheduler: looking for newly runnable stages\u001b[0m\n",
      "\u001b[34m2025-06-19 23:20:57,025 INFO scheduler.DAGScheduler: running: Set()\u001b[0m\n",
      "\u001b[34m2025-06-19 23:20:57,025 INFO scheduler.DAGScheduler: waiting: Set()\u001b[0m\n",
      "\u001b[34m2025-06-19 23:20:57,025 INFO scheduler.DAGScheduler: failed: Set()\u001b[0m\n",
      "\u001b[34m2025-06-19 23:20:57,026 INFO cluster.YarnScheduler: Removed TaskSet 15.0, whose tasks have all completed, from pool \u001b[0m\n",
      "\u001b[34m2025-06-19 23:20:57,209 INFO spark.SparkContext: Starting job: collect at AnalysisRunner.scala:326\u001b[0m\n",
      "\u001b[34m2025-06-19 23:20:57,211 INFO scheduler.DAGScheduler: Got job 12 (collect at AnalysisRunner.scala:326) with 1 output partitions\u001b[0m\n",
      "\u001b[34m2025-06-19 23:20:57,211 INFO scheduler.DAGScheduler: Final stage: ResultStage 17 (collect at AnalysisRunner.scala:326)\u001b[0m\n",
      "\u001b[34m2025-06-19 23:20:57,213 INFO scheduler.DAGScheduler: Parents of final stage: List(ShuffleMapStage 16)\u001b[0m\n",
      "\u001b[34m2025-06-19 23:20:57,213 INFO scheduler.DAGScheduler: Missing parents: List()\u001b[0m\n",
      "\u001b[34m2025-06-19 23:20:57,214 INFO scheduler.DAGScheduler: Submitting ResultStage 17 (MapPartitionsRDD[72] at collect at AnalysisRunner.scala:326), which has no missing parents\u001b[0m\n",
      "\u001b[34m2025-06-19 23:20:57,218 INFO memory.MemoryStore: Block broadcast_15 stored as values in memory (estimated size 67.7 KiB, free 1456.9 MiB)\u001b[0m\n",
      "\u001b[34m2025-06-19 23:20:57,223 INFO memory.MemoryStore: Block broadcast_15_piece0 stored as bytes in memory (estimated size 19.9 KiB, free 1456.9 MiB)\u001b[0m\n",
      "\u001b[34m2025-06-19 23:20:57,224 INFO storage.BlockManagerInfo: Added broadcast_15_piece0 in memory on 10.2.223.201:41959 (size: 19.9 KiB, free: 1458.3 MiB)\u001b[0m\n",
      "\u001b[34m2025-06-19 23:20:57,227 INFO spark.SparkContext: Created broadcast 15 from broadcast at DAGScheduler.scala:1513\u001b[0m\n",
      "\u001b[34m2025-06-19 23:20:57,229 INFO scheduler.DAGScheduler: Submitting 1 missing tasks from ResultStage 17 (MapPartitionsRDD[72] at collect at AnalysisRunner.scala:326) (first 15 tasks are for partitions Vector(0))\u001b[0m\n",
      "\u001b[34m2025-06-19 23:20:57,230 INFO cluster.YarnScheduler: Adding task set 17.0 with 1 tasks resource profile 0\u001b[0m\n",
      "\u001b[34m2025-06-19 23:20:57,231 INFO scheduler.TaskSetManager: Starting task 0.0 in stage 17.0 (TID 13) (algo-1, executor 1, partition 0, NODE_LOCAL, 4464 bytes) taskResourceAssignments Map()\u001b[0m\n",
      "\u001b[34m2025-06-19 23:20:57,242 INFO storage.BlockManagerInfo: Added broadcast_15_piece0 in memory on algo-1:44997 (size: 19.9 KiB, free: 2.8 GiB)\u001b[0m\n",
      "\u001b[34m2025-06-19 23:20:57,252 INFO spark.MapOutputTrackerMasterEndpoint: Asked to send map output locations for shuffle 4 to 10.2.223.201:51330\u001b[0m\n",
      "\u001b[34m2025-06-19 23:20:57,268 INFO scheduler.TaskSetManager: Finished task 0.0 in stage 17.0 (TID 13) in 37 ms on algo-1 (executor 1) (1/1)\u001b[0m\n",
      "\u001b[34m2025-06-19 23:20:57,268 INFO cluster.YarnScheduler: Removed TaskSet 17.0, whose tasks have all completed, from pool \u001b[0m\n",
      "\u001b[34m2025-06-19 23:20:57,269 INFO scheduler.DAGScheduler: ResultStage 17 (collect at AnalysisRunner.scala:326) finished in 0.052 s\u001b[0m\n",
      "\u001b[34m2025-06-19 23:20:57,270 INFO scheduler.DAGScheduler: Job 12 is finished. Cancelling potential speculative or zombie tasks for this job\u001b[0m\n",
      "\u001b[34m2025-06-19 23:20:57,271 INFO cluster.YarnScheduler: Killing all running tasks in stage 17: Stage finished\u001b[0m\n",
      "\u001b[34m2025-06-19 23:20:57,271 INFO scheduler.DAGScheduler: Job 12 finished: collect at AnalysisRunner.scala:326, took 0.062006 s\u001b[0m\n",
      "\u001b[34m2025-06-19 23:20:57,387 INFO spark.SparkContext: Starting job: countByKey at ColumnProfiler.scala:592\u001b[0m\n",
      "\u001b[34m2025-06-19 23:20:57,389 INFO scheduler.DAGScheduler: Registering RDD 80 (countByKey at ColumnProfiler.scala:592) as input to shuffle 5\u001b[0m\n",
      "\u001b[34m2025-06-19 23:20:57,391 INFO scheduler.DAGScheduler: Got job 13 (countByKey at ColumnProfiler.scala:592) with 1 output partitions\u001b[0m\n",
      "\u001b[34m2025-06-19 23:20:57,391 INFO scheduler.DAGScheduler: Final stage: ResultStage 19 (countByKey at ColumnProfiler.scala:592)\u001b[0m\n",
      "\u001b[34m2025-06-19 23:20:57,391 INFO scheduler.DAGScheduler: Parents of final stage: List(ShuffleMapStage 18)\u001b[0m\n",
      "\u001b[34m2025-06-19 23:20:57,392 INFO scheduler.DAGScheduler: Missing parents: List(ShuffleMapStage 18)\u001b[0m\n",
      "\u001b[34m2025-06-19 23:20:57,395 INFO scheduler.DAGScheduler: Submitting ShuffleMapStage 18 (MapPartitionsRDD[80] at countByKey at ColumnProfiler.scala:592), which has no missing parents\u001b[0m\n",
      "\u001b[34m2025-06-19 23:20:57,447 INFO memory.MemoryStore: Block broadcast_16 stored as values in memory (estimated size 32.3 KiB, free 1456.9 MiB)\u001b[0m\n",
      "\u001b[34m2025-06-19 23:20:57,455 INFO memory.MemoryStore: Block broadcast_16_piece0 stored as bytes in memory (estimated size 14.6 KiB, free 1456.9 MiB)\u001b[0m\n",
      "\u001b[34m2025-06-19 23:20:57,456 INFO storage.BlockManagerInfo: Added broadcast_16_piece0 in memory on 10.2.223.201:41959 (size: 14.6 KiB, free: 1458.3 MiB)\u001b[0m\n",
      "\u001b[34m2025-06-19 23:20:57,457 INFO spark.SparkContext: Created broadcast 16 from broadcast at DAGScheduler.scala:1513\u001b[0m\n",
      "\u001b[34m2025-06-19 23:20:57,458 INFO scheduler.DAGScheduler: Submitting 1 missing tasks from ShuffleMapStage 18 (MapPartitionsRDD[80] at countByKey at ColumnProfiler.scala:592) (first 15 tasks are for partitions Vector(0))\u001b[0m\n",
      "\u001b[34m2025-06-19 23:20:57,459 INFO cluster.YarnScheduler: Adding task set 18.0 with 1 tasks resource profile 0\u001b[0m\n",
      "\u001b[34m2025-06-19 23:20:57,460 INFO scheduler.TaskSetManager: Starting task 0.0 in stage 18.0 (TID 14) (algo-1, executor 1, partition 0, PROCESS_LOCAL, 4941 bytes) taskResourceAssignments Map()\u001b[0m\n",
      "\u001b[34m2025-06-19 23:20:57,467 INFO storage.BlockManagerInfo: Removed broadcast_10_piece0 on 10.2.223.201:41959 in memory (size: 3.0 KiB, free: 1458.3 MiB)\u001b[0m\n",
      "\u001b[34m2025-06-19 23:20:57,484 INFO storage.BlockManagerInfo: Added broadcast_16_piece0 in memory on algo-1:44997 (size: 14.6 KiB, free: 2.8 GiB)\u001b[0m\n",
      "\u001b[34m2025-06-19 23:20:57,485 INFO storage.BlockManagerInfo: Removed broadcast_10_piece0 on algo-1:44997 in memory (size: 3.0 KiB, free: 2.8 GiB)\u001b[0m\n",
      "\u001b[34m2025-06-19 23:20:57,570 INFO storage.BlockManagerInfo: Removed broadcast_12_piece0 on 10.2.223.201:41959 in memory (size: 46.6 KiB, free: 1458.4 MiB)\u001b[0m\n",
      "\u001b[34m2025-06-19 23:20:57,585 INFO storage.BlockManagerInfo: Removed broadcast_12_piece0 on algo-1:44997 in memory (size: 46.6 KiB, free: 2.8 GiB)\u001b[0m\n",
      "\u001b[34m2025-06-19 23:20:57,603 INFO scheduler.TaskSetManager: Finished task 0.0 in stage 18.0 (TID 14) in 143 ms on algo-1 (executor 1) (1/1)\u001b[0m\n",
      "\u001b[34m2025-06-19 23:20:57,603 INFO cluster.YarnScheduler: Removed TaskSet 18.0, whose tasks have all completed, from pool \u001b[0m\n",
      "\u001b[34m2025-06-19 23:20:57,604 INFO scheduler.DAGScheduler: ShuffleMapStage 18 (countByKey at ColumnProfiler.scala:592) finished in 0.208 s\u001b[0m\n",
      "\u001b[34m2025-06-19 23:20:57,605 INFO scheduler.DAGScheduler: looking for newly runnable stages\u001b[0m\n",
      "\u001b[34m2025-06-19 23:20:57,605 INFO scheduler.DAGScheduler: running: Set()\u001b[0m\n",
      "\u001b[34m2025-06-19 23:20:57,606 INFO scheduler.DAGScheduler: waiting: Set(ResultStage 19)\u001b[0m\n",
      "\u001b[34m2025-06-19 23:20:57,606 INFO scheduler.DAGScheduler: failed: Set()\u001b[0m\n",
      "\u001b[34m2025-06-19 23:20:57,606 INFO scheduler.DAGScheduler: Submitting ResultStage 19 (ShuffledRDD[81] at countByKey at ColumnProfiler.scala:592), which has no missing parents\u001b[0m\n",
      "\u001b[34m2025-06-19 23:20:57,608 INFO memory.MemoryStore: Block broadcast_17 stored as values in memory (estimated size 5.1 KiB, free 1457.1 MiB)\u001b[0m\n",
      "\u001b[34m2025-06-19 23:20:57,610 INFO memory.MemoryStore: Block broadcast_17_piece0 stored as bytes in memory (estimated size 3.0 KiB, free 1457.1 MiB)\u001b[0m\n",
      "\u001b[34m2025-06-19 23:20:57,611 INFO storage.BlockManagerInfo: Added broadcast_17_piece0 in memory on 10.2.223.201:41959 (size: 3.0 KiB, free: 1458.4 MiB)\u001b[0m\n",
      "\u001b[34m2025-06-19 23:20:57,611 INFO spark.SparkContext: Created broadcast 17 from broadcast at DAGScheduler.scala:1513\u001b[0m\n",
      "\u001b[34m2025-06-19 23:20:57,612 INFO scheduler.DAGScheduler: Submitting 1 missing tasks from ResultStage 19 (ShuffledRDD[81] at countByKey at ColumnProfiler.scala:592) (first 15 tasks are for partitions Vector(0))\u001b[0m\n",
      "\u001b[34m2025-06-19 23:20:57,615 INFO cluster.YarnScheduler: Adding task set 19.0 with 1 tasks resource profile 0\u001b[0m\n",
      "\u001b[34m2025-06-19 23:20:57,617 INFO scheduler.TaskSetManager: Starting task 0.0 in stage 19.0 (TID 15) (algo-1, executor 1, partition 0, NODE_LOCAL, 4282 bytes) taskResourceAssignments Map()\u001b[0m\n",
      "\u001b[34m2025-06-19 23:20:57,656 INFO storage.BlockManagerInfo: Added broadcast_17_piece0 in memory on algo-1:44997 (size: 3.0 KiB, free: 2.8 GiB)\u001b[0m\n",
      "\u001b[34m2025-06-19 23:20:57,666 INFO spark.MapOutputTrackerMasterEndpoint: Asked to send map output locations for shuffle 5 to 10.2.223.201:51330\u001b[0m\n",
      "\u001b[34m2025-06-19 23:20:57,683 INFO storage.BlockManagerInfo: Removed broadcast_13_piece0 on 10.2.223.201:41959 in memory (size: 16.7 KiB, free: 1458.4 MiB)\u001b[0m\n",
      "\u001b[34m2025-06-19 23:20:57,688 INFO storage.BlockManagerInfo: Removed broadcast_13_piece0 on algo-1:44997 in memory (size: 16.7 KiB, free: 2.8 GiB)\u001b[0m\n",
      "\u001b[34m2025-06-19 23:20:57,718 INFO scheduler.TaskSetManager: Finished task 0.0 in stage 19.0 (TID 15) in 101 ms on algo-1 (executor 1) (1/1)\u001b[0m\n",
      "\u001b[34m2025-06-19 23:20:57,718 INFO cluster.YarnScheduler: Removed TaskSet 19.0, whose tasks have all completed, from pool \u001b[0m\n",
      "\u001b[34m2025-06-19 23:20:57,719 INFO scheduler.DAGScheduler: ResultStage 19 (countByKey at ColumnProfiler.scala:592) finished in 0.112 s\u001b[0m\n",
      "\u001b[34m2025-06-19 23:20:57,720 INFO scheduler.DAGScheduler: Job 13 is finished. Cancelling potential speculative or zombie tasks for this job\u001b[0m\n",
      "\u001b[34m2025-06-19 23:20:57,721 INFO cluster.YarnScheduler: Killing all running tasks in stage 19: Stage finished\u001b[0m\n",
      "\u001b[34m2025-06-19 23:20:57,721 INFO scheduler.DAGScheduler: Job 13 finished: countByKey at ColumnProfiler.scala:592, took 0.333322 s\u001b[0m\n",
      "\u001b[34m2025-06-19 23:20:57,794 INFO storage.BlockManagerInfo: Removed broadcast_9_piece0 on 10.2.223.201:41959 in memory (size: 14.6 KiB, free: 1458.4 MiB)\u001b[0m\n",
      "\u001b[34m2025-06-19 23:20:57,808 INFO storage.BlockManagerInfo: Removed broadcast_9_piece0 on algo-1:44997 in memory (size: 14.6 KiB, free: 2.8 GiB)\u001b[0m\n",
      "\u001b[34m2025-06-19 23:20:57,868 INFO storage.BlockManagerInfo: Removed broadcast_11_piece0 on algo-1:44997 in memory (size: 27.6 KiB, free: 2.8 GiB)\u001b[0m\n",
      "\u001b[34m2025-06-19 23:20:57,870 INFO storage.BlockManagerInfo: Removed broadcast_11_piece0 on 10.2.223.201:41959 in memory (size: 27.6 KiB, free: 1458.4 MiB)\u001b[0m\n",
      "\u001b[34m2025-06-19 23:20:57,932 INFO storage.BlockManagerInfo: Removed broadcast_7_piece0 on 10.2.223.201:41959 in memory (size: 24.9 KiB, free: 1458.4 MiB)\u001b[0m\n",
      "\u001b[34m2025-06-19 23:20:57,935 INFO storage.BlockManagerInfo: Removed broadcast_7_piece0 on algo-1:44997 in memory (size: 24.9 KiB, free: 2.8 GiB)\u001b[0m\n",
      "\u001b[34m2025-06-19 23:20:57,989 INFO storage.BlockManagerInfo: Removed broadcast_15_piece0 on 10.2.223.201:41959 in memory (size: 19.9 KiB, free: 1458.5 MiB)\u001b[0m\n",
      "\u001b[34m2025-06-19 23:20:57,992 INFO storage.BlockManagerInfo: Removed broadcast_15_piece0 on algo-1:44997 in memory (size: 19.9 KiB, free: 2.8 GiB)\u001b[0m\n",
      "\u001b[34m2025-06-19 23:20:58,056 INFO storage.BlockManagerInfo: Removed broadcast_8_piece0 on 10.2.223.201:41959 in memory (size: 19.9 KiB, free: 1458.5 MiB)\u001b[0m\n",
      "\u001b[34m2025-06-19 23:20:58,060 INFO storage.BlockManagerInfo: Removed broadcast_8_piece0 on algo-1:44997 in memory (size: 19.9 KiB, free: 2.8 GiB)\u001b[0m\n",
      "\u001b[34m2025-06-19 23:20:58,082 INFO storage.BlockManagerInfo: Removed broadcast_14_piece0 on algo-1:44997 in memory (size: 24.9 KiB, free: 2.8 GiB)\u001b[0m\n",
      "\u001b[34m2025-06-19 23:20:58,085 INFO storage.BlockManagerInfo: Removed broadcast_14_piece0 on 10.2.223.201:41959 in memory (size: 24.9 KiB, free: 1458.5 MiB)\u001b[0m\n",
      "\u001b[34m2025-06-19 23:20:58,162 INFO scheduler.DAGScheduler: Registering RDD 86 (collect at AnalysisRunner.scala:326) as input to shuffle 6\u001b[0m\n",
      "\u001b[34m2025-06-19 23:20:58,163 INFO scheduler.DAGScheduler: Got map stage job 14 (collect at AnalysisRunner.scala:326) with 1 output partitions\u001b[0m\n",
      "\u001b[34m2025-06-19 23:20:58,164 INFO scheduler.DAGScheduler: Final stage: ShuffleMapStage 20 (collect at AnalysisRunner.scala:326)\u001b[0m\n",
      "\u001b[34m2025-06-19 23:20:58,164 INFO scheduler.DAGScheduler: Parents of final stage: List()\u001b[0m\n",
      "\u001b[34m2025-06-19 23:20:58,165 INFO scheduler.DAGScheduler: Missing parents: List()\u001b[0m\n",
      "\u001b[34m2025-06-19 23:20:58,166 INFO scheduler.DAGScheduler: Submitting ShuffleMapStage 20 (MapPartitionsRDD[86] at collect at AnalysisRunner.scala:326), which has no missing parents\u001b[0m\n",
      "\u001b[34m2025-06-19 23:20:58,175 INFO memory.MemoryStore: Block broadcast_18 stored as values in memory (estimated size 85.1 KiB, free 1457.6 MiB)\u001b[0m\n",
      "\u001b[34m2025-06-19 23:20:58,180 INFO memory.MemoryStore: Block broadcast_18_piece0 stored as bytes in memory (estimated size 27.7 KiB, free 1457.5 MiB)\u001b[0m\n",
      "\u001b[34m2025-06-19 23:20:58,182 INFO storage.BlockManagerInfo: Added broadcast_18_piece0 in memory on 10.2.223.201:41959 (size: 27.7 KiB, free: 1458.5 MiB)\u001b[0m\n",
      "\u001b[34m2025-06-19 23:20:58,185 INFO spark.SparkContext: Created broadcast 18 from broadcast at DAGScheduler.scala:1513\u001b[0m\n",
      "\u001b[34m2025-06-19 23:20:58,185 INFO scheduler.DAGScheduler: Submitting 1 missing tasks from ShuffleMapStage 20 (MapPartitionsRDD[86] at collect at AnalysisRunner.scala:326) (first 15 tasks are for partitions Vector(0))\u001b[0m\n",
      "\u001b[34m2025-06-19 23:20:58,185 INFO cluster.YarnScheduler: Adding task set 20.0 with 1 tasks resource profile 0\u001b[0m\n",
      "\u001b[34m2025-06-19 23:20:58,187 INFO scheduler.TaskSetManager: Starting task 0.0 in stage 20.0 (TID 16) (algo-1, executor 1, partition 0, PROCESS_LOCAL, 4941 bytes) taskResourceAssignments Map()\u001b[0m\n",
      "\u001b[34m2025-06-19 23:20:58,199 INFO storage.BlockManagerInfo: Added broadcast_18_piece0 in memory on algo-1:44997 (size: 27.7 KiB, free: 2.8 GiB)\u001b[0m\n",
      "\u001b[34m2025-06-19 23:20:58,422 INFO scheduler.TaskSetManager: Finished task 0.0 in stage 20.0 (TID 16) in 235 ms on algo-1 (executor 1) (1/1)\u001b[0m\n",
      "\u001b[34m2025-06-19 23:20:58,423 INFO cluster.YarnScheduler: Removed TaskSet 20.0, whose tasks have all completed, from pool \u001b[0m\n",
      "\u001b[34m2025-06-19 23:20:58,424 INFO scheduler.DAGScheduler: ShuffleMapStage 20 (collect at AnalysisRunner.scala:326) finished in 0.252 s\u001b[0m\n",
      "\u001b[34m2025-06-19 23:20:58,424 INFO scheduler.DAGScheduler: looking for newly runnable stages\u001b[0m\n",
      "\u001b[34m2025-06-19 23:20:58,424 INFO scheduler.DAGScheduler: running: Set()\u001b[0m\n",
      "\u001b[34m2025-06-19 23:20:58,424 INFO scheduler.DAGScheduler: waiting: Set()\u001b[0m\n",
      "\u001b[34m2025-06-19 23:20:58,424 INFO scheduler.DAGScheduler: failed: Set()\u001b[0m\n",
      "\u001b[34m2025-06-19 23:20:58,480 INFO spark.SparkContext: Starting job: collect at AnalysisRunner.scala:326\u001b[0m\n",
      "\u001b[34m2025-06-19 23:20:58,482 INFO scheduler.DAGScheduler: Got job 15 (collect at AnalysisRunner.scala:326) with 1 output partitions\u001b[0m\n",
      "\u001b[34m2025-06-19 23:20:58,482 INFO scheduler.DAGScheduler: Final stage: ResultStage 22 (collect at AnalysisRunner.scala:326)\u001b[0m\n",
      "\u001b[34m2025-06-19 23:20:58,482 INFO scheduler.DAGScheduler: Parents of final stage: List(ShuffleMapStage 21)\u001b[0m\n",
      "\u001b[34m2025-06-19 23:20:58,482 INFO scheduler.DAGScheduler: Missing parents: List()\u001b[0m\n",
      "\u001b[34m2025-06-19 23:20:58,483 INFO scheduler.DAGScheduler: Submitting ResultStage 22 (MapPartitionsRDD[89] at collect at AnalysisRunner.scala:326), which has no missing parents\u001b[0m\n",
      "\u001b[34m2025-06-19 23:20:58,490 INFO memory.MemoryStore: Block broadcast_19 stored as values in memory (estimated size 169.9 KiB, free 1457.4 MiB)\u001b[0m\n",
      "\u001b[34m2025-06-19 23:20:58,494 INFO memory.MemoryStore: Block broadcast_19_piece0 stored as bytes in memory (estimated size 46.6 KiB, free 1457.3 MiB)\u001b[0m\n",
      "\u001b[34m2025-06-19 23:20:58,495 INFO storage.BlockManagerInfo: Added broadcast_19_piece0 in memory on 10.2.223.201:41959 (size: 46.6 KiB, free: 1458.4 MiB)\u001b[0m\n",
      "\u001b[34m2025-06-19 23:20:58,495 INFO spark.SparkContext: Created broadcast 19 from broadcast at DAGScheduler.scala:1513\u001b[0m\n",
      "\u001b[34m2025-06-19 23:20:58,496 INFO scheduler.DAGScheduler: Submitting 1 missing tasks from ResultStage 22 (MapPartitionsRDD[89] at collect at AnalysisRunner.scala:326) (first 15 tasks are for partitions Vector(0))\u001b[0m\n",
      "\u001b[34m2025-06-19 23:20:58,496 INFO cluster.YarnScheduler: Adding task set 22.0 with 1 tasks resource profile 0\u001b[0m\n",
      "\u001b[34m2025-06-19 23:20:58,497 INFO scheduler.TaskSetManager: Starting task 0.0 in stage 22.0 (TID 17) (algo-1, executor 1, partition 0, NODE_LOCAL, 4464 bytes) taskResourceAssignments Map()\u001b[0m\n",
      "\u001b[34m2025-06-19 23:20:58,515 INFO storage.BlockManagerInfo: Added broadcast_19_piece0 in memory on algo-1:44997 (size: 46.6 KiB, free: 2.8 GiB)\u001b[0m\n",
      "\u001b[34m2025-06-19 23:20:58,531 INFO spark.MapOutputTrackerMasterEndpoint: Asked to send map output locations for shuffle 6 to 10.2.223.201:51330\u001b[0m\n",
      "\u001b[34m2025-06-19 23:20:58,783 INFO scheduler.TaskSetManager: Finished task 0.0 in stage 22.0 (TID 17) in 286 ms on algo-1 (executor 1) (1/1)\u001b[0m\n",
      "\u001b[34m2025-06-19 23:20:58,786 INFO cluster.YarnScheduler: Removed TaskSet 22.0, whose tasks have all completed, from pool \u001b[0m\n",
      "\u001b[34m2025-06-19 23:20:58,787 INFO scheduler.DAGScheduler: ResultStage 22 (collect at AnalysisRunner.scala:326) finished in 0.303 s\u001b[0m\n",
      "\u001b[34m2025-06-19 23:20:58,788 INFO scheduler.DAGScheduler: Job 15 is finished. Cancelling potential speculative or zombie tasks for this job\u001b[0m\n",
      "\u001b[34m2025-06-19 23:20:58,788 INFO cluster.YarnScheduler: Killing all running tasks in stage 22: Stage finished\u001b[0m\n",
      "\u001b[34m2025-06-19 23:20:58,788 INFO scheduler.DAGScheduler: Job 15 finished: collect at AnalysisRunner.scala:326, took 0.307501 s\u001b[0m\n",
      "\u001b[34m2025-06-19 23:20:58,869 INFO codegen.CodeGenerator: Code generated in 16.023907 ms\u001b[0m\n",
      "\u001b[34m2025-06-19 23:20:58,901 INFO spark.SparkContext: Starting job: treeReduce at KLLRunner.scala:107\u001b[0m\n",
      "\u001b[34m2025-06-19 23:20:58,902 INFO scheduler.DAGScheduler: Got job 16 (treeReduce at KLLRunner.scala:107) with 1 output partitions\u001b[0m\n",
      "\u001b[34m2025-06-19 23:20:58,902 INFO scheduler.DAGScheduler: Final stage: ResultStage 23 (treeReduce at KLLRunner.scala:107)\u001b[0m\n",
      "\u001b[34m2025-06-19 23:20:58,902 INFO scheduler.DAGScheduler: Parents of final stage: List()\u001b[0m\n",
      "\u001b[34m2025-06-19 23:20:58,903 INFO scheduler.DAGScheduler: Missing parents: List()\u001b[0m\n",
      "\u001b[34m2025-06-19 23:20:58,903 INFO scheduler.DAGScheduler: Submitting ResultStage 23 (MapPartitionsRDD[99] at treeReduce at KLLRunner.scala:107), which has no missing parents\u001b[0m\n",
      "\u001b[34m2025-06-19 23:20:58,916 INFO memory.MemoryStore: Block broadcast_20 stored as values in memory (estimated size 38.4 KiB, free 1457.3 MiB)\u001b[0m\n",
      "\u001b[34m2025-06-19 23:20:58,919 INFO memory.MemoryStore: Block broadcast_20_piece0 stored as bytes in memory (estimated size 16.9 KiB, free 1457.3 MiB)\u001b[0m\n",
      "\u001b[34m2025-06-19 23:20:58,920 INFO storage.BlockManagerInfo: Added broadcast_20_piece0 in memory on 10.2.223.201:41959 (size: 16.9 KiB, free: 1458.4 MiB)\u001b[0m\n",
      "\u001b[34m2025-06-19 23:20:58,921 INFO spark.SparkContext: Created broadcast 20 from broadcast at DAGScheduler.scala:1513\u001b[0m\n",
      "\u001b[34m2025-06-19 23:20:58,921 INFO scheduler.DAGScheduler: Submitting 1 missing tasks from ResultStage 23 (MapPartitionsRDD[99] at treeReduce at KLLRunner.scala:107) (first 15 tasks are for partitions Vector(0))\u001b[0m\n",
      "\u001b[34m2025-06-19 23:20:58,923 INFO cluster.YarnScheduler: Adding task set 23.0 with 1 tasks resource profile 0\u001b[0m\n",
      "\u001b[34m2025-06-19 23:20:58,925 INFO scheduler.TaskSetManager: Starting task 0.0 in stage 23.0 (TID 18) (algo-1, executor 1, partition 0, PROCESS_LOCAL, 4952 bytes) taskResourceAssignments Map()\u001b[0m\n",
      "\u001b[34m2025-06-19 23:20:58,943 INFO storage.BlockManagerInfo: Added broadcast_20_piece0 in memory on algo-1:44997 (size: 16.9 KiB, free: 2.8 GiB)\u001b[0m\n",
      "\u001b[34m2025-06-19 23:20:59,013 INFO scheduler.TaskSetManager: Finished task 0.0 in stage 23.0 (TID 18) in 89 ms on algo-1 (executor 1) (1/1)\u001b[0m\n",
      "\u001b[34m2025-06-19 23:20:59,014 INFO scheduler.DAGScheduler: ResultStage 23 (treeReduce at KLLRunner.scala:107) finished in 0.110 s\u001b[0m\n",
      "\u001b[34m2025-06-19 23:20:59,015 INFO scheduler.DAGScheduler: Job 16 is finished. Cancelling potential speculative or zombie tasks for this job\u001b[0m\n",
      "\u001b[34m2025-06-19 23:20:59,016 INFO cluster.YarnScheduler: Removed TaskSet 23.0, whose tasks have all completed, from pool \u001b[0m\n",
      "\u001b[34m2025-06-19 23:20:59,018 INFO cluster.YarnScheduler: Killing all running tasks in stage 23: Stage finished\u001b[0m\n",
      "\u001b[34m2025-06-19 23:20:59,019 INFO scheduler.DAGScheduler: Job 16 finished: treeReduce at KLLRunner.scala:107, took 0.117150 s\u001b[0m\n",
      "\u001b[34m2025-06-19 23:20:59,239 INFO codegen.CodeGenerator: Code generated in 67.423814 ms\u001b[0m\n",
      "\u001b[34m2025-06-19 23:20:59,258 INFO scheduler.DAGScheduler: Registering RDD 104 (collect at AnalysisRunner.scala:326) as input to shuffle 7\u001b[0m\n",
      "\u001b[34m2025-06-19 23:20:59,259 INFO scheduler.DAGScheduler: Got map stage job 17 (collect at AnalysisRunner.scala:326) with 1 output partitions\u001b[0m\n",
      "\u001b[34m2025-06-19 23:20:59,259 INFO scheduler.DAGScheduler: Final stage: ShuffleMapStage 24 (collect at AnalysisRunner.scala:326)\u001b[0m\n",
      "\u001b[34m2025-06-19 23:20:59,259 INFO scheduler.DAGScheduler: Parents of final stage: List()\u001b[0m\n",
      "\u001b[34m2025-06-19 23:20:59,260 INFO scheduler.DAGScheduler: Missing parents: List()\u001b[0m\n",
      "\u001b[34m2025-06-19 23:20:59,260 INFO scheduler.DAGScheduler: Submitting ShuffleMapStage 24 (MapPartitionsRDD[104] at collect at AnalysisRunner.scala:326), which has no missing parents\u001b[0m\n",
      "\u001b[34m2025-06-19 23:20:59,266 INFO memory.MemoryStore: Block broadcast_21 stored as values in memory (estimated size 45.0 KiB, free 1457.2 MiB)\u001b[0m\n",
      "\u001b[34m2025-06-19 23:20:59,268 INFO memory.MemoryStore: Block broadcast_21_piece0 stored as bytes in memory (estimated size 17.1 KiB, free 1457.2 MiB)\u001b[0m\n",
      "\u001b[34m2025-06-19 23:20:59,272 INFO storage.BlockManagerInfo: Added broadcast_21_piece0 in memory on 10.2.223.201:41959 (size: 17.1 KiB, free: 1458.4 MiB)\u001b[0m\n",
      "\u001b[34m2025-06-19 23:20:59,273 INFO spark.SparkContext: Created broadcast 21 from broadcast at DAGScheduler.scala:1513\u001b[0m\n",
      "\u001b[34m2025-06-19 23:20:59,275 INFO scheduler.DAGScheduler: Submitting 1 missing tasks from ShuffleMapStage 24 (MapPartitionsRDD[104] at collect at AnalysisRunner.scala:326) (first 15 tasks are for partitions Vector(0))\u001b[0m\n",
      "\u001b[34m2025-06-19 23:20:59,275 INFO cluster.YarnScheduler: Adding task set 24.0 with 1 tasks resource profile 0\u001b[0m\n",
      "\u001b[34m2025-06-19 23:20:59,278 INFO scheduler.TaskSetManager: Starting task 0.0 in stage 24.0 (TID 19) (algo-1, executor 1, partition 0, PROCESS_LOCAL, 4941 bytes) taskResourceAssignments Map()\u001b[0m\n",
      "\u001b[34m2025-06-19 23:20:59,287 INFO storage.BlockManagerInfo: Added broadcast_21_piece0 in memory on algo-1:44997 (size: 17.1 KiB, free: 2.8 GiB)\u001b[0m\n",
      "\u001b[34m2025-06-19 23:20:59,374 INFO scheduler.TaskSetManager: Finished task 0.0 in stage 24.0 (TID 19) in 96 ms on algo-1 (executor 1) (1/1)\u001b[0m\n",
      "\u001b[34m2025-06-19 23:20:59,374 INFO cluster.YarnScheduler: Removed TaskSet 24.0, whose tasks have all completed, from pool \u001b[0m\n",
      "\u001b[34m2025-06-19 23:20:59,375 INFO scheduler.DAGScheduler: ShuffleMapStage 24 (collect at AnalysisRunner.scala:326) finished in 0.113 s\u001b[0m\n",
      "\u001b[34m2025-06-19 23:20:59,376 INFO scheduler.DAGScheduler: looking for newly runnable stages\u001b[0m\n",
      "\u001b[34m2025-06-19 23:20:59,376 INFO scheduler.DAGScheduler: running: Set()\u001b[0m\n",
      "\u001b[34m2025-06-19 23:20:59,377 INFO scheduler.DAGScheduler: waiting: Set()\u001b[0m\n",
      "\u001b[34m2025-06-19 23:20:59,377 INFO scheduler.DAGScheduler: failed: Set()\u001b[0m\n",
      "\u001b[34m2025-06-19 23:20:59,485 INFO codegen.CodeGenerator: Code generated in 68.285782 ms\u001b[0m\n",
      "\u001b[34m2025-06-19 23:20:59,506 INFO spark.SparkContext: Starting job: collect at AnalysisRunner.scala:326\u001b[0m\n",
      "\u001b[34m2025-06-19 23:20:59,507 INFO scheduler.DAGScheduler: Got job 18 (collect at AnalysisRunner.scala:326) with 1 output partitions\u001b[0m\n",
      "\u001b[34m2025-06-19 23:20:59,507 INFO scheduler.DAGScheduler: Final stage: ResultStage 26 (collect at AnalysisRunner.scala:326)\u001b[0m\n",
      "\u001b[34m2025-06-19 23:20:59,507 INFO scheduler.DAGScheduler: Parents of final stage: List(ShuffleMapStage 25)\u001b[0m\n",
      "\u001b[34m2025-06-19 23:20:59,508 INFO scheduler.DAGScheduler: Missing parents: List()\u001b[0m\n",
      "\u001b[34m2025-06-19 23:20:59,508 INFO scheduler.DAGScheduler: Submitting ResultStage 26 (MapPartitionsRDD[107] at collect at AnalysisRunner.scala:326), which has no missing parents\u001b[0m\n",
      "\u001b[34m2025-06-19 23:20:59,511 INFO memory.MemoryStore: Block broadcast_22 stored as values in memory (estimated size 32.9 KiB, free 1457.2 MiB)\u001b[0m\n",
      "\u001b[34m2025-06-19 23:20:59,513 INFO memory.MemoryStore: Block broadcast_22_piece0 stored as bytes in memory (estimated size 11.3 KiB, free 1457.2 MiB)\u001b[0m\n",
      "\u001b[34m2025-06-19 23:20:59,515 INFO storage.BlockManagerInfo: Added broadcast_22_piece0 in memory on 10.2.223.201:41959 (size: 11.3 KiB, free: 1458.4 MiB)\u001b[0m\n",
      "\u001b[34m2025-06-19 23:20:59,516 INFO spark.SparkContext: Created broadcast 22 from broadcast at DAGScheduler.scala:1513\u001b[0m\n",
      "\u001b[34m2025-06-19 23:20:59,516 INFO scheduler.DAGScheduler: Submitting 1 missing tasks from ResultStage 26 (MapPartitionsRDD[107] at collect at AnalysisRunner.scala:326) (first 15 tasks are for partitions Vector(0))\u001b[0m\n",
      "\u001b[34m2025-06-19 23:20:59,516 INFO cluster.YarnScheduler: Adding task set 26.0 with 1 tasks resource profile 0\u001b[0m\n",
      "\u001b[34m2025-06-19 23:20:59,521 INFO scheduler.TaskSetManager: Starting task 0.0 in stage 26.0 (TID 20) (algo-1, executor 1, partition 0, NODE_LOCAL, 4464 bytes) taskResourceAssignments Map()\u001b[0m\n",
      "\u001b[34m2025-06-19 23:20:59,532 INFO storage.BlockManagerInfo: Added broadcast_22_piece0 in memory on algo-1:44997 (size: 11.3 KiB, free: 2.8 GiB)\u001b[0m\n",
      "\u001b[34m2025-06-19 23:20:59,537 INFO spark.MapOutputTrackerMasterEndpoint: Asked to send map output locations for shuffle 7 to 10.2.223.201:51330\u001b[0m\n",
      "\u001b[34m2025-06-19 23:20:59,635 INFO scheduler.TaskSetManager: Finished task 0.0 in stage 26.0 (TID 20) in 114 ms on algo-1 (executor 1) (1/1)\u001b[0m\n",
      "\u001b[34m2025-06-19 23:20:59,636 INFO cluster.YarnScheduler: Removed TaskSet 26.0, whose tasks have all completed, from pool \u001b[0m\n",
      "\u001b[34m2025-06-19 23:20:59,637 INFO scheduler.DAGScheduler: ResultStage 26 (collect at AnalysisRunner.scala:326) finished in 0.126 s\u001b[0m\n",
      "\u001b[34m2025-06-19 23:20:59,638 INFO scheduler.DAGScheduler: Job 18 is finished. Cancelling potential speculative or zombie tasks for this job\u001b[0m\n",
      "\u001b[34m2025-06-19 23:20:59,638 INFO cluster.YarnScheduler: Killing all running tasks in stage 26: Stage finished\u001b[0m\n",
      "\u001b[34m2025-06-19 23:20:59,638 INFO scheduler.DAGScheduler: Job 18 finished: collect at AnalysisRunner.scala:326, took 0.131990 s\u001b[0m\n",
      "\u001b[34m2025-06-19 23:20:59,700 INFO codegen.CodeGenerator: Code generated in 51.915797 ms\u001b[0m\n",
      "\u001b[34m2025-06-19 23:20:59,784 INFO spark.SparkContext: Starting job: countByKey at ColumnProfiler.scala:592\u001b[0m\n",
      "\u001b[34m2025-06-19 23:20:59,786 INFO scheduler.DAGScheduler: Registering RDD 115 (countByKey at ColumnProfiler.scala:592) as input to shuffle 8\u001b[0m\n",
      "\u001b[34m2025-06-19 23:20:59,786 INFO scheduler.DAGScheduler: Got job 19 (countByKey at ColumnProfiler.scala:592) with 1 output partitions\u001b[0m\n",
      "\u001b[34m2025-06-19 23:20:59,786 INFO scheduler.DAGScheduler: Final stage: ResultStage 28 (countByKey at ColumnProfiler.scala:592)\u001b[0m\n",
      "\u001b[34m2025-06-19 23:20:59,786 INFO scheduler.DAGScheduler: Parents of final stage: List(ShuffleMapStage 27)\u001b[0m\n",
      "\u001b[34m2025-06-19 23:20:59,787 INFO scheduler.DAGScheduler: Missing parents: List(ShuffleMapStage 27)\u001b[0m\n",
      "\u001b[34m2025-06-19 23:20:59,790 INFO scheduler.DAGScheduler: Submitting ShuffleMapStage 27 (MapPartitionsRDD[115] at countByKey at ColumnProfiler.scala:592), which has no missing parents\u001b[0m\n",
      "\u001b[34m2025-06-19 23:20:59,798 INFO memory.MemoryStore: Block broadcast_23 stored as values in memory (estimated size 32.3 KiB, free 1457.1 MiB)\u001b[0m\n",
      "\u001b[34m2025-06-19 23:20:59,800 INFO memory.MemoryStore: Block broadcast_23_piece0 stored as bytes in memory (estimated size 14.6 KiB, free 1457.1 MiB)\u001b[0m\n",
      "\u001b[34m2025-06-19 23:20:59,800 INFO storage.BlockManagerInfo: Added broadcast_23_piece0 in memory on 10.2.223.201:41959 (size: 14.6 KiB, free: 1458.4 MiB)\u001b[0m\n",
      "\u001b[34m2025-06-19 23:20:59,801 INFO spark.SparkContext: Created broadcast 23 from broadcast at DAGScheduler.scala:1513\u001b[0m\n",
      "\u001b[34m2025-06-19 23:20:59,802 INFO scheduler.DAGScheduler: Submitting 1 missing tasks from ShuffleMapStage 27 (MapPartitionsRDD[115] at countByKey at ColumnProfiler.scala:592) (first 15 tasks are for partitions Vector(0))\u001b[0m\n",
      "\u001b[34m2025-06-19 23:20:59,802 INFO cluster.YarnScheduler: Adding task set 27.0 with 1 tasks resource profile 0\u001b[0m\n",
      "\u001b[34m2025-06-19 23:20:59,803 INFO scheduler.TaskSetManager: Starting task 0.0 in stage 27.0 (TID 21) (algo-1, executor 1, partition 0, PROCESS_LOCAL, 4941 bytes) taskResourceAssignments Map()\u001b[0m\n",
      "\u001b[34m2025-06-19 23:20:59,813 INFO storage.BlockManagerInfo: Added broadcast_23_piece0 in memory on algo-1:44997 (size: 14.6 KiB, free: 2.8 GiB)\u001b[0m\n",
      "\u001b[34m2025-06-19 23:20:59,882 INFO scheduler.TaskSetManager: Finished task 0.0 in stage 27.0 (TID 21) in 79 ms on algo-1 (executor 1) (1/1)\u001b[0m\n",
      "\u001b[34m2025-06-19 23:20:59,882 INFO cluster.YarnScheduler: Removed TaskSet 27.0, whose tasks have all completed, from pool \u001b[0m\n",
      "\u001b[34m2025-06-19 23:20:59,883 INFO scheduler.DAGScheduler: ShuffleMapStage 27 (countByKey at ColumnProfiler.scala:592) finished in 0.092 s\u001b[0m\n",
      "\u001b[34m2025-06-19 23:20:59,883 INFO scheduler.DAGScheduler: looking for newly runnable stages\u001b[0m\n",
      "\u001b[34m2025-06-19 23:20:59,885 INFO scheduler.DAGScheduler: running: Set()\u001b[0m\n",
      "\u001b[34m2025-06-19 23:20:59,885 INFO scheduler.DAGScheduler: waiting: Set(ResultStage 28)\u001b[0m\n",
      "\u001b[34m2025-06-19 23:20:59,885 INFO scheduler.DAGScheduler: failed: Set()\u001b[0m\n",
      "\u001b[34m2025-06-19 23:20:59,885 INFO scheduler.DAGScheduler: Submitting ResultStage 28 (ShuffledRDD[116] at countByKey at ColumnProfiler.scala:592), which has no missing parents\u001b[0m\n",
      "\u001b[34m2025-06-19 23:20:59,889 INFO memory.MemoryStore: Block broadcast_24 stored as values in memory (estimated size 5.1 KiB, free 1457.1 MiB)\u001b[0m\n",
      "\u001b[34m2025-06-19 23:20:59,893 INFO memory.MemoryStore: Block broadcast_24_piece0 stored as bytes in memory (estimated size 3.0 KiB, free 1457.1 MiB)\u001b[0m\n",
      "\u001b[34m2025-06-19 23:20:59,893 INFO storage.BlockManagerInfo: Added broadcast_24_piece0 in memory on 10.2.223.201:41959 (size: 3.0 KiB, free: 1458.4 MiB)\u001b[0m\n",
      "\u001b[34m2025-06-19 23:20:59,894 INFO spark.SparkContext: Created broadcast 24 from broadcast at DAGScheduler.scala:1513\u001b[0m\n",
      "\u001b[34m2025-06-19 23:20:59,894 INFO scheduler.DAGScheduler: Submitting 1 missing tasks from ResultStage 28 (ShuffledRDD[116] at countByKey at ColumnProfiler.scala:592) (first 15 tasks are for partitions Vector(0))\u001b[0m\n",
      "\u001b[34m2025-06-19 23:20:59,894 INFO cluster.YarnScheduler: Adding task set 28.0 with 1 tasks resource profile 0\u001b[0m\n",
      "\u001b[34m2025-06-19 23:20:59,896 INFO scheduler.TaskSetManager: Starting task 0.0 in stage 28.0 (TID 22) (algo-1, executor 1, partition 0, NODE_LOCAL, 4282 bytes) taskResourceAssignments Map()\u001b[0m\n",
      "\u001b[34m2025-06-19 23:20:59,905 INFO storage.BlockManagerInfo: Added broadcast_24_piece0 in memory on algo-1:44997 (size: 3.0 KiB, free: 2.8 GiB)\u001b[0m\n",
      "\u001b[34m2025-06-19 23:20:59,908 INFO spark.MapOutputTrackerMasterEndpoint: Asked to send map output locations for shuffle 8 to 10.2.223.201:51330\u001b[0m\n",
      "\u001b[34m2025-06-19 23:20:59,937 INFO scheduler.TaskSetManager: Finished task 0.0 in stage 28.0 (TID 22) in 41 ms on algo-1 (executor 1) (1/1)\u001b[0m\n",
      "\u001b[34m2025-06-19 23:20:59,937 INFO cluster.YarnScheduler: Removed TaskSet 28.0, whose tasks have all completed, from pool \u001b[0m\n",
      "\u001b[34m2025-06-19 23:20:59,938 INFO scheduler.DAGScheduler: ResultStage 28 (countByKey at ColumnProfiler.scala:592) finished in 0.051 s\u001b[0m\n",
      "\u001b[34m2025-06-19 23:20:59,939 INFO scheduler.DAGScheduler: Job 19 is finished. Cancelling potential speculative or zombie tasks for this job\u001b[0m\n",
      "\u001b[34m2025-06-19 23:20:59,940 INFO cluster.YarnScheduler: Killing all running tasks in stage 28: Stage finished\u001b[0m\n",
      "\u001b[34m2025-06-19 23:20:59,940 INFO scheduler.DAGScheduler: Job 19 finished: countByKey at ColumnProfiler.scala:592, took 0.155732 s\u001b[0m\n",
      "\u001b[34m2025-06-19 23:21:00,129 INFO scheduler.DAGScheduler: Registering RDD 121 (collect at AnalysisRunner.scala:326) as input to shuffle 9\u001b[0m\n",
      "\u001b[34m2025-06-19 23:21:00,130 INFO scheduler.DAGScheduler: Got map stage job 20 (collect at AnalysisRunner.scala:326) with 1 output partitions\u001b[0m\n",
      "\u001b[34m2025-06-19 23:21:00,130 INFO scheduler.DAGScheduler: Final stage: ShuffleMapStage 29 (collect at AnalysisRunner.scala:326)\u001b[0m\n",
      "\u001b[34m2025-06-19 23:21:00,131 INFO scheduler.DAGScheduler: Parents of final stage: List()\u001b[0m\n",
      "\u001b[34m2025-06-19 23:21:00,131 INFO scheduler.DAGScheduler: Missing parents: List()\u001b[0m\n",
      "\u001b[34m2025-06-19 23:21:00,132 INFO scheduler.DAGScheduler: Submitting ShuffleMapStage 29 (MapPartitionsRDD[121] at collect at AnalysisRunner.scala:326), which has no missing parents\u001b[0m\n",
      "\u001b[34m2025-06-19 23:21:00,140 INFO memory.MemoryStore: Block broadcast_25 stored as values in memory (estimated size 85.1 KiB, free 1457.0 MiB)\u001b[0m\n",
      "\u001b[34m2025-06-19 23:21:00,143 INFO memory.MemoryStore: Block broadcast_25_piece0 stored as bytes in memory (estimated size 27.6 KiB, free 1457.0 MiB)\u001b[0m\n",
      "\u001b[34m2025-06-19 23:21:00,147 INFO storage.BlockManagerInfo: Added broadcast_25_piece0 in memory on 10.2.223.201:41959 (size: 27.6 KiB, free: 1458.3 MiB)\u001b[0m\n",
      "\u001b[34m2025-06-19 23:21:00,148 INFO spark.SparkContext: Created broadcast 25 from broadcast at DAGScheduler.scala:1513\u001b[0m\n",
      "\u001b[34m2025-06-19 23:21:00,148 INFO scheduler.DAGScheduler: Submitting 1 missing tasks from ShuffleMapStage 29 (MapPartitionsRDD[121] at collect at AnalysisRunner.scala:326) (first 15 tasks are for partitions Vector(0))\u001b[0m\n",
      "\u001b[34m2025-06-19 23:21:00,149 INFO cluster.YarnScheduler: Adding task set 29.0 with 1 tasks resource profile 0\u001b[0m\n",
      "\u001b[34m2025-06-19 23:21:00,150 INFO scheduler.TaskSetManager: Starting task 0.0 in stage 29.0 (TID 23) (algo-1, executor 1, partition 0, PROCESS_LOCAL, 4941 bytes) taskResourceAssignments Map()\u001b[0m\n",
      "\u001b[34m2025-06-19 23:21:00,162 INFO storage.BlockManagerInfo: Added broadcast_25_piece0 in memory on algo-1:44997 (size: 27.6 KiB, free: 2.8 GiB)\u001b[0m\n",
      "\u001b[34m2025-06-19 23:21:00,351 INFO scheduler.TaskSetManager: Finished task 0.0 in stage 29.0 (TID 23) in 201 ms on algo-1 (executor 1) (1/1)\u001b[0m\n",
      "\u001b[34m2025-06-19 23:21:00,351 INFO cluster.YarnScheduler: Removed TaskSet 29.0, whose tasks have all completed, from pool \u001b[0m\n",
      "\u001b[34m2025-06-19 23:21:00,352 INFO scheduler.DAGScheduler: ShuffleMapStage 29 (collect at AnalysisRunner.scala:326) finished in 0.218 s\u001b[0m\n",
      "\u001b[34m2025-06-19 23:21:00,355 INFO scheduler.DAGScheduler: looking for newly runnable stages\u001b[0m\n",
      "\u001b[34m2025-06-19 23:21:00,356 INFO scheduler.DAGScheduler: running: Set()\u001b[0m\n",
      "\u001b[34m2025-06-19 23:21:00,356 INFO scheduler.DAGScheduler: waiting: Set()\u001b[0m\n",
      "\u001b[34m2025-06-19 23:21:00,356 INFO scheduler.DAGScheduler: failed: Set()\u001b[0m\n",
      "\u001b[34m2025-06-19 23:21:00,402 INFO spark.SparkContext: Starting job: collect at AnalysisRunner.scala:326\u001b[0m\n",
      "\u001b[34m2025-06-19 23:21:00,403 INFO scheduler.DAGScheduler: Got job 21 (collect at AnalysisRunner.scala:326) with 1 output partitions\u001b[0m\n",
      "\u001b[34m2025-06-19 23:21:00,404 INFO scheduler.DAGScheduler: Final stage: ResultStage 31 (collect at AnalysisRunner.scala:326)\u001b[0m\n",
      "\u001b[34m2025-06-19 23:21:00,404 INFO scheduler.DAGScheduler: Parents of final stage: List(ShuffleMapStage 30)\u001b[0m\n",
      "\u001b[34m2025-06-19 23:21:00,405 INFO scheduler.DAGScheduler: Missing parents: List()\u001b[0m\n",
      "\u001b[34m2025-06-19 23:21:00,405 INFO scheduler.DAGScheduler: Submitting ResultStage 31 (MapPartitionsRDD[124] at collect at AnalysisRunner.scala:326), which has no missing parents\u001b[0m\n",
      "\u001b[34m2025-06-19 23:21:00,415 INFO memory.MemoryStore: Block broadcast_26 stored as values in memory (estimated size 170.0 KiB, free 1456.8 MiB)\u001b[0m\n",
      "\u001b[34m2025-06-19 23:21:00,417 INFO memory.MemoryStore: Block broadcast_26_piece0 stored as bytes in memory (estimated size 46.6 KiB, free 1456.8 MiB)\u001b[0m\n",
      "\u001b[34m2025-06-19 23:21:00,417 INFO storage.BlockManagerInfo: Added broadcast_26_piece0 in memory on 10.2.223.201:41959 (size: 46.6 KiB, free: 1458.3 MiB)\u001b[0m\n",
      "\u001b[34m2025-06-19 23:21:00,418 INFO spark.SparkContext: Created broadcast 26 from broadcast at DAGScheduler.scala:1513\u001b[0m\n",
      "\u001b[34m2025-06-19 23:21:00,419 INFO scheduler.DAGScheduler: Submitting 1 missing tasks from ResultStage 31 (MapPartitionsRDD[124] at collect at AnalysisRunner.scala:326) (first 15 tasks are for partitions Vector(0))\u001b[0m\n",
      "\u001b[34m2025-06-19 23:21:00,419 INFO cluster.YarnScheduler: Adding task set 31.0 with 1 tasks resource profile 0\u001b[0m\n",
      "\u001b[34m2025-06-19 23:21:00,422 INFO scheduler.TaskSetManager: Starting task 0.0 in stage 31.0 (TID 24) (algo-1, executor 1, partition 0, NODE_LOCAL, 4464 bytes) taskResourceAssignments Map()\u001b[0m\n",
      "\u001b[34m2025-06-19 23:21:00,433 INFO storage.BlockManagerInfo: Added broadcast_26_piece0 in memory on algo-1:44997 (size: 46.6 KiB, free: 2.8 GiB)\u001b[0m\n",
      "\u001b[34m2025-06-19 23:21:00,452 INFO spark.MapOutputTrackerMasterEndpoint: Asked to send map output locations for shuffle 9 to 10.2.223.201:51330\u001b[0m\n",
      "\u001b[34m2025-06-19 23:21:00,600 INFO scheduler.TaskSetManager: Finished task 0.0 in stage 31.0 (TID 24) in 178 ms on algo-1 (executor 1) (1/1)\u001b[0m\n",
      "\u001b[34m2025-06-19 23:21:00,600 INFO cluster.YarnScheduler: Removed TaskSet 31.0, whose tasks have all completed, from pool \u001b[0m\n",
      "\u001b[34m2025-06-19 23:21:00,601 INFO scheduler.DAGScheduler: ResultStage 31 (collect at AnalysisRunner.scala:326) finished in 0.194 s\u001b[0m\n",
      "\u001b[34m2025-06-19 23:21:00,603 INFO scheduler.DAGScheduler: Job 21 is finished. Cancelling potential speculative or zombie tasks for this job\u001b[0m\n",
      "\u001b[34m2025-06-19 23:21:00,604 INFO cluster.YarnScheduler: Killing all running tasks in stage 31: Stage finished\u001b[0m\n",
      "\u001b[34m2025-06-19 23:21:00,604 INFO scheduler.DAGScheduler: Job 21 finished: collect at AnalysisRunner.scala:326, took 0.201447 s\u001b[0m\n",
      "\u001b[34m2025-06-19 23:21:00,664 INFO codegen.CodeGenerator: Code generated in 14.624397 ms\u001b[0m\n",
      "\u001b[34m2025-06-19 23:21:00,701 INFO spark.SparkContext: Starting job: treeReduce at KLLRunner.scala:107\u001b[0m\n",
      "\u001b[34m2025-06-19 23:21:00,702 INFO scheduler.DAGScheduler: Got job 22 (treeReduce at KLLRunner.scala:107) with 1 output partitions\u001b[0m\n",
      "\u001b[34m2025-06-19 23:21:00,703 INFO scheduler.DAGScheduler: Final stage: ResultStage 32 (treeReduce at KLLRunner.scala:107)\u001b[0m\n",
      "\u001b[34m2025-06-19 23:21:00,703 INFO scheduler.DAGScheduler: Parents of final stage: List()\u001b[0m\n",
      "\u001b[34m2025-06-19 23:21:00,705 INFO scheduler.DAGScheduler: Missing parents: List()\u001b[0m\n",
      "\u001b[34m2025-06-19 23:21:00,705 INFO scheduler.DAGScheduler: Submitting ResultStage 32 (MapPartitionsRDD[134] at treeReduce at KLLRunner.scala:107), which has no missing parents\u001b[0m\n",
      "\u001b[34m2025-06-19 23:21:00,718 INFO memory.MemoryStore: Block broadcast_27 stored as values in memory (estimated size 37.6 KiB, free 1456.8 MiB)\u001b[0m\n",
      "\u001b[34m2025-06-19 23:21:00,720 INFO memory.MemoryStore: Block broadcast_27_piece0 stored as bytes in memory (estimated size 16.5 KiB, free 1456.7 MiB)\u001b[0m\n",
      "\u001b[34m2025-06-19 23:21:00,721 INFO storage.BlockManagerInfo: Added broadcast_27_piece0 in memory on 10.2.223.201:41959 (size: 16.5 KiB, free: 1458.3 MiB)\u001b[0m\n",
      "\u001b[34m2025-06-19 23:21:00,721 INFO spark.SparkContext: Created broadcast 27 from broadcast at DAGScheduler.scala:1513\u001b[0m\n",
      "\u001b[34m2025-06-19 23:21:00,722 INFO scheduler.DAGScheduler: Submitting 1 missing tasks from ResultStage 32 (MapPartitionsRDD[134] at treeReduce at KLLRunner.scala:107) (first 15 tasks are for partitions Vector(0))\u001b[0m\n",
      "\u001b[34m2025-06-19 23:21:00,722 INFO cluster.YarnScheduler: Adding task set 32.0 with 1 tasks resource profile 0\u001b[0m\n",
      "\u001b[34m2025-06-19 23:21:00,723 INFO scheduler.TaskSetManager: Starting task 0.0 in stage 32.0 (TID 25) (algo-1, executor 1, partition 0, PROCESS_LOCAL, 4952 bytes) taskResourceAssignments Map()\u001b[0m\n",
      "\u001b[34m2025-06-19 23:21:00,738 INFO storage.BlockManagerInfo: Added broadcast_27_piece0 in memory on algo-1:44997 (size: 16.5 KiB, free: 2.8 GiB)\u001b[0m\n",
      "\u001b[34m2025-06-19 23:21:00,906 INFO scheduler.TaskSetManager: Finished task 0.0 in stage 32.0 (TID 25) in 183 ms on algo-1 (executor 1) (1/1)\u001b[0m\n",
      "\u001b[34m2025-06-19 23:21:00,906 INFO cluster.YarnScheduler: Removed TaskSet 32.0, whose tasks have all completed, from pool \u001b[0m\n",
      "\u001b[34m2025-06-19 23:21:00,907 INFO scheduler.DAGScheduler: ResultStage 32 (treeReduce at KLLRunner.scala:107) finished in 0.200 s\u001b[0m\n",
      "\u001b[34m2025-06-19 23:21:00,909 INFO scheduler.DAGScheduler: Job 22 is finished. Cancelling potential speculative or zombie tasks for this job\u001b[0m\n",
      "\u001b[34m2025-06-19 23:21:00,910 INFO cluster.YarnScheduler: Killing all running tasks in stage 32: Stage finished\u001b[0m\n",
      "\u001b[34m2025-06-19 23:21:00,910 INFO scheduler.DAGScheduler: Job 22 finished: treeReduce at KLLRunner.scala:107, took 0.209287 s\u001b[0m\n",
      "\u001b[34m2025-06-19 23:21:01,122 INFO codegen.CodeGenerator: Code generated in 57.626055 ms\u001b[0m\n",
      "\u001b[34m2025-06-19 23:21:01,139 INFO scheduler.DAGScheduler: Registering RDD 139 (collect at AnalysisRunner.scala:326) as input to shuffle 10\u001b[0m\n",
      "\u001b[34m2025-06-19 23:21:01,140 INFO scheduler.DAGScheduler: Got map stage job 23 (collect at AnalysisRunner.scala:326) with 1 output partitions\u001b[0m\n",
      "\u001b[34m2025-06-19 23:21:01,140 INFO scheduler.DAGScheduler: Final stage: ShuffleMapStage 33 (collect at AnalysisRunner.scala:326)\u001b[0m\n",
      "\u001b[34m2025-06-19 23:21:01,140 INFO scheduler.DAGScheduler: Parents of final stage: List()\u001b[0m\n",
      "\u001b[34m2025-06-19 23:21:01,141 INFO scheduler.DAGScheduler: Missing parents: List()\u001b[0m\n",
      "\u001b[34m2025-06-19 23:21:01,141 INFO scheduler.DAGScheduler: Submitting ShuffleMapStage 33 (MapPartitionsRDD[139] at collect at AnalysisRunner.scala:326), which has no missing parents\u001b[0m\n",
      "\u001b[34m2025-06-19 23:21:01,147 INFO memory.MemoryStore: Block broadcast_28 stored as values in memory (estimated size 34.4 KiB, free 1456.7 MiB)\u001b[0m\n",
      "\u001b[34m2025-06-19 23:21:01,149 INFO memory.MemoryStore: Block broadcast_28_piece0 stored as bytes in memory (estimated size 14.1 KiB, free 1456.7 MiB)\u001b[0m\n",
      "\u001b[34m2025-06-19 23:21:01,150 INFO storage.BlockManagerInfo: Added broadcast_28_piece0 in memory on 10.2.223.201:41959 (size: 14.1 KiB, free: 1458.3 MiB)\u001b[0m\n",
      "\u001b[34m2025-06-19 23:21:01,151 INFO spark.SparkContext: Created broadcast 28 from broadcast at DAGScheduler.scala:1513\u001b[0m\n",
      "\u001b[34m2025-06-19 23:21:01,153 INFO scheduler.DAGScheduler: Submitting 1 missing tasks from ShuffleMapStage 33 (MapPartitionsRDD[139] at collect at AnalysisRunner.scala:326) (first 15 tasks are for partitions Vector(0))\u001b[0m\n",
      "\u001b[34m2025-06-19 23:21:01,153 INFO cluster.YarnScheduler: Adding task set 33.0 with 1 tasks resource profile 0\u001b[0m\n",
      "\u001b[34m2025-06-19 23:21:01,154 INFO scheduler.TaskSetManager: Starting task 0.0 in stage 33.0 (TID 26) (algo-1, executor 1, partition 0, PROCESS_LOCAL, 4941 bytes) taskResourceAssignments Map()\u001b[0m\n",
      "\u001b[34m2025-06-19 23:21:01,167 INFO storage.BlockManagerInfo: Added broadcast_28_piece0 in memory on algo-1:44997 (size: 14.1 KiB, free: 2.8 GiB)\u001b[0m\n",
      "\u001b[34m2025-06-19 23:21:01,252 INFO scheduler.TaskSetManager: Finished task 0.0 in stage 33.0 (TID 26) in 98 ms on algo-1 (executor 1) (1/1)\u001b[0m\n",
      "\u001b[34m2025-06-19 23:21:01,252 INFO cluster.YarnScheduler: Removed TaskSet 33.0, whose tasks have all completed, from pool \u001b[0m\n",
      "\u001b[34m2025-06-19 23:21:01,253 INFO scheduler.DAGScheduler: ShuffleMapStage 33 (collect at AnalysisRunner.scala:326) finished in 0.110 s\u001b[0m\n",
      "\u001b[34m2025-06-19 23:21:01,256 INFO scheduler.DAGScheduler: looking for newly runnable stages\u001b[0m\n",
      "\u001b[34m2025-06-19 23:21:01,256 INFO scheduler.DAGScheduler: running: Set()\u001b[0m\n",
      "\u001b[34m2025-06-19 23:21:01,256 INFO scheduler.DAGScheduler: waiting: Set()\u001b[0m\n",
      "\u001b[34m2025-06-19 23:21:01,256 INFO scheduler.DAGScheduler: failed: Set()\u001b[0m\n",
      "\u001b[34m2025-06-19 23:21:01,360 INFO codegen.CodeGenerator: Code generated in 59.609075 ms\u001b[0m\n",
      "\u001b[34m2025-06-19 23:21:01,401 INFO spark.SparkContext: Starting job: collect at AnalysisRunner.scala:326\u001b[0m\n",
      "\u001b[34m2025-06-19 23:21:01,402 INFO scheduler.DAGScheduler: Got job 24 (collect at AnalysisRunner.scala:326) with 1 output partitions\u001b[0m\n",
      "\u001b[34m2025-06-19 23:21:01,402 INFO scheduler.DAGScheduler: Final stage: ResultStage 35 (collect at AnalysisRunner.scala:326)\u001b[0m\n",
      "\u001b[34m2025-06-19 23:21:01,403 INFO scheduler.DAGScheduler: Parents of final stage: List(ShuffleMapStage 34)\u001b[0m\n",
      "\u001b[34m2025-06-19 23:21:01,403 INFO scheduler.DAGScheduler: Missing parents: List()\u001b[0m\n",
      "\u001b[34m2025-06-19 23:21:01,412 INFO scheduler.DAGScheduler: Submitting ResultStage 35 (MapPartitionsRDD[142] at collect at AnalysisRunner.scala:326), which has no missing parents\u001b[0m\n",
      "\u001b[34m2025-06-19 23:21:01,422 INFO memory.MemoryStore: Block broadcast_29 stored as values in memory (estimated size 21.1 KiB, free 1456.7 MiB)\u001b[0m\n",
      "\u001b[34m2025-06-19 23:21:01,424 INFO memory.MemoryStore: Block broadcast_29_piece0 stored as bytes in memory (estimated size 8.3 KiB, free 1456.7 MiB)\u001b[0m\n",
      "\u001b[34m2025-06-19 23:21:01,425 INFO storage.BlockManagerInfo: Added broadcast_29_piece0 in memory on 10.2.223.201:41959 (size: 8.3 KiB, free: 1458.3 MiB)\u001b[0m\n",
      "\u001b[34m2025-06-19 23:21:01,425 INFO spark.SparkContext: Created broadcast 29 from broadcast at DAGScheduler.scala:1513\u001b[0m\n",
      "\u001b[34m2025-06-19 23:21:01,425 INFO scheduler.DAGScheduler: Submitting 1 missing tasks from ResultStage 35 (MapPartitionsRDD[142] at collect at AnalysisRunner.scala:326) (first 15 tasks are for partitions Vector(0))\u001b[0m\n",
      "\u001b[34m2025-06-19 23:21:01,425 INFO cluster.YarnScheduler: Adding task set 35.0 with 1 tasks resource profile 0\u001b[0m\n",
      "\u001b[34m2025-06-19 23:21:01,428 INFO scheduler.TaskSetManager: Starting task 0.0 in stage 35.0 (TID 27) (algo-1, executor 1, partition 0, NODE_LOCAL, 4464 bytes) taskResourceAssignments Map()\u001b[0m\n",
      "\u001b[34m2025-06-19 23:21:01,443 INFO storage.BlockManagerInfo: Added broadcast_29_piece0 in memory on algo-1:44997 (size: 8.3 KiB, free: 2.8 GiB)\u001b[0m\n",
      "\u001b[34m2025-06-19 23:21:01,451 INFO spark.MapOutputTrackerMasterEndpoint: Asked to send map output locations for shuffle 10 to 10.2.223.201:51330\u001b[0m\n",
      "\u001b[34m2025-06-19 23:21:01,542 INFO scheduler.TaskSetManager: Finished task 0.0 in stage 35.0 (TID 27) in 114 ms on algo-1 (executor 1) (1/1)\u001b[0m\n",
      "\u001b[34m2025-06-19 23:21:01,543 INFO scheduler.DAGScheduler: ResultStage 35 (collect at AnalysisRunner.scala:326) finished in 0.124 s\u001b[0m\n",
      "\u001b[34m2025-06-19 23:21:01,544 INFO scheduler.DAGScheduler: Job 24 is finished. Cancelling potential speculative or zombie tasks for this job\u001b[0m\n",
      "\u001b[34m2025-06-19 23:21:01,543 INFO cluster.YarnScheduler: Removed TaskSet 35.0, whose tasks have all completed, from pool \u001b[0m\n",
      "\u001b[34m2025-06-19 23:21:01,544 INFO cluster.YarnScheduler: Killing all running tasks in stage 35: Stage finished\u001b[0m\n",
      "\u001b[34m2025-06-19 23:21:01,545 INFO scheduler.DAGScheduler: Job 24 finished: collect at AnalysisRunner.scala:326, took 0.143598 s\u001b[0m\n",
      "\u001b[34m2025-06-19 23:21:01,592 INFO codegen.CodeGenerator: Code generated in 42.918512 ms\u001b[0m\n",
      "\u001b[34m2025-06-19 23:21:01,701 INFO spark.SparkContext: Starting job: countByKey at ColumnProfiler.scala:592\u001b[0m\n",
      "\u001b[34m2025-06-19 23:21:01,703 INFO scheduler.DAGScheduler: Registering RDD 150 (countByKey at ColumnProfiler.scala:592) as input to shuffle 11\u001b[0m\n",
      "\u001b[34m2025-06-19 23:21:01,704 INFO scheduler.DAGScheduler: Got job 25 (countByKey at ColumnProfiler.scala:592) with 1 output partitions\u001b[0m\n",
      "\u001b[34m2025-06-19 23:21:01,704 INFO scheduler.DAGScheduler: Final stage: ResultStage 37 (countByKey at ColumnProfiler.scala:592)\u001b[0m\n",
      "\u001b[34m2025-06-19 23:21:01,705 INFO scheduler.DAGScheduler: Parents of final stage: List(ShuffleMapStage 36)\u001b[0m\n",
      "\u001b[34m2025-06-19 23:21:01,705 INFO scheduler.DAGScheduler: Missing parents: List(ShuffleMapStage 36)\u001b[0m\n",
      "\u001b[34m2025-06-19 23:21:01,706 INFO scheduler.DAGScheduler: Submitting ShuffleMapStage 36 (MapPartitionsRDD[150] at countByKey at ColumnProfiler.scala:592), which has no missing parents\u001b[0m\n",
      "\u001b[34m2025-06-19 23:21:01,719 INFO memory.MemoryStore: Block broadcast_30 stored as values in memory (estimated size 32.3 KiB, free 1456.6 MiB)\u001b[0m\n",
      "\u001b[34m2025-06-19 23:21:01,724 INFO memory.MemoryStore: Block broadcast_30_piece0 stored as bytes in memory (estimated size 14.6 KiB, free 1456.6 MiB)\u001b[0m\n",
      "\u001b[34m2025-06-19 23:21:01,725 INFO storage.BlockManagerInfo: Added broadcast_30_piece0 in memory on 10.2.223.201:41959 (size: 14.6 KiB, free: 1458.2 MiB)\u001b[0m\n",
      "\u001b[34m2025-06-19 23:21:01,728 INFO spark.SparkContext: Created broadcast 30 from broadcast at DAGScheduler.scala:1513\u001b[0m\n",
      "\u001b[34m2025-06-19 23:21:01,728 INFO scheduler.DAGScheduler: Submitting 1 missing tasks from ShuffleMapStage 36 (MapPartitionsRDD[150] at countByKey at ColumnProfiler.scala:592) (first 15 tasks are for partitions Vector(0))\u001b[0m\n",
      "\u001b[34m2025-06-19 23:21:01,729 INFO cluster.YarnScheduler: Adding task set 36.0 with 1 tasks resource profile 0\u001b[0m\n",
      "\u001b[34m2025-06-19 23:21:01,730 INFO scheduler.TaskSetManager: Starting task 0.0 in stage 36.0 (TID 28) (algo-1, executor 1, partition 0, PROCESS_LOCAL, 4941 bytes) taskResourceAssignments Map()\u001b[0m\n",
      "\u001b[34m2025-06-19 23:21:01,758 INFO storage.BlockManagerInfo: Added broadcast_30_piece0 in memory on algo-1:44997 (size: 14.6 KiB, free: 2.8 GiB)\u001b[0m\n",
      "\u001b[34m2025-06-19 23:21:01,925 INFO scheduler.TaskSetManager: Finished task 0.0 in stage 36.0 (TID 28) in 195 ms on algo-1 (executor 1) (1/1)\u001b[0m\n",
      "\u001b[34m2025-06-19 23:21:01,925 INFO cluster.YarnScheduler: Removed TaskSet 36.0, whose tasks have all completed, from pool \u001b[0m\n",
      "\u001b[34m2025-06-19 23:21:01,926 INFO scheduler.DAGScheduler: ShuffleMapStage 36 (countByKey at ColumnProfiler.scala:592) finished in 0.219 s\u001b[0m\n",
      "\u001b[34m2025-06-19 23:21:01,926 INFO scheduler.DAGScheduler: looking for newly runnable stages\u001b[0m\n",
      "\u001b[34m2025-06-19 23:21:01,926 INFO scheduler.DAGScheduler: running: Set()\u001b[0m\n",
      "\u001b[34m2025-06-19 23:21:01,927 INFO scheduler.DAGScheduler: waiting: Set(ResultStage 37)\u001b[0m\n",
      "\u001b[34m2025-06-19 23:21:01,927 INFO scheduler.DAGScheduler: failed: Set()\u001b[0m\n",
      "\u001b[34m2025-06-19 23:21:01,927 INFO scheduler.DAGScheduler: Submitting ResultStage 37 (ShuffledRDD[151] at countByKey at ColumnProfiler.scala:592), which has no missing parents\u001b[0m\n",
      "\u001b[34m2025-06-19 23:21:01,936 INFO memory.MemoryStore: Block broadcast_31 stored as values in memory (estimated size 5.1 KiB, free 1456.6 MiB)\u001b[0m\n",
      "\u001b[34m2025-06-19 23:21:01,943 INFO memory.MemoryStore: Block broadcast_31_piece0 stored as bytes in memory (estimated size 3.0 KiB, free 1456.6 MiB)\u001b[0m\n",
      "\u001b[34m2025-06-19 23:21:01,944 INFO storage.BlockManagerInfo: Added broadcast_31_piece0 in memory on 10.2.223.201:41959 (size: 3.0 KiB, free: 1458.2 MiB)\u001b[0m\n",
      "\u001b[34m2025-06-19 23:21:01,945 INFO spark.SparkContext: Created broadcast 31 from broadcast at DAGScheduler.scala:1513\u001b[0m\n",
      "\u001b[34m2025-06-19 23:21:01,945 INFO scheduler.DAGScheduler: Submitting 1 missing tasks from ResultStage 37 (ShuffledRDD[151] at countByKey at ColumnProfiler.scala:592) (first 15 tasks are for partitions Vector(0))\u001b[0m\n",
      "\u001b[34m2025-06-19 23:21:01,945 INFO cluster.YarnScheduler: Adding task set 37.0 with 1 tasks resource profile 0\u001b[0m\n",
      "\u001b[34m2025-06-19 23:21:01,956 INFO scheduler.TaskSetManager: Starting task 0.0 in stage 37.0 (TID 29) (algo-1, executor 1, partition 0, NODE_LOCAL, 4282 bytes) taskResourceAssignments Map()\u001b[0m\n",
      "\u001b[34m2025-06-19 23:21:01,979 INFO storage.BlockManagerInfo: Added broadcast_31_piece0 in memory on algo-1:44997 (size: 3.0 KiB, free: 2.8 GiB)\u001b[0m\n",
      "\u001b[34m2025-06-19 23:21:02,015 INFO spark.MapOutputTrackerMasterEndpoint: Asked to send map output locations for shuffle 11 to 10.2.223.201:51330\u001b[0m\n",
      "\u001b[34m2025-06-19 23:21:02,072 INFO scheduler.TaskSetManager: Finished task 0.0 in stage 37.0 (TID 29) in 117 ms on algo-1 (executor 1) (1/1)\u001b[0m\n",
      "\u001b[34m2025-06-19 23:21:02,072 INFO cluster.YarnScheduler: Removed TaskSet 37.0, whose tasks have all completed, from pool \u001b[0m\n",
      "\u001b[34m2025-06-19 23:21:02,075 INFO scheduler.DAGScheduler: ResultStage 37 (countByKey at ColumnProfiler.scala:592) finished in 0.146 s\u001b[0m\n",
      "\u001b[34m2025-06-19 23:21:02,075 INFO scheduler.DAGScheduler: Job 25 is finished. Cancelling potential speculative or zombie tasks for this job\u001b[0m\n",
      "\u001b[34m2025-06-19 23:21:02,075 INFO cluster.YarnScheduler: Killing all running tasks in stage 37: Stage finished\u001b[0m\n",
      "\u001b[34m2025-06-19 23:21:02,075 INFO scheduler.DAGScheduler: Job 25 finished: countByKey at ColumnProfiler.scala:592, took 0.373596 s\u001b[0m\n",
      "\u001b[34m2025-06-19 23:21:02,183 INFO scheduler.DAGScheduler: Registering RDD 156 (collect at AnalysisRunner.scala:326) as input to shuffle 12\u001b[0m\n",
      "\u001b[34m2025-06-19 23:21:02,183 INFO scheduler.DAGScheduler: Got map stage job 26 (collect at AnalysisRunner.scala:326) with 1 output partitions\u001b[0m\n",
      "\u001b[34m2025-06-19 23:21:02,184 INFO scheduler.DAGScheduler: Final stage: ShuffleMapStage 38 (collect at AnalysisRunner.scala:326)\u001b[0m\n",
      "\u001b[34m2025-06-19 23:21:02,184 INFO scheduler.DAGScheduler: Parents of final stage: List()\u001b[0m\n",
      "\u001b[34m2025-06-19 23:21:02,185 INFO scheduler.DAGScheduler: Missing parents: List()\u001b[0m\n",
      "\u001b[34m2025-06-19 23:21:02,185 INFO scheduler.DAGScheduler: Submitting ShuffleMapStage 38 (MapPartitionsRDD[156] at collect at AnalysisRunner.scala:326), which has no missing parents\u001b[0m\n",
      "\u001b[34m2025-06-19 23:21:02,194 INFO memory.MemoryStore: Block broadcast_32 stored as values in memory (estimated size 54.3 KiB, free 1456.6 MiB)\u001b[0m\n",
      "\u001b[34m2025-06-19 23:21:02,197 INFO memory.MemoryStore: Block broadcast_32_piece0 stored as bytes in memory (estimated size 20.8 KiB, free 1456.5 MiB)\u001b[0m\n",
      "\u001b[34m2025-06-19 23:21:02,197 INFO storage.BlockManagerInfo: Added broadcast_32_piece0 in memory on 10.2.223.201:41959 (size: 20.8 KiB, free: 1458.2 MiB)\u001b[0m\n",
      "\u001b[34m2025-06-19 23:21:02,198 INFO spark.SparkContext: Created broadcast 32 from broadcast at DAGScheduler.scala:1513\u001b[0m\n",
      "\u001b[34m2025-06-19 23:21:02,199 INFO scheduler.DAGScheduler: Submitting 1 missing tasks from ShuffleMapStage 38 (MapPartitionsRDD[156] at collect at AnalysisRunner.scala:326) (first 15 tasks are for partitions Vector(0))\u001b[0m\n",
      "\u001b[34m2025-06-19 23:21:02,199 INFO cluster.YarnScheduler: Adding task set 38.0 with 1 tasks resource profile 0\u001b[0m\n",
      "\u001b[34m2025-06-19 23:21:02,203 INFO scheduler.TaskSetManager: Starting task 0.0 in stage 38.0 (TID 30) (algo-1, executor 1, partition 0, PROCESS_LOCAL, 4941 bytes) taskResourceAssignments Map()\u001b[0m\n",
      "\u001b[34m2025-06-19 23:21:02,216 INFO storage.BlockManagerInfo: Added broadcast_32_piece0 in memory on algo-1:44997 (size: 20.8 KiB, free: 2.8 GiB)\u001b[0m\n",
      "\u001b[34m2025-06-19 23:21:02,468 INFO scheduler.TaskSetManager: Finished task 0.0 in stage 38.0 (TID 30) in 265 ms on algo-1 (executor 1) (1/1)\u001b[0m\n",
      "\u001b[34m2025-06-19 23:21:02,468 INFO cluster.YarnScheduler: Removed TaskSet 38.0, whose tasks have all completed, from pool \u001b[0m\n",
      "\u001b[34m2025-06-19 23:21:02,469 INFO scheduler.DAGScheduler: ShuffleMapStage 38 (collect at AnalysisRunner.scala:326) finished in 0.283 s\u001b[0m\n",
      "\u001b[34m2025-06-19 23:21:02,470 INFO scheduler.DAGScheduler: looking for newly runnable stages\u001b[0m\n",
      "\u001b[34m2025-06-19 23:21:02,470 INFO scheduler.DAGScheduler: running: Set()\u001b[0m\n",
      "\u001b[34m2025-06-19 23:21:02,470 INFO scheduler.DAGScheduler: waiting: Set()\u001b[0m\n",
      "\u001b[34m2025-06-19 23:21:02,470 INFO scheduler.DAGScheduler: failed: Set()\u001b[0m\n",
      "\u001b[34m2025-06-19 23:21:02,535 INFO spark.SparkContext: Starting job: collect at AnalysisRunner.scala:326\u001b[0m\n",
      "\u001b[34m2025-06-19 23:21:02,543 INFO scheduler.DAGScheduler: Got job 27 (collect at AnalysisRunner.scala:326) with 1 output partitions\u001b[0m\n",
      "\u001b[34m2025-06-19 23:21:02,544 INFO scheduler.DAGScheduler: Final stage: ResultStage 40 (collect at AnalysisRunner.scala:326)\u001b[0m\n",
      "\u001b[34m2025-06-19 23:21:02,544 INFO scheduler.DAGScheduler: Parents of final stage: List(ShuffleMapStage 39)\u001b[0m\n",
      "\u001b[34m2025-06-19 23:21:02,544 INFO scheduler.DAGScheduler: Missing parents: List()\u001b[0m\n",
      "\u001b[34m2025-06-19 23:21:02,545 INFO scheduler.DAGScheduler: Submitting ResultStage 40 (MapPartitionsRDD[159] at collect at AnalysisRunner.scala:326), which has no missing parents\u001b[0m\n",
      "\u001b[34m2025-06-19 23:21:02,551 INFO memory.MemoryStore: Block broadcast_33 stored as values in memory (estimated size 90.6 KiB, free 1456.5 MiB)\u001b[0m\n",
      "\u001b[34m2025-06-19 23:21:02,599 INFO memory.MemoryStore: Block broadcast_33_piece0 stored as bytes in memory (estimated size 29.4 KiB, free 1456.4 MiB)\u001b[0m\n",
      "\u001b[34m2025-06-19 23:21:02,600 INFO storage.BlockManagerInfo: Added broadcast_33_piece0 in memory on 10.2.223.201:41959 (size: 29.4 KiB, free: 1458.2 MiB)\u001b[0m\n",
      "\u001b[34m2025-06-19 23:21:02,605 INFO spark.SparkContext: Created broadcast 33 from broadcast at DAGScheduler.scala:1513\u001b[0m\n",
      "\u001b[34m2025-06-19 23:21:02,608 INFO scheduler.DAGScheduler: Submitting 1 missing tasks from ResultStage 40 (MapPartitionsRDD[159] at collect at AnalysisRunner.scala:326) (first 15 tasks are for partitions Vector(0))\u001b[0m\n",
      "\u001b[34m2025-06-19 23:21:02,609 INFO cluster.YarnScheduler: Adding task set 40.0 with 1 tasks resource profile 0\u001b[0m\n",
      "\u001b[34m2025-06-19 23:21:02,611 INFO storage.BlockManagerInfo: Removed broadcast_32_piece0 on 10.2.223.201:41959 in memory (size: 20.8 KiB, free: 1458.2 MiB)\u001b[0m\n",
      "\u001b[34m2025-06-19 23:21:02,612 INFO scheduler.TaskSetManager: Starting task 0.0 in stage 40.0 (TID 31) (algo-1, executor 1, partition 0, NODE_LOCAL, 4464 bytes) taskResourceAssignments Map()\u001b[0m\n",
      "\u001b[34m2025-06-19 23:21:02,629 INFO storage.BlockManagerInfo: Removed broadcast_32_piece0 on algo-1:44997 in memory (size: 20.8 KiB, free: 2.8 GiB)\u001b[0m\n",
      "\u001b[34m2025-06-19 23:21:02,630 INFO storage.BlockManagerInfo: Added broadcast_33_piece0 in memory on algo-1:44997 (size: 29.4 KiB, free: 2.8 GiB)\u001b[0m\n",
      "\u001b[34m2025-06-19 23:21:02,644 INFO spark.MapOutputTrackerMasterEndpoint: Asked to send map output locations for shuffle 12 to 10.2.223.201:51330\u001b[0m\n",
      "\u001b[34m2025-06-19 23:21:02,703 INFO storage.BlockManagerInfo: Removed broadcast_29_piece0 on 10.2.223.201:41959 in memory (size: 8.3 KiB, free: 1458.2 MiB)\u001b[0m\n",
      "\u001b[34m2025-06-19 23:21:02,706 INFO storage.BlockManagerInfo: Removed broadcast_29_piece0 on algo-1:44997 in memory (size: 8.3 KiB, free: 2.8 GiB)\u001b[0m\n",
      "\u001b[34m2025-06-19 23:21:02,752 INFO storage.BlockManagerInfo: Removed broadcast_28_piece0 on 10.2.223.201:41959 in memory (size: 14.1 KiB, free: 1458.2 MiB)\u001b[0m\n",
      "\u001b[34m2025-06-19 23:21:02,754 INFO storage.BlockManagerInfo: Removed broadcast_28_piece0 on algo-1:44997 in memory (size: 14.1 KiB, free: 2.8 GiB)\u001b[0m\n",
      "\u001b[34m2025-06-19 23:21:02,795 INFO storage.BlockManagerInfo: Removed broadcast_26_piece0 on 10.2.223.201:41959 in memory (size: 46.6 KiB, free: 1458.3 MiB)\u001b[0m\n",
      "\u001b[34m2025-06-19 23:21:02,804 INFO storage.BlockManagerInfo: Removed broadcast_26_piece0 on algo-1:44997 in memory (size: 46.6 KiB, free: 2.8 GiB)\u001b[0m\n",
      "\u001b[34m2025-06-19 23:21:02,805 INFO scheduler.TaskSetManager: Finished task 0.0 in stage 40.0 (TID 31) in 193 ms on algo-1 (executor 1) (1/1)\u001b[0m\n",
      "\u001b[34m2025-06-19 23:21:02,805 INFO cluster.YarnScheduler: Removed TaskSet 40.0, whose tasks have all completed, from pool \u001b[0m\n",
      "\u001b[34m2025-06-19 23:21:02,806 INFO scheduler.DAGScheduler: ResultStage 40 (collect at AnalysisRunner.scala:326) finished in 0.260 s\u001b[0m\n",
      "\u001b[34m2025-06-19 23:21:02,808 INFO scheduler.DAGScheduler: Job 27 is finished. Cancelling potential speculative or zombie tasks for this job\u001b[0m\n",
      "\u001b[34m2025-06-19 23:21:02,808 INFO cluster.YarnScheduler: Killing all running tasks in stage 40: Stage finished\u001b[0m\n",
      "\u001b[34m2025-06-19 23:21:02,809 INFO scheduler.DAGScheduler: Job 27 finished: collect at AnalysisRunner.scala:326, took 0.266431 s\u001b[0m\n",
      "\u001b[34m2025-06-19 23:21:02,840 INFO codegen.CodeGenerator: Code generated in 26.050459 ms\u001b[0m\n",
      "\u001b[34m2025-06-19 23:21:02,917 INFO storage.BlockManagerInfo: Removed broadcast_21_piece0 on 10.2.223.201:41959 in memory (size: 17.1 KiB, free: 1458.3 MiB)\u001b[0m\n",
      "\u001b[34m2025-06-19 23:21:02,924 INFO storage.BlockManagerInfo: Removed broadcast_21_piece0 on algo-1:44997 in memory (size: 17.1 KiB, free: 2.8 GiB)\u001b[0m\n",
      "\u001b[34m2025-06-19 23:21:02,956 INFO codegen.CodeGenerator: Code generated in 28.333502 ms\u001b[0m\n",
      "\u001b[34m2025-06-19 23:21:02,991 INFO storage.BlockManagerInfo: Removed broadcast_31_piece0 on 10.2.223.201:41959 in memory (size: 3.0 KiB, free: 1458.3 MiB)\u001b[0m\n",
      "\u001b[34m2025-06-19 23:21:02,991 INFO storage.BlockManagerInfo: Removed broadcast_31_piece0 on algo-1:44997 in memory (size: 3.0 KiB, free: 2.8 GiB)\u001b[0m\n",
      "\u001b[34m2025-06-19 23:21:03,030 INFO storage.BlockManagerInfo: Removed broadcast_22_piece0 on 10.2.223.201:41959 in memory (size: 11.3 KiB, free: 1458.3 MiB)\u001b[0m\n",
      "\u001b[34m2025-06-19 23:21:03,031 INFO storage.BlockManagerInfo: Removed broadcast_22_piece0 on algo-1:44997 in memory (size: 11.3 KiB, free: 2.8 GiB)\u001b[0m\n",
      "\u001b[34m2025-06-19 23:21:03,052 INFO spark.SparkContext: Starting job: treeReduce at KLLRunner.scala:107\u001b[0m\n",
      "\u001b[34m2025-06-19 23:21:03,062 INFO scheduler.DAGScheduler: Got job 28 (treeReduce at KLLRunner.scala:107) with 1 output partitions\u001b[0m\n",
      "\u001b[34m2025-06-19 23:21:03,065 INFO scheduler.DAGScheduler: Final stage: ResultStage 41 (treeReduce at KLLRunner.scala:107)\u001b[0m\n",
      "\u001b[34m2025-06-19 23:21:03,065 INFO scheduler.DAGScheduler: Parents of final stage: List()\u001b[0m\n",
      "\u001b[34m2025-06-19 23:21:03,070 INFO scheduler.DAGScheduler: Missing parents: List()\u001b[0m\n",
      "\u001b[34m2025-06-19 23:21:03,071 INFO scheduler.DAGScheduler: Submitting ResultStage 41 (MapPartitionsRDD[169] at treeReduce at KLLRunner.scala:107), which has no missing parents\u001b[0m\n",
      "\u001b[34m2025-06-19 23:21:03,086 INFO storage.BlockManagerInfo: Removed broadcast_25_piece0 on algo-1:44997 in memory (size: 27.6 KiB, free: 2.8 GiB)\u001b[0m\n",
      "\u001b[34m2025-06-19 23:21:03,087 INFO storage.BlockManagerInfo: Removed broadcast_25_piece0 on 10.2.223.201:41959 in memory (size: 27.6 KiB, free: 1458.3 MiB)\u001b[0m\n",
      "\u001b[34m2025-06-19 23:21:03,115 INFO memory.MemoryStore: Block broadcast_34 stored as values in memory (estimated size 36.3 KiB, free 1457.0 MiB)\u001b[0m\n",
      "\u001b[34m2025-06-19 23:21:03,119 INFO memory.MemoryStore: Block broadcast_34_piece0 stored as bytes in memory (estimated size 16.4 KiB, free 1457.0 MiB)\u001b[0m\n",
      "\u001b[34m2025-06-19 23:21:03,120 INFO storage.BlockManagerInfo: Added broadcast_34_piece0 in memory on 10.2.223.201:41959 (size: 16.4 KiB, free: 1458.3 MiB)\u001b[0m\n",
      "\u001b[34m2025-06-19 23:21:03,120 INFO spark.SparkContext: Created broadcast 34 from broadcast at DAGScheduler.scala:1513\u001b[0m\n",
      "\u001b[34m2025-06-19 23:21:03,121 INFO scheduler.DAGScheduler: Submitting 1 missing tasks from ResultStage 41 (MapPartitionsRDD[169] at treeReduce at KLLRunner.scala:107) (first 15 tasks are for partitions Vector(0))\u001b[0m\n",
      "\u001b[34m2025-06-19 23:21:03,121 INFO cluster.YarnScheduler: Adding task set 41.0 with 1 tasks resource profile 0\u001b[0m\n",
      "\u001b[34m2025-06-19 23:21:03,123 INFO scheduler.TaskSetManager: Starting task 0.0 in stage 41.0 (TID 32) (algo-1, executor 1, partition 0, PROCESS_LOCAL, 4952 bytes) taskResourceAssignments Map()\u001b[0m\n",
      "\u001b[34m2025-06-19 23:21:03,131 INFO storage.BlockManagerInfo: Removed broadcast_27_piece0 on algo-1:44997 in memory (size: 16.5 KiB, free: 2.8 GiB)\u001b[0m\n",
      "\u001b[34m2025-06-19 23:21:03,134 INFO storage.BlockManagerInfo: Added broadcast_34_piece0 in memory on algo-1:44997 (size: 16.4 KiB, free: 2.8 GiB)\u001b[0m\n",
      "\u001b[34m2025-06-19 23:21:03,151 INFO storage.BlockManagerInfo: Removed broadcast_27_piece0 on 10.2.223.201:41959 in memory (size: 16.5 KiB, free: 1458.3 MiB)\u001b[0m\n",
      "\u001b[34m2025-06-19 23:21:03,184 INFO storage.BlockManagerInfo: Removed broadcast_18_piece0 on algo-1:44997 in memory (size: 27.7 KiB, free: 2.8 GiB)\u001b[0m\n",
      "\u001b[34m2025-06-19 23:21:03,186 INFO storage.BlockManagerInfo: Removed broadcast_18_piece0 on 10.2.223.201:41959 in memory (size: 27.7 KiB, free: 1458.4 MiB)\u001b[0m\n",
      "\u001b[34m2025-06-19 23:21:03,196 INFO scheduler.TaskSetManager: Finished task 0.0 in stage 41.0 (TID 32) in 74 ms on algo-1 (executor 1) (1/1)\u001b[0m\n",
      "\u001b[34m2025-06-19 23:21:03,197 INFO cluster.YarnScheduler: Removed TaskSet 41.0, whose tasks have all completed, from pool \u001b[0m\n",
      "\u001b[34m2025-06-19 23:21:03,197 INFO scheduler.DAGScheduler: ResultStage 41 (treeReduce at KLLRunner.scala:107) finished in 0.125 s\u001b[0m\n",
      "\u001b[34m2025-06-19 23:21:03,199 INFO scheduler.DAGScheduler: Job 28 is finished. Cancelling potential speculative or zombie tasks for this job\u001b[0m\n",
      "\u001b[34m2025-06-19 23:21:03,200 INFO cluster.YarnScheduler: Killing all running tasks in stage 41: Stage finished\u001b[0m\n",
      "\u001b[34m2025-06-19 23:21:03,200 INFO scheduler.DAGScheduler: Job 28 finished: treeReduce at KLLRunner.scala:107, took 0.147597 s\u001b[0m\n",
      "\u001b[34m2025-06-19 23:21:03,235 INFO storage.BlockManagerInfo: Removed broadcast_17_piece0 on 10.2.223.201:41959 in memory (size: 3.0 KiB, free: 1458.4 MiB)\u001b[0m\n",
      "\u001b[34m2025-06-19 23:21:03,237 INFO storage.BlockManagerInfo: Removed broadcast_17_piece0 on algo-1:44997 in memory (size: 3.0 KiB, free: 2.8 GiB)\u001b[0m\n",
      "\u001b[34m2025-06-19 23:21:03,259 INFO storage.BlockManagerInfo: Removed broadcast_23_piece0 on 10.2.223.201:41959 in memory (size: 14.6 KiB, free: 1458.4 MiB)\u001b[0m\n",
      "\u001b[34m2025-06-19 23:21:03,266 INFO storage.BlockManagerInfo: Removed broadcast_23_piece0 on algo-1:44997 in memory (size: 14.6 KiB, free: 2.8 GiB)\u001b[0m\n",
      "\u001b[34m2025-06-19 23:21:03,273 INFO storage.BlockManagerInfo: Removed broadcast_20_piece0 on 10.2.223.201:41959 in memory (size: 16.9 KiB, free: 1458.4 MiB)\u001b[0m\n",
      "\u001b[34m2025-06-19 23:21:03,276 INFO storage.BlockManagerInfo: Removed broadcast_20_piece0 on algo-1:44997 in memory (size: 16.9 KiB, free: 2.8 GiB)\u001b[0m\n",
      "\u001b[34m2025-06-19 23:21:03,279 INFO storage.BlockManagerInfo: Removed broadcast_30_piece0 on 10.2.223.201:41959 in memory (size: 14.6 KiB, free: 1458.4 MiB)\u001b[0m\n",
      "\u001b[34m2025-06-19 23:21:03,280 INFO storage.BlockManagerInfo: Removed broadcast_30_piece0 on algo-1:44997 in memory (size: 14.6 KiB, free: 2.8 GiB)\u001b[0m\n",
      "\u001b[34m2025-06-19 23:21:03,287 INFO storage.BlockManagerInfo: Removed broadcast_16_piece0 on 10.2.223.201:41959 in memory (size: 14.6 KiB, free: 1458.4 MiB)\u001b[0m\n",
      "\u001b[34m2025-06-19 23:21:03,289 INFO storage.BlockManagerInfo: Removed broadcast_16_piece0 on algo-1:44997 in memory (size: 14.6 KiB, free: 2.8 GiB)\u001b[0m\n",
      "\u001b[34m2025-06-19 23:21:03,292 INFO storage.BlockManagerInfo: Removed broadcast_19_piece0 on 10.2.223.201:41959 in memory (size: 46.6 KiB, free: 1458.5 MiB)\u001b[0m\n",
      "\u001b[34m2025-06-19 23:21:03,293 INFO storage.BlockManagerInfo: Removed broadcast_19_piece0 on algo-1:44997 in memory (size: 46.6 KiB, free: 2.8 GiB)\u001b[0m\n",
      "\u001b[34m2025-06-19 23:21:03,296 INFO storage.BlockManagerInfo: Removed broadcast_24_piece0 on 10.2.223.201:41959 in memory (size: 3.0 KiB, free: 1458.5 MiB)\u001b[0m\n",
      "\u001b[34m2025-06-19 23:21:03,298 INFO storage.BlockManagerInfo: Removed broadcast_24_piece0 on algo-1:44997 in memory (size: 3.0 KiB, free: 2.8 GiB)\u001b[0m\n",
      "\u001b[34m2025-06-19 23:21:03,415 INFO codegen.CodeGenerator: Code generated in 43.100193 ms\u001b[0m\n",
      "\u001b[34m2025-06-19 23:21:03,433 INFO scheduler.DAGScheduler: Registering RDD 174 (collect at AnalysisRunner.scala:326) as input to shuffle 13\u001b[0m\n",
      "\u001b[34m2025-06-19 23:21:03,433 INFO scheduler.DAGScheduler: Got map stage job 29 (collect at AnalysisRunner.scala:326) with 1 output partitions\u001b[0m\n",
      "\u001b[34m2025-06-19 23:21:03,433 INFO scheduler.DAGScheduler: Final stage: ShuffleMapStage 42 (collect at AnalysisRunner.scala:326)\u001b[0m\n",
      "\u001b[34m2025-06-19 23:21:03,433 INFO scheduler.DAGScheduler: Parents of final stage: List()\u001b[0m\n",
      "\u001b[34m2025-06-19 23:21:03,434 INFO scheduler.DAGScheduler: Missing parents: List()\u001b[0m\n",
      "\u001b[34m2025-06-19 23:21:03,434 INFO scheduler.DAGScheduler: Submitting ShuffleMapStage 42 (MapPartitionsRDD[174] at collect at AnalysisRunner.scala:326), which has no missing parents\u001b[0m\n",
      "\u001b[34m2025-06-19 23:21:03,439 INFO memory.MemoryStore: Block broadcast_35 stored as values in memory (estimated size 34.8 KiB, free 1457.5 MiB)\u001b[0m\n",
      "\u001b[34m2025-06-19 23:21:03,440 INFO memory.MemoryStore: Block broadcast_35_piece0 stored as bytes in memory (estimated size 14.2 KiB, free 1457.5 MiB)\u001b[0m\n",
      "\u001b[34m2025-06-19 23:21:03,441 INFO storage.BlockManagerInfo: Added broadcast_35_piece0 in memory on 10.2.223.201:41959 (size: 14.2 KiB, free: 1458.5 MiB)\u001b[0m\n",
      "\u001b[34m2025-06-19 23:21:03,441 INFO spark.SparkContext: Created broadcast 35 from broadcast at DAGScheduler.scala:1513\u001b[0m\n",
      "\u001b[34m2025-06-19 23:21:03,442 INFO scheduler.DAGScheduler: Submitting 1 missing tasks from ShuffleMapStage 42 (MapPartitionsRDD[174] at collect at AnalysisRunner.scala:326) (first 15 tasks are for partitions Vector(0))\u001b[0m\n",
      "\u001b[34m2025-06-19 23:21:03,442 INFO cluster.YarnScheduler: Adding task set 42.0 with 1 tasks resource profile 0\u001b[0m\n",
      "\u001b[34m2025-06-19 23:21:03,443 INFO scheduler.TaskSetManager: Starting task 0.0 in stage 42.0 (TID 33) (algo-1, executor 1, partition 0, PROCESS_LOCAL, 4941 bytes) taskResourceAssignments Map()\u001b[0m\n",
      "\u001b[34m2025-06-19 23:21:03,458 INFO storage.BlockManagerInfo: Added broadcast_35_piece0 in memory on algo-1:44997 (size: 14.2 KiB, free: 2.8 GiB)\u001b[0m\n",
      "\u001b[34m2025-06-19 23:21:03,517 INFO scheduler.TaskSetManager: Finished task 0.0 in stage 42.0 (TID 33) in 74 ms on algo-1 (executor 1) (1/1)\u001b[0m\n",
      "\u001b[34m2025-06-19 23:21:03,517 INFO cluster.YarnScheduler: Removed TaskSet 42.0, whose tasks have all completed, from pool \u001b[0m\n",
      "\u001b[34m2025-06-19 23:21:03,518 INFO scheduler.DAGScheduler: ShuffleMapStage 42 (collect at AnalysisRunner.scala:326) finished in 0.082 s\u001b[0m\n",
      "\u001b[34m2025-06-19 23:21:03,519 INFO scheduler.DAGScheduler: looking for newly runnable stages\u001b[0m\n",
      "\u001b[34m2025-06-19 23:21:03,519 INFO scheduler.DAGScheduler: running: Set()\u001b[0m\n",
      "\u001b[34m2025-06-19 23:21:03,519 INFO scheduler.DAGScheduler: waiting: Set()\u001b[0m\n",
      "\u001b[34m2025-06-19 23:21:03,519 INFO scheduler.DAGScheduler: failed: Set()\u001b[0m\n",
      "\u001b[34m2025-06-19 23:21:03,610 INFO codegen.CodeGenerator: Code generated in 50.776861 ms\u001b[0m\n",
      "\u001b[34m2025-06-19 23:21:03,642 INFO spark.SparkContext: Starting job: collect at AnalysisRunner.scala:326\u001b[0m\n",
      "\u001b[34m2025-06-19 23:21:03,646 INFO scheduler.DAGScheduler: Got job 30 (collect at AnalysisRunner.scala:326) with 1 output partitions\u001b[0m\n",
      "\u001b[34m2025-06-19 23:21:03,649 INFO scheduler.DAGScheduler: Final stage: ResultStage 44 (collect at AnalysisRunner.scala:326)\u001b[0m\n",
      "\u001b[34m2025-06-19 23:21:03,649 INFO scheduler.DAGScheduler: Parents of final stage: List(ShuffleMapStage 43)\u001b[0m\n",
      "\u001b[34m2025-06-19 23:21:03,650 INFO scheduler.DAGScheduler: Missing parents: List()\u001b[0m\n",
      "\u001b[34m2025-06-19 23:21:03,650 INFO scheduler.DAGScheduler: Submitting ResultStage 44 (MapPartitionsRDD[177] at collect at AnalysisRunner.scala:326), which has no missing parents\u001b[0m\n",
      "\u001b[34m2025-06-19 23:21:03,652 INFO memory.MemoryStore: Block broadcast_36 stored as values in memory (estimated size 21.4 KiB, free 1457.5 MiB)\u001b[0m\n",
      "\u001b[34m2025-06-19 23:21:03,655 INFO memory.MemoryStore: Block broadcast_36_piece0 stored as bytes in memory (estimated size 8.5 KiB, free 1457.5 MiB)\u001b[0m\n",
      "\u001b[34m2025-06-19 23:21:03,657 INFO storage.BlockManagerInfo: Added broadcast_36_piece0 in memory on 10.2.223.201:41959 (size: 8.5 KiB, free: 1458.5 MiB)\u001b[0m\n",
      "\u001b[34m2025-06-19 23:21:03,658 INFO spark.SparkContext: Created broadcast 36 from broadcast at DAGScheduler.scala:1513\u001b[0m\n",
      "\u001b[34m2025-06-19 23:21:03,658 INFO scheduler.DAGScheduler: Submitting 1 missing tasks from ResultStage 44 (MapPartitionsRDD[177] at collect at AnalysisRunner.scala:326) (first 15 tasks are for partitions Vector(0))\u001b[0m\n",
      "\u001b[34m2025-06-19 23:21:03,658 INFO cluster.YarnScheduler: Adding task set 44.0 with 1 tasks resource profile 0\u001b[0m\n",
      "\u001b[34m2025-06-19 23:21:03,660 INFO scheduler.TaskSetManager: Starting task 0.0 in stage 44.0 (TID 34) (algo-1, executor 1, partition 0, NODE_LOCAL, 4464 bytes) taskResourceAssignments Map()\u001b[0m\n",
      "\u001b[34m2025-06-19 23:21:03,673 INFO storage.BlockManagerInfo: Added broadcast_36_piece0 in memory on algo-1:44997 (size: 8.5 KiB, free: 2.8 GiB)\u001b[0m\n",
      "\u001b[34m2025-06-19 23:21:03,677 INFO spark.MapOutputTrackerMasterEndpoint: Asked to send map output locations for shuffle 13 to 10.2.223.201:51330\u001b[0m\n",
      "\u001b[34m2025-06-19 23:21:03,728 INFO scheduler.TaskSetManager: Finished task 0.0 in stage 44.0 (TID 34) in 69 ms on algo-1 (executor 1) (1/1)\u001b[0m\n",
      "\u001b[34m2025-06-19 23:21:03,728 INFO cluster.YarnScheduler: Removed TaskSet 44.0, whose tasks have all completed, from pool \u001b[0m\n",
      "\u001b[34m2025-06-19 23:21:03,729 INFO scheduler.DAGScheduler: ResultStage 44 (collect at AnalysisRunner.scala:326) finished in 0.078 s\u001b[0m\n",
      "\u001b[34m2025-06-19 23:21:03,730 INFO scheduler.DAGScheduler: Job 30 is finished. Cancelling potential speculative or zombie tasks for this job\u001b[0m\n",
      "\u001b[34m2025-06-19 23:21:03,730 INFO cluster.YarnScheduler: Killing all running tasks in stage 44: Stage finished\u001b[0m\n",
      "\u001b[34m2025-06-19 23:21:03,731 INFO scheduler.DAGScheduler: Job 30 finished: collect at AnalysisRunner.scala:326, took 0.084897 s\u001b[0m\n",
      "\u001b[34m2025-06-19 23:21:03,791 INFO spark.SparkContext: Starting job: countByKey at ColumnProfiler.scala:592\u001b[0m\n",
      "\u001b[34m2025-06-19 23:21:03,793 INFO scheduler.DAGScheduler: Registering RDD 185 (countByKey at ColumnProfiler.scala:592) as input to shuffle 14\u001b[0m\n",
      "\u001b[34m2025-06-19 23:21:03,793 INFO scheduler.DAGScheduler: Got job 31 (countByKey at ColumnProfiler.scala:592) with 1 output partitions\u001b[0m\n",
      "\u001b[34m2025-06-19 23:21:03,794 INFO scheduler.DAGScheduler: Final stage: ResultStage 46 (countByKey at ColumnProfiler.scala:592)\u001b[0m\n",
      "\u001b[34m2025-06-19 23:21:03,794 INFO scheduler.DAGScheduler: Parents of final stage: List(ShuffleMapStage 45)\u001b[0m\n",
      "\u001b[34m2025-06-19 23:21:03,794 INFO scheduler.DAGScheduler: Missing parents: List(ShuffleMapStage 45)\u001b[0m\n",
      "\u001b[34m2025-06-19 23:21:03,795 INFO scheduler.DAGScheduler: Submitting ShuffleMapStage 45 (MapPartitionsRDD[185] at countByKey at ColumnProfiler.scala:592), which has no missing parents\u001b[0m\n",
      "\u001b[34m2025-06-19 23:21:03,803 INFO memory.MemoryStore: Block broadcast_37 stored as values in memory (estimated size 32.0 KiB, free 1457.4 MiB)\u001b[0m\n",
      "\u001b[34m2025-06-19 23:21:03,805 INFO memory.MemoryStore: Block broadcast_37_piece0 stored as bytes in memory (estimated size 14.4 KiB, free 1457.4 MiB)\u001b[0m\n",
      "\u001b[34m2025-06-19 23:21:03,806 INFO storage.BlockManagerInfo: Added broadcast_37_piece0 in memory on 10.2.223.201:41959 (size: 14.4 KiB, free: 1458.4 MiB)\u001b[0m\n",
      "\u001b[34m2025-06-19 23:21:03,806 INFO spark.SparkContext: Created broadcast 37 from broadcast at DAGScheduler.scala:1513\u001b[0m\n",
      "\u001b[34m2025-06-19 23:21:03,807 INFO scheduler.DAGScheduler: Submitting 1 missing tasks from ShuffleMapStage 45 (MapPartitionsRDD[185] at countByKey at ColumnProfiler.scala:592) (first 15 tasks are for partitions Vector(0))\u001b[0m\n",
      "\u001b[34m2025-06-19 23:21:03,808 INFO cluster.YarnScheduler: Adding task set 45.0 with 1 tasks resource profile 0\u001b[0m\n",
      "\u001b[34m2025-06-19 23:21:03,809 INFO scheduler.TaskSetManager: Starting task 0.0 in stage 45.0 (TID 35) (algo-1, executor 1, partition 0, PROCESS_LOCAL, 4941 bytes) taskResourceAssignments Map()\u001b[0m\n",
      "\u001b[34m2025-06-19 23:21:03,818 INFO storage.BlockManagerInfo: Added broadcast_37_piece0 in memory on algo-1:44997 (size: 14.4 KiB, free: 2.8 GiB)\u001b[0m\n",
      "\u001b[34m2025-06-19 23:21:03,848 INFO scheduler.TaskSetManager: Finished task 0.0 in stage 45.0 (TID 35) in 39 ms on algo-1 (executor 1) (1/1)\u001b[0m\n",
      "\u001b[34m2025-06-19 23:21:03,849 INFO cluster.YarnScheduler: Removed TaskSet 45.0, whose tasks have all completed, from pool \u001b[0m\n",
      "\u001b[34m2025-06-19 23:21:03,850 INFO scheduler.DAGScheduler: ShuffleMapStage 45 (countByKey at ColumnProfiler.scala:592) finished in 0.054 s\u001b[0m\n",
      "\u001b[34m2025-06-19 23:21:03,850 INFO scheduler.DAGScheduler: looking for newly runnable stages\u001b[0m\n",
      "\u001b[34m2025-06-19 23:21:03,851 INFO scheduler.DAGScheduler: running: Set()\u001b[0m\n",
      "\u001b[34m2025-06-19 23:21:03,851 INFO scheduler.DAGScheduler: waiting: Set(ResultStage 46)\u001b[0m\n",
      "\u001b[34m2025-06-19 23:21:03,852 INFO scheduler.DAGScheduler: failed: Set()\u001b[0m\n",
      "\u001b[34m2025-06-19 23:21:03,852 INFO scheduler.DAGScheduler: Submitting ResultStage 46 (ShuffledRDD[186] at countByKey at ColumnProfiler.scala:592), which has no missing parents\u001b[0m\n",
      "\u001b[34m2025-06-19 23:21:03,854 INFO memory.MemoryStore: Block broadcast_38 stored as values in memory (estimated size 5.1 KiB, free 1457.4 MiB)\u001b[0m\n",
      "\u001b[34m2025-06-19 23:21:03,859 INFO memory.MemoryStore: Block broadcast_38_piece0 stored as bytes in memory (estimated size 3.0 KiB, free 1457.4 MiB)\u001b[0m\n",
      "\u001b[34m2025-06-19 23:21:03,859 INFO storage.BlockManagerInfo: Added broadcast_38_piece0 in memory on 10.2.223.201:41959 (size: 3.0 KiB, free: 1458.4 MiB)\u001b[0m\n",
      "\u001b[34m2025-06-19 23:21:03,860 INFO spark.SparkContext: Created broadcast 38 from broadcast at DAGScheduler.scala:1513\u001b[0m\n",
      "\u001b[34m2025-06-19 23:21:03,861 INFO scheduler.DAGScheduler: Submitting 1 missing tasks from ResultStage 46 (ShuffledRDD[186] at countByKey at ColumnProfiler.scala:592) (first 15 tasks are for partitions Vector(0))\u001b[0m\n",
      "\u001b[34m2025-06-19 23:21:03,862 INFO cluster.YarnScheduler: Adding task set 46.0 with 1 tasks resource profile 0\u001b[0m\n",
      "\u001b[34m2025-06-19 23:21:03,863 INFO scheduler.TaskSetManager: Starting task 0.0 in stage 46.0 (TID 36) (algo-1, executor 1, partition 0, NODE_LOCAL, 4282 bytes) taskResourceAssignments Map()\u001b[0m\n",
      "\u001b[34m2025-06-19 23:21:03,871 INFO storage.BlockManagerInfo: Added broadcast_38_piece0 in memory on algo-1:44997 (size: 3.0 KiB, free: 2.8 GiB)\u001b[0m\n",
      "\u001b[34m2025-06-19 23:21:03,874 INFO spark.MapOutputTrackerMasterEndpoint: Asked to send map output locations for shuffle 14 to 10.2.223.201:51330\u001b[0m\n",
      "\u001b[34m2025-06-19 23:21:03,883 INFO scheduler.TaskSetManager: Finished task 0.0 in stage 46.0 (TID 36) in 20 ms on algo-1 (executor 1) (1/1)\u001b[0m\n",
      "\u001b[34m2025-06-19 23:21:03,883 INFO cluster.YarnScheduler: Removed TaskSet 46.0, whose tasks have all completed, from pool \u001b[0m\n",
      "\u001b[34m2025-06-19 23:21:03,884 INFO scheduler.DAGScheduler: ResultStage 46 (countByKey at ColumnProfiler.scala:592) finished in 0.031 s\u001b[0m\n",
      "\u001b[34m2025-06-19 23:21:03,884 INFO scheduler.DAGScheduler: Job 31 is finished. Cancelling potential speculative or zombie tasks for this job\u001b[0m\n",
      "\u001b[34m2025-06-19 23:21:03,884 INFO cluster.YarnScheduler: Killing all running tasks in stage 46: Stage finished\u001b[0m\n",
      "\u001b[34m2025-06-19 23:21:03,885 INFO scheduler.DAGScheduler: Job 31 finished: countByKey at ColumnProfiler.scala:592, took 0.092895 s\u001b[0m\n",
      "\u001b[34m2025-06-19 23:21:04,350 INFO FileUtil: Write to file constraints.json at path /opt/ml/processing/output.\u001b[0m\n",
      "\u001b[34m2025-06-19 23:21:04,405 INFO codegen.CodeGenerator: Code generated in 17.25549 ms\u001b[0m\n",
      "\u001b[34m2025-06-19 23:21:04,418 INFO scheduler.DAGScheduler: Registering RDD 191 (count at StatsGenerator.scala:66) as input to shuffle 15\u001b[0m\n",
      "\u001b[34m2025-06-19 23:21:04,419 INFO scheduler.DAGScheduler: Got map stage job 32 (count at StatsGenerator.scala:66) with 1 output partitions\u001b[0m\n",
      "\u001b[34m2025-06-19 23:21:04,419 INFO scheduler.DAGScheduler: Final stage: ShuffleMapStage 47 (count at StatsGenerator.scala:66)\u001b[0m\n",
      "\u001b[34m2025-06-19 23:21:04,419 INFO scheduler.DAGScheduler: Parents of final stage: List()\u001b[0m\n",
      "\u001b[34m2025-06-19 23:21:04,420 INFO scheduler.DAGScheduler: Missing parents: List()\u001b[0m\n",
      "\u001b[34m2025-06-19 23:21:04,420 INFO scheduler.DAGScheduler: Submitting ShuffleMapStage 47 (MapPartitionsRDD[191] at count at StatsGenerator.scala:66), which has no missing parents\u001b[0m\n",
      "\u001b[34m2025-06-19 23:21:04,423 INFO memory.MemoryStore: Block broadcast_39 stored as values in memory (estimated size 24.3 KiB, free 1457.4 MiB)\u001b[0m\n",
      "\u001b[34m2025-06-19 23:21:04,425 INFO memory.MemoryStore: Block broadcast_39_piece0 stored as bytes in memory (estimated size 10.9 KiB, free 1457.4 MiB)\u001b[0m\n",
      "\u001b[34m2025-06-19 23:21:04,427 INFO storage.BlockManagerInfo: Added broadcast_39_piece0 in memory on 10.2.223.201:41959 (size: 10.9 KiB, free: 1458.4 MiB)\u001b[0m\n",
      "\u001b[34m2025-06-19 23:21:04,427 INFO spark.SparkContext: Created broadcast 39 from broadcast at DAGScheduler.scala:1513\u001b[0m\n",
      "\u001b[34m2025-06-19 23:21:04,428 INFO scheduler.DAGScheduler: Submitting 1 missing tasks from ShuffleMapStage 47 (MapPartitionsRDD[191] at count at StatsGenerator.scala:66) (first 15 tasks are for partitions Vector(0))\u001b[0m\n",
      "\u001b[34m2025-06-19 23:21:04,428 INFO cluster.YarnScheduler: Adding task set 47.0 with 1 tasks resource profile 0\u001b[0m\n",
      "\u001b[34m2025-06-19 23:21:04,429 INFO scheduler.TaskSetManager: Starting task 0.0 in stage 47.0 (TID 37) (algo-1, executor 1, partition 0, PROCESS_LOCAL, 4941 bytes) taskResourceAssignments Map()\u001b[0m\n",
      "\u001b[34m2025-06-19 23:21:04,439 INFO storage.BlockManagerInfo: Added broadcast_39_piece0 in memory on algo-1:44997 (size: 10.9 KiB, free: 2.8 GiB)\u001b[0m\n",
      "\u001b[34m2025-06-19 23:21:04,504 INFO scheduler.TaskSetManager: Finished task 0.0 in stage 47.0 (TID 37) in 75 ms on algo-1 (executor 1) (1/1)\u001b[0m\n",
      "\u001b[34m2025-06-19 23:21:04,504 INFO cluster.YarnScheduler: Removed TaskSet 47.0, whose tasks have all completed, from pool \u001b[0m\n",
      "\u001b[34m2025-06-19 23:21:04,505 INFO scheduler.DAGScheduler: ShuffleMapStage 47 (count at StatsGenerator.scala:66) finished in 0.084 s\u001b[0m\n",
      "\u001b[34m2025-06-19 23:21:04,505 INFO scheduler.DAGScheduler: looking for newly runnable stages\u001b[0m\n",
      "\u001b[34m2025-06-19 23:21:04,505 INFO scheduler.DAGScheduler: running: Set()\u001b[0m\n",
      "\u001b[34m2025-06-19 23:21:04,506 INFO scheduler.DAGScheduler: waiting: Set()\u001b[0m\n",
      "\u001b[34m2025-06-19 23:21:04,507 INFO scheduler.DAGScheduler: failed: Set()\u001b[0m\n",
      "\u001b[34m2025-06-19 23:21:04,540 INFO codegen.CodeGenerator: Code generated in 18.588653 ms\u001b[0m\n",
      "\u001b[34m2025-06-19 23:21:04,554 INFO spark.SparkContext: Starting job: count at StatsGenerator.scala:66\u001b[0m\n",
      "\u001b[34m2025-06-19 23:21:04,564 INFO scheduler.DAGScheduler: Got job 33 (count at StatsGenerator.scala:66) with 1 output partitions\u001b[0m\n",
      "\u001b[34m2025-06-19 23:21:04,564 INFO scheduler.DAGScheduler: Final stage: ResultStage 49 (count at StatsGenerator.scala:66)\u001b[0m\n",
      "\u001b[34m2025-06-19 23:21:04,564 INFO scheduler.DAGScheduler: Parents of final stage: List(ShuffleMapStage 48)\u001b[0m\n",
      "\u001b[34m2025-06-19 23:21:04,564 INFO scheduler.DAGScheduler: Missing parents: List()\u001b[0m\n",
      "\u001b[34m2025-06-19 23:21:04,565 INFO scheduler.DAGScheduler: Submitting ResultStage 49 (MapPartitionsRDD[194] at count at StatsGenerator.scala:66), which has no missing parents\u001b[0m\n",
      "\u001b[34m2025-06-19 23:21:04,566 INFO memory.MemoryStore: Block broadcast_40 stored as values in memory (estimated size 11.1 KiB, free 1457.4 MiB)\u001b[0m\n",
      "\u001b[34m2025-06-19 23:21:04,569 INFO memory.MemoryStore: Block broadcast_40_piece0 stored as bytes in memory (estimated size 5.5 KiB, free 1457.4 MiB)\u001b[0m\n",
      "\u001b[34m2025-06-19 23:21:04,569 INFO storage.BlockManagerInfo: Added broadcast_40_piece0 in memory on 10.2.223.201:41959 (size: 5.5 KiB, free: 1458.4 MiB)\u001b[0m\n",
      "\u001b[34m2025-06-19 23:21:04,570 INFO spark.SparkContext: Created broadcast 40 from broadcast at DAGScheduler.scala:1513\u001b[0m\n",
      "\u001b[34m2025-06-19 23:21:04,570 INFO scheduler.DAGScheduler: Submitting 1 missing tasks from ResultStage 49 (MapPartitionsRDD[194] at count at StatsGenerator.scala:66) (first 15 tasks are for partitions Vector(0))\u001b[0m\n",
      "\u001b[34m2025-06-19 23:21:04,571 INFO cluster.YarnScheduler: Adding task set 49.0 with 1 tasks resource profile 0\u001b[0m\n",
      "\u001b[34m2025-06-19 23:21:04,572 INFO scheduler.TaskSetManager: Starting task 0.0 in stage 49.0 (TID 38) (algo-1, executor 1, partition 0, NODE_LOCAL, 4464 bytes) taskResourceAssignments Map()\u001b[0m\n",
      "\u001b[34m2025-06-19 23:21:04,582 INFO storage.BlockManagerInfo: Added broadcast_40_piece0 in memory on algo-1:44997 (size: 5.5 KiB, free: 2.8 GiB)\u001b[0m\n",
      "\u001b[34m2025-06-19 23:21:04,585 INFO spark.MapOutputTrackerMasterEndpoint: Asked to send map output locations for shuffle 15 to 10.2.223.201:51330\u001b[0m\n",
      "\u001b[34m2025-06-19 23:21:04,611 INFO scheduler.TaskSetManager: Finished task 0.0 in stage 49.0 (TID 38) in 39 ms on algo-1 (executor 1) (1/1)\u001b[0m\n",
      "\u001b[34m2025-06-19 23:21:04,611 INFO cluster.YarnScheduler: Removed TaskSet 49.0, whose tasks have all completed, from pool \u001b[0m\n",
      "\u001b[34m2025-06-19 23:21:04,614 INFO scheduler.DAGScheduler: ResultStage 49 (count at StatsGenerator.scala:66) finished in 0.049 s\u001b[0m\n",
      "\u001b[34m2025-06-19 23:21:04,616 INFO scheduler.DAGScheduler: Job 33 is finished. Cancelling potential speculative or zombie tasks for this job\u001b[0m\n",
      "\u001b[34m2025-06-19 23:21:04,616 INFO cluster.YarnScheduler: Killing all running tasks in stage 49: Stage finished\u001b[0m\n",
      "\u001b[34m2025-06-19 23:21:04,616 INFO scheduler.DAGScheduler: Job 33 finished: count at StatsGenerator.scala:66, took 0.053821 s\u001b[0m\n",
      "\u001b[34m2025-06-19 23:21:05,061 INFO FileUtil: Write to file statistics.json at path /opt/ml/processing/output.\u001b[0m\n",
      "\u001b[34m2025-06-19 23:21:05,076 INFO cluster.YarnClientSchedulerBackend: Interrupting monitor thread\u001b[0m\n",
      "\u001b[34m2025-06-19 23:21:05,113 INFO cluster.YarnClientSchedulerBackend: Shutting down all executors\u001b[0m\n",
      "\u001b[34m2025-06-19 23:21:05,114 INFO cluster.YarnSchedulerBackend$YarnDriverEndpoint: Asking each executor to shut down\u001b[0m\n",
      "\u001b[34m2025-06-19 23:21:05,126 INFO cluster.YarnClientSchedulerBackend: YARN client scheduler backend Stopped\u001b[0m\n",
      "\u001b[34m2025-06-19 23:21:05,152 INFO spark.MapOutputTrackerMasterEndpoint: MapOutputTrackerMasterEndpoint stopped!\u001b[0m\n",
      "\u001b[34m2025-06-19 23:21:05,196 INFO memory.MemoryStore: MemoryStore cleared\u001b[0m\n",
      "\u001b[34m2025-06-19 23:21:05,211 INFO storage.BlockManager: BlockManager stopped\u001b[0m\n",
      "\u001b[34m2025-06-19 23:21:05,233 INFO storage.BlockManagerMaster: BlockManagerMaster stopped\u001b[0m\n",
      "\u001b[34m2025-06-19 23:21:05,249 INFO scheduler.OutputCommitCoordinator$OutputCommitCoordinatorEndpoint: OutputCommitCoordinator stopped!\u001b[0m\n",
      "\u001b[34m2025-06-19 23:21:05,303 INFO spark.SparkContext: Successfully stopped SparkContext\u001b[0m\n",
      "\u001b[34m2025-06-19 23:21:05,304 INFO Main: Completed: Job completed successfully with no violations.\u001b[0m\n",
      "\u001b[34m2025-06-19 23:21:05,304 INFO Main: Write to file /opt/ml/output/message.\u001b[0m\n",
      "\u001b[34m2025-06-19 23:21:05,333 INFO util.ShutdownHookManager: Shutdown hook called\u001b[0m\n",
      "\u001b[34m2025-06-19 23:21:05,334 INFO util.ShutdownHookManager: Deleting directory /tmp/spark-cab5b9cd-d21b-4d90-9936-d66ea819b80c\u001b[0m\n",
      "\u001b[34m2025-06-19 23:21:05,351 INFO util.ShutdownHookManager: Deleting directory /tmp/spark-9aec01a7-9caa-4abf-96cf-0995b557debd\u001b[0m\n",
      "\u001b[34m2025-06-19 23:21:05,519 - DefaultDataAnalyzer - INFO - Completed spark-submit with return code : 0\u001b[0m\n",
      "\u001b[34m2025-06-19 23:21:05,520 - DefaultDataAnalyzer - INFO - Spark job completed.\u001b[0m\n",
      "\n",
      "Baseline job completed. Statistics and constraints are stored.\n"
     ]
    }
   ],
   "source": [
    "# Setup Baseline Job\n",
    "\n",
    "from sagemaker.model_monitor import DefaultModelMonitor, DatasetFormat\n",
    "from sagemaker import get_execution_role\n",
    "\n",
    "role = get_execution_role()\n",
    "\n",
    "monitor = DefaultModelMonitor(\n",
    "    role=role,\n",
    "    instance_count=1,\n",
    "    instance_type=\"ml.m5.large\",\n",
    "    volume_size_in_gb=20,\n",
    "    max_runtime_in_seconds=3600,\n",
    "    sagemaker_session=sagemaker_session\n",
    ")\n",
    "\n",
    "baseline_output_uri = f\"s3://{bucket}/monitoring/baseline-output\"\n",
    "\n",
    "monitor.suggest_baseline(\n",
    "    baseline_dataset=csv_s3_uri,\n",
    "    dataset_format=DatasetFormat.csv(header=True),\n",
    "    output_s3_uri=baseline_output_uri,\n",
    "    wait=True\n",
    ")\n",
    "\n",
    "print(\"Baseline job completed. Statistics and constraints are stored.\")\n"
   ]
  },
  {
   "cell_type": "code",
   "execution_count": 136,
   "id": "9c1d089a-7e26-452d-b196-63fee0de634b",
   "metadata": {
    "execution": {
     "iopub.execute_input": "2025-06-21T16:42:03.847313Z",
     "iopub.status.busy": "2025-06-21T16:42:03.847022Z",
     "iopub.status.idle": "2025-06-21T16:42:04.248501Z",
     "shell.execute_reply": "2025-06-21T16:42:04.247794Z",
     "shell.execute_reply.started": "2025-06-21T16:42:03.847293Z"
    }
   },
   "outputs": [
    {
     "name": "stdout",
     "output_type": "stream",
     "text": [
      "Monitoring Job Definition created successfully DEMO-xgb-churn-model-quality-jobdef-2025-06-21-2015-v2\n"
     ]
    }
   ],
   "source": [
    "job_definition_name = \"DEMO-xgb-churn-model-quality-jobdef-2025-06-21-2015-v2\"\n",
    "baseline_constraints_s3_uri = \"s3://sagemaker-us-east-1-553246940090/autism_prediction/reports/constraints.json\"\n",
    "monitoring_output_s3_uri = \"s3://sagemaker-us-east-1-553246940090/autism_prediction/reports/output\"\n",
    "ground_truth_s3_uri = \"s3://sagemaker-us-east-1-553246940090/autism_prediction/ground-truth/labels.csv\"\n",
    "endpoint_name = \"xgb-monitor-endpoint-2025-06-21-0618\"\n",
    "\n",
    "response = sm_client.create_model_quality_job_definition(\n",
    "    JobDefinitionName=job_definition_name,\n",
    "    ModelQualityAppSpecification={\n",
    "        'ImageUri': image_uri,\n",
    "        'ProblemType': 'BinaryClassification'\n",
    "    },\n",
    "    ModelQualityJobInput={\n",
    "        'EndpointInput': {\n",
    "            'EndpointName': endpoint_name,\n",
    "            'LocalPath': '/opt/ml/processing/input/endpoint',\n",
    "            'S3InputMode': 'File',\n",
    "            'S3DataDistributionType': 'FullyReplicated',\n",
    "            'InferenceAttribute': 'predicted_label' \n",
    "        },\n",
    "        'GroundTruthS3Input': {\n",
    "            'S3Uri': ground_truth_s3_uri\n",
    "        }\n",
    "    },\n",
    "    ModelQualityJobOutputConfig={\n",
    "        'MonitoringOutputs': [{\n",
    "            'S3Output': {\n",
    "                'S3Uri': monitoring_output_s3_uri,\n",
    "                'LocalPath': '/opt/ml/processing/output',\n",
    "                'S3UploadMode': 'EndOfJob'\n",
    "            }\n",
    "        }]\n",
    "    },\n",
    "    JobResources={\n",
    "        'ClusterConfig': {\n",
    "            'InstanceCount': 1,\n",
    "            'InstanceType': 'ml.m5.large',\n",
    "            'VolumeSizeInGB': 20\n",
    "        }\n",
    "    },\n",
    "    StoppingCondition={  \n",
    "        'MaxRuntimeInSeconds': 1800\n",
    "    },\n",
    "    RoleArn=role\n",
    ")\n",
    "print(f'Monitoring Job Definition created successfully {job_definition_name}') "
   ]
  },
  {
   "cell_type": "code",
   "execution_count": 137,
   "id": "fee775cc-0964-4f71-9e6a-d2398a90c0a6",
   "metadata": {
    "execution": {
     "iopub.execute_input": "2025-06-21T16:43:00.384394Z",
     "iopub.status.busy": "2025-06-21T16:43:00.384040Z",
     "iopub.status.idle": "2025-06-21T16:43:00.805557Z",
     "shell.execute_reply": "2025-06-21T16:43:00.804874Z",
     "shell.execute_reply.started": "2025-06-21T16:43:00.384370Z"
    }
   },
   "outputs": [
    {
     "data": {
      "text/plain": [
       "{'MonitoringScheduleArn': 'arn:aws:sagemaker:us-east-1:553246940090:monitoring-schedule/DEMO-xgb-churn-monitoring-schedule-2025-06-20-2015-v1',\n",
       " 'ResponseMetadata': {'RequestId': '216b4422-60fc-488c-bae3-0a2e38f2605b',\n",
       "  'HTTPStatusCode': 200,\n",
       "  'HTTPHeaders': {'x-amzn-requestid': '216b4422-60fc-488c-bae3-0a2e38f2605b',\n",
       "   'content-type': 'application/x-amz-json-1.1',\n",
       "   'content-length': '142',\n",
       "   'date': 'Sat, 21 Jun 2025 16:43:00 GMT'},\n",
       "  'RetryAttempts': 0}}"
      ]
     },
     "execution_count": 137,
     "metadata": {},
     "output_type": "execute_result"
    }
   ],
   "source": [
    "sm_client.create_monitoring_schedule(\n",
    "    MonitoringScheduleName=schedule_name,\n",
    "    MonitoringScheduleConfig={\n",
    "        'ScheduleConfig': {\n",
    "            'ScheduleExpression': 'cron(0 */1 ? * * *)'\n",
    "        },\n",
    "        'MonitoringJobDefinitionName': 'DEMO-xgb-churn-model-quality-jobdef-2025-06-21-2015-v2',\n",
    "        'MonitoringType': 'ModelQuality'\n",
    "    }\n",
    ")"
   ]
  },
  {
   "cell_type": "code",
   "execution_count": 138,
   "id": "d477f83c-1871-4c8c-8db8-6b775e91a3c8",
   "metadata": {
    "execution": {
     "iopub.execute_input": "2025-06-21T16:43:34.361409Z",
     "iopub.status.busy": "2025-06-21T16:43:34.361127Z",
     "iopub.status.idle": "2025-06-21T16:43:34.471657Z",
     "shell.execute_reply": "2025-06-21T16:43:34.470993Z",
     "shell.execute_reply.started": "2025-06-21T16:43:34.361390Z"
    }
   },
   "outputs": [
    {
     "data": {
      "text/plain": [
       "{'MonitoringScheduleArn': 'arn:aws:sagemaker:us-east-1:553246940090:monitoring-schedule/DEMO-xgb-churn-monitoring-schedule-2025-06-20-2015-v1',\n",
       " 'MonitoringScheduleName': 'DEMO-xgb-churn-monitoring-schedule-2025-06-20-2015-v1',\n",
       " 'MonitoringScheduleStatus': 'Scheduled',\n",
       " 'MonitoringType': 'ModelQuality',\n",
       " 'CreationTime': datetime.datetime(2025, 6, 21, 16, 43, 0, 645000, tzinfo=tzlocal()),\n",
       " 'LastModifiedTime': datetime.datetime(2025, 6, 21, 16, 43, 5, 424000, tzinfo=tzlocal()),\n",
       " 'MonitoringScheduleConfig': {'ScheduleConfig': {'ScheduleExpression': 'cron(0 */1 ? * * *)'},\n",
       "  'MonitoringJobDefinitionName': 'DEMO-xgb-churn-model-quality-jobdef-2025-06-21-2015-v2',\n",
       "  'MonitoringType': 'ModelQuality'},\n",
       " 'EndpointName': 'xgb-monitor-endpoint-2025-06-21-0618',\n",
       " 'ResponseMetadata': {'RequestId': '06df83c3-29b9-4ea8-a1ff-83a5beab8c69',\n",
       "  'HTTPStatusCode': 200,\n",
       "  'HTTPHeaders': {'x-amzn-requestid': '06df83c3-29b9-4ea8-a1ff-83a5beab8c69',\n",
       "   'content-type': 'application/x-amz-json-1.1',\n",
       "   'content-length': '626',\n",
       "   'date': 'Sat, 21 Jun 2025 16:43:34 GMT'},\n",
       "  'RetryAttempts': 0}}"
      ]
     },
     "execution_count": 138,
     "metadata": {},
     "output_type": "execute_result"
    }
   ],
   "source": [
    "# View Monitoring status\n",
    "\n",
    "boto3.client(\"sagemaker\").describe_monitoring_schedule(MonitoringScheduleName=schedule_name)"
   ]
  },
  {
   "cell_type": "markdown",
   "id": "d4b4fe96-042e-46b1-9dee-c68efedb1441",
   "metadata": {},
   "source": [
    "## Model drift and feature drift"
   ]
  },
  {
   "cell_type": "markdown",
   "id": "4f1f7415-f260-4323-9c16-7124b5dc2495",
   "metadata": {},
   "source": [
    "To monitor the model performance, we need to monitor the model drift and feature drift over time"
   ]
  },
  {
   "cell_type": "code",
   "execution_count": 139,
   "id": "44f997b8-847f-4ffa-b053-32313dea3022",
   "metadata": {
    "execution": {
     "iopub.execute_input": "2025-06-21T16:56:34.905418Z",
     "iopub.status.busy": "2025-06-21T16:56:34.905112Z",
     "iopub.status.idle": "2025-06-21T16:56:34.974342Z",
     "shell.execute_reply": "2025-06-21T16:56:34.973697Z",
     "shell.execute_reply.started": "2025-06-21T16:56:34.905391Z"
    }
   },
   "outputs": [
    {
     "data": {
      "text/plain": [
       "[]"
      ]
     },
     "execution_count": 139,
     "metadata": {},
     "output_type": "execute_result"
    }
   ],
   "source": [
    "import pandas as pd\n",
    "from datetime import datetime\n",
    "from IPython.display import display\n",
    "import boto3\n",
    "\n",
    "# Load constraint and statistics report (latest)\n",
    "bucket = \"sagemaker-us-east-1-553246940090\"\n",
    "prefix = \"autism_prediction/reports/output\"\n",
    "s3_path = f\"s3://{bucket}/{prefix}\"\n",
    "\n",
    "# We'll use Boto3 to list the files in the output report path\n",
    "s3 = boto3.client(\"s3\")\n",
    "\n",
    "# List objects in the monitoring output directory\n",
    "result = s3.list_objects_v2(Bucket=bucket, Prefix=prefix)\n",
    "report_files = [content['Key'] for content in result.get('Contents', []) if content['Key'].endswith(\"constraints.json\") or content['Key'].endswith(\"statistics.json\")]\n",
    "\n",
    "report_files"
   ]
  },
  {
   "cell_type": "code",
   "execution_count": 145,
   "id": "6ed750a9-8825-4798-b2a7-101494ed976c",
   "metadata": {
    "execution": {
     "iopub.execute_input": "2025-06-21T17:10:57.553003Z",
     "iopub.status.busy": "2025-06-21T17:10:57.552350Z",
     "iopub.status.idle": "2025-06-21T17:10:57.687357Z",
     "shell.execute_reply": "2025-06-21T17:10:57.686488Z",
     "shell.execute_reply.started": "2025-06-21T17:10:57.552973Z"
    }
   },
   "outputs": [
    {
     "name": "stdout",
     "output_type": "stream",
     "text": [
      "Status: Scheduled\n",
      "Last Modified: 2025-06-21 17:08:02.422000+00:00\n"
     ]
    }
   ],
   "source": [
    "import boto3\n",
    "\n",
    "sm_client = boto3.client(\"sagemaker\")\n",
    "schedule_name = \"DEMO-xgb-churn-monitoring-schedule-2025-06-20-2015-v1\"\n",
    "\n",
    "response = sm_client.describe_monitoring_schedule(MonitoringScheduleName=schedule_name)\n",
    "print(\"Status:\", response[\"MonitoringScheduleStatus\"])\n",
    "print(\"Last Modified:\", response[\"LastModifiedTime\"])\n"
   ]
  },
  {
   "cell_type": "code",
   "execution_count": 147,
   "id": "b0b598cf-8e6f-4bc3-9bc7-f74f62daa5f9",
   "metadata": {
    "execution": {
     "iopub.execute_input": "2025-06-21T17:11:35.427215Z",
     "iopub.status.busy": "2025-06-21T17:11:35.426507Z",
     "iopub.status.idle": "2025-06-21T17:11:35.468657Z",
     "shell.execute_reply": "2025-06-21T17:11:35.467644Z",
     "shell.execute_reply.started": "2025-06-21T17:11:35.427185Z"
    }
   },
   "outputs": [
    {
     "name": "stdout",
     "output_type": "stream",
     "text": [
      "Status: Pending\n",
      "Start: 2025-06-21 17:08:02.413000+00:00 | End: N/A\n"
     ]
    }
   ],
   "source": [
    "response = sm_client.list_monitoring_executions(MonitoringScheduleName=schedule_name)\n",
    "executions = response[\"MonitoringExecutionSummaries\"]\n",
    "\n",
    "if executions:\n",
    "    for job in executions:\n",
    "        print(f\"Status: {job['MonitoringExecutionStatus']}\")\n",
    "        print(f\"Start: {job['CreationTime']} | End: {job.get('EndTime', 'N/A')}\")\n",
    "else:\n",
    "    print(\"No executions found. We need to wait for the job execution to complete.\")"
   ]
  },
  {
   "cell_type": "markdown",
   "id": "e4df8084-fe4f-4031-ac88-e5ac4db24ec6",
   "metadata": {},
   "source": [
    "| Check Type     | Source File                              | What It Analyzes                            |\n",
    "| -------------- | ---------------------------------------- | ------------------------------------------- |\n",
    "| Accuracy Drift | `constraints.json`                       | Constraint violations (e.g., accuracy drop) |\n",
    "| Feature Drift  | `statistics.json`                        | Drift on individual input features          |\n",
    "| Model Drift    | Inferred via drift or violation patterns |                                             |\n"
   ]
  },
  {
   "cell_type": "code",
   "execution_count": 149,
   "id": "455a881f-b817-407d-8ec4-f8ad2619e254",
   "metadata": {
    "execution": {
     "iopub.execute_input": "2025-06-21T17:20:42.849228Z",
     "iopub.status.busy": "2025-06-21T17:20:42.848935Z",
     "iopub.status.idle": "2025-06-21T17:20:42.960200Z",
     "shell.execute_reply": "2025-06-21T17:20:42.958878Z",
     "shell.execute_reply.started": "2025-06-21T17:20:42.849208Z"
    }
   },
   "outputs": [
    {
     "data": {
      "text/html": [
       "<pre style=\"white-space:pre;overflow-x:auto;line-height:normal;font-family:Menlo,'DejaVu Sans Mono',consolas,'Courier New',monospace\"><span style=\"color: #ff0000; text-decoration-color: #ff0000\">╭─────────────────────────────── </span><span style=\"color: #ff0000; text-decoration-color: #ff0000; font-weight: bold\">Traceback </span><span style=\"color: #ff7f7f; text-decoration-color: #ff7f7f; font-weight: bold\">(most recent call last)</span><span style=\"color: #ff0000; text-decoration-color: #ff0000\"> ────────────────────────────────╮</span>\n",
       "<span style=\"color: #ff0000; text-decoration-color: #ff0000\">│</span> in &lt;module&gt;:34                                                                                   <span style=\"color: #ff0000; text-decoration-color: #ff0000\">│</span>\n",
       "<span style=\"color: #ff0000; text-decoration-color: #ff0000\">│</span>                                                                                                  <span style=\"color: #ff0000; text-decoration-color: #ff0000\">│</span>\n",
       "<span style=\"color: #ff0000; text-decoration-color: #ff0000\">│</span>   <span style=\"color: #7f7f7f; text-decoration-color: #7f7f7f\">31 </span><span style=\"color: #7f7f7f; text-decoration-color: #7f7f7f\">│   </span>latest_base = os.path.dirname(latest_constraints_key)                                   <span style=\"color: #ff0000; text-decoration-color: #ff0000\">│</span>\n",
       "<span style=\"color: #ff0000; text-decoration-color: #ff0000\">│</span>   <span style=\"color: #7f7f7f; text-decoration-color: #7f7f7f\">32 </span><span style=\"color: #7f7f7f; text-decoration-color: #7f7f7f\">│   </span><span style=\"color: #0000ff; text-decoration-color: #0000ff\">return</span> latest_base                                                                      <span style=\"color: #ff0000; text-decoration-color: #ff0000\">│</span>\n",
       "<span style=\"color: #ff0000; text-decoration-color: #ff0000\">│</span>   <span style=\"color: #7f7f7f; text-decoration-color: #7f7f7f\">33 </span>                                                                                            <span style=\"color: #ff0000; text-decoration-color: #ff0000\">│</span>\n",
       "<span style=\"color: #ff0000; text-decoration-color: #ff0000\">│</span> <span style=\"color: #800000; text-decoration-color: #800000\">❱ </span>34 latest_prefix = <span style=\"font-weight: bold; text-decoration: underline\">list_latest_monitoring_output(bucket_name, monitoring_output_prefix)</span>        <span style=\"color: #ff0000; text-decoration-color: #ff0000\">│</span>\n",
       "<span style=\"color: #ff0000; text-decoration-color: #ff0000\">│</span>   <span style=\"color: #7f7f7f; text-decoration-color: #7f7f7f\">35 </span>                                                                                            <span style=\"color: #ff0000; text-decoration-color: #ff0000\">│</span>\n",
       "<span style=\"color: #ff0000; text-decoration-color: #ff0000\">│</span>   <span style=\"color: #7f7f7f; text-decoration-color: #7f7f7f\">36 # --- Download files ---</span>                                                                    <span style=\"color: #ff0000; text-decoration-color: #ff0000\">│</span>\n",
       "<span style=\"color: #ff0000; text-decoration-color: #ff0000\">│</span>   <span style=\"color: #7f7f7f; text-decoration-color: #7f7f7f\">37 </span>constraints = download_s3_file(bucket_name, <span style=\"color: #808000; text-decoration-color: #808000\">f\"{</span>latest_prefix<span style=\"color: #808000; text-decoration-color: #808000\">}/constraints.json\"</span>)            <span style=\"color: #ff0000; text-decoration-color: #ff0000\">│</span>\n",
       "<span style=\"color: #ff0000; text-decoration-color: #ff0000\">│</span>                                                                                                  <span style=\"color: #ff0000; text-decoration-color: #ff0000\">│</span>\n",
       "<span style=\"color: #ff0000; text-decoration-color: #ff0000\">│</span> in list_latest_monitoring_output:29                                                              <span style=\"color: #ff0000; text-decoration-color: #ff0000\">│</span>\n",
       "<span style=\"color: #ff0000; text-decoration-color: #ff0000\">│</span>                                                                                                  <span style=\"color: #ff0000; text-decoration-color: #ff0000\">│</span>\n",
       "<span style=\"color: #ff0000; text-decoration-color: #ff0000\">│</span>   <span style=\"color: #7f7f7f; text-decoration-color: #7f7f7f\">26 </span><span style=\"color: #7f7f7f; text-decoration-color: #7f7f7f\">│   │   </span>[item[<span style=\"color: #808000; text-decoration-color: #808000\">\"Key\"</span>] <span style=\"color: #0000ff; text-decoration-color: #0000ff\">for</span> item <span style=\"color: #ff00ff; text-decoration-color: #ff00ff\">in</span> response.get(<span style=\"color: #808000; text-decoration-color: #808000\">\"Contents\"</span>, []) <span style=\"color: #0000ff; text-decoration-color: #0000ff\">if</span> item[<span style=\"color: #808000; text-decoration-color: #808000\">\"Key\"</span>].endswith(<span style=\"color: #808000; text-decoration-color: #808000\">\"c</span>    <span style=\"color: #ff0000; text-decoration-color: #ff0000\">│</span>\n",
       "<span style=\"color: #ff0000; text-decoration-color: #ff0000\">│</span>   <span style=\"color: #7f7f7f; text-decoration-color: #7f7f7f\">27 </span><span style=\"color: #7f7f7f; text-decoration-color: #7f7f7f\">│   </span>)                                                                                       <span style=\"color: #ff0000; text-decoration-color: #ff0000\">│</span>\n",
       "<span style=\"color: #ff0000; text-decoration-color: #ff0000\">│</span>   <span style=\"color: #7f7f7f; text-decoration-color: #7f7f7f\">28 </span><span style=\"color: #7f7f7f; text-decoration-color: #7f7f7f\">│   </span><span style=\"color: #0000ff; text-decoration-color: #0000ff\">if</span> <span style=\"color: #ff00ff; text-decoration-color: #ff00ff\">not</span> keys:                                                                            <span style=\"color: #ff0000; text-decoration-color: #ff0000\">│</span>\n",
       "<span style=\"color: #ff0000; text-decoration-color: #ff0000\">│</span> <span style=\"color: #800000; text-decoration-color: #800000\">❱ </span>29 <span style=\"color: #7f7f7f; text-decoration-color: #7f7f7f\">│   │   </span><span style=\"color: #0000ff; text-decoration-color: #0000ff; font-weight: bold; text-decoration: underline\">raise</span><span style=\"font-weight: bold; text-decoration: underline\"> </span><span style=\"color: #00ffff; text-decoration-color: #00ffff; font-weight: bold; text-decoration: underline\">Exception</span><span style=\"font-weight: bold; text-decoration: underline\">(</span><span style=\"color: #808000; text-decoration-color: #808000; font-weight: bold; text-decoration: underline\">\"No constraints.json files found.\"</span><span style=\"font-weight: bold; text-decoration: underline\">)</span>                                 <span style=\"color: #ff0000; text-decoration-color: #ff0000\">│</span>\n",
       "<span style=\"color: #ff0000; text-decoration-color: #ff0000\">│</span>   <span style=\"color: #7f7f7f; text-decoration-color: #7f7f7f\">30 </span><span style=\"color: #7f7f7f; text-decoration-color: #7f7f7f\">│   </span>latest_constraints_key = keys[-<span style=\"color: #0000ff; text-decoration-color: #0000ff\">1</span>]                                                       <span style=\"color: #ff0000; text-decoration-color: #ff0000\">│</span>\n",
       "<span style=\"color: #ff0000; text-decoration-color: #ff0000\">│</span>   <span style=\"color: #7f7f7f; text-decoration-color: #7f7f7f\">31 </span><span style=\"color: #7f7f7f; text-decoration-color: #7f7f7f\">│   </span>latest_base = os.path.dirname(latest_constraints_key)                                   <span style=\"color: #ff0000; text-decoration-color: #ff0000\">│</span>\n",
       "<span style=\"color: #ff0000; text-decoration-color: #ff0000\">│</span>   <span style=\"color: #7f7f7f; text-decoration-color: #7f7f7f\">32 </span><span style=\"color: #7f7f7f; text-decoration-color: #7f7f7f\">│   </span><span style=\"color: #0000ff; text-decoration-color: #0000ff\">return</span> latest_base                                                                      <span style=\"color: #ff0000; text-decoration-color: #ff0000\">│</span>\n",
       "<span style=\"color: #ff0000; text-decoration-color: #ff0000\">╰──────────────────────────────────────────────────────────────────────────────────────────────────╯</span>\n",
       "<span style=\"color: #ff0000; text-decoration-color: #ff0000; font-weight: bold\">Exception: </span>No constraints.json files found.\n",
       "</pre>\n"
      ],
      "text/plain": [
       "\u001b[38;2;255;0;0m╭─\u001b[0m\u001b[38;2;255;0;0m──────────────────────────────\u001b[0m\u001b[38;2;255;0;0m \u001b[0m\u001b[1;38;2;255;0;0mTraceback \u001b[0m\u001b[1;2;38;2;255;0;0m(most recent call last)\u001b[0m\u001b[38;2;255;0;0m \u001b[0m\u001b[38;2;255;0;0m───────────────────────────────\u001b[0m\u001b[38;2;255;0;0m─╮\u001b[0m\n",
       "\u001b[38;2;255;0;0m│\u001b[0m in <module>:34                                                                                   \u001b[38;2;255;0;0m│\u001b[0m\n",
       "\u001b[38;2;255;0;0m│\u001b[0m                                                                                                  \u001b[38;2;255;0;0m│\u001b[0m\n",
       "\u001b[38;2;255;0;0m│\u001b[0m   \u001b[2m31 \u001b[0m\u001b[2m│   \u001b[0mlatest_base = os.path.dirname(latest_constraints_key)                                   \u001b[38;2;255;0;0m│\u001b[0m\n",
       "\u001b[38;2;255;0;0m│\u001b[0m   \u001b[2m32 \u001b[0m\u001b[2m│   \u001b[0m\u001b[94mreturn\u001b[0m latest_base                                                                      \u001b[38;2;255;0;0m│\u001b[0m\n",
       "\u001b[38;2;255;0;0m│\u001b[0m   \u001b[2m33 \u001b[0m                                                                                            \u001b[38;2;255;0;0m│\u001b[0m\n",
       "\u001b[38;2;255;0;0m│\u001b[0m \u001b[31m❱ \u001b[0m34 latest_prefix = \u001b[1;4mlist_latest_monitoring_output(bucket_name, monitoring_output_prefix)\u001b[0m        \u001b[38;2;255;0;0m│\u001b[0m\n",
       "\u001b[38;2;255;0;0m│\u001b[0m   \u001b[2m35 \u001b[0m                                                                                            \u001b[38;2;255;0;0m│\u001b[0m\n",
       "\u001b[38;2;255;0;0m│\u001b[0m   \u001b[2m36 \u001b[0m\u001b[2m# --- Download files ---\u001b[0m                                                                    \u001b[38;2;255;0;0m│\u001b[0m\n",
       "\u001b[38;2;255;0;0m│\u001b[0m   \u001b[2m37 \u001b[0mconstraints = download_s3_file(bucket_name, \u001b[33mf\u001b[0m\u001b[33m\"\u001b[0m\u001b[33m{\u001b[0mlatest_prefix\u001b[33m}\u001b[0m\u001b[33m/constraints.json\u001b[0m\u001b[33m\"\u001b[0m)            \u001b[38;2;255;0;0m│\u001b[0m\n",
       "\u001b[38;2;255;0;0m│\u001b[0m                                                                                                  \u001b[38;2;255;0;0m│\u001b[0m\n",
       "\u001b[38;2;255;0;0m│\u001b[0m in list_latest_monitoring_output:29                                                              \u001b[38;2;255;0;0m│\u001b[0m\n",
       "\u001b[38;2;255;0;0m│\u001b[0m                                                                                                  \u001b[38;2;255;0;0m│\u001b[0m\n",
       "\u001b[38;2;255;0;0m│\u001b[0m   \u001b[2m26 \u001b[0m\u001b[2m│   │   \u001b[0m[item[\u001b[33m\"\u001b[0m\u001b[33mKey\u001b[0m\u001b[33m\"\u001b[0m] \u001b[94mfor\u001b[0m item \u001b[95min\u001b[0m response.get(\u001b[33m\"\u001b[0m\u001b[33mContents\u001b[0m\u001b[33m\"\u001b[0m, []) \u001b[94mif\u001b[0m item[\u001b[33m\"\u001b[0m\u001b[33mKey\u001b[0m\u001b[33m\"\u001b[0m].endswith(\u001b[33m\"\u001b[0m\u001b[33mc\u001b[0m    \u001b[38;2;255;0;0m│\u001b[0m\n",
       "\u001b[38;2;255;0;0m│\u001b[0m   \u001b[2m27 \u001b[0m\u001b[2m│   \u001b[0m)                                                                                       \u001b[38;2;255;0;0m│\u001b[0m\n",
       "\u001b[38;2;255;0;0m│\u001b[0m   \u001b[2m28 \u001b[0m\u001b[2m│   \u001b[0m\u001b[94mif\u001b[0m \u001b[95mnot\u001b[0m keys:                                                                            \u001b[38;2;255;0;0m│\u001b[0m\n",
       "\u001b[38;2;255;0;0m│\u001b[0m \u001b[31m❱ \u001b[0m29 \u001b[2m│   │   \u001b[0m\u001b[1;4;94mraise\u001b[0m\u001b[1;4m \u001b[0m\u001b[1;4;96mException\u001b[0m\u001b[1;4m(\u001b[0m\u001b[1;4;33m\"\u001b[0m\u001b[1;4;33mNo constraints.json files found.\u001b[0m\u001b[1;4;33m\"\u001b[0m\u001b[1;4m)\u001b[0m                                 \u001b[38;2;255;0;0m│\u001b[0m\n",
       "\u001b[38;2;255;0;0m│\u001b[0m   \u001b[2m30 \u001b[0m\u001b[2m│   \u001b[0mlatest_constraints_key = keys[-\u001b[94m1\u001b[0m]                                                       \u001b[38;2;255;0;0m│\u001b[0m\n",
       "\u001b[38;2;255;0;0m│\u001b[0m   \u001b[2m31 \u001b[0m\u001b[2m│   \u001b[0mlatest_base = os.path.dirname(latest_constraints_key)                                   \u001b[38;2;255;0;0m│\u001b[0m\n",
       "\u001b[38;2;255;0;0m│\u001b[0m   \u001b[2m32 \u001b[0m\u001b[2m│   \u001b[0m\u001b[94mreturn\u001b[0m latest_base                                                                      \u001b[38;2;255;0;0m│\u001b[0m\n",
       "\u001b[38;2;255;0;0m╰──────────────────────────────────────────────────────────────────────────────────────────────────╯\u001b[0m\n",
       "\u001b[1;91mException: \u001b[0mNo constraints.json files found.\n"
      ]
     },
     "metadata": {},
     "output_type": "display_data"
    }
   ],
   "source": [
    "import boto3\n",
    "import json\n",
    "import tempfile\n",
    "import os\n",
    "\n",
    "# --- CONFIG ---\n",
    "bucket_name = \"sagemaker-us-east-1-553246940090\"\n",
    "monitoring_output_prefix = \"autism_prediction/reports/output\"  \n",
    "\n",
    "# --- Initialize S3 client ---\n",
    "s3 = boto3.client(\"s3\")\n",
    "\n",
    "# --- Utility to download a file from S3 ---\n",
    "def download_s3_file(bucket, key):\n",
    "    with tempfile.NamedTemporaryFile(delete=False) as tmp_file:\n",
    "        s3.download_file(bucket, key, tmp_file.name)\n",
    "        with open(tmp_file.name, \"r\") as f:\n",
    "            content = json.load(f)\n",
    "        os.unlink(tmp_file.name)\n",
    "    return content\n",
    "\n",
    "# --- Locate latest output folder ---\n",
    "def list_latest_monitoring_output(bucket, prefix):\n",
    "    response = s3.list_objects_v2(Bucket=bucket, Prefix=prefix)\n",
    "    keys = sorted(\n",
    "        [item[\"Key\"] for item in response.get(\"Contents\", []) if item[\"Key\"].endswith(\"constraints.json\")]\n",
    "    )\n",
    "    if not keys:\n",
    "        raise Exception(\"No constraints.json files found.\")\n",
    "    latest_constraints_key = keys[-1]\n",
    "    latest_base = os.path.dirname(latest_constraints_key)\n",
    "    return latest_base\n",
    "\n",
    "latest_prefix = list_latest_monitoring_output(bucket_name, monitoring_output_prefix)\n",
    "\n",
    "# --- Download files ---\n",
    "constraints = download_s3_file(bucket_name, f\"{latest_prefix}/constraints.json\")\n",
    "statistics = download_s3_file(bucket_name, f\"{latest_prefix}/statistics.json\")\n",
    "\n",
    "# --- Accuracy Drift / Constraint Violations Report ---\n",
    "violations = constraints.get(\"violations\", [])\n",
    "\n",
    "print(\"\\n🔎 Constraint Violations (Accuracy Drift & Rules):\")\n",
    "if not violations:\n",
    "    print(\"No constraint violations detected.\")\n",
    "else:\n",
    "    for v in violations:\n",
    "        print(f\"Feature: {v['feature_name']}, Constraint: {v['constraint_check_type']}, Description: {v['description']}\")\n",
    "\n",
    "# --- Feature Drift Analysis ---\n",
    "print(\"\\nFeature Drift:\")\n",
    "features = statistics[\"features\"]\n",
    "for feature in features:\n",
    "    name = feature[\"name\"]\n",
    "    drift = feature.get(\"drift_detected\", False)\n",
    "    p_val = feature.get(\"p_value\", None)\n",
    "    if drift:\n",
    "        print(f\"{name}: Drift Detected (p-value={p_val})\")\n",
    "    else:\n",
    "        print(f\"{name}: No Drift\")\n",
    "\n",
    "# --- Overall Summary ---\n",
    "print(\"\\nDrift analysis complete.\")"
   ]
  },
  {
   "cell_type": "code",
   "execution_count": null,
   "id": "0057e326-dd8b-4fbb-a23c-9879e84b4d58",
   "metadata": {},
   "outputs": [],
   "source": []
  }
 ],
 "metadata": {
  "kernelspec": {
   "display_name": "Python 3 (ipykernel)",
   "language": "python",
   "name": "python3"
  },
  "language_info": {
   "codemirror_mode": {
    "name": "ipython",
    "version": 3
   },
   "file_extension": ".py",
   "mimetype": "text/x-python",
   "name": "python",
   "nbconvert_exporter": "python",
   "pygments_lexer": "ipython3",
   "version": "3.12.9"
  }
 },
 "nbformat": 4,
 "nbformat_minor": 5
}
