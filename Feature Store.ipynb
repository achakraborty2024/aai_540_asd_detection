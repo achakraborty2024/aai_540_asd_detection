{
 "cells": [
  {
   "attachments": {},
   "cell_type": "markdown",
   "metadata": {},
   "source": [
    "# Fraud Detection with Amazon SageMaker FeatureStore\n"
   ]
  },
  {
   "attachments": {},
   "cell_type": "markdown",
   "metadata": {},
   "source": [
    "This notebook is the basic breakdown for ingesting data into sagemaker and creating a training & testing dataset for a random forrest model  \n",
    "**Please be mindful:**  \n",
    "This is not a notebook for final submission, rather a draft with notes and edits to communicate my updates to the team\n",
    "___"
   ]
  },
  {
   "attachments": {},
   "cell_type": "markdown",
   "metadata": {},
   "source": [
    "\n",
    "Kernel `Python 3 (Data Science)` works well with this notebook.\n",
    "\n",
    "The following policies need to be attached to the execution role:\n",
    "- AmazonSageMakerFullAccess\n",
    "- AmazonS3FullAccess\n",
    "\n",
    "## Contents\n",
    "1. [Background](#Background)\n",
    "1. [Setup SageMaker FeatureStore](#Setup-SageMaker-FeatureStore)\n",
    "1. [Inspect Dataset](#Inspect-Dataset)\n",
    "1. [Ingest Data into FeatureStore](#Ingest-Data-into-FeatureStore)\n",
    "1. [Build Training Dataset](#Build-Training-Dataset)\n",
    "1. [Train and Deploy the Model](#Train-and-Deploy-the-Model)\n",
    "1. [SageMaker FeatureStore At Inference](#SageMaker-FeatureStore-During-Inference)\n",
    "1. [Cleanup Resources](#Cleanup-Resources)\n",
    "\n",
    "## Background\n",
    "\n",
    "Amazon SageMaker FeatureStore is a new SageMaker capability that makes it easy for customers to create and manage curated data for machine learning (ML) development. SageMaker FeatureStore enables data ingestion via a high TPS API and data consumption via the online and offline stores. \n",
    "\n",
    "This notebook provides an example for the APIs provided by SageMaker FeatureStore by walking through the process of training a fraud detection model. The notebook demonstrates how the dataset's tables can be ingested into the FeatureStore, queried to create a training dataset, and quickly accessed during inference. \n",
    "\n",
    "\n",
    "### Terminology\n",
    "\n",
    "A **FeatureGroup** is the main resource that contains the metadata for all the data stored in SageMaker FeatureStore. A FeatureGroup contains a list of FeatureDefinitions. A **FeatureDefinition** consists of a name and one of the following data types: a integral, string or decimal. The FeatureGroup also contains an **OnlineStoreConfig** and an **OfflineStoreConfig** controlling where the data is stored. Enabling the online store allows quick access to the latest value for a Record via the GetRecord API. The offline store, a required configuration, allows storage of historical data in your S3 bucket. \n",
    "\n",
    "Once a FeatureGroup is created, data can be added as Records. **Records** can be thought of as a row in a table. Each record will have a unique **RecordIdentifier** along with values for all other FeatureDefinitions in the FeatureGroup. "
   ]
  },
  {
   "attachments": {},
   "cell_type": "markdown",
   "metadata": {},
   "source": [
    "## Setup SageMaker FeatureStore\n",
    "\n",
    "Let's start by setting up the SageMaker Python SDK and boto client. Note that this notebook requires a `boto3` version above `1.17.21`"
   ]
  },
  {
   "cell_type": "code",
   "execution_count": 1,
   "metadata": {
    "execution": {
     "iopub.execute_input": "2025-06-18T11:37:20.596940Z",
     "iopub.status.busy": "2025-06-18T11:37:20.596671Z",
     "iopub.status.idle": "2025-06-18T11:37:25.216074Z",
     "shell.execute_reply": "2025-06-18T11:37:25.215119Z",
     "shell.execute_reply.started": "2025-06-18T11:37:20.596916Z"
    }
   },
   "outputs": [
    {
     "name": "stdout",
     "output_type": "stream",
     "text": [
      "sagemaker.config INFO - Not applying SDK defaults from location: /etc/xdg/sagemaker/config.yaml\n",
      "sagemaker.config INFO - Not applying SDK defaults from location: /home/sagemaker-user/.config/sagemaker/config.yaml\n",
      "Requirement already satisfied: boto3>1.17.21 in /opt/conda/lib/python3.12/site-packages (1.37.1)\n",
      "Requirement already satisfied: botocore<1.38.0,>=1.37.1 in /opt/conda/lib/python3.12/site-packages (from boto3>1.17.21) (1.37.1)\n",
      "Requirement already satisfied: jmespath<2.0.0,>=0.7.1 in /opt/conda/lib/python3.12/site-packages (from boto3>1.17.21) (1.0.1)\n",
      "Requirement already satisfied: s3transfer<0.12.0,>=0.11.0 in /opt/conda/lib/python3.12/site-packages (from boto3>1.17.21) (0.11.3)\n",
      "Requirement already satisfied: python-dateutil<3.0.0,>=2.1 in /opt/conda/lib/python3.12/site-packages (from botocore<1.38.0,>=1.37.1->boto3>1.17.21) (2.9.0.post0)\n",
      "Requirement already satisfied: urllib3!=2.2.0,<3,>=1.25.4 in /opt/conda/lib/python3.12/site-packages (from botocore<1.38.0,>=1.37.1->boto3>1.17.21) (1.26.19)\n",
      "Requirement already satisfied: six>=1.5 in /opt/conda/lib/python3.12/site-packages (from python-dateutil<3.0.0,>=2.1->botocore<1.38.0,>=1.37.1->boto3>1.17.21) (1.17.0)\n",
      "Note: you may need to restart the kernel to use updated packages.\n"
     ]
    }
   ],
   "source": [
    "import boto3\n",
    "import sagemaker\n",
    "\n",
    "original_boto3_version = boto3.__version__\n",
    "%pip install 'boto3>1.17.21'"
   ]
  },
  {
   "cell_type": "code",
   "execution_count": 2,
   "metadata": {
    "execution": {
     "iopub.execute_input": "2025-06-18T11:37:25.217771Z",
     "iopub.status.busy": "2025-06-18T11:37:25.217526Z",
     "iopub.status.idle": "2025-06-18T11:37:25.371732Z",
     "shell.execute_reply": "2025-06-18T11:37:25.370953Z",
     "shell.execute_reply.started": "2025-06-18T11:37:25.217747Z"
    }
   },
   "outputs": [],
   "source": [
    "from sagemaker.session import Session\n",
    "\n",
    "region = boto3.Session().region_name\n",
    "\n",
    "boto_session = boto3.Session(region_name=region)\n",
    "\n",
    "sagemaker_client = boto_session.client(service_name=\"sagemaker\", region_name=region)\n",
    "featurestore_runtime = boto_session.client(\n",
    "    service_name=\"sagemaker-featurestore-runtime\", region_name=region\n",
    ")\n",
    "\n",
    "feature_store_session = Session(\n",
    "    boto_session=boto_session,\n",
    "    sagemaker_client=sagemaker_client,\n",
    "    sagemaker_featurestore_runtime_client=featurestore_runtime,\n",
    ")"
   ]
  },
  {
   "cell_type": "code",
   "execution_count": 3,
   "metadata": {
    "execution": {
     "iopub.execute_input": "2025-06-18T11:37:25.372849Z",
     "iopub.status.busy": "2025-06-18T11:37:25.372526Z",
     "iopub.status.idle": "2025-06-18T11:37:25.691640Z",
     "shell.execute_reply": "2025-06-18T11:37:25.690904Z",
     "shell.execute_reply.started": "2025-06-18T11:37:25.372829Z"
    }
   },
   "outputs": [
    {
     "name": "stdout",
     "output_type": "stream",
     "text": [
      "sagemaker-us-west-2-204864359127\n"
     ]
    }
   ],
   "source": [
    "default_s3_bucket_name = feature_store_session.default_bucket()\n",
    "print(default_s3_bucket_name)\n"
   ]
  },
  {
   "cell_type": "markdown",
   "metadata": {},
   "source": [
    "# Inspect Dataset  \n",
    "Confirming that we are working with the correct dataset.\n",
    "* It is to be noted here, the main reason we use Sagemaker and AWS ML tools, is to deal with multiple large datasets that are unstructured. AWS allows us to both concatenate and structure these datasets in a clean way that helps us to build better models. Here for the scope of this class project, we are only using **ONE** dataset, and this dataset is small. We will **not** combine multiple datasets (_unless we choose to do so in the future_) so some steps were skipped.\n",
    "* **Why this matters:** The purpose of the feature store is to create a framework that accepts different datasets and organizes them into unique features. Because we are only working with one dataset, there is only one feature group. There is no need for more than one feature group.\n",
    "\n",
    "The objective of the model is to predict if a patient is likely for Austism Disorder.  \n",
    "____"
   ]
  },
  {
   "cell_type": "code",
   "execution_count": 4,
   "metadata": {
    "execution": {
     "iopub.execute_input": "2025-06-18T11:37:30.281100Z",
     "iopub.status.busy": "2025-06-18T11:37:30.280753Z",
     "iopub.status.idle": "2025-06-18T11:37:30.778360Z",
     "shell.execute_reply": "2025-06-18T11:37:30.777639Z",
     "shell.execute_reply.started": "2025-06-18T11:37:30.281078Z"
    }
   },
   "outputs": [],
   "source": [
    "import pandas as pd\n",
    "\n",
    "s3_uri = \"s3://sagemaker-us-west-2-204864359127/autism_prediction/csv/7b6209d9b95c40288fc24b30de17561e.snappy.parquet\"\n",
    "df = pd.read_parquet(s3_uri, engine=\"pyarrow\")"
   ]
  },
  {
   "cell_type": "markdown",
   "metadata": {},
   "source": [
    "> Here we visualize the data, and inspect it."
   ]
  },
  {
   "cell_type": "code",
   "execution_count": 5,
   "metadata": {
    "execution": {
     "iopub.execute_input": "2025-06-18T11:37:32.693647Z",
     "iopub.status.busy": "2025-06-18T11:37:32.692970Z",
     "iopub.status.idle": "2025-06-18T11:37:32.856518Z",
     "shell.execute_reply": "2025-06-18T11:37:32.855682Z",
     "shell.execute_reply.started": "2025-06-18T11:37:32.693617Z"
    }
   },
   "outputs": [
    {
     "name": "stdout",
     "output_type": "stream",
     "text": [
      "   id  a1_score  a2_score  a3_score  a4_score  a5_score  a6_score  a7_score  \\\n",
      "0   1         1         0         1         0         1         0         1   \n",
      "1   2         0         0         0         0         0         0         0   \n",
      "2   3         1         1         1         1         1         1         1   \n",
      "3   4         0         0         0         0         0         0         0   \n",
      "4   5         0         0         0         0         0         0         0   \n",
      "\n",
      "   a8_score  a9_score  ...  gender       ethnicity jaundice austim  \\\n",
      "0         0         1  ...       f               ?       no     no   \n",
      "1         0         0  ...       m               ?       no     no   \n",
      "2         1         1  ...       m  White-European       no    yes   \n",
      "3         0         0  ...       f               ?       no     no   \n",
      "4         0         0  ...       m               ?       no     no   \n",
      "\n",
      "   contry_of_res used_app_before     result     age_desc  relation class_asd  \n",
      "0        Austria              no   6.351166  18 and more      Self         0  \n",
      "1          India              no   2.255185  18 and more      Self         0  \n",
      "2  United States              no  14.851484  18 and more      Self         1  \n",
      "3  United States              no   2.276617  18 and more      Self         0  \n",
      "4   South Africa              no  -4.777286  18 and more      Self         0  \n",
      "\n",
      "[5 rows x 22 columns]\n",
      "id                   int64\n",
      "a1_score             int64\n",
      "a2_score             int64\n",
      "a3_score             int64\n",
      "a4_score             int64\n",
      "a5_score             int64\n",
      "a6_score             int64\n",
      "a7_score             int64\n",
      "a8_score             int64\n",
      "a9_score             int64\n",
      "a10_score            int64\n",
      "age                float64\n",
      "gender              object\n",
      "ethnicity           object\n",
      "jaundice            object\n",
      "austim              object\n",
      "contry_of_res       object\n",
      "used_app_before     object\n",
      "result             float64\n",
      "age_desc            object\n",
      "relation            object\n",
      "class_asd            int64\n",
      "dtype: object\n"
     ]
    }
   ],
   "source": [
    "import pandas as pd\n",
    "\n",
    "# Read Parquet file from S3 (make sure you have pyarrow or fastparquet installed)\n",
    "df = pd.read_parquet(s3_uri, engine='pyarrow')\n",
    "\n",
    "# Show first few rows\n",
    "print(df.head())\n",
    "\n",
    "# Show datatypes\n",
    "print(df.dtypes)\n"
   ]
  },
  {
   "cell_type": "code",
   "execution_count": 8,
   "metadata": {
    "execution": {
     "iopub.execute_input": "2025-06-18T11:39:06.463492Z",
     "iopub.status.busy": "2025-06-18T11:39:06.463189Z",
     "iopub.status.idle": "2025-06-18T11:39:06.471681Z",
     "shell.execute_reply": "2025-06-18T11:39:06.470881Z",
     "shell.execute_reply.started": "2025-06-18T11:39:06.463465Z"
    }
   },
   "outputs": [
    {
     "data": {
      "text/plain": [
       "array(['?', 'White-European', 'Middle Eastern ', 'Pasifika', 'Black',\n",
       "       'Others', 'Hispanic', 'Asian', 'Turkish', 'South Asian', 'Latino',\n",
       "       'others'], dtype=object)"
      ]
     },
     "execution_count": 8,
     "metadata": {},
     "output_type": "execute_result"
    }
   ],
   "source": [
    "df['ethnicity'].unique()"
   ]
  },
  {
   "cell_type": "code",
   "execution_count": 9,
   "metadata": {
    "execution": {
     "iopub.execute_input": "2025-06-18T11:39:57.101030Z",
     "iopub.status.busy": "2025-06-18T11:39:57.100497Z",
     "iopub.status.idle": "2025-06-18T11:39:57.107664Z",
     "shell.execute_reply": "2025-06-18T11:39:57.106647Z",
     "shell.execute_reply.started": "2025-06-18T11:39:57.101000Z"
    }
   },
   "outputs": [
    {
     "data": {
      "text/plain": [
       "array(['Austria', 'India', 'United States', 'South Africa', 'Jordan',\n",
       "       'United Kingdom', 'Brazil', 'New Zealand', 'Canada', 'Kazakhstan',\n",
       "       'United Arab Emirates', 'Australia', 'Ukraine', 'Iraq', 'France',\n",
       "       'Malaysia', 'Viet Nam', 'Egypt', 'Netherlands', 'Afghanistan',\n",
       "       'Oman', 'Italy', 'AmericanSamoa', 'Bahamas', 'Saudi Arabia',\n",
       "       'Ireland', 'Aruba', 'Sri Lanka', 'Russia', 'Bolivia', 'Azerbaijan',\n",
       "       'Armenia', 'Serbia', 'Ethiopia', 'Sweden', 'Iceland', 'Hong Kong',\n",
       "       'Angola', 'China', 'Germany', 'Spain', 'Tonga', 'Pakistan', 'Iran',\n",
       "       'Argentina', 'Japan', 'Mexico', 'Nicaragua', 'Sierra Leone',\n",
       "       'Czech Republic', 'Niger', 'Romania', 'Cyprus', 'Belgium',\n",
       "       'Burundi', 'Bangladesh'], dtype=object)"
      ]
     },
     "execution_count": 9,
     "metadata": {},
     "output_type": "execute_result"
    }
   ],
   "source": [
    "df['contry_of_res'].unique()"
   ]
  },
  {
   "cell_type": "code",
   "execution_count": 11,
   "metadata": {
    "execution": {
     "iopub.execute_input": "2025-06-18T11:40:35.986704Z",
     "iopub.status.busy": "2025-06-18T11:40:35.986320Z",
     "iopub.status.idle": "2025-06-18T11:40:35.991628Z",
     "shell.execute_reply": "2025-06-18T11:40:35.990907Z",
     "shell.execute_reply.started": "2025-06-18T11:40:35.986681Z"
    }
   },
   "outputs": [
    {
     "data": {
      "text/plain": [
       "array(['Self', 'Relative', 'Parent', '?', 'Others',\n",
       "       'Health care professional'], dtype=object)"
      ]
     },
     "execution_count": 11,
     "metadata": {},
     "output_type": "execute_result"
    }
   ],
   "source": [
    "df['relation'].unique()"
   ]
  },
  {
   "cell_type": "code",
   "execution_count": 12,
   "metadata": {
    "execution": {
     "iopub.execute_input": "2025-06-18T11:41:07.534357Z",
     "iopub.status.busy": "2025-06-18T11:41:07.534003Z",
     "iopub.status.idle": "2025-06-18T11:41:07.540305Z",
     "shell.execute_reply": "2025-06-18T11:41:07.539381Z",
     "shell.execute_reply.started": "2025-06-18T11:41:07.534334Z"
    }
   },
   "outputs": [
    {
     "data": {
      "text/plain": [
       "array(['18 and more'], dtype=object)"
      ]
     },
     "execution_count": 12,
     "metadata": {},
     "output_type": "execute_result"
    }
   ],
   "source": [
    "df['age_desc'].unique()"
   ]
  },
  {
   "cell_type": "code",
   "execution_count": 16,
   "metadata": {
    "execution": {
     "iopub.execute_input": "2025-06-18T11:42:40.172233Z",
     "iopub.status.busy": "2025-06-18T11:42:40.171464Z",
     "iopub.status.idle": "2025-06-18T11:42:40.210754Z",
     "shell.execute_reply": "2025-06-18T11:42:40.210069Z",
     "shell.execute_reply.started": "2025-06-18T11:42:40.172208Z"
    }
   },
   "outputs": [
    {
     "data": {
      "text/html": [
       "<div>\n",
       "<style scoped>\n",
       "    .dataframe tbody tr th:only-of-type {\n",
       "        vertical-align: middle;\n",
       "    }\n",
       "\n",
       "    .dataframe tbody tr th {\n",
       "        vertical-align: top;\n",
       "    }\n",
       "\n",
       "    .dataframe thead th {\n",
       "        text-align: right;\n",
       "    }\n",
       "</style>\n",
       "<table border=\"1\" class=\"dataframe\">\n",
       "  <thead>\n",
       "    <tr style=\"text-align: right;\">\n",
       "      <th></th>\n",
       "      <th>id</th>\n",
       "      <th>a1_score</th>\n",
       "      <th>a2_score</th>\n",
       "      <th>a3_score</th>\n",
       "      <th>a4_score</th>\n",
       "      <th>a5_score</th>\n",
       "      <th>a6_score</th>\n",
       "      <th>a7_score</th>\n",
       "      <th>a8_score</th>\n",
       "      <th>a9_score</th>\n",
       "      <th>a10_score</th>\n",
       "      <th>age</th>\n",
       "      <th>result</th>\n",
       "      <th>class_asd</th>\n",
       "    </tr>\n",
       "  </thead>\n",
       "  <tbody>\n",
       "    <tr>\n",
       "      <th>count</th>\n",
       "      <td>800.0000</td>\n",
       "      <td>800.000000</td>\n",
       "      <td>800.000000</td>\n",
       "      <td>800.000000</td>\n",
       "      <td>800.00000</td>\n",
       "      <td>800.000000</td>\n",
       "      <td>800.000000</td>\n",
       "      <td>800.000000</td>\n",
       "      <td>800.000000</td>\n",
       "      <td>800.000000</td>\n",
       "      <td>800.000000</td>\n",
       "      <td>800.000000</td>\n",
       "      <td>800.000000</td>\n",
       "      <td>800.000000</td>\n",
       "    </tr>\n",
       "    <tr>\n",
       "      <th>mean</th>\n",
       "      <td>400.5000</td>\n",
       "      <td>0.560000</td>\n",
       "      <td>0.530000</td>\n",
       "      <td>0.450000</td>\n",
       "      <td>0.41500</td>\n",
       "      <td>0.395000</td>\n",
       "      <td>0.303750</td>\n",
       "      <td>0.397500</td>\n",
       "      <td>0.508750</td>\n",
       "      <td>0.495000</td>\n",
       "      <td>0.617500</td>\n",
       "      <td>28.452118</td>\n",
       "      <td>8.537303</td>\n",
       "      <td>0.201250</td>\n",
       "    </tr>\n",
       "    <tr>\n",
       "      <th>std</th>\n",
       "      <td>231.0844</td>\n",
       "      <td>0.496697</td>\n",
       "      <td>0.499411</td>\n",
       "      <td>0.497805</td>\n",
       "      <td>0.49303</td>\n",
       "      <td>0.489157</td>\n",
       "      <td>0.460164</td>\n",
       "      <td>0.489687</td>\n",
       "      <td>0.500236</td>\n",
       "      <td>0.500288</td>\n",
       "      <td>0.486302</td>\n",
       "      <td>16.310966</td>\n",
       "      <td>4.807676</td>\n",
       "      <td>0.401185</td>\n",
       "    </tr>\n",
       "    <tr>\n",
       "      <th>min</th>\n",
       "      <td>1.0000</td>\n",
       "      <td>0.000000</td>\n",
       "      <td>0.000000</td>\n",
       "      <td>0.000000</td>\n",
       "      <td>0.00000</td>\n",
       "      <td>0.000000</td>\n",
       "      <td>0.000000</td>\n",
       "      <td>0.000000</td>\n",
       "      <td>0.000000</td>\n",
       "      <td>0.000000</td>\n",
       "      <td>0.000000</td>\n",
       "      <td>2.718550</td>\n",
       "      <td>-6.137748</td>\n",
       "      <td>0.000000</td>\n",
       "    </tr>\n",
       "    <tr>\n",
       "      <th>25%</th>\n",
       "      <td>200.7500</td>\n",
       "      <td>0.000000</td>\n",
       "      <td>0.000000</td>\n",
       "      <td>0.000000</td>\n",
       "      <td>0.00000</td>\n",
       "      <td>0.000000</td>\n",
       "      <td>0.000000</td>\n",
       "      <td>0.000000</td>\n",
       "      <td>0.000000</td>\n",
       "      <td>0.000000</td>\n",
       "      <td>0.000000</td>\n",
       "      <td>17.198153</td>\n",
       "      <td>5.306575</td>\n",
       "      <td>0.000000</td>\n",
       "    </tr>\n",
       "    <tr>\n",
       "      <th>50%</th>\n",
       "      <td>400.5000</td>\n",
       "      <td>1.000000</td>\n",
       "      <td>1.000000</td>\n",
       "      <td>0.000000</td>\n",
       "      <td>0.00000</td>\n",
       "      <td>0.000000</td>\n",
       "      <td>0.000000</td>\n",
       "      <td>0.000000</td>\n",
       "      <td>1.000000</td>\n",
       "      <td>0.000000</td>\n",
       "      <td>1.000000</td>\n",
       "      <td>24.848350</td>\n",
       "      <td>9.605299</td>\n",
       "      <td>0.000000</td>\n",
       "    </tr>\n",
       "    <tr>\n",
       "      <th>75%</th>\n",
       "      <td>600.2500</td>\n",
       "      <td>1.000000</td>\n",
       "      <td>1.000000</td>\n",
       "      <td>1.000000</td>\n",
       "      <td>1.00000</td>\n",
       "      <td>1.000000</td>\n",
       "      <td>1.000000</td>\n",
       "      <td>1.000000</td>\n",
       "      <td>1.000000</td>\n",
       "      <td>1.000000</td>\n",
       "      <td>1.000000</td>\n",
       "      <td>35.865429</td>\n",
       "      <td>12.514484</td>\n",
       "      <td>0.000000</td>\n",
       "    </tr>\n",
       "    <tr>\n",
       "      <th>max</th>\n",
       "      <td>800.0000</td>\n",
       "      <td>1.000000</td>\n",
       "      <td>1.000000</td>\n",
       "      <td>1.000000</td>\n",
       "      <td>1.00000</td>\n",
       "      <td>1.000000</td>\n",
       "      <td>1.000000</td>\n",
       "      <td>1.000000</td>\n",
       "      <td>1.000000</td>\n",
       "      <td>1.000000</td>\n",
       "      <td>1.000000</td>\n",
       "      <td>89.461718</td>\n",
       "      <td>15.853126</td>\n",
       "      <td>1.000000</td>\n",
       "    </tr>\n",
       "  </tbody>\n",
       "</table>\n",
       "</div>"
      ],
      "text/plain": [
       "             id    a1_score    a2_score    a3_score   a4_score    a5_score  \\\n",
       "count  800.0000  800.000000  800.000000  800.000000  800.00000  800.000000   \n",
       "mean   400.5000    0.560000    0.530000    0.450000    0.41500    0.395000   \n",
       "std    231.0844    0.496697    0.499411    0.497805    0.49303    0.489157   \n",
       "min      1.0000    0.000000    0.000000    0.000000    0.00000    0.000000   \n",
       "25%    200.7500    0.000000    0.000000    0.000000    0.00000    0.000000   \n",
       "50%    400.5000    1.000000    1.000000    0.000000    0.00000    0.000000   \n",
       "75%    600.2500    1.000000    1.000000    1.000000    1.00000    1.000000   \n",
       "max    800.0000    1.000000    1.000000    1.000000    1.00000    1.000000   \n",
       "\n",
       "         a6_score    a7_score    a8_score    a9_score   a10_score         age  \\\n",
       "count  800.000000  800.000000  800.000000  800.000000  800.000000  800.000000   \n",
       "mean     0.303750    0.397500    0.508750    0.495000    0.617500   28.452118   \n",
       "std      0.460164    0.489687    0.500236    0.500288    0.486302   16.310966   \n",
       "min      0.000000    0.000000    0.000000    0.000000    0.000000    2.718550   \n",
       "25%      0.000000    0.000000    0.000000    0.000000    0.000000   17.198153   \n",
       "50%      0.000000    0.000000    1.000000    0.000000    1.000000   24.848350   \n",
       "75%      1.000000    1.000000    1.000000    1.000000    1.000000   35.865429   \n",
       "max      1.000000    1.000000    1.000000    1.000000    1.000000   89.461718   \n",
       "\n",
       "           result   class_asd  \n",
       "count  800.000000  800.000000  \n",
       "mean     8.537303    0.201250  \n",
       "std      4.807676    0.401185  \n",
       "min     -6.137748    0.000000  \n",
       "25%      5.306575    0.000000  \n",
       "50%      9.605299    0.000000  \n",
       "75%     12.514484    0.000000  \n",
       "max     15.853126    1.000000  "
      ]
     },
     "execution_count": 16,
     "metadata": {},
     "output_type": "execute_result"
    }
   ],
   "source": [
    "df.describe()"
   ]
  },
  {
   "cell_type": "code",
   "execution_count": 39,
   "metadata": {
    "execution": {
     "iopub.execute_input": "2025-06-18T12:22:34.664705Z",
     "iopub.status.busy": "2025-06-18T12:22:34.664327Z",
     "iopub.status.idle": "2025-06-18T12:22:34.706642Z",
     "shell.execute_reply": "2025-06-18T12:22:34.705935Z",
     "shell.execute_reply.started": "2025-06-18T12:22:34.664683Z"
    }
   },
   "outputs": [
    {
     "name": "stdout",
     "output_type": "stream",
     "text": [
      "transaction-feature-group-17-07-05-45 2025-06-17 07:05:49.848000+00:00 Created\n",
      "identity-feature-group-17-07-05-45 2025-06-17 07:05:48.237000+00:00 Created\n"
     ]
    }
   ],
   "source": [
    "response = sagemaker_client.list_feature_groups()\n",
    "for fg in response['FeatureGroupSummaries']:\n",
    "    print(fg['FeatureGroupName'], fg['CreationTime'], fg['FeatureGroupStatus'])\n"
   ]
  },
  {
   "cell_type": "markdown",
   "metadata": {},
   "source": [
    "> **The cell below will delete your feature group**  \n",
    "> _(Only run if you need to recreate)_"
   ]
  },
  {
   "cell_type": "code",
   "execution_count": 38,
   "metadata": {
    "execution": {
     "iopub.execute_input": "2025-06-18T12:22:32.253304Z",
     "iopub.status.busy": "2025-06-18T12:22:32.252923Z",
     "iopub.status.idle": "2025-06-18T12:22:32.502125Z",
     "shell.execute_reply": "2025-06-18T12:22:32.501296Z",
     "shell.execute_reply.started": "2025-06-18T12:22:32.253272Z"
    }
   },
   "outputs": [
    {
     "name": "stdout",
     "output_type": "stream",
     "text": [
      "Requested deletion for feature group: autism-feature-group-2025-06-18-12-00-02\n"
     ]
    }
   ],
   "source": [
    "#feature_group_name = \"autism-feature-group-2025-06-18-12-00-02\"\n",
    "\n",
    "# Delete the feature group\n",
    "#sagemaker_client.delete_feature_group(FeatureGroupName=feature_group_name)\n",
    "\n",
    "#print(f\"Requested deletion for feature group: {feature_group_name}\")\n"
   ]
  },
  {
   "cell_type": "code",
   "execution_count": 27,
   "metadata": {
    "execution": {
     "iopub.execute_input": "2025-06-18T12:05:03.063423Z",
     "iopub.status.busy": "2025-06-18T12:05:03.062691Z",
     "iopub.status.idle": "2025-06-18T12:05:03.093947Z",
     "shell.execute_reply": "2025-06-18T12:05:03.093238Z",
     "shell.execute_reply.started": "2025-06-18T12:05:03.063391Z"
    }
   },
   "outputs": [
    {
     "name": "stdout",
     "output_type": "stream",
     "text": [
      "arn:aws:iam::204864359127:role/LabRole\n"
     ]
    }
   ],
   "source": [
    "from sagemaker import get_execution_role\n",
    "\n",
    "# Get your role as (role).\n",
    "role = get_execution_role()\n",
    "print(role)"
   ]
  },
  {
   "cell_type": "markdown",
   "metadata": {},
   "source": [
    "___\n",
    "Event_time columns are required for AWS feature store ingestion. As our dataset did not come with an origianl \"event_time\" column, we must create one manually using pandas (pd.to_datetime...) command. AWS accepts format _ISO-8601 with 'Z' suffix (UTC)_\n",
    "\n",
    "* It is here that I begin to understand that the AWS online feature store is best fit for time-dependent, real-time data processing.\n",
    "* The purpose of the offline store is to capture historical data from the online store. Because we only have one, static, dataset there is essentially, nothing to capture. And nothing to monitor.\n",
    "* Here we will ingest the dataset into the **online store**, but only to be ingested into the **offline store**. We will then train our model from the offline store.\n",
    "___"
   ]
  },
  {
   "cell_type": "code",
   "execution_count": 49,
   "metadata": {
    "execution": {
     "iopub.execute_input": "2025-06-18T12:31:12.988353Z",
     "iopub.status.busy": "2025-06-18T12:31:12.987731Z",
     "iopub.status.idle": "2025-06-18T12:31:13.006389Z",
     "shell.execute_reply": "2025-06-18T12:31:13.005698Z",
     "shell.execute_reply.started": "2025-06-18T12:31:12.988321Z"
    }
   },
   "outputs": [],
   "source": [
    "import time\n",
    "from datetime import datetime\n",
    "# Convert to proper ISO-8601 format with 'Z' suffix (UTC)\n",
    "df[\"event_time\"] = pd.to_datetime(df[\"event_time\"]).dt.strftime('%Y-%m-%dT%H:%M:%S.%f').str[:-3] + 'Z'\n",
    "event_time_feature_name = \"event_time\"\n"
   ]
  },
  {
   "cell_type": "code",
   "execution_count": 41,
   "metadata": {
    "execution": {
     "iopub.execute_input": "2025-06-18T12:22:51.552026Z",
     "iopub.status.busy": "2025-06-18T12:22:51.551363Z",
     "iopub.status.idle": "2025-06-18T12:22:51.558740Z",
     "shell.execute_reply": "2025-06-18T12:22:51.557951Z",
     "shell.execute_reply.started": "2025-06-18T12:22:51.551992Z"
    }
   },
   "outputs": [
    {
     "data": {
      "text/plain": [
       "[FeatureDefinition(feature_name='id', feature_type=<FeatureTypeEnum.INTEGRAL: 'Integral'>, collection_type=None),\n",
       " FeatureDefinition(feature_name='a1_score', feature_type=<FeatureTypeEnum.INTEGRAL: 'Integral'>, collection_type=None),\n",
       " FeatureDefinition(feature_name='a2_score', feature_type=<FeatureTypeEnum.INTEGRAL: 'Integral'>, collection_type=None),\n",
       " FeatureDefinition(feature_name='a3_score', feature_type=<FeatureTypeEnum.INTEGRAL: 'Integral'>, collection_type=None),\n",
       " FeatureDefinition(feature_name='a4_score', feature_type=<FeatureTypeEnum.INTEGRAL: 'Integral'>, collection_type=None),\n",
       " FeatureDefinition(feature_name='a5_score', feature_type=<FeatureTypeEnum.INTEGRAL: 'Integral'>, collection_type=None),\n",
       " FeatureDefinition(feature_name='a6_score', feature_type=<FeatureTypeEnum.INTEGRAL: 'Integral'>, collection_type=None),\n",
       " FeatureDefinition(feature_name='a7_score', feature_type=<FeatureTypeEnum.INTEGRAL: 'Integral'>, collection_type=None),\n",
       " FeatureDefinition(feature_name='a8_score', feature_type=<FeatureTypeEnum.INTEGRAL: 'Integral'>, collection_type=None),\n",
       " FeatureDefinition(feature_name='a9_score', feature_type=<FeatureTypeEnum.INTEGRAL: 'Integral'>, collection_type=None),\n",
       " FeatureDefinition(feature_name='a10_score', feature_type=<FeatureTypeEnum.INTEGRAL: 'Integral'>, collection_type=None),\n",
       " FeatureDefinition(feature_name='age', feature_type=<FeatureTypeEnum.FRACTIONAL: 'Fractional'>, collection_type=None),\n",
       " FeatureDefinition(feature_name='gender', feature_type=<FeatureTypeEnum.STRING: 'String'>, collection_type=None),\n",
       " FeatureDefinition(feature_name='ethnicity', feature_type=<FeatureTypeEnum.STRING: 'String'>, collection_type=None),\n",
       " FeatureDefinition(feature_name='jaundice', feature_type=<FeatureTypeEnum.STRING: 'String'>, collection_type=None),\n",
       " FeatureDefinition(feature_name='austim', feature_type=<FeatureTypeEnum.STRING: 'String'>, collection_type=None),\n",
       " FeatureDefinition(feature_name='contry_of_res', feature_type=<FeatureTypeEnum.STRING: 'String'>, collection_type=None),\n",
       " FeatureDefinition(feature_name='used_app_before', feature_type=<FeatureTypeEnum.STRING: 'String'>, collection_type=None),\n",
       " FeatureDefinition(feature_name='result', feature_type=<FeatureTypeEnum.FRACTIONAL: 'Fractional'>, collection_type=None),\n",
       " FeatureDefinition(feature_name='age_desc', feature_type=<FeatureTypeEnum.STRING: 'String'>, collection_type=None),\n",
       " FeatureDefinition(feature_name='relation', feature_type=<FeatureTypeEnum.STRING: 'String'>, collection_type=None),\n",
       " FeatureDefinition(feature_name='class_asd', feature_type=<FeatureTypeEnum.INTEGRAL: 'Integral'>, collection_type=None),\n",
       " FeatureDefinition(feature_name='event_time', feature_type=<FeatureTypeEnum.STRING: 'String'>, collection_type=None)]"
      ]
     },
     "execution_count": 41,
     "metadata": {},
     "output_type": "execute_result"
    }
   ],
   "source": [
    "from sagemaker.feature_store.feature_group import FeatureGroup\n",
    "from time import strftime, gmtime\n",
    "\n",
    "# Generate name\n",
    "feature_group_name = f\"autism-feature-group-{strftime('%Y-%m-%d-%H-%M-%S', gmtime())}\"\n",
    "\n",
    "# Initialize the Feature Group object\n",
    "feature_group = FeatureGroup(name=feature_group_name, sagemaker_session=feature_store_session)\n",
    "\n",
    "# Load feature definitions from the DataFrame\n",
    "feature_group.load_feature_definitions(data_frame=df)"
   ]
  },
  {
   "cell_type": "code",
   "execution_count": 42,
   "metadata": {
    "execution": {
     "iopub.execute_input": "2025-06-18T12:22:53.431488Z",
     "iopub.status.busy": "2025-06-18T12:22:53.431115Z",
     "iopub.status.idle": "2025-06-18T12:23:14.785769Z",
     "shell.execute_reply": "2025-06-18T12:23:14.784894Z",
     "shell.execute_reply.started": "2025-06-18T12:22:53.431464Z"
    }
   },
   "outputs": [
    {
     "name": "stdout",
     "output_type": "stream",
     "text": [
      "Waiting for Feature Group Creation\n",
      "Waiting for Feature Group Creation\n",
      "Waiting for Feature Group Creation\n",
      "Waiting for Feature Group Creation\n",
      "FeatureGroup autism-feature-group-2025-06-18-12-22-51 successfully created.\n"
     ]
    }
   ],
   "source": [
    "def wait_for_feature_group_creation_complete(feature_group):\n",
    "    status = feature_group.describe().get(\"FeatureGroupStatus\")\n",
    "    while status == \"Creating\":\n",
    "        print(\"Waiting for Feature Group Creation\")\n",
    "        time.sleep(5)\n",
    "        status = feature_group.describe().get(\"FeatureGroupStatus\")\n",
    "    if status != \"Created\":\n",
    "        raise RuntimeError(f\"Failed to create feature group {feature_group.name}\")\n",
    "    print(f\"FeatureGroup {feature_group.name} successfully created.\")\n",
    "\n",
    "# Create the feature group with shorthand parameters (if supported)\n",
    "feature_group.create(\n",
    "    s3_uri=f\"s3://{default_s3_bucket_name}/{prefix}\",\n",
    "    record_identifier_name='id',\n",
    "    event_time_feature_name=event_time_feature_name,\n",
    "    role_arn=role,\n",
    "    enable_online_store=True,\n",
    ")\n",
    "\n",
    "wait_for_feature_group_creation_complete(feature_group=feature_group)\n",
    "\n"
   ]
  },
  {
   "cell_type": "markdown",
   "metadata": {},
   "source": [
    "> ## Feature Group Created  \n",
    "\n",
    "These feature groups can be confirmed in your AWS Athena/Glue GUI"
   ]
  },
  {
   "cell_type": "code",
   "execution_count": 43,
   "metadata": {
    "execution": {
     "iopub.execute_input": "2025-06-18T12:24:35.271781Z",
     "iopub.status.busy": "2025-06-18T12:24:35.271372Z",
     "iopub.status.idle": "2025-06-18T12:24:35.464711Z",
     "shell.execute_reply": "2025-06-18T12:24:35.463679Z",
     "shell.execute_reply.started": "2025-06-18T12:24:35.271756Z"
    }
   },
   "outputs": [
    {
     "data": {
      "text/plain": [
       "{'FeatureGroupArn': 'arn:aws:sagemaker:us-west-2:204864359127:feature-group/autism-feature-group-2025-06-18-12-22-51',\n",
       " 'FeatureGroupName': 'autism-feature-group-2025-06-18-12-22-51',\n",
       " 'RecordIdentifierFeatureName': 'id',\n",
       " 'EventTimeFeatureName': 'event_time',\n",
       " 'FeatureDefinitions': [{'FeatureName': 'id', 'FeatureType': 'Integral'},\n",
       "  {'FeatureName': 'a1_score', 'FeatureType': 'Integral'},\n",
       "  {'FeatureName': 'a2_score', 'FeatureType': 'Integral'},\n",
       "  {'FeatureName': 'a3_score', 'FeatureType': 'Integral'},\n",
       "  {'FeatureName': 'a4_score', 'FeatureType': 'Integral'},\n",
       "  {'FeatureName': 'a5_score', 'FeatureType': 'Integral'},\n",
       "  {'FeatureName': 'a6_score', 'FeatureType': 'Integral'},\n",
       "  {'FeatureName': 'a7_score', 'FeatureType': 'Integral'},\n",
       "  {'FeatureName': 'a8_score', 'FeatureType': 'Integral'},\n",
       "  {'FeatureName': 'a9_score', 'FeatureType': 'Integral'},\n",
       "  {'FeatureName': 'a10_score', 'FeatureType': 'Integral'},\n",
       "  {'FeatureName': 'age', 'FeatureType': 'Fractional'},\n",
       "  {'FeatureName': 'gender', 'FeatureType': 'String'},\n",
       "  {'FeatureName': 'ethnicity', 'FeatureType': 'String'},\n",
       "  {'FeatureName': 'jaundice', 'FeatureType': 'String'},\n",
       "  {'FeatureName': 'austim', 'FeatureType': 'String'},\n",
       "  {'FeatureName': 'contry_of_res', 'FeatureType': 'String'},\n",
       "  {'FeatureName': 'used_app_before', 'FeatureType': 'String'},\n",
       "  {'FeatureName': 'result', 'FeatureType': 'Fractional'},\n",
       "  {'FeatureName': 'age_desc', 'FeatureType': 'String'},\n",
       "  {'FeatureName': 'relation', 'FeatureType': 'String'},\n",
       "  {'FeatureName': 'class_asd', 'FeatureType': 'Integral'},\n",
       "  {'FeatureName': 'event_time', 'FeatureType': 'String'}],\n",
       " 'CreationTime': datetime.datetime(2025, 6, 18, 12, 22, 53, 612000, tzinfo=tzlocal()),\n",
       " 'OnlineStoreConfig': {'EnableOnlineStore': True},\n",
       " 'OfflineStoreConfig': {'S3StorageConfig': {'S3Uri': 's3://sagemaker-us-west-2-204864359127/sagemaker/autism-feature-group-2025-06-17-18-52-02',\n",
       "   'ResolvedOutputS3Uri': 's3://sagemaker-us-west-2-204864359127/sagemaker/autism-feature-group-2025-06-17-18-52-02/204864359127/sagemaker/us-west-2/offline-store/autism-feature-group-2025-06-18-12-22-51-1750249373/data'},\n",
       "  'DisableGlueTableCreation': False,\n",
       "  'DataCatalogConfig': {'TableName': 'autism_feature_group_2025_06_18_12_22_51_1750249373',\n",
       "   'Catalog': 'AwsDataCatalog',\n",
       "   'Database': 'sagemaker_featurestore'}},\n",
       " 'ThroughputConfig': {'ThroughputMode': 'OnDemand'},\n",
       " 'RoleArn': 'arn:aws:iam::204864359127:role/LabRole',\n",
       " 'FeatureGroupStatus': 'Created',\n",
       " 'OnlineStoreTotalSizeBytes': 0,\n",
       " 'ResponseMetadata': {'RequestId': '95453e47-cf05-49a3-ae74-8fab2d18f220',\n",
       "  'HTTPStatusCode': 200,\n",
       "  'HTTPHeaders': {'x-amzn-requestid': '95453e47-cf05-49a3-ae74-8fab2d18f220',\n",
       "   'content-type': 'application/x-amz-json-1.1',\n",
       "   'content-length': '2332',\n",
       "   'date': 'Wed, 18 Jun 2025 12:24:35 GMT'},\n",
       "  'RetryAttempts': 0}}"
      ]
     },
     "execution_count": 43,
     "metadata": {},
     "output_type": "execute_result"
    }
   ],
   "source": [
    "feature_group.describe()"
   ]
  },
  {
   "cell_type": "code",
   "execution_count": 50,
   "metadata": {
    "execution": {
     "iopub.execute_input": "2025-06-18T12:31:20.140554Z",
     "iopub.status.busy": "2025-06-18T12:31:20.139911Z",
     "iopub.status.idle": "2025-06-18T12:31:20.150350Z",
     "shell.execute_reply": "2025-06-18T12:31:20.149530Z",
     "shell.execute_reply.started": "2025-06-18T12:31:20.140517Z"
    }
   },
   "outputs": [
    {
     "name": "stdout",
     "output_type": "stream",
     "text": [
      "id                   int64\n",
      "a1_score             int64\n",
      "a2_score             int64\n",
      "a3_score             int64\n",
      "a4_score             int64\n",
      "a5_score             int64\n",
      "a6_score             int64\n",
      "a7_score             int64\n",
      "a8_score             int64\n",
      "a9_score             int64\n",
      "a10_score            int64\n",
      "age                float64\n",
      "gender              object\n",
      "ethnicity           object\n",
      "jaundice            object\n",
      "austim              object\n",
      "contry_of_res       object\n",
      "used_app_before     object\n",
      "result             float64\n",
      "age_desc            object\n",
      "relation            object\n",
      "class_asd            int64\n",
      "event_time          object\n",
      "dtype: object\n",
      "['id', 'a1_score', 'a2_score', 'a3_score', 'a4_score', 'a5_score', 'a6_score', 'a7_score', 'a8_score', 'a9_score', 'a10_score', 'age', 'gender', 'ethnicity', 'jaundice', 'austim', 'contry_of_res', 'used_app_before', 'result', 'age_desc', 'relation', 'class_asd', 'event_time']\n",
      "id                 0\n",
      "a1_score           0\n",
      "a2_score           0\n",
      "a3_score           0\n",
      "a4_score           0\n",
      "a5_score           0\n",
      "a6_score           0\n",
      "a7_score           0\n",
      "a8_score           0\n",
      "a9_score           0\n",
      "a10_score          0\n",
      "age                0\n",
      "gender             0\n",
      "ethnicity          0\n",
      "jaundice           0\n",
      "austim             0\n",
      "contry_of_res      0\n",
      "used_app_before    0\n",
      "result             0\n",
      "age_desc           0\n",
      "relation           0\n",
      "class_asd          0\n",
      "event_time         0\n",
      "dtype: int64\n",
      "   id                event_time\n",
      "0   1  2025-06-18T12:22:49.992Z\n",
      "1   2  2025-06-18T12:22:49.992Z\n",
      "2   3  2025-06-18T12:22:49.992Z\n",
      "3   4  2025-06-18T12:22:49.992Z\n",
      "4   5  2025-06-18T12:22:49.992Z\n"
     ]
    }
   ],
   "source": [
    "print(df.dtypes)\n",
    "print(df.columns.tolist())\n",
    "\n",
    "# Check for missing values\n",
    "print(df.isnull().sum())\n",
    "\n",
    "# Check sample rows for identifier and event time\n",
    "print(df[['id', 'event_time']].head())\n"
   ]
  },
  {
   "cell_type": "markdown",
   "metadata": {},
   "source": [
    "> We now ingetst the data from the dataframe _(sourced from s3)_ into the feature groups"
   ]
  },
  {
   "cell_type": "code",
   "execution_count": 51,
   "metadata": {
    "execution": {
     "iopub.execute_input": "2025-06-18T12:31:23.413040Z",
     "iopub.status.busy": "2025-06-18T12:31:23.412741Z",
     "iopub.status.idle": "2025-06-18T12:31:26.769742Z",
     "shell.execute_reply": "2025-06-18T12:31:26.768913Z",
     "shell.execute_reply.started": "2025-06-18T12:31:23.413020Z"
    }
   },
   "outputs": [
    {
     "data": {
      "text/plain": [
       "IngestionManagerPandas(feature_group_name='autism-feature-group-2025-06-18-12-22-51', feature_definitions={'id': {'FeatureName': 'id', 'FeatureType': 'Integral'}, 'a1_score': {'FeatureName': 'a1_score', 'FeatureType': 'Integral'}, 'a2_score': {'FeatureName': 'a2_score', 'FeatureType': 'Integral'}, 'a3_score': {'FeatureName': 'a3_score', 'FeatureType': 'Integral'}, 'a4_score': {'FeatureName': 'a4_score', 'FeatureType': 'Integral'}, 'a5_score': {'FeatureName': 'a5_score', 'FeatureType': 'Integral'}, 'a6_score': {'FeatureName': 'a6_score', 'FeatureType': 'Integral'}, 'a7_score': {'FeatureName': 'a7_score', 'FeatureType': 'Integral'}, 'a8_score': {'FeatureName': 'a8_score', 'FeatureType': 'Integral'}, 'a9_score': {'FeatureName': 'a9_score', 'FeatureType': 'Integral'}, 'a10_score': {'FeatureName': 'a10_score', 'FeatureType': 'Integral'}, 'age': {'FeatureName': 'age', 'FeatureType': 'Fractional'}, 'gender': {'FeatureName': 'gender', 'FeatureType': 'String'}, 'ethnicity': {'FeatureName': 'ethnicity', 'FeatureType': 'String'}, 'jaundice': {'FeatureName': 'jaundice', 'FeatureType': 'String'}, 'austim': {'FeatureName': 'austim', 'FeatureType': 'String'}, 'contry_of_res': {'FeatureName': 'contry_of_res', 'FeatureType': 'String'}, 'used_app_before': {'FeatureName': 'used_app_before', 'FeatureType': 'String'}, 'result': {'FeatureName': 'result', 'FeatureType': 'Fractional'}, 'age_desc': {'FeatureName': 'age_desc', 'FeatureType': 'String'}, 'relation': {'FeatureName': 'relation', 'FeatureType': 'String'}, 'class_asd': {'FeatureName': 'class_asd', 'FeatureType': 'Integral'}, 'event_time': {'FeatureName': 'event_time', 'FeatureType': 'String'}}, sagemaker_fs_runtime_client_config=<botocore.config.Config object at 0x7f7718ef2300>, sagemaker_session=<sagemaker.session.Session object at 0x7f7719da0980>, max_workers=3, max_processes=1, profile_name=None, _async_result=<multiprocess.pool.MapResult object at 0x7f76fafd96d0>, _processing_pool=<pool ProcessPool(ncpus=1)>, _failed_indices=[])"
      ]
     },
     "execution_count": 51,
     "metadata": {},
     "output_type": "execute_result"
    }
   ],
   "source": [
    "feature_group.ingest(\n",
    "    data_frame=df,\n",
    "    max_workers=3,\n",
    "    wait=True\n",
    ")\n"
   ]
  },
  {
   "cell_type": "markdown",
   "metadata": {},
   "source": [
    "We confirm that the data is ingested into the feature group by using the `record_indentifier_value` command to identify one specific row. This shows the values of each column for the id=280. You may adjust the value string but get errors for values that are not in the data `count` range."
   ]
  },
  {
   "cell_type": "code",
   "execution_count": 57,
   "metadata": {
    "execution": {
     "iopub.execute_input": "2025-06-18T12:34:18.829054Z",
     "iopub.status.busy": "2025-06-18T12:34:18.828513Z",
     "iopub.status.idle": "2025-06-18T12:34:18.882870Z",
     "shell.execute_reply": "2025-06-18T12:34:18.882221Z",
     "shell.execute_reply.started": "2025-06-18T12:34:18.829022Z"
    }
   },
   "outputs": [
    {
     "data": {
      "text/plain": [
       "{'ResponseMetadata': {'RequestId': '5b7b2dc8-c7f9-41a2-bc9d-552eeee03578',\n",
       "  'HTTPStatusCode': 200,\n",
       "  'HTTPHeaders': {'x-amzn-requestid': '5b7b2dc8-c7f9-41a2-bc9d-552eeee03578',\n",
       "   'content-type': 'application/json',\n",
       "   'content-length': '1762',\n",
       "   'date': 'Wed, 18 Jun 2025 12:34:18 GMT'},\n",
       "  'RetryAttempts': 0},\n",
       " 'Record': [{'FeatureName': 'id', 'ValueAsString': '280'},\n",
       "  {'FeatureName': 'a1_score', 'ValueAsString': '0'},\n",
       "  {'FeatureName': 'a2_score', 'ValueAsString': '1'},\n",
       "  {'FeatureName': 'a3_score', 'ValueAsString': '0'},\n",
       "  {'FeatureName': 'a4_score', 'ValueAsString': '0'},\n",
       "  {'FeatureName': 'a5_score', 'ValueAsString': '0'},\n",
       "  {'FeatureName': 'a6_score', 'ValueAsString': '0'},\n",
       "  {'FeatureName': 'a7_score', 'ValueAsString': '1'},\n",
       "  {'FeatureName': 'a8_score', 'ValueAsString': '0'},\n",
       "  {'FeatureName': 'a9_score', 'ValueAsString': '1'},\n",
       "  {'FeatureName': 'a10_score', 'ValueAsString': '1'},\n",
       "  {'FeatureName': 'age', 'ValueAsString': '25.83802099'},\n",
       "  {'FeatureName': 'gender', 'ValueAsString': 'm'},\n",
       "  {'FeatureName': 'ethnicity', 'ValueAsString': 'Black'},\n",
       "  {'FeatureName': 'jaundice', 'ValueAsString': 'no'},\n",
       "  {'FeatureName': 'austim', 'ValueAsString': 'no'},\n",
       "  {'FeatureName': 'contry_of_res', 'ValueAsString': 'United States'},\n",
       "  {'FeatureName': 'used_app_before', 'ValueAsString': 'no'},\n",
       "  {'FeatureName': 'result', 'ValueAsString': '3.667178721'},\n",
       "  {'FeatureName': 'age_desc', 'ValueAsString': '18 and more'},\n",
       "  {'FeatureName': 'relation', 'ValueAsString': 'Self'},\n",
       "  {'FeatureName': 'class_asd', 'ValueAsString': '0'},\n",
       "  {'FeatureName': 'event_time', 'ValueAsString': '2025-06-18T12:22:49.992Z'}]}"
      ]
     },
     "execution_count": 57,
     "metadata": {},
     "output_type": "execute_result"
    }
   ],
   "source": [
    "record_identifier_value = str(280)\n",
    "\n",
    "featurestore_runtime.get_record(\n",
    "    FeatureGroupName=feature_group_name,\n",
    "    RecordIdentifierValueAsString=record_identifier_value,\n",
    ")\n"
   ]
  },
  {
   "cell_type": "code",
   "execution_count": 56,
   "metadata": {
    "execution": {
     "iopub.execute_input": "2025-06-18T12:34:10.768526Z",
     "iopub.status.busy": "2025-06-18T12:34:10.768202Z",
     "iopub.status.idle": "2025-06-18T12:34:10.785904Z",
     "shell.execute_reply": "2025-06-18T12:34:10.785353Z",
     "shell.execute_reply.started": "2025-06-18T12:34:10.768504Z"
    }
   },
   "outputs": [
    {
     "data": {
      "text/html": [
       "<div>\n",
       "<style scoped>\n",
       "    .dataframe tbody tr th:only-of-type {\n",
       "        vertical-align: middle;\n",
       "    }\n",
       "\n",
       "    .dataframe tbody tr th {\n",
       "        vertical-align: top;\n",
       "    }\n",
       "\n",
       "    .dataframe thead th {\n",
       "        text-align: right;\n",
       "    }\n",
       "</style>\n",
       "<table border=\"1\" class=\"dataframe\">\n",
       "  <thead>\n",
       "    <tr style=\"text-align: right;\">\n",
       "      <th></th>\n",
       "      <th>id</th>\n",
       "      <th>a1_score</th>\n",
       "      <th>a2_score</th>\n",
       "      <th>a3_score</th>\n",
       "      <th>a4_score</th>\n",
       "      <th>a5_score</th>\n",
       "      <th>a6_score</th>\n",
       "      <th>a7_score</th>\n",
       "      <th>a8_score</th>\n",
       "      <th>a9_score</th>\n",
       "      <th>...</th>\n",
       "      <th>ethnicity</th>\n",
       "      <th>jaundice</th>\n",
       "      <th>austim</th>\n",
       "      <th>contry_of_res</th>\n",
       "      <th>used_app_before</th>\n",
       "      <th>result</th>\n",
       "      <th>age_desc</th>\n",
       "      <th>relation</th>\n",
       "      <th>class_asd</th>\n",
       "      <th>event_time</th>\n",
       "    </tr>\n",
       "  </thead>\n",
       "  <tbody>\n",
       "    <tr>\n",
       "      <th>289</th>\n",
       "      <td>290</td>\n",
       "      <td>1</td>\n",
       "      <td>1</td>\n",
       "      <td>0</td>\n",
       "      <td>0</td>\n",
       "      <td>0</td>\n",
       "      <td>0</td>\n",
       "      <td>1</td>\n",
       "      <td>0</td>\n",
       "      <td>0</td>\n",
       "      <td>...</td>\n",
       "      <td>South Asian</td>\n",
       "      <td>no</td>\n",
       "      <td>no</td>\n",
       "      <td>United Arab Emirates</td>\n",
       "      <td>no</td>\n",
       "      <td>13.545045</td>\n",
       "      <td>18 and more</td>\n",
       "      <td>?</td>\n",
       "      <td>0</td>\n",
       "      <td>2025-06-18T12:22:49.992Z</td>\n",
       "    </tr>\n",
       "  </tbody>\n",
       "</table>\n",
       "<p>1 rows × 23 columns</p>\n",
       "</div>"
      ],
      "text/plain": [
       "      id  a1_score  a2_score  a3_score  a4_score  a5_score  a6_score  \\\n",
       "289  290         1         1         0         0         0         0   \n",
       "\n",
       "     a7_score  a8_score  a9_score  ...    ethnicity  jaundice austim  \\\n",
       "289         1         0         0  ...  South Asian        no     no   \n",
       "\n",
       "            contry_of_res used_app_before     result     age_desc relation  \\\n",
       "289  United Arab Emirates              no  13.545045  18 and more        ?   \n",
       "\n",
       "     class_asd                event_time  \n",
       "289          0  2025-06-18T12:22:49.992Z  \n",
       "\n",
       "[1 rows x 23 columns]"
      ]
     },
     "execution_count": 56,
     "metadata": {},
     "output_type": "execute_result"
    }
   ],
   "source": [
    "df[df['id'] == 290]\n"
   ]
  },
  {
   "cell_type": "code",
   "execution_count": 58,
   "metadata": {
    "execution": {
     "iopub.execute_input": "2025-06-18T14:39:26.088282Z",
     "iopub.status.busy": "2025-06-18T14:39:26.087997Z",
     "iopub.status.idle": "2025-06-18T14:39:26.187413Z",
     "shell.execute_reply": "2025-06-18T14:39:26.186674Z",
     "shell.execute_reply.started": "2025-06-18T14:39:26.088261Z"
    }
   },
   "outputs": [
    {
     "data": {
      "text/plain": [
       "{'ResponseMetadata': {'RequestId': '2f01a542-8c2c-41ba-9f47-6d70b7c8bd83',\n",
       "  'HTTPStatusCode': 200,\n",
       "  'HTTPHeaders': {'x-amzn-requestid': '2f01a542-8c2c-41ba-9f47-6d70b7c8bd83',\n",
       "   'content-type': 'application/json',\n",
       "   'content-length': '1916',\n",
       "   'date': 'Wed, 18 Jun 2025 14:39:26 GMT'},\n",
       "  'RetryAttempts': 0},\n",
       " 'Records': [{'FeatureGroupName': 'autism-feature-group-2025-06-18-12-22-51',\n",
       "   'RecordIdentifierValueAsString': '280',\n",
       "   'Record': [{'FeatureName': 'id', 'ValueAsString': '280'},\n",
       "    {'FeatureName': 'a1_score', 'ValueAsString': '0'},\n",
       "    {'FeatureName': 'a2_score', 'ValueAsString': '1'},\n",
       "    {'FeatureName': 'a3_score', 'ValueAsString': '0'},\n",
       "    {'FeatureName': 'a4_score', 'ValueAsString': '0'},\n",
       "    {'FeatureName': 'a5_score', 'ValueAsString': '0'},\n",
       "    {'FeatureName': 'a6_score', 'ValueAsString': '0'},\n",
       "    {'FeatureName': 'a7_score', 'ValueAsString': '1'},\n",
       "    {'FeatureName': 'a8_score', 'ValueAsString': '0'},\n",
       "    {'FeatureName': 'a9_score', 'ValueAsString': '1'},\n",
       "    {'FeatureName': 'a10_score', 'ValueAsString': '1'},\n",
       "    {'FeatureName': 'age', 'ValueAsString': '25.83802099'},\n",
       "    {'FeatureName': 'gender', 'ValueAsString': 'm'},\n",
       "    {'FeatureName': 'ethnicity', 'ValueAsString': 'Black'},\n",
       "    {'FeatureName': 'jaundice', 'ValueAsString': 'no'},\n",
       "    {'FeatureName': 'austim', 'ValueAsString': 'no'},\n",
       "    {'FeatureName': 'contry_of_res', 'ValueAsString': 'United States'},\n",
       "    {'FeatureName': 'used_app_before', 'ValueAsString': 'no'},\n",
       "    {'FeatureName': 'result', 'ValueAsString': '3.667178721'},\n",
       "    {'FeatureName': 'age_desc', 'ValueAsString': '18 and more'},\n",
       "    {'FeatureName': 'relation', 'ValueAsString': 'Self'},\n",
       "    {'FeatureName': 'class_asd', 'ValueAsString': '0'},\n",
       "    {'FeatureName': 'event_time',\n",
       "     'ValueAsString': '2025-06-18T12:22:49.992Z'}]}],\n",
       " 'Errors': [],\n",
       " 'UnprocessedIdentifiers': []}"
      ]
     },
     "execution_count": 58,
     "metadata": {},
     "output_type": "execute_result"
    }
   ],
   "source": [
    "featurestore_runtime.batch_get_record(\n",
    "    Identifiers=[\n",
    "        {\n",
    "            \"FeatureGroupName\": feature_group_name,\n",
    "            \"RecordIdentifiersValueAsString\": [\"280\"],\n",
    "        },\n",
    "    ]\n",
    ")"
   ]
  },
  {
   "cell_type": "code",
   "execution_count": 59,
   "metadata": {
    "execution": {
     "iopub.execute_input": "2025-06-18T14:39:45.352474Z",
     "iopub.status.busy": "2025-06-18T14:39:45.351882Z",
     "iopub.status.idle": "2025-06-18T14:39:45.540323Z",
     "shell.execute_reply": "2025-06-18T14:39:45.539323Z",
     "shell.execute_reply.started": "2025-06-18T14:39:45.352437Z"
    }
   },
   "outputs": [
    {
     "name": "stdout",
     "output_type": "stream",
     "text": [
      "CREATE EXTERNAL TABLE IF NOT EXISTS sagemaker_featurestore.autism-feature-group-2025-06-18-12-22-51 (\n",
      "  id INT\n",
      "  a1_score INT\n",
      "  a2_score INT\n",
      "  a3_score INT\n",
      "  a4_score INT\n",
      "  a5_score INT\n",
      "  a6_score INT\n",
      "  a7_score INT\n",
      "  a8_score INT\n",
      "  a9_score INT\n",
      "  a10_score INT\n",
      "  age FLOAT\n",
      "  gender STRING\n",
      "  ethnicity STRING\n",
      "  jaundice STRING\n",
      "  austim STRING\n",
      "  contry_of_res STRING\n",
      "  used_app_before STRING\n",
      "  result FLOAT\n",
      "  age_desc STRING\n",
      "  relation STRING\n",
      "  class_asd INT\n",
      "  event_time STRING\n",
      "  write_time TIMESTAMP\n",
      "  event_time TIMESTAMP\n",
      "  is_deleted BOOLEAN\n",
      ")\n",
      "ROW FORMAT SERDE 'org.apache.hadoop.hive.ql.io.parquet.serde.ParquetHiveSerDe'\n",
      "  STORED AS\n",
      "  INPUTFORMAT 'parquet.hive.DeprecatedParquetInputFormat'\n",
      "  OUTPUTFORMAT 'parquet.hive.DeprecatedParquetOutputFormat'\n",
      "LOCATION 's3://sagemaker-us-west-2-204864359127/sagemaker/autism-feature-group-2025-06-17-18-52-02/204864359127/sagemaker/us-west-2/offline-store/autism-feature-group-2025-06-18-12-22-51-1750249373/data'\n"
     ]
    }
   ],
   "source": [
    "print(feature_group.as_hive_ddl())"
   ]
  },
  {
   "cell_type": "markdown",
   "metadata": {},
   "source": [
    "## S3 Bucket Setup For The OfflineStore  \n",
    "Now we prepare the offline store. In real-world case, we will not need to use AWS online store for one dataset, and will be able to work from local source. This process is more for large and multiple datasets. But here, for us, the only reason we created the online store, is to fulfill the requirements for the offline store here and course demands."
   ]
  },
  {
   "cell_type": "code",
   "execution_count": 65,
   "metadata": {
    "execution": {
     "iopub.execute_input": "2025-06-18T14:59:45.413686Z",
     "iopub.status.busy": "2025-06-18T14:59:45.413027Z",
     "iopub.status.idle": "2025-06-18T14:59:45.844522Z",
     "shell.execute_reply": "2025-06-18T14:59:45.843863Z",
     "shell.execute_reply.started": "2025-06-18T14:59:45.413656Z"
    }
   },
   "outputs": [
    {
     "name": "stdout",
     "output_type": "stream",
     "text": [
      "Data available.\n"
     ]
    }
   ],
   "source": [
    "s3_client = boto3.client(\"s3\")\n",
    "\n",
    "feature_group_resolved_output_s3_uri = (\n",
    "    feature_group.describe()\n",
    "    .get(\"OfflineStoreConfig\")\n",
    "    .get(\"S3StorageConfig\")\n",
    "    .get(\"ResolvedOutputS3Uri\")\n",
    ")\n",
    "\n",
    "feature_group_s3_prefix = feature_group_resolved_output_s3_uri.replace(\n",
    "    f\"s3://{default_s3_bucket_name}/\", \"\"\n",
    ")\n",
    "\n",
    "offline_store_contents = None\n",
    "while offline_store_contents is None:\n",
    "    objects_in_bucket = s3_client.list_objects(\n",
    "        Bucket=default_s3_bucket_name, Prefix=feature_group_s3_prefix\n",
    "    )\n",
    "    if \"Contents\" in objects_in_bucket and len(objects_in_bucket[\"Contents\"]) > 1:\n",
    "        offline_store_contents = objects_in_bucket[\"Contents\"]\n",
    "    else:\n",
    "        print(\"Waiting for data in offline store...\\n\")\n",
    "        sleep(60)\n",
    "\n",
    "print(\"Data available.\")"
   ]
  },
  {
   "cell_type": "markdown",
   "metadata": {},
   "source": [
    "> * The data is avaialble in the offline store and we can confirm by printing the first 10 parquet files from the offline store  \n",
    "> * Why parquet values? The offline store, stores data in batch files (I forget why, but I believe for compressibility)  \n",
    "> * To use these files, we must concatenate all parquet files into one database  "
   ]
  },
  {
   "cell_type": "code",
   "execution_count": 85,
   "metadata": {
    "execution": {
     "iopub.execute_input": "2025-06-18T15:36:24.215295Z",
     "iopub.status.busy": "2025-06-18T15:36:24.214650Z",
     "iopub.status.idle": "2025-06-18T15:36:24.218985Z",
     "shell.execute_reply": "2025-06-18T15:36:24.218324Z",
     "shell.execute_reply.started": "2025-06-18T15:36:24.215265Z"
    }
   },
   "outputs": [
    {
     "name": "stdout",
     "output_type": "stream",
     "text": [
      "sagemaker/autism-feature-group-2025-06-17-18-52-02/204864359127/sagemaker/us-west-2/offline-store/autism-feature-group-2025-06-18-12-22-51-1750249373/data/year=2025/month=06/day=18/hour=12/20250618T122249Z_2Ivs88dLYliG5jXn.parquet\n",
      "sagemaker/autism-feature-group-2025-06-17-18-52-02/204864359127/sagemaker/us-west-2/offline-store/autism-feature-group-2025-06-18-12-22-51-1750249373/data/year=2025/month=06/day=18/hour=12/20250618T122249Z_8MXOrImlmY1Vt8iv.parquet\n",
      "sagemaker/autism-feature-group-2025-06-17-18-52-02/204864359127/sagemaker/us-west-2/offline-store/autism-feature-group-2025-06-18-12-22-51-1750249373/data/year=2025/month=06/day=18/hour=12/20250618T122249Z_AzYGbk32s9l51NPL.parquet\n",
      "sagemaker/autism-feature-group-2025-06-17-18-52-02/204864359127/sagemaker/us-west-2/offline-store/autism-feature-group-2025-06-18-12-22-51-1750249373/data/year=2025/month=06/day=18/hour=12/20250618T122249Z_JQdYf4nudlkJiN8u.parquet\n",
      "sagemaker/autism-feature-group-2025-06-17-18-52-02/204864359127/sagemaker/us-west-2/offline-store/autism-feature-group-2025-06-18-12-22-51-1750249373/data/year=2025/month=06/day=18/hour=12/20250618T122249Z_JjOwssWYUG0a2ihP.parquet\n",
      "sagemaker/autism-feature-group-2025-06-17-18-52-02/204864359127/sagemaker/us-west-2/offline-store/autism-feature-group-2025-06-18-12-22-51-1750249373/data/year=2025/month=06/day=18/hour=12/20250618T122249Z_JtP2HE1zDcmjusdl.parquet\n",
      "sagemaker/autism-feature-group-2025-06-17-18-52-02/204864359127/sagemaker/us-west-2/offline-store/autism-feature-group-2025-06-18-12-22-51-1750249373/data/year=2025/month=06/day=18/hour=12/20250618T122249Z_JzoRCuj4HO1lHy3i.parquet\n",
      "sagemaker/autism-feature-group-2025-06-17-18-52-02/204864359127/sagemaker/us-west-2/offline-store/autism-feature-group-2025-06-18-12-22-51-1750249373/data/year=2025/month=06/day=18/hour=12/20250618T122249Z_MiIGvayPmUtMZ5Dn.parquet\n",
      "sagemaker/autism-feature-group-2025-06-17-18-52-02/204864359127/sagemaker/us-west-2/offline-store/autism-feature-group-2025-06-18-12-22-51-1750249373/data/year=2025/month=06/day=18/hour=12/20250618T122249Z_Njp6DN1Thc2h8REh.parquet\n",
      "sagemaker/autism-feature-group-2025-06-17-18-52-02/204864359127/sagemaker/us-west-2/offline-store/autism-feature-group-2025-06-18-12-22-51-1750249373/data/year=2025/month=06/day=18/hour=12/20250618T122249Z_ODu0efIFdZEUanJH.parquet\n"
     ]
    }
   ],
   "source": [
    "for obj in offline_store_contents[:10]:\n",
    "    print(obj[\"Key\"])"
   ]
  },
  {
   "cell_type": "code",
   "execution_count": 67,
   "metadata": {
    "execution": {
     "iopub.execute_input": "2025-06-18T15:16:57.552024Z",
     "iopub.status.busy": "2025-06-18T15:16:57.551743Z",
     "iopub.status.idle": "2025-06-18T15:16:57.824771Z",
     "shell.execute_reply": "2025-06-18T15:16:57.824093Z",
     "shell.execute_reply.started": "2025-06-18T15:16:57.552005Z"
    }
   },
   "outputs": [
    {
     "name": "stdout",
     "output_type": "stream",
     "text": [
      "    id  a1_score  a2_score  a3_score  a4_score  a5_score  a6_score  a7_score  \\\n",
      "0  277         0         0         0         0         0         0         1   \n",
      "1   30         1         1         1         1         1         1         1   \n",
      "2   35         0         0         0         0         0         0         0   \n",
      "3  578         1         1         0         1         1         1         1   \n",
      "4   52         0         1         0         0         0         0         0   \n",
      "\n",
      "   a8_score  a9_score  ...  relation  class_asd                event_time  \\\n",
      "0         0         0  ...      Self          0  2025-06-18T12:22:49.992Z   \n",
      "1         1         1  ...      Self          1  2025-06-18T12:22:49.992Z   \n",
      "2         1         0  ...      Self          0  2025-06-18T12:22:49.992Z   \n",
      "3         1         1  ...      Self          1  2025-06-18T12:22:49.992Z   \n",
      "4         1         0  ...         ?          0  2025-06-18T12:22:49.992Z   \n",
      "\n",
      "                        write_time       api_invocation_time is_deleted  year  \\\n",
      "0 2025-06-18 12:36:21.467000+00:00 2025-06-18 12:31:24+00:00      False  2025   \n",
      "1 2025-06-18 12:36:21.467000+00:00 2025-06-18 12:31:24+00:00      False  2025   \n",
      "2 2025-06-18 12:36:21.467000+00:00 2025-06-18 12:31:24+00:00      False  2025   \n",
      "3 2025-06-18 12:36:21.467000+00:00 2025-06-18 12:31:24+00:00      False  2025   \n",
      "4 2025-06-18 12:36:21.467000+00:00 2025-06-18 12:31:24+00:00      False  2025   \n",
      "\n",
      "  month  day hour  \n",
      "0     6   18   12  \n",
      "1     6   18   12  \n",
      "2     6   18   12  \n",
      "3     6   18   12  \n",
      "4     6   18   12  \n",
      "\n",
      "[5 rows x 30 columns]\n"
     ]
    }
   ],
   "source": [
    "import pandas as pd\n",
    "\n",
    "s3_uri = f\"s3://{default_s3_bucket_name}/{offline_store_contents[0]['Key']}\"\n",
    "df = pd.read_parquet(s3_uri, engine=\"pyarrow\")\n",
    "print(df.head())\n"
   ]
  },
  {
   "cell_type": "markdown",
   "metadata": {},
   "source": [
    "> * Like stated before, the data in the offline store is distributed in multiple parquet files, we combine them here:"
   ]
  },
  {
   "cell_type": "code",
   "execution_count": 75,
   "metadata": {
    "execution": {
     "iopub.execute_input": "2025-06-18T15:31:08.169046Z",
     "iopub.status.busy": "2025-06-18T15:31:08.168500Z",
     "iopub.status.idle": "2025-06-18T15:31:12.462963Z",
     "shell.execute_reply": "2025-06-18T15:31:12.462232Z",
     "shell.execute_reply.started": "2025-06-18T15:31:08.169019Z"
    }
   },
   "outputs": [],
   "source": [
    "import boto3\n",
    "import pandas as pd\n",
    "import io\n",
    "\n",
    "bucket = \"sagemaker-us-west-2-204864359127\"\n",
    "s3 = boto3.client(\"s3\")\n",
    "\n",
    "# Only keep valid .parquet keys\n",
    "valid_keys = [obj[\"Key\"] for obj in offline_store_contents if obj[\"Key\"].endswith(\".parquet\")]\n",
    "\n",
    "# If we had multiple datasets, we would only pull specific columns from the feature group HERE.\n",
    "# But because we only have one dataset, it is more effiecent to Feature Engineer after dataset is aquired\n",
    "\n",
    "# Read and concatenate all Parquet files into a single DataFrame\n",
    "dfs = []\n",
    "for key in valid_keys:\n",
    "    response = s3.get_object(Bucket=bucket, Key=key)\n",
    "    dfs.append(pd.read_parquet(io.BytesIO(response['Body'].read())))\n",
    "\n",
    "df_combined = pd.concat(dfs, ignore_index=True)\n"
   ]
  },
  {
   "cell_type": "markdown",
   "metadata": {},
   "source": [
    "Here we confirmed that the parquet files were combined correctly\n",
    ">* df_combined acts ass complete dataset with 800 values\n",
    ">* df acts only as one sample parquet file which df_combined was organized"
   ]
  },
  {
   "cell_type": "code",
   "execution_count": 77,
   "metadata": {
    "execution": {
     "iopub.execute_input": "2025-06-18T15:32:21.365165Z",
     "iopub.status.busy": "2025-06-18T15:32:21.364461Z",
     "iopub.status.idle": "2025-06-18T15:32:21.376415Z",
     "shell.execute_reply": "2025-06-18T15:32:21.375502Z",
     "shell.execute_reply.started": "2025-06-18T15:32:21.365136Z"
    }
   },
   "outputs": [
    {
     "name": "stdout",
     "output_type": "stream",
     "text": [
      "<bound method DataFrame.value_counts of       id  a1_score  a2_score  a3_score  a4_score  a5_score  a6_score  \\\n",
      "0    277         0         0         0         0         0         0   \n",
      "1     30         1         1         1         1         1         1   \n",
      "2     35         0         0         0         0         0         0   \n",
      "3    578         1         1         0         1         1         1   \n",
      "4     52         0         1         0         0         0         0   \n",
      "..   ...       ...       ...       ...       ...       ...       ...   \n",
      "795  769         1         1         1         1         1         1   \n",
      "796  497         0         1         1         1         1         0   \n",
      "797  770         1         0         1         0         1         0   \n",
      "798  787         1         1         1         1         1         0   \n",
      "799  263         1         1         1         1         1         1   \n",
      "\n",
      "     a7_score  a8_score  a9_score  ...   contry_of_res  used_app_before  \\\n",
      "0           1         0         0  ...          Serbia               no   \n",
      "1           1         1         1  ...  United Kingdom               no   \n",
      "2           0         1         0  ...          Brazil               no   \n",
      "3           1         1         1  ...     Netherlands               no   \n",
      "4           0         1         0  ...           India               no   \n",
      "..        ...       ...       ...  ...             ...              ...   \n",
      "795         1         0         1  ...     Netherlands               no   \n",
      "796         0         0         1  ...  Czech Republic               no   \n",
      "797         0         0         1  ...          Jordan               no   \n",
      "798         1         1         1  ...  United Kingdom               no   \n",
      "799         1         1         1  ...   United States               no   \n",
      "\n",
      "        result     age_desc  relation class_asd                event_time  \\\n",
      "0     8.070766  18 and more      Self         0  2025-06-18T12:22:49.992Z   \n",
      "1    15.770715  18 and more      Self         1  2025-06-18T12:22:49.992Z   \n",
      "2    10.650866  18 and more      Self         0  2025-06-18T12:22:49.992Z   \n",
      "3     9.023381  18 and more      Self         1  2025-06-18T12:22:49.992Z   \n",
      "4     2.494711  18 and more         ?         0  2025-06-18T12:22:49.992Z   \n",
      "..         ...          ...       ...       ...                       ...   \n",
      "795  12.297944  18 and more      Self         0  2025-06-18T12:22:49.992Z   \n",
      "796  -2.423631  18 and more  Relative         0  2025-06-18T12:22:49.992Z   \n",
      "797   6.331346  18 and more      Self         0  2025-06-18T12:22:49.992Z   \n",
      "798  12.285082  18 and more      Self         0  2025-06-18T12:22:49.992Z   \n",
      "799  12.261225  18 and more      Self         1  2025-06-18T12:22:49.992Z   \n",
      "\n",
      "                          write_time       api_invocation_time is_deleted  \n",
      "0   2025-06-18 12:36:21.467000+00:00 2025-06-18 12:31:24+00:00      False  \n",
      "1   2025-06-18 12:36:21.467000+00:00 2025-06-18 12:31:24+00:00      False  \n",
      "2   2025-06-18 12:36:21.467000+00:00 2025-06-18 12:31:24+00:00      False  \n",
      "3   2025-06-18 12:36:21.467000+00:00 2025-06-18 12:31:24+00:00      False  \n",
      "4   2025-06-18 12:36:21.467000+00:00 2025-06-18 12:31:24+00:00      False  \n",
      "..                               ...                       ...        ...  \n",
      "795 2025-06-18 12:36:22.626000+00:00 2025-06-18 12:31:26+00:00      False  \n",
      "796 2025-06-18 12:36:22.626000+00:00 2025-06-18 12:31:26+00:00      False  \n",
      "797 2025-06-18 12:36:22.626000+00:00 2025-06-18 12:31:26+00:00      False  \n",
      "798 2025-06-18 12:36:22.626000+00:00 2025-06-18 12:31:26+00:00      False  \n",
      "799 2025-06-18 12:36:22.626000+00:00 2025-06-18 12:31:26+00:00      False  \n",
      "\n",
      "[800 rows x 26 columns]>\n"
     ]
    }
   ],
   "source": [
    "print(df_combined.value_counts)\n"
   ]
  },
  {
   "cell_type": "code",
   "execution_count": 68,
   "metadata": {
    "execution": {
     "iopub.execute_input": "2025-06-18T15:20:06.792335Z",
     "iopub.status.busy": "2025-06-18T15:20:06.791743Z",
     "iopub.status.idle": "2025-06-18T15:20:06.829472Z",
     "shell.execute_reply": "2025-06-18T15:20:06.828706Z",
     "shell.execute_reply.started": "2025-06-18T15:20:06.792305Z"
    }
   },
   "outputs": [
    {
     "data": {
      "text/html": [
       "<div>\n",
       "<style scoped>\n",
       "    .dataframe tbody tr th:only-of-type {\n",
       "        vertical-align: middle;\n",
       "    }\n",
       "\n",
       "    .dataframe tbody tr th {\n",
       "        vertical-align: top;\n",
       "    }\n",
       "\n",
       "    .dataframe thead th {\n",
       "        text-align: right;\n",
       "    }\n",
       "</style>\n",
       "<table border=\"1\" class=\"dataframe\">\n",
       "  <thead>\n",
       "    <tr style=\"text-align: right;\">\n",
       "      <th></th>\n",
       "      <th>id</th>\n",
       "      <th>a1_score</th>\n",
       "      <th>a2_score</th>\n",
       "      <th>a3_score</th>\n",
       "      <th>a4_score</th>\n",
       "      <th>a5_score</th>\n",
       "      <th>a6_score</th>\n",
       "      <th>a7_score</th>\n",
       "      <th>a8_score</th>\n",
       "      <th>a9_score</th>\n",
       "      <th>a10_score</th>\n",
       "      <th>age</th>\n",
       "      <th>result</th>\n",
       "      <th>class_asd</th>\n",
       "    </tr>\n",
       "  </thead>\n",
       "  <tbody>\n",
       "    <tr>\n",
       "      <th>count</th>\n",
       "      <td>11.000000</td>\n",
       "      <td>11.000000</td>\n",
       "      <td>11.000000</td>\n",
       "      <td>11.000000</td>\n",
       "      <td>11.000000</td>\n",
       "      <td>11.000000</td>\n",
       "      <td>11.000000</td>\n",
       "      <td>11.000000</td>\n",
       "      <td>11.000000</td>\n",
       "      <td>11.000000</td>\n",
       "      <td>11.000000</td>\n",
       "      <td>11.000000</td>\n",
       "      <td>11.000000</td>\n",
       "      <td>11.000000</td>\n",
       "    </tr>\n",
       "    <tr>\n",
       "      <th>mean</th>\n",
       "      <td>279.727273</td>\n",
       "      <td>0.363636</td>\n",
       "      <td>0.545455</td>\n",
       "      <td>0.272727</td>\n",
       "      <td>0.454545</td>\n",
       "      <td>0.454545</td>\n",
       "      <td>0.363636</td>\n",
       "      <td>0.545455</td>\n",
       "      <td>0.454545</td>\n",
       "      <td>0.454545</td>\n",
       "      <td>0.636364</td>\n",
       "      <td>28.014649</td>\n",
       "      <td>9.292980</td>\n",
       "      <td>0.181818</td>\n",
       "    </tr>\n",
       "    <tr>\n",
       "      <th>std</th>\n",
       "      <td>257.816249</td>\n",
       "      <td>0.504525</td>\n",
       "      <td>0.522233</td>\n",
       "      <td>0.467099</td>\n",
       "      <td>0.522233</td>\n",
       "      <td>0.522233</td>\n",
       "      <td>0.504525</td>\n",
       "      <td>0.522233</td>\n",
       "      <td>0.522233</td>\n",
       "      <td>0.522233</td>\n",
       "      <td>0.504525</td>\n",
       "      <td>15.920551</td>\n",
       "      <td>4.706920</td>\n",
       "      <td>0.404520</td>\n",
       "    </tr>\n",
       "    <tr>\n",
       "      <th>min</th>\n",
       "      <td>30.000000</td>\n",
       "      <td>0.000000</td>\n",
       "      <td>0.000000</td>\n",
       "      <td>0.000000</td>\n",
       "      <td>0.000000</td>\n",
       "      <td>0.000000</td>\n",
       "      <td>0.000000</td>\n",
       "      <td>0.000000</td>\n",
       "      <td>0.000000</td>\n",
       "      <td>0.000000</td>\n",
       "      <td>0.000000</td>\n",
       "      <td>7.891801</td>\n",
       "      <td>0.245984</td>\n",
       "      <td>0.000000</td>\n",
       "    </tr>\n",
       "    <tr>\n",
       "      <th>25%</th>\n",
       "      <td>67.000000</td>\n",
       "      <td>0.000000</td>\n",
       "      <td>0.000000</td>\n",
       "      <td>0.000000</td>\n",
       "      <td>0.000000</td>\n",
       "      <td>0.000000</td>\n",
       "      <td>0.000000</td>\n",
       "      <td>0.000000</td>\n",
       "      <td>0.000000</td>\n",
       "      <td>0.000000</td>\n",
       "      <td>0.000000</td>\n",
       "      <td>16.237132</td>\n",
       "      <td>7.451950</td>\n",
       "      <td>0.000000</td>\n",
       "    </tr>\n",
       "    <tr>\n",
       "      <th>50%</th>\n",
       "      <td>137.000000</td>\n",
       "      <td>0.000000</td>\n",
       "      <td>1.000000</td>\n",
       "      <td>0.000000</td>\n",
       "      <td>0.000000</td>\n",
       "      <td>0.000000</td>\n",
       "      <td>0.000000</td>\n",
       "      <td>1.000000</td>\n",
       "      <td>0.000000</td>\n",
       "      <td>0.000000</td>\n",
       "      <td>1.000000</td>\n",
       "      <td>24.536547</td>\n",
       "      <td>10.650866</td>\n",
       "      <td>0.000000</td>\n",
       "    </tr>\n",
       "    <tr>\n",
       "      <th>75%</th>\n",
       "      <td>528.000000</td>\n",
       "      <td>1.000000</td>\n",
       "      <td>1.000000</td>\n",
       "      <td>0.500000</td>\n",
       "      <td>1.000000</td>\n",
       "      <td>1.000000</td>\n",
       "      <td>1.000000</td>\n",
       "      <td>1.000000</td>\n",
       "      <td>1.000000</td>\n",
       "      <td>1.000000</td>\n",
       "      <td>1.000000</td>\n",
       "      <td>41.230618</td>\n",
       "      <td>12.012336</td>\n",
       "      <td>0.000000</td>\n",
       "    </tr>\n",
       "    <tr>\n",
       "      <th>max</th>\n",
       "      <td>695.000000</td>\n",
       "      <td>1.000000</td>\n",
       "      <td>1.000000</td>\n",
       "      <td>1.000000</td>\n",
       "      <td>1.000000</td>\n",
       "      <td>1.000000</td>\n",
       "      <td>1.000000</td>\n",
       "      <td>1.000000</td>\n",
       "      <td>1.000000</td>\n",
       "      <td>1.000000</td>\n",
       "      <td>1.000000</td>\n",
       "      <td>57.227613</td>\n",
       "      <td>15.770715</td>\n",
       "      <td>1.000000</td>\n",
       "    </tr>\n",
       "  </tbody>\n",
       "</table>\n",
       "</div>"
      ],
      "text/plain": [
       "               id   a1_score   a2_score   a3_score   a4_score   a5_score  \\\n",
       "count   11.000000  11.000000  11.000000  11.000000  11.000000  11.000000   \n",
       "mean   279.727273   0.363636   0.545455   0.272727   0.454545   0.454545   \n",
       "std    257.816249   0.504525   0.522233   0.467099   0.522233   0.522233   \n",
       "min     30.000000   0.000000   0.000000   0.000000   0.000000   0.000000   \n",
       "25%     67.000000   0.000000   0.000000   0.000000   0.000000   0.000000   \n",
       "50%    137.000000   0.000000   1.000000   0.000000   0.000000   0.000000   \n",
       "75%    528.000000   1.000000   1.000000   0.500000   1.000000   1.000000   \n",
       "max    695.000000   1.000000   1.000000   1.000000   1.000000   1.000000   \n",
       "\n",
       "        a6_score   a7_score   a8_score   a9_score  a10_score        age  \\\n",
       "count  11.000000  11.000000  11.000000  11.000000  11.000000  11.000000   \n",
       "mean    0.363636   0.545455   0.454545   0.454545   0.636364  28.014649   \n",
       "std     0.504525   0.522233   0.522233   0.522233   0.504525  15.920551   \n",
       "min     0.000000   0.000000   0.000000   0.000000   0.000000   7.891801   \n",
       "25%     0.000000   0.000000   0.000000   0.000000   0.000000  16.237132   \n",
       "50%     0.000000   1.000000   0.000000   0.000000   1.000000  24.536547   \n",
       "75%     1.000000   1.000000   1.000000   1.000000   1.000000  41.230618   \n",
       "max     1.000000   1.000000   1.000000   1.000000   1.000000  57.227613   \n",
       "\n",
       "          result  class_asd  \n",
       "count  11.000000  11.000000  \n",
       "mean    9.292980   0.181818  \n",
       "std     4.706920   0.404520  \n",
       "min     0.245984   0.000000  \n",
       "25%     7.451950   0.000000  \n",
       "50%    10.650866   0.000000  \n",
       "75%    12.012336   0.000000  \n",
       "max    15.770715   1.000000  "
      ]
     },
     "execution_count": 68,
     "metadata": {},
     "output_type": "execute_result"
    }
   ],
   "source": [
    "df.describe()"
   ]
  },
  {
   "cell_type": "code",
   "execution_count": 78,
   "metadata": {
    "execution": {
     "iopub.execute_input": "2025-06-18T15:32:34.621027Z",
     "iopub.status.busy": "2025-06-18T15:32:34.620309Z",
     "iopub.status.idle": "2025-06-18T15:32:34.626217Z",
     "shell.execute_reply": "2025-06-18T15:32:34.625590Z",
     "shell.execute_reply.started": "2025-06-18T15:32:34.620999Z"
    }
   },
   "outputs": [
    {
     "data": {
      "text/plain": [
       "id                                   int64\n",
       "a1_score                             int64\n",
       "a2_score                             int64\n",
       "a3_score                             int64\n",
       "a4_score                             int64\n",
       "a5_score                             int64\n",
       "a6_score                             int64\n",
       "a7_score                             int64\n",
       "a8_score                             int64\n",
       "a9_score                             int64\n",
       "a10_score                            int64\n",
       "age                                float64\n",
       "gender                              object\n",
       "ethnicity                           object\n",
       "jaundice                            object\n",
       "austim                              object\n",
       "contry_of_res                       object\n",
       "used_app_before                     object\n",
       "result                             float64\n",
       "age_desc                            object\n",
       "relation                            object\n",
       "class_asd                            int64\n",
       "event_time                          object\n",
       "write_time             datetime64[ms, UTC]\n",
       "api_invocation_time    datetime64[ms, UTC]\n",
       "is_deleted                            bool\n",
       "dtype: object"
      ]
     },
     "execution_count": 78,
     "metadata": {},
     "output_type": "execute_result"
    }
   ],
   "source": [
    "df_combined.dtypes"
   ]
  },
  {
   "cell_type": "markdown",
   "metadata": {},
   "source": [
    "Moving forward with df_combined, we create a train-test-validation split from the data, and prepare it for model training."
   ]
  },
  {
   "cell_type": "code",
   "execution_count": 80,
   "metadata": {
    "execution": {
     "iopub.execute_input": "2025-06-18T15:34:00.737013Z",
     "iopub.status.busy": "2025-06-18T15:34:00.736569Z",
     "iopub.status.idle": "2025-06-18T15:34:00.755064Z",
     "shell.execute_reply": "2025-06-18T15:34:00.754389Z",
     "shell.execute_reply.started": "2025-06-18T15:34:00.736973Z"
    }
   },
   "outputs": [],
   "source": [
    "import pandas as pd\n",
    "from sklearn.model_selection import train_test_split\n",
    "from sklearn.preprocessing import OrdinalEncoder\n",
    "\n",
    "# Drop unneeded columns (adjust as necessary)\n",
    "X = df_combined.drop(columns=[\n",
    "    'id', 'relation', 'class_asd',\n",
    "    'event_time', 'write_time', 'api_invocation_time',\n",
    "    'is_deleted'\n",
    "])\n",
    "\n",
    "# Target column\n",
    "y = df_combined['class_asd']\n",
    "\n",
    "# Identify categorical columns\n",
    "categorical_cols = X.select_dtypes(include='object').columns.tolist()\n",
    "\n",
    "# Encode categorical features\n",
    "encoder = OrdinalEncoder(handle_unknown='use_encoded_value', unknown_value=-1)\n",
    "X[categorical_cols] = encoder.fit_transform(X[categorical_cols].astype(str))\n",
    "\n",
    "# Train/Validation split\n",
    "X_train, X_val, y_train, y_val = train_test_split(\n",
    "    X, y, test_size=0.2, random_state=42, stratify=y\n",
    ")\n"
   ]
  },
  {
   "cell_type": "code",
   "execution_count": 81,
   "metadata": {
    "execution": {
     "iopub.execute_input": "2025-06-18T15:34:08.724678Z",
     "iopub.status.busy": "2025-06-18T15:34:08.724286Z",
     "iopub.status.idle": "2025-06-18T15:34:08.735179Z",
     "shell.execute_reply": "2025-06-18T15:34:08.734511Z",
     "shell.execute_reply.started": "2025-06-18T15:34:08.724654Z"
    }
   },
   "outputs": [],
   "source": [
    "from sklearn.preprocessing import StandardScaler\n",
    "\n",
    "scaler = StandardScaler()\n",
    "X_train = scaler.fit_transform(X_train)\n",
    "X_val = scaler.transform(X_val)\n"
   ]
  },
  {
   "cell_type": "code",
   "execution_count": 82,
   "metadata": {
    "execution": {
     "iopub.execute_input": "2025-06-18T15:34:11.568752Z",
     "iopub.status.busy": "2025-06-18T15:34:11.568357Z",
     "iopub.status.idle": "2025-06-18T15:34:11.775661Z",
     "shell.execute_reply": "2025-06-18T15:34:11.774835Z",
     "shell.execute_reply.started": "2025-06-18T15:34:11.568727Z"
    }
   },
   "outputs": [
    {
     "name": "stdout",
     "output_type": "stream",
     "text": [
      "              precision    recall  f1-score   support\n",
      "\n",
      "           0       0.91      0.91      0.91       128\n",
      "           1       0.65      0.62      0.63        32\n",
      "\n",
      "    accuracy                           0.86       160\n",
      "   macro avg       0.78      0.77      0.77       160\n",
      "weighted avg       0.85      0.86      0.86       160\n",
      "\n"
     ]
    }
   ],
   "source": [
    "from sklearn.ensemble import RandomForestClassifier\n",
    "from sklearn.metrics import classification_report\n",
    "\n",
    "clf = RandomForestClassifier(random_state=42)\n",
    "clf.fit(X_train, y_train)\n",
    "\n",
    "y_pred = clf.predict(X_val)\n",
    "print(classification_report(y_val, y_pred))\n"
   ]
  },
  {
   "cell_type": "code",
   "execution_count": 86,
   "metadata": {
    "execution": {
     "iopub.execute_input": "2025-06-18T16:06:14.526580Z",
     "iopub.status.busy": "2025-06-18T16:06:14.526101Z",
     "iopub.status.idle": "2025-06-18T16:06:14.531893Z",
     "shell.execute_reply": "2025-06-18T16:06:14.531009Z",
     "shell.execute_reply.started": "2025-06-18T16:06:14.526551Z"
    }
   },
   "outputs": [
    {
     "name": "stdout",
     "output_type": "stream",
     "text": [
      "Total samples: 800\n",
      "class_asd\n",
      "0    639\n",
      "1    161\n",
      "Name: count, dtype: int64\n"
     ]
    }
   ],
   "source": [
    "print(f\"Total samples: {len(df_combined)}\")\n",
    "print(df_combined['class_asd'].value_counts())\n"
   ]
  },
  {
   "cell_type": "markdown",
   "metadata": {},
   "source": [
    "# Conclusive Reasoning\n",
    "* Here we can explain why we chose to use the _random forest model_ to suffice for a simple binary classification task, but the focus of the project is not on model evaluation, rather, Machine Learning Operations. We want to focus more on using the **AWS services**, why we would do so, or why we wouldn't. To truly fulfill the tasks of the course requirements for this project, we must direct more attention towards storing/comparing different models and different datasets.  \n",
    "\n",
    "* Because we only have one dataset, the training will be the same regardless if we use Athena, Feature Stores, or other AWS tools, because we are only referencing one dataset (800 values). We do not experience the real effectivness of AWS ML tools."
   ]
  },
  {
   "attachments": {},
   "cell_type": "markdown",
   "metadata": {},
   "source": [
    "## Cleanup Resources"
   ]
  },
  {
   "cell_type": "code",
   "execution_count": 41,
   "metadata": {
    "execution": {
     "iopub.execute_input": "2025-06-17T17:36:15.762768Z",
     "iopub.status.busy": "2025-06-17T17:36:15.762199Z",
     "iopub.status.idle": "2025-06-17T17:36:15.933160Z",
     "shell.execute_reply": "2025-06-17T17:36:15.932359Z",
     "shell.execute_reply.started": "2025-06-17T17:36:15.762738Z"
    }
   },
   "outputs": [
    {
     "name": "stdout",
     "output_type": "stream",
     "text": [
      "/bin/bash: -c: line 1: syntax error near unexpected token `('\n",
      "/bin/bash: -c: line 1: `/opt/conda/bin/python -m pip install 'boto3=={}'.format(original_boto3_version)'\n",
      "Note: you may need to restart the kernel to use updated packages.\n"
     ]
    }
   ],
   "source": [
    "# restore original boto3 version\n",
    "%pip install 'boto3=={}'.format(original_boto3_version)"
   ]
  },
  {
   "attachments": {},
   "cell_type": "markdown",
   "metadata": {},
   "source": [
    "## Notebook CI Test Results\n",
    "\n",
    "This notebook was tested in multiple regions. The test results are as follows, except for us-west-2 which is shown at the top of the notebook.\n",
    "\n",
    "![This us-east-1 badge failed to load. Check your device's internet connectivity, otherwise the service is currently unavailable](https://h75twx4l60.execute-api.us-west-2.amazonaws.com/sagemaker-nb/us-east-1/sagemaker-featurestore|sagemaker_featurestore_fraud_detection_python_sdk.ipynb)\n",
    "\n",
    "![This us-east-2 badge failed to load. Check your device's internet connectivity, otherwise the service is currently unavailable](https://h75twx4l60.execute-api.us-west-2.amazonaws.com/sagemaker-nb/us-east-2/sagemaker-featurestore|sagemaker_featurestore_fraud_detection_python_sdk.ipynb)\n",
    "\n",
    "![This us-west-1 badge failed to load. Check your device's internet connectivity, otherwise the service is currently unavailable](https://h75twx4l60.execute-api.us-west-2.amazonaws.com/sagemaker-nb/us-west-1/sagemaker-featurestore|sagemaker_featurestore_fraud_detection_python_sdk.ipynb)\n",
    "\n",
    "![This ca-central-1 badge failed to load. Check your device's internet connectivity, otherwise the service is currently unavailable](https://h75twx4l60.execute-api.us-west-2.amazonaws.com/sagemaker-nb/ca-central-1/sagemaker-featurestore|sagemaker_featurestore_fraud_detection_python_sdk.ipynb)\n",
    "\n",
    "![This sa-east-1 badge failed to load. Check your device's internet connectivity, otherwise the service is currently unavailable](https://h75twx4l60.execute-api.us-west-2.amazonaws.com/sagemaker-nb/sa-east-1/sagemaker-featurestore|sagemaker_featurestore_fraud_detection_python_sdk.ipynb)\n",
    "\n",
    "![This eu-west-1 badge failed to load. Check your device's internet connectivity, otherwise the service is currently unavailable](https://h75twx4l60.execute-api.us-west-2.amazonaws.com/sagemaker-nb/eu-west-1/sagemaker-featurestore|sagemaker_featurestore_fraud_detection_python_sdk.ipynb)\n",
    "\n",
    "![This eu-west-2 badge failed to load. Check your device's internet connectivity, otherwise the service is currently unavailable](https://h75twx4l60.execute-api.us-west-2.amazonaws.com/sagemaker-nb/eu-west-2/sagemaker-featurestore|sagemaker_featurestore_fraud_detection_python_sdk.ipynb)\n",
    "\n",
    "![This eu-west-3 badge failed to load. Check your device's internet connectivity, otherwise the service is currently unavailable](https://h75twx4l60.execute-api.us-west-2.amazonaws.com/sagemaker-nb/eu-west-3/sagemaker-featurestore|sagemaker_featurestore_fraud_detection_python_sdk.ipynb)\n",
    "\n",
    "![This eu-central-1 badge failed to load. Check your device's internet connectivity, otherwise the service is currently unavailable](https://h75twx4l60.execute-api.us-west-2.amazonaws.com/sagemaker-nb/eu-central-1/sagemaker-featurestore|sagemaker_featurestore_fraud_detection_python_sdk.ipynb)\n",
    "\n",
    "![This eu-north-1 badge failed to load. Check your device's internet connectivity, otherwise the service is currently unavailable](https://h75twx4l60.execute-api.us-west-2.amazonaws.com/sagemaker-nb/eu-north-1/sagemaker-featurestore|sagemaker_featurestore_fraud_detection_python_sdk.ipynb)\n",
    "\n",
    "![This ap-southeast-1 badge failed to load. Check your device's internet connectivity, otherwise the service is currently unavailable](https://h75twx4l60.execute-api.us-west-2.amazonaws.com/sagemaker-nb/ap-southeast-1/sagemaker-featurestore|sagemaker_featurestore_fraud_detection_python_sdk.ipynb)\n",
    "\n",
    "![This ap-southeast-2 badge failed to load. Check your device's internet connectivity, otherwise the service is currently unavailable](https://h75twx4l60.execute-api.us-west-2.amazonaws.com/sagemaker-nb/ap-southeast-2/sagemaker-featurestore|sagemaker_featurestore_fraud_detection_python_sdk.ipynb)\n",
    "\n",
    "![This ap-northeast-1 badge failed to load. Check your device's internet connectivity, otherwise the service is currently unavailable](https://h75twx4l60.execute-api.us-west-2.amazonaws.com/sagemaker-nb/ap-northeast-1/sagemaker-featurestore|sagemaker_featurestore_fraud_detection_python_sdk.ipynb)\n",
    "\n",
    "![This ap-northeast-2 badge failed to load. Check your device's internet connectivity, otherwise the service is currently unavailable](https://h75twx4l60.execute-api.us-west-2.amazonaws.com/sagemaker-nb/ap-northeast-2/sagemaker-featurestore|sagemaker_featurestore_fraud_detection_python_sdk.ipynb)\n",
    "\n",
    "![This ap-south-1 badge failed to load. Check your device's internet connectivity, otherwise the service is currently unavailable](https://h75twx4l60.execute-api.us-west-2.amazonaws.com/sagemaker-nb/ap-south-1/sagemaker-featurestore|sagemaker_featurestore_fraud_detection_python_sdk.ipynb)\n"
   ]
  },
  {
   "cell_type": "code",
   "execution_count": null,
   "metadata": {},
   "outputs": [],
   "source": []
  }
 ],
 "metadata": {
  "kernelspec": {
   "display_name": "Python 3 (ipykernel)",
   "language": "python",
   "name": "python3"
  },
  "language_info": {
   "codemirror_mode": {
    "name": "ipython",
    "version": 3
   },
   "file_extension": ".py",
   "mimetype": "text/x-python",
   "name": "python",
   "nbconvert_exporter": "python",
   "pygments_lexer": "ipython3",
   "version": "3.12.9"
  }
 },
 "nbformat": 4,
 "nbformat_minor": 4
}
