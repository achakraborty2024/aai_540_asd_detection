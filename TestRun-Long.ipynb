{
 "cells": [
  {
   "cell_type": "markdown",
   "id": "ccc20dbb-c40c-4c16-bdc4-99f025f4db70",
   "metadata": {},
   "source": [
    "## Project Background\n",
    "Autism Spectrum Disorder (ASD) affects communication and behavior. Early identification and intervention can significantly improve outcomes. This project aims to identify individuals who may be at higher risk for ASD based on commonly collected screening data (e.g., questionnaire responses, basic demographic information).\n",
    "\n",
    "## Objective\n",
    "The goal is to create a ML Ops tool that can do early detection for potential cases towards further clinical assessment, potentially speeding up the screening process and directing resources more effectively. This tool will predict the likelihood of an individual having Autism Spectrum Disorder (ASD) based on screening questionnaire data and demographic features, aiming for high sensitivity (recall) to minimize missed cases. This is a supervised binary classification problem (ASD vs. No ASD).\n",
    "\n",
    "## Technical Background:\n",
    "The model will use data from screenings to learn patterns in these features to distinguish between individuals diagnosed with ASD and those without.Technical challenges may involve preprocessing potentially imbalanced data, and ensuring fairness across different demographic groups by analyzing key metrics.\n",
    "Evaluation will focus on classification performance metrics relevant to screening:\n",
    "Primary Metrics: Recall (Sensitivity), AUC, PRC, Accuracy, Precision, F1-Score\n",
    "\n",
    "Secondary Metrics: DIR, Relative Error, Force Plots. Correlation Plots.\n",
    "\n",
    "Business/Clinical Relevance: Quantify the model's potential impact by simulating its use on a test set: calculate the percentage of true positive cases identified within the top X% of model predictions (e.g., top 20%), representing potential to accelerate workload for clinicians focusing on these high-risk individuals.\n"
   ]
  },
  {
   "cell_type": "markdown",
   "id": "3b1d06dd-d0f2-46ca-94d6-b634413d0345",
   "metadata": {},
   "source": [
    "### Import libraries"
   ]
  },
  {
   "cell_type": "code",
   "execution_count": 2,
   "id": "934762a6-e6c9-4059-82d2-1875fbc0dd9b",
   "metadata": {
    "execution": {
     "iopub.execute_input": "2025-06-12T13:28:35.966621Z",
     "iopub.status.busy": "2025-06-12T13:28:35.966096Z",
     "iopub.status.idle": "2025-06-12T13:28:38.704996Z",
     "shell.execute_reply": "2025-06-12T13:28:38.704188Z",
     "shell.execute_reply.started": "2025-06-12T13:28:35.966597Z"
    }
   },
   "outputs": [
    {
     "name": "stdout",
     "output_type": "stream",
     "text": [
      "Collecting awswrangler\n",
      "  Using cached awswrangler-3.12.0-py3-none-any.whl.metadata (17 kB)\n",
      "Requirement already satisfied: boto3<2.0.0,>=1.20.32 in /opt/conda/lib/python3.12/site-packages (from awswrangler) (1.37.1)\n",
      "Requirement already satisfied: botocore<2.0.0,>=1.23.32 in /opt/conda/lib/python3.12/site-packages (from awswrangler) (1.37.1)\n",
      "Requirement already satisfied: numpy<3.0,>=1.26 in /opt/conda/lib/python3.12/site-packages (from awswrangler) (1.26.4)\n",
      "Requirement already satisfied: packaging<26.0,>=21.1 in /opt/conda/lib/python3.12/site-packages (from awswrangler) (24.2)\n",
      "Requirement already satisfied: pandas<3.0.0,>=1.2.0 in /opt/conda/lib/python3.12/site-packages (from awswrangler) (2.2.3)\n",
      "Requirement already satisfied: pyarrow<21.0.0,>=18.0.0 in /opt/conda/lib/python3.12/site-packages (from awswrangler) (19.0.1)\n",
      "Requirement already satisfied: setuptools in /opt/conda/lib/python3.12/site-packages (from awswrangler) (80.1.0)\n",
      "Requirement already satisfied: typing-extensions<5.0.0,>=4.4.0 in /opt/conda/lib/python3.12/site-packages (from awswrangler) (4.13.2)\n",
      "Requirement already satisfied: jmespath<2.0.0,>=0.7.1 in /opt/conda/lib/python3.12/site-packages (from boto3<2.0.0,>=1.20.32->awswrangler) (1.0.1)\n",
      "Requirement already satisfied: s3transfer<0.12.0,>=0.11.0 in /opt/conda/lib/python3.12/site-packages (from boto3<2.0.0,>=1.20.32->awswrangler) (0.11.3)\n",
      "Requirement already satisfied: python-dateutil<3.0.0,>=2.1 in /opt/conda/lib/python3.12/site-packages (from botocore<2.0.0,>=1.23.32->awswrangler) (2.9.0.post0)\n",
      "Requirement already satisfied: urllib3!=2.2.0,<3,>=1.25.4 in /opt/conda/lib/python3.12/site-packages (from botocore<2.0.0,>=1.23.32->awswrangler) (1.26.19)\n",
      "Requirement already satisfied: pytz>=2020.1 in /opt/conda/lib/python3.12/site-packages (from pandas<3.0.0,>=1.2.0->awswrangler) (2024.2)\n",
      "Requirement already satisfied: tzdata>=2022.7 in /opt/conda/lib/python3.12/site-packages (from pandas<3.0.0,>=1.2.0->awswrangler) (2025.2)\n",
      "Requirement already satisfied: six>=1.5 in /opt/conda/lib/python3.12/site-packages (from python-dateutil<3.0.0,>=2.1->botocore<2.0.0,>=1.23.32->awswrangler) (1.17.0)\n",
      "Using cached awswrangler-3.12.0-py3-none-any.whl (379 kB)\n",
      "Installing collected packages: awswrangler\n",
      "Successfully installed awswrangler-3.12.0\n"
     ]
    }
   ],
   "source": [
    "!pip install awswrangler"
   ]
  },
  {
   "cell_type": "code",
   "execution_count": 1,
   "id": "f6182b86-f5f3-4388-bff3-05f68c5ab5fb",
   "metadata": {
    "execution": {
     "iopub.execute_input": "2025-06-13T05:37:54.640277Z",
     "iopub.status.busy": "2025-06-13T05:37:54.640051Z",
     "iopub.status.idle": "2025-06-13T05:37:57.802201Z",
     "shell.execute_reply": "2025-06-13T05:37:57.801506Z",
     "shell.execute_reply.started": "2025-06-13T05:37:54.640259Z"
    }
   },
   "outputs": [
    {
     "name": "stdout",
     "output_type": "stream",
     "text": [
      "sagemaker.config INFO - Not applying SDK defaults from location: /etc/xdg/sagemaker/config.yaml\n",
      "sagemaker.config INFO - Not applying SDK defaults from location: /home/sagemaker-user/.config/sagemaker/config.yaml\n"
     ]
    }
   ],
   "source": [
    "import numpy as np \n",
    "import pandas as pd \n",
    "import boto3\n",
    "import sagemaker\n",
    "from pyathena import connect\n",
    "import matplotlib.pyplot as plt\n",
    "import seaborn as sns\n",
    "import awswrangler as wr"
   ]
  },
  {
   "cell_type": "code",
   "execution_count": 2,
   "id": "0d9a9509-8f48-4aa5-b442-ec1240ec24a5",
   "metadata": {
    "execution": {
     "iopub.execute_input": "2025-06-13T05:37:57.808330Z",
     "iopub.status.busy": "2025-06-13T05:37:57.808018Z",
     "iopub.status.idle": "2025-06-13T05:37:57.815101Z",
     "shell.execute_reply": "2025-06-13T05:37:57.814409Z",
     "shell.execute_reply.started": "2025-06-13T05:37:57.808301Z"
    }
   },
   "outputs": [
    {
     "data": {
      "text/plain": [
       "'/home/sagemaker-user/aai_540_asd_detection'"
      ]
     },
     "execution_count": 2,
     "metadata": {},
     "output_type": "execute_result"
    }
   ],
   "source": [
    "%pwd"
   ]
  },
  {
   "cell_type": "markdown",
   "id": "08fd4eaa-2e0f-42c7-91cf-4dd4ed40ae35",
   "metadata": {},
   "source": [
    "### Load test and train dataset"
   ]
  },
  {
   "cell_type": "code",
   "execution_count": 3,
   "id": "25739e6b-3d8f-417e-a25d-3f71bb25fefc",
   "metadata": {
    "execution": {
     "iopub.execute_input": "2025-06-13T05:38:00.443503Z",
     "iopub.status.busy": "2025-06-13T05:38:00.442853Z",
     "iopub.status.idle": "2025-06-13T05:38:00.455233Z",
     "shell.execute_reply": "2025-06-13T05:38:00.454643Z",
     "shell.execute_reply.started": "2025-06-13T05:38:00.443477Z"
    }
   },
   "outputs": [],
   "source": [
    "train_df = pd.read_csv('./train.csv')\n",
    "test_df = pd.read_csv('./test.csv')"
   ]
  },
  {
   "cell_type": "code",
   "execution_count": 4,
   "id": "3c51a0f6-9280-48ec-9ffe-e2fb19cbb0a0",
   "metadata": {
    "execution": {
     "iopub.execute_input": "2025-06-13T04:25:21.842863Z",
     "iopub.status.busy": "2025-06-13T04:25:21.842236Z",
     "iopub.status.idle": "2025-06-13T04:25:21.848994Z",
     "shell.execute_reply": "2025-06-13T04:25:21.848380Z",
     "shell.execute_reply.started": "2025-06-13T04:25:21.842836Z"
    }
   },
   "outputs": [
    {
     "data": {
      "text/plain": [
       "ID                   int64\n",
       "A1_Score             int64\n",
       "A2_Score             int64\n",
       "A3_Score             int64\n",
       "A4_Score             int64\n",
       "A5_Score             int64\n",
       "A6_Score             int64\n",
       "A7_Score             int64\n",
       "A8_Score             int64\n",
       "A9_Score             int64\n",
       "A10_Score            int64\n",
       "age                float64\n",
       "gender              object\n",
       "ethnicity           object\n",
       "jaundice            object\n",
       "austim              object\n",
       "contry_of_res       object\n",
       "used_app_before     object\n",
       "result             float64\n",
       "age_desc            object\n",
       "relation            object\n",
       "dtype: object"
      ]
     },
     "execution_count": 4,
     "metadata": {},
     "output_type": "execute_result"
    }
   ],
   "source": [
    "test_df.dtypes"
   ]
  },
  {
   "cell_type": "code",
   "execution_count": 5,
   "id": "ea464398-e7f6-4a11-a41a-376fe424c8b0",
   "metadata": {
    "execution": {
     "iopub.execute_input": "2025-06-13T04:25:22.907003Z",
     "iopub.status.busy": "2025-06-13T04:25:22.906346Z",
     "iopub.status.idle": "2025-06-13T04:25:22.925954Z",
     "shell.execute_reply": "2025-06-13T04:25:22.925325Z",
     "shell.execute_reply.started": "2025-06-13T04:25:22.906974Z"
    }
   },
   "outputs": [
    {
     "data": {
      "text/html": [
       "<div>\n",
       "<style scoped>\n",
       "    .dataframe tbody tr th:only-of-type {\n",
       "        vertical-align: middle;\n",
       "    }\n",
       "\n",
       "    .dataframe tbody tr th {\n",
       "        vertical-align: top;\n",
       "    }\n",
       "\n",
       "    .dataframe thead th {\n",
       "        text-align: right;\n",
       "    }\n",
       "</style>\n",
       "<table border=\"1\" class=\"dataframe\">\n",
       "  <thead>\n",
       "    <tr style=\"text-align: right;\">\n",
       "      <th></th>\n",
       "      <th>ID</th>\n",
       "      <th>A1_Score</th>\n",
       "      <th>A2_Score</th>\n",
       "      <th>A3_Score</th>\n",
       "      <th>A4_Score</th>\n",
       "      <th>A5_Score</th>\n",
       "      <th>A6_Score</th>\n",
       "      <th>A7_Score</th>\n",
       "      <th>A8_Score</th>\n",
       "      <th>A9_Score</th>\n",
       "      <th>...</th>\n",
       "      <th>gender</th>\n",
       "      <th>ethnicity</th>\n",
       "      <th>jaundice</th>\n",
       "      <th>austim</th>\n",
       "      <th>contry_of_res</th>\n",
       "      <th>used_app_before</th>\n",
       "      <th>result</th>\n",
       "      <th>age_desc</th>\n",
       "      <th>relation</th>\n",
       "      <th>Class/ASD</th>\n",
       "    </tr>\n",
       "  </thead>\n",
       "  <tbody>\n",
       "    <tr>\n",
       "      <th>0</th>\n",
       "      <td>1</td>\n",
       "      <td>1</td>\n",
       "      <td>0</td>\n",
       "      <td>1</td>\n",
       "      <td>0</td>\n",
       "      <td>1</td>\n",
       "      <td>0</td>\n",
       "      <td>1</td>\n",
       "      <td>0</td>\n",
       "      <td>1</td>\n",
       "      <td>...</td>\n",
       "      <td>f</td>\n",
       "      <td>?</td>\n",
       "      <td>no</td>\n",
       "      <td>no</td>\n",
       "      <td>Austria</td>\n",
       "      <td>no</td>\n",
       "      <td>6.351166</td>\n",
       "      <td>18 and more</td>\n",
       "      <td>Self</td>\n",
       "      <td>0</td>\n",
       "    </tr>\n",
       "    <tr>\n",
       "      <th>1</th>\n",
       "      <td>2</td>\n",
       "      <td>0</td>\n",
       "      <td>0</td>\n",
       "      <td>0</td>\n",
       "      <td>0</td>\n",
       "      <td>0</td>\n",
       "      <td>0</td>\n",
       "      <td>0</td>\n",
       "      <td>0</td>\n",
       "      <td>0</td>\n",
       "      <td>...</td>\n",
       "      <td>m</td>\n",
       "      <td>?</td>\n",
       "      <td>no</td>\n",
       "      <td>no</td>\n",
       "      <td>India</td>\n",
       "      <td>no</td>\n",
       "      <td>2.255185</td>\n",
       "      <td>18 and more</td>\n",
       "      <td>Self</td>\n",
       "      <td>0</td>\n",
       "    </tr>\n",
       "    <tr>\n",
       "      <th>2</th>\n",
       "      <td>3</td>\n",
       "      <td>1</td>\n",
       "      <td>1</td>\n",
       "      <td>1</td>\n",
       "      <td>1</td>\n",
       "      <td>1</td>\n",
       "      <td>1</td>\n",
       "      <td>1</td>\n",
       "      <td>1</td>\n",
       "      <td>1</td>\n",
       "      <td>...</td>\n",
       "      <td>m</td>\n",
       "      <td>White-European</td>\n",
       "      <td>no</td>\n",
       "      <td>yes</td>\n",
       "      <td>United States</td>\n",
       "      <td>no</td>\n",
       "      <td>14.851484</td>\n",
       "      <td>18 and more</td>\n",
       "      <td>Self</td>\n",
       "      <td>1</td>\n",
       "    </tr>\n",
       "    <tr>\n",
       "      <th>3</th>\n",
       "      <td>4</td>\n",
       "      <td>0</td>\n",
       "      <td>0</td>\n",
       "      <td>0</td>\n",
       "      <td>0</td>\n",
       "      <td>0</td>\n",
       "      <td>0</td>\n",
       "      <td>0</td>\n",
       "      <td>0</td>\n",
       "      <td>0</td>\n",
       "      <td>...</td>\n",
       "      <td>f</td>\n",
       "      <td>?</td>\n",
       "      <td>no</td>\n",
       "      <td>no</td>\n",
       "      <td>United States</td>\n",
       "      <td>no</td>\n",
       "      <td>2.276617</td>\n",
       "      <td>18 and more</td>\n",
       "      <td>Self</td>\n",
       "      <td>0</td>\n",
       "    </tr>\n",
       "    <tr>\n",
       "      <th>4</th>\n",
       "      <td>5</td>\n",
       "      <td>0</td>\n",
       "      <td>0</td>\n",
       "      <td>0</td>\n",
       "      <td>0</td>\n",
       "      <td>0</td>\n",
       "      <td>0</td>\n",
       "      <td>0</td>\n",
       "      <td>0</td>\n",
       "      <td>0</td>\n",
       "      <td>...</td>\n",
       "      <td>m</td>\n",
       "      <td>?</td>\n",
       "      <td>no</td>\n",
       "      <td>no</td>\n",
       "      <td>South Africa</td>\n",
       "      <td>no</td>\n",
       "      <td>-4.777286</td>\n",
       "      <td>18 and more</td>\n",
       "      <td>Self</td>\n",
       "      <td>0</td>\n",
       "    </tr>\n",
       "  </tbody>\n",
       "</table>\n",
       "<p>5 rows × 22 columns</p>\n",
       "</div>"
      ],
      "text/plain": [
       "   ID  A1_Score  A2_Score  A3_Score  A4_Score  A5_Score  A6_Score  A7_Score  \\\n",
       "0   1         1         0         1         0         1         0         1   \n",
       "1   2         0         0         0         0         0         0         0   \n",
       "2   3         1         1         1         1         1         1         1   \n",
       "3   4         0         0         0         0         0         0         0   \n",
       "4   5         0         0         0         0         0         0         0   \n",
       "\n",
       "   A8_Score  A9_Score  ...  gender       ethnicity jaundice austim  \\\n",
       "0         0         1  ...       f               ?       no     no   \n",
       "1         0         0  ...       m               ?       no     no   \n",
       "2         1         1  ...       m  White-European       no    yes   \n",
       "3         0         0  ...       f               ?       no     no   \n",
       "4         0         0  ...       m               ?       no     no   \n",
       "\n",
       "   contry_of_res used_app_before     result     age_desc  relation Class/ASD  \n",
       "0        Austria              no   6.351166  18 and more      Self         0  \n",
       "1          India              no   2.255185  18 and more      Self         0  \n",
       "2  United States              no  14.851484  18 and more      Self         1  \n",
       "3  United States              no   2.276617  18 and more      Self         0  \n",
       "4   South Africa              no  -4.777286  18 and more      Self         0  \n",
       "\n",
       "[5 rows x 22 columns]"
      ]
     },
     "execution_count": 5,
     "metadata": {},
     "output_type": "execute_result"
    }
   ],
   "source": [
    "train_df.head()"
   ]
  },
  {
   "cell_type": "code",
   "execution_count": 6,
   "id": "49dedce5-4e48-4f91-9e9a-ff3f9f3e54ff",
   "metadata": {
    "execution": {
     "iopub.execute_input": "2025-06-13T04:25:24.778660Z",
     "iopub.status.busy": "2025-06-13T04:25:24.778228Z",
     "iopub.status.idle": "2025-06-13T04:25:24.793546Z",
     "shell.execute_reply": "2025-06-13T04:25:24.793003Z",
     "shell.execute_reply.started": "2025-06-13T04:25:24.778631Z"
    }
   },
   "outputs": [
    {
     "data": {
      "text/html": [
       "<div>\n",
       "<style scoped>\n",
       "    .dataframe tbody tr th:only-of-type {\n",
       "        vertical-align: middle;\n",
       "    }\n",
       "\n",
       "    .dataframe tbody tr th {\n",
       "        vertical-align: top;\n",
       "    }\n",
       "\n",
       "    .dataframe thead th {\n",
       "        text-align: right;\n",
       "    }\n",
       "</style>\n",
       "<table border=\"1\" class=\"dataframe\">\n",
       "  <thead>\n",
       "    <tr style=\"text-align: right;\">\n",
       "      <th></th>\n",
       "      <th>ID</th>\n",
       "      <th>A1_Score</th>\n",
       "      <th>A2_Score</th>\n",
       "      <th>A3_Score</th>\n",
       "      <th>A4_Score</th>\n",
       "      <th>A5_Score</th>\n",
       "      <th>A6_Score</th>\n",
       "      <th>A7_Score</th>\n",
       "      <th>A8_Score</th>\n",
       "      <th>A9_Score</th>\n",
       "      <th>...</th>\n",
       "      <th>age</th>\n",
       "      <th>gender</th>\n",
       "      <th>ethnicity</th>\n",
       "      <th>jaundice</th>\n",
       "      <th>austim</th>\n",
       "      <th>contry_of_res</th>\n",
       "      <th>used_app_before</th>\n",
       "      <th>result</th>\n",
       "      <th>age_desc</th>\n",
       "      <th>relation</th>\n",
       "    </tr>\n",
       "  </thead>\n",
       "  <tbody>\n",
       "    <tr>\n",
       "      <th>0</th>\n",
       "      <td>1</td>\n",
       "      <td>1</td>\n",
       "      <td>1</td>\n",
       "      <td>0</td>\n",
       "      <td>0</td>\n",
       "      <td>1</td>\n",
       "      <td>1</td>\n",
       "      <td>0</td>\n",
       "      <td>0</td>\n",
       "      <td>1</td>\n",
       "      <td>...</td>\n",
       "      <td>15.599481</td>\n",
       "      <td>m</td>\n",
       "      <td>White-European</td>\n",
       "      <td>yes</td>\n",
       "      <td>no</td>\n",
       "      <td>India</td>\n",
       "      <td>no</td>\n",
       "      <td>12.399055</td>\n",
       "      <td>18 and more</td>\n",
       "      <td>Self</td>\n",
       "    </tr>\n",
       "    <tr>\n",
       "      <th>1</th>\n",
       "      <td>2</td>\n",
       "      <td>1</td>\n",
       "      <td>0</td>\n",
       "      <td>0</td>\n",
       "      <td>0</td>\n",
       "      <td>0</td>\n",
       "      <td>0</td>\n",
       "      <td>0</td>\n",
       "      <td>1</td>\n",
       "      <td>0</td>\n",
       "      <td>...</td>\n",
       "      <td>27.181099</td>\n",
       "      <td>m</td>\n",
       "      <td>Asian</td>\n",
       "      <td>no</td>\n",
       "      <td>no</td>\n",
       "      <td>Mexico</td>\n",
       "      <td>no</td>\n",
       "      <td>6.551598</td>\n",
       "      <td>18 and more</td>\n",
       "      <td>Self</td>\n",
       "    </tr>\n",
       "    <tr>\n",
       "      <th>2</th>\n",
       "      <td>3</td>\n",
       "      <td>1</td>\n",
       "      <td>1</td>\n",
       "      <td>1</td>\n",
       "      <td>0</td>\n",
       "      <td>1</td>\n",
       "      <td>1</td>\n",
       "      <td>0</td>\n",
       "      <td>1</td>\n",
       "      <td>1</td>\n",
       "      <td>...</td>\n",
       "      <td>31.643906</td>\n",
       "      <td>m</td>\n",
       "      <td>White-European</td>\n",
       "      <td>yes</td>\n",
       "      <td>no</td>\n",
       "      <td>Egypt</td>\n",
       "      <td>no</td>\n",
       "      <td>3.180663</td>\n",
       "      <td>18 and more</td>\n",
       "      <td>Self</td>\n",
       "    </tr>\n",
       "    <tr>\n",
       "      <th>3</th>\n",
       "      <td>4</td>\n",
       "      <td>0</td>\n",
       "      <td>0</td>\n",
       "      <td>0</td>\n",
       "      <td>0</td>\n",
       "      <td>0</td>\n",
       "      <td>0</td>\n",
       "      <td>0</td>\n",
       "      <td>0</td>\n",
       "      <td>0</td>\n",
       "      <td>...</td>\n",
       "      <td>25.369210</td>\n",
       "      <td>m</td>\n",
       "      <td>?</td>\n",
       "      <td>no</td>\n",
       "      <td>no</td>\n",
       "      <td>India</td>\n",
       "      <td>no</td>\n",
       "      <td>2.220766</td>\n",
       "      <td>18 and more</td>\n",
       "      <td>Self</td>\n",
       "    </tr>\n",
       "    <tr>\n",
       "      <th>4</th>\n",
       "      <td>5</td>\n",
       "      <td>0</td>\n",
       "      <td>0</td>\n",
       "      <td>0</td>\n",
       "      <td>1</td>\n",
       "      <td>0</td>\n",
       "      <td>0</td>\n",
       "      <td>0</td>\n",
       "      <td>0</td>\n",
       "      <td>0</td>\n",
       "      <td>...</td>\n",
       "      <td>9.078580</td>\n",
       "      <td>m</td>\n",
       "      <td>?</td>\n",
       "      <td>no</td>\n",
       "      <td>no</td>\n",
       "      <td>Italy</td>\n",
       "      <td>no</td>\n",
       "      <td>7.252028</td>\n",
       "      <td>18 and more</td>\n",
       "      <td>Self</td>\n",
       "    </tr>\n",
       "  </tbody>\n",
       "</table>\n",
       "<p>5 rows × 21 columns</p>\n",
       "</div>"
      ],
      "text/plain": [
       "   ID  A1_Score  A2_Score  A3_Score  A4_Score  A5_Score  A6_Score  A7_Score  \\\n",
       "0   1         1         1         0         0         1         1         0   \n",
       "1   2         1         0         0         0         0         0         0   \n",
       "2   3         1         1         1         0         1         1         0   \n",
       "3   4         0         0         0         0         0         0         0   \n",
       "4   5         0         0         0         1         0         0         0   \n",
       "\n",
       "   A8_Score  A9_Score  ...        age  gender       ethnicity jaundice austim  \\\n",
       "0         0         1  ...  15.599481       m  White-European      yes     no   \n",
       "1         1         0  ...  27.181099       m           Asian       no     no   \n",
       "2         1         1  ...  31.643906       m  White-European      yes     no   \n",
       "3         0         0  ...  25.369210       m               ?       no     no   \n",
       "4         0         0  ...   9.078580       m               ?       no     no   \n",
       "\n",
       "  contry_of_res used_app_before     result     age_desc relation  \n",
       "0         India              no  12.399055  18 and more     Self  \n",
       "1        Mexico              no   6.551598  18 and more     Self  \n",
       "2         Egypt              no   3.180663  18 and more     Self  \n",
       "3         India              no   2.220766  18 and more     Self  \n",
       "4         Italy              no   7.252028  18 and more     Self  \n",
       "\n",
       "[5 rows x 21 columns]"
      ]
     },
     "execution_count": 6,
     "metadata": {},
     "output_type": "execute_result"
    }
   ],
   "source": [
    "test_df.head()"
   ]
  },
  {
   "cell_type": "markdown",
   "id": "4344605b-dc0d-4772-be7d-70a1478cf9b8",
   "metadata": {},
   "source": [
    "### Create AWS session"
   ]
  },
  {
   "cell_type": "code",
   "execution_count": 11,
   "id": "88922d56-0273-47f1-8c28-7c9bf86ac6be",
   "metadata": {
    "execution": {
     "iopub.execute_input": "2025-06-13T04:29:55.890978Z",
     "iopub.status.busy": "2025-06-13T04:29:55.890312Z",
     "iopub.status.idle": "2025-06-13T04:29:56.599741Z",
     "shell.execute_reply": "2025-06-13T04:29:56.599051Z",
     "shell.execute_reply.started": "2025-06-13T04:29:55.890948Z"
    }
   },
   "outputs": [],
   "source": [
    "sess = sagemaker.Session()\n",
    "bucket = sess.default_bucket()\n",
    "role = sagemaker.get_execution_role()\n",
    "region = boto3.Session().region_name\n",
    "\n",
    "sm = boto3.Session().client(service_name=\"sagemaker\", region_name=region)"
   ]
  },
  {
   "cell_type": "code",
   "execution_count": 10,
   "id": "4f765041-16ad-46c4-a58e-2452647655af",
   "metadata": {
    "execution": {
     "iopub.execute_input": "2025-06-12T13:28:51.606618Z",
     "iopub.status.busy": "2025-06-12T13:28:51.605943Z",
     "iopub.status.idle": "2025-06-12T13:28:51.610118Z",
     "shell.execute_reply": "2025-06-12T13:28:51.609244Z",
     "shell.execute_reply.started": "2025-06-12T13:28:51.606589Z"
    }
   },
   "outputs": [],
   "source": [
    "### Create and Push Data to S3 bucket"
   ]
  },
  {
   "cell_type": "code",
   "execution_count": 12,
   "id": "9198f34d-3ff5-49b6-8243-6edad255e252",
   "metadata": {
    "execution": {
     "iopub.execute_input": "2025-06-13T04:30:03.819269Z",
     "iopub.status.busy": "2025-06-13T04:30:03.818573Z",
     "iopub.status.idle": "2025-06-13T04:30:03.822752Z",
     "shell.execute_reply": "2025-06-13T04:30:03.822179Z",
     "shell.execute_reply.started": "2025-06-13T04:30:03.819236Z"
    }
   },
   "outputs": [
    {
     "name": "stdout",
     "output_type": "stream",
     "text": [
      "s3://sagemaker-us-west-2-204864359127/autism_prediction/csv\n"
     ]
    }
   ],
   "source": [
    "s3_private_path_csv = \"s3://{}/autism_prediction/csv\".format(bucket)\n",
    "print(s3_private_path_csv)"
   ]
  },
  {
   "cell_type": "code",
   "execution_count": 12,
   "id": "f51709c4-e25c-4029-8199-305f9404cd40",
   "metadata": {
    "execution": {
     "iopub.execute_input": "2025-06-12T13:28:59.450597Z",
     "iopub.status.busy": "2025-06-12T13:28:59.450218Z",
     "iopub.status.idle": "2025-06-12T13:29:02.173086Z",
     "shell.execute_reply": "2025-06-12T13:29:02.172194Z",
     "shell.execute_reply.started": "2025-06-12T13:28:59.450572Z"
    }
   },
   "outputs": [
    {
     "name": "stdout",
     "output_type": "stream",
     "text": [
      "upload: ./train.csv to s3://sagemaker-us-west-2-204864359127/autism_prediction/csv/train.csv\n",
      "upload: ./test.csv to s3://sagemaker-us-west-2-204864359127/autism_prediction/csv/test.csv\n"
     ]
    }
   ],
   "source": [
    "!aws s3 cp \"./train.csv\" $s3_private_path_csv/\n",
    "!aws s3 cp \"./test.csv\" $s3_private_path_csv/"
   ]
  },
  {
   "cell_type": "markdown",
   "id": "29504fe7-3a40-4e38-8214-ec9b4f8b2553",
   "metadata": {},
   "source": [
    "### Create ASW S3 Athena Database"
   ]
  },
  {
   "cell_type": "code",
   "execution_count": 13,
   "id": "68991bbc-2e3f-4dcd-b751-16dabafc87ad",
   "metadata": {
    "execution": {
     "iopub.execute_input": "2025-06-13T04:30:06.186971Z",
     "iopub.status.busy": "2025-06-13T04:30:06.186285Z",
     "iopub.status.idle": "2025-06-13T04:30:07.855783Z",
     "shell.execute_reply": "2025-06-13T04:30:07.855109Z",
     "shell.execute_reply.started": "2025-06-13T04:30:06.186940Z"
    }
   },
   "outputs": [
    {
     "name": "stdout",
     "output_type": "stream",
     "text": [
      "CREATE DATABASE IF NOT EXISTS Autism_Predictions_Raw\n"
     ]
    },
    {
     "name": "stderr",
     "output_type": "stream",
     "text": [
      "/tmp/ipykernel_8866/3658760832.py:6: UserWarning: pandas only supports SQLAlchemy connectable (engine/connection) or database string URI or sqlite3 DBAPI2 connection. Other DBAPI2 objects are not tested. Please consider using SQLAlchemy.\n",
      "  pd.read_sql(statement, conn)\n"
     ]
    },
    {
     "data": {
      "text/html": [
       "<div>\n",
       "<style scoped>\n",
       "    .dataframe tbody tr th:only-of-type {\n",
       "        vertical-align: middle;\n",
       "    }\n",
       "\n",
       "    .dataframe tbody tr th {\n",
       "        vertical-align: top;\n",
       "    }\n",
       "\n",
       "    .dataframe thead th {\n",
       "        text-align: right;\n",
       "    }\n",
       "</style>\n",
       "<table border=\"1\" class=\"dataframe\">\n",
       "  <thead>\n",
       "    <tr style=\"text-align: right;\">\n",
       "      <th></th>\n",
       "    </tr>\n",
       "  </thead>\n",
       "  <tbody>\n",
       "  </tbody>\n",
       "</table>\n",
       "</div>"
      ],
      "text/plain": [
       "Empty DataFrame\n",
       "Columns: []\n",
       "Index: []"
      ]
     },
     "execution_count": 13,
     "metadata": {},
     "output_type": "execute_result"
    }
   ],
   "source": [
    "database_name = \"Autism_Predictions_Raw\"\n",
    "s3_staging_dir = \"s3://sagemaker-us-west-2-204864359127/autism_prediction/csv/\"\n",
    "conn = connect(region_name=region, s3_staging_dir=s3_staging_dir)\n",
    "statement = \"CREATE DATABASE IF NOT EXISTS {}\".format(database_name)\n",
    "print(statement)\n",
    "pd.read_sql(statement, conn)"
   ]
  },
  {
   "cell_type": "code",
   "execution_count": 14,
   "id": "665647ce-d1d7-45e1-b67b-e71d64599288",
   "metadata": {
    "execution": {
     "iopub.execute_input": "2025-06-13T04:30:09.435229Z",
     "iopub.status.busy": "2025-06-13T04:30:09.434520Z",
     "iopub.status.idle": "2025-06-13T04:30:10.672473Z",
     "shell.execute_reply": "2025-06-13T04:30:10.671795Z",
     "shell.execute_reply.started": "2025-06-13T04:30:09.435195Z"
    }
   },
   "outputs": [
    {
     "name": "stderr",
     "output_type": "stream",
     "text": [
      "/tmp/ipykernel_8866/1537493019.py:3: UserWarning: pandas only supports SQLAlchemy connectable (engine/connection) or database string URI or sqlite3 DBAPI2 connection. Other DBAPI2 objects are not tested. Please consider using SQLAlchemy.\n",
      "  df_show = pd.read_sql(statement, conn)\n"
     ]
    },
    {
     "data": {
      "text/html": [
       "<div>\n",
       "<style scoped>\n",
       "    .dataframe tbody tr th:only-of-type {\n",
       "        vertical-align: middle;\n",
       "    }\n",
       "\n",
       "    .dataframe tbody tr th {\n",
       "        vertical-align: top;\n",
       "    }\n",
       "\n",
       "    .dataframe thead th {\n",
       "        text-align: right;\n",
       "    }\n",
       "</style>\n",
       "<table border=\"1\" class=\"dataframe\">\n",
       "  <thead>\n",
       "    <tr style=\"text-align: right;\">\n",
       "      <th></th>\n",
       "      <th>database_name</th>\n",
       "    </tr>\n",
       "  </thead>\n",
       "  <tbody>\n",
       "    <tr>\n",
       "      <th>0</th>\n",
       "      <td>autism_predictions_raw</td>\n",
       "    </tr>\n",
       "  </tbody>\n",
       "</table>\n",
       "</div>"
      ],
      "text/plain": [
       "            database_name\n",
       "0  autism_predictions_raw"
      ]
     },
     "execution_count": 14,
     "metadata": {},
     "output_type": "execute_result"
    }
   ],
   "source": [
    "statement = \"SHOW DATABASES LIKE 'autism_predictions_raw'\"\n",
    "\n",
    "df_show = pd.read_sql(statement, conn)\n",
    "df_show.head(10)"
   ]
  },
  {
   "cell_type": "code",
   "execution_count": 15,
   "id": "47797003-baba-4438-835e-2432d1667520",
   "metadata": {
    "execution": {
     "iopub.execute_input": "2025-06-13T04:30:13.130947Z",
     "iopub.status.busy": "2025-06-13T04:30:13.130542Z",
     "iopub.status.idle": "2025-06-13T04:30:13.223023Z",
     "shell.execute_reply": "2025-06-13T04:30:13.222290Z",
     "shell.execute_reply.started": "2025-06-13T04:30:13.130920Z"
    }
   },
   "outputs": [],
   "source": [
    "sm = boto3.Session().client(service_name=\"sagemaker\", region_name=region)"
   ]
  },
  {
   "cell_type": "code",
   "execution_count": 16,
   "id": "a7e3c94a-ff8d-43e8-812c-d0e15d0301c3",
   "metadata": {
    "execution": {
     "iopub.execute_input": "2025-06-13T04:30:15.270700Z",
     "iopub.status.busy": "2025-06-13T04:30:15.270219Z",
     "iopub.status.idle": "2025-06-13T04:30:15.898875Z",
     "shell.execute_reply": "2025-06-13T04:30:15.898218Z",
     "shell.execute_reply.started": "2025-06-13T04:30:15.270676Z"
    }
   },
   "outputs": [
    {
     "name": "stdout",
     "output_type": "stream",
     "text": [
      "Error creating database: Database autism_predictions_raw already exists and <exist_ok> is set to False.\n"
     ]
    }
   ],
   "source": [
    "# Database name\n",
    "database_name = \"autism_predictions_raw\"\n",
    "\n",
    "# Create the Glue database if it doesn't exist\n",
    "try:\n",
    "    wr.catalog.create_database(name=database_name)\n",
    "    print(f\"Database '{database_name}' created successfully or already exists.\")\n",
    "except Exception as e:\n",
    "    print(f\"Error creating database: {e}\")"
   ]
  },
  {
   "cell_type": "code",
   "execution_count": 18,
   "id": "1d5b8dac-b8e6-46f9-af13-89ad326c4081",
   "metadata": {
    "execution": {
     "iopub.execute_input": "2025-06-13T04:30:54.142937Z",
     "iopub.status.busy": "2025-06-13T04:30:54.142305Z",
     "iopub.status.idle": "2025-06-13T04:31:01.662761Z",
     "shell.execute_reply": "2025-06-13T04:31:01.662038Z",
     "shell.execute_reply.started": "2025-06-13T04:30:54.142913Z"
    }
   },
   "outputs": [
    {
     "name": "stderr",
     "output_type": "stream",
     "text": [
      "2025-06-13 04:30:56,122\tWARNING services.py:2070 -- WARNING: The object store is using /tmp instead of /dev/shm because /dev/shm has only 411017216 bytes available. This will harm performance! You may be able to free up space by deleting files in /dev/shm. If you are inside a Docker container, you can increase /dev/shm size by passing '--shm-size=0.81gb' to 'docker run' (or add it to the run_options list in a Ray cluster config). Make sure to set this to more than 30% of available RAM.\n",
      "2025-06-13 04:30:57,303\tINFO worker.py:1852 -- Started a local Ray instance.\n"
     ]
    },
    {
     "name": "stdout",
     "output_type": "stream",
     "text": [
      "Data uploaded successfully to s3://sagemaker-us-west-2-204864359127/autism_prediction/csv/.\n"
     ]
    }
   ],
   "source": [
    "# S3 bucket and file path for Parquet\n",
    "bucket_name = \"sagemaker-us-west-2-204864359127\"\n",
    "path = f\"s3://{bucket_name}/autism_prediction/csv/\" \n",
    "\n",
    "# Save DataFrame as Parquet to S3\n",
    "try:\n",
    "    wr.s3.to_parquet(\n",
    "        df=train_df,\n",
    "        path=path,\n",
    "        dataset=True,\n",
    "        mode=\"overwrite\",\n",
    "        database=database_name,\n",
    "        table=\"asd_raw_prediction\"\n",
    "    )\n",
    "    print(f\"Data uploaded successfully to {path}.\")\n",
    "except Exception as e:\n",
    "    print(f\"Error uploading DataFrame to S3: {e}\")"
   ]
  },
  {
   "cell_type": "markdown",
   "id": "bbbb4147-18b2-495d-8d60-6714a028c414",
   "metadata": {},
   "source": [
    "### Query the data from AWS Athena DB"
   ]
  },
  {
   "cell_type": "code",
   "execution_count": 19,
   "id": "513a110e-13a2-4b4f-b622-fc44dd654f9b",
   "metadata": {
    "execution": {
     "iopub.execute_input": "2025-06-13T04:31:02.851443Z",
     "iopub.status.busy": "2025-06-13T04:31:02.850629Z",
     "iopub.status.idle": "2025-06-13T04:31:05.824206Z",
     "shell.execute_reply": "2025-06-13T04:31:05.823460Z",
     "shell.execute_reply.started": "2025-06-13T04:31:02.851402Z"
    }
   },
   "outputs": [
    {
     "name": "stdout",
     "output_type": "stream",
     "text": [
      "Data from the ASD Athena table:\n",
      "   id  a1_score  a2_score  a3_score  a4_score  a5_score  a6_score  a7_score  \\\n",
      "0   1         1         0         1         0         1         0         1   \n",
      "1   2         0         0         0         0         0         0         0   \n",
      "2   3         1         1         1         1         1         1         1   \n",
      "3   4         0         0         0         0         0         0         0   \n",
      "4   5         0         0         0         0         0         0         0   \n",
      "\n",
      "   a8_score  a9_score  ...  gender       ethnicity jaundice austim  \\\n",
      "0         0         1  ...       f               ?       no     no   \n",
      "1         0         0  ...       m               ?       no     no   \n",
      "2         1         1  ...       m  White-European       no    yes   \n",
      "3         0         0  ...       f               ?       no     no   \n",
      "4         0         0  ...       m               ?       no     no   \n",
      "\n",
      "   contry_of_res used_app_before     result     age_desc  relation class_asd  \n",
      "0        Austria              no   6.351166  18 and more      Self         0  \n",
      "1          India              no   2.255185  18 and more      Self         0  \n",
      "2  United States              no  14.851484  18 and more      Self         1  \n",
      "3  United States              no   2.276617  18 and more      Self         0  \n",
      "4   South Africa              no  -4.777286  18 and more      Self         0  \n",
      "\n",
      "[5 rows x 22 columns]\n"
     ]
    }
   ],
   "source": [
    "# Query the table to check if the data is loaded\n",
    "try:\n",
    "    query = f\"SELECT * FROM {database_name}.asd_raw_prediction LIMIT 5\"\n",
    "    df_sample = wr.athena.read_sql_query(query, database=database_name)\n",
    "    print(\"Data from the ASD Athena table:\")\n",
    "    print(df_sample)\n",
    "except Exception as e:\n",
    "    print(f\"Error querying table: {e}\")"
   ]
  },
  {
   "cell_type": "code",
   "execution_count": 30,
   "id": "1d3099b7-1812-49e2-ba1b-1fafcf1b2bcd",
   "metadata": {
    "execution": {
     "iopub.execute_input": "2025-06-13T04:38:38.847165Z",
     "iopub.status.busy": "2025-06-13T04:38:38.846507Z",
     "iopub.status.idle": "2025-06-13T04:38:38.867414Z",
     "shell.execute_reply": "2025-06-13T04:38:38.866686Z",
     "shell.execute_reply.started": "2025-06-13T04:38:38.847135Z"
    }
   },
   "outputs": [
    {
     "data": {
      "text/html": [
       "<div>\n",
       "<style scoped>\n",
       "    .dataframe tbody tr th:only-of-type {\n",
       "        vertical-align: middle;\n",
       "    }\n",
       "\n",
       "    .dataframe tbody tr th {\n",
       "        vertical-align: top;\n",
       "    }\n",
       "\n",
       "    .dataframe thead th {\n",
       "        text-align: right;\n",
       "    }\n",
       "</style>\n",
       "<table border=\"1\" class=\"dataframe\">\n",
       "  <thead>\n",
       "    <tr style=\"text-align: right;\">\n",
       "      <th></th>\n",
       "      <th>id</th>\n",
       "      <th>a1_score</th>\n",
       "      <th>a2_score</th>\n",
       "      <th>a3_score</th>\n",
       "      <th>a4_score</th>\n",
       "      <th>a5_score</th>\n",
       "      <th>a6_score</th>\n",
       "      <th>a7_score</th>\n",
       "      <th>a8_score</th>\n",
       "      <th>a9_score</th>\n",
       "      <th>...</th>\n",
       "      <th>age</th>\n",
       "      <th>gender</th>\n",
       "      <th>ethnicity</th>\n",
       "      <th>jaundice</th>\n",
       "      <th>austim</th>\n",
       "      <th>contry_of_res</th>\n",
       "      <th>used_app_before</th>\n",
       "      <th>result</th>\n",
       "      <th>relation</th>\n",
       "      <th>class_asd</th>\n",
       "    </tr>\n",
       "  </thead>\n",
       "  <tbody>\n",
       "    <tr>\n",
       "      <th>0</th>\n",
       "      <td>1</td>\n",
       "      <td>1</td>\n",
       "      <td>0</td>\n",
       "      <td>1</td>\n",
       "      <td>0</td>\n",
       "      <td>1</td>\n",
       "      <td>0</td>\n",
       "      <td>1</td>\n",
       "      <td>0</td>\n",
       "      <td>1</td>\n",
       "      <td>...</td>\n",
       "      <td>38.172746</td>\n",
       "      <td>f</td>\n",
       "      <td>?</td>\n",
       "      <td>no</td>\n",
       "      <td>no</td>\n",
       "      <td>Austria</td>\n",
       "      <td>no</td>\n",
       "      <td>6.351166</td>\n",
       "      <td>Self</td>\n",
       "      <td>0</td>\n",
       "    </tr>\n",
       "    <tr>\n",
       "      <th>1</th>\n",
       "      <td>2</td>\n",
       "      <td>0</td>\n",
       "      <td>0</td>\n",
       "      <td>0</td>\n",
       "      <td>0</td>\n",
       "      <td>0</td>\n",
       "      <td>0</td>\n",
       "      <td>0</td>\n",
       "      <td>0</td>\n",
       "      <td>0</td>\n",
       "      <td>...</td>\n",
       "      <td>47.750517</td>\n",
       "      <td>m</td>\n",
       "      <td>?</td>\n",
       "      <td>no</td>\n",
       "      <td>no</td>\n",
       "      <td>India</td>\n",
       "      <td>no</td>\n",
       "      <td>2.255185</td>\n",
       "      <td>Self</td>\n",
       "      <td>0</td>\n",
       "    </tr>\n",
       "    <tr>\n",
       "      <th>2</th>\n",
       "      <td>3</td>\n",
       "      <td>1</td>\n",
       "      <td>1</td>\n",
       "      <td>1</td>\n",
       "      <td>1</td>\n",
       "      <td>1</td>\n",
       "      <td>1</td>\n",
       "      <td>1</td>\n",
       "      <td>1</td>\n",
       "      <td>1</td>\n",
       "      <td>...</td>\n",
       "      <td>7.380373</td>\n",
       "      <td>m</td>\n",
       "      <td>White-European</td>\n",
       "      <td>no</td>\n",
       "      <td>yes</td>\n",
       "      <td>United States</td>\n",
       "      <td>no</td>\n",
       "      <td>14.851484</td>\n",
       "      <td>Self</td>\n",
       "      <td>1</td>\n",
       "    </tr>\n",
       "    <tr>\n",
       "      <th>3</th>\n",
       "      <td>4</td>\n",
       "      <td>0</td>\n",
       "      <td>0</td>\n",
       "      <td>0</td>\n",
       "      <td>0</td>\n",
       "      <td>0</td>\n",
       "      <td>0</td>\n",
       "      <td>0</td>\n",
       "      <td>0</td>\n",
       "      <td>0</td>\n",
       "      <td>...</td>\n",
       "      <td>23.561927</td>\n",
       "      <td>f</td>\n",
       "      <td>?</td>\n",
       "      <td>no</td>\n",
       "      <td>no</td>\n",
       "      <td>United States</td>\n",
       "      <td>no</td>\n",
       "      <td>2.276617</td>\n",
       "      <td>Self</td>\n",
       "      <td>0</td>\n",
       "    </tr>\n",
       "    <tr>\n",
       "      <th>4</th>\n",
       "      <td>5</td>\n",
       "      <td>0</td>\n",
       "      <td>0</td>\n",
       "      <td>0</td>\n",
       "      <td>0</td>\n",
       "      <td>0</td>\n",
       "      <td>0</td>\n",
       "      <td>0</td>\n",
       "      <td>0</td>\n",
       "      <td>0</td>\n",
       "      <td>...</td>\n",
       "      <td>43.205790</td>\n",
       "      <td>m</td>\n",
       "      <td>?</td>\n",
       "      <td>no</td>\n",
       "      <td>no</td>\n",
       "      <td>South Africa</td>\n",
       "      <td>no</td>\n",
       "      <td>-4.777286</td>\n",
       "      <td>Self</td>\n",
       "      <td>0</td>\n",
       "    </tr>\n",
       "  </tbody>\n",
       "</table>\n",
       "<p>5 rows × 21 columns</p>\n",
       "</div>"
      ],
      "text/plain": [
       "   id  a1_score  a2_score  a3_score  a4_score  a5_score  a6_score  a7_score  \\\n",
       "0   1         1         0         1         0         1         0         1   \n",
       "1   2         0         0         0         0         0         0         0   \n",
       "2   3         1         1         1         1         1         1         1   \n",
       "3   4         0         0         0         0         0         0         0   \n",
       "4   5         0         0         0         0         0         0         0   \n",
       "\n",
       "   a8_score  a9_score  ...        age  gender       ethnicity jaundice austim  \\\n",
       "0         0         1  ...  38.172746       f               ?       no     no   \n",
       "1         0         0  ...  47.750517       m               ?       no     no   \n",
       "2         1         1  ...   7.380373       m  White-European       no    yes   \n",
       "3         0         0  ...  23.561927       f               ?       no     no   \n",
       "4         0         0  ...  43.205790       m               ?       no     no   \n",
       "\n",
       "   contry_of_res used_app_before     result  relation class_asd  \n",
       "0        Austria              no   6.351166      Self         0  \n",
       "1          India              no   2.255185      Self         0  \n",
       "2  United States              no  14.851484      Self         1  \n",
       "3  United States              no   2.276617      Self         0  \n",
       "4   South Africa              no  -4.777286      Self         0  \n",
       "\n",
       "[5 rows x 21 columns]"
      ]
     },
     "execution_count": 30,
     "metadata": {},
     "output_type": "execute_result"
    }
   ],
   "source": [
    "df_sample.head(20)"
   ]
  },
  {
   "cell_type": "markdown",
   "id": "14a25aa5-b512-4a29-a0be-69d3a9e6db8d",
   "metadata": {},
   "source": [
    "### Plotting diagrams"
   ]
  },
  {
   "cell_type": "code",
   "execution_count": 4,
   "id": "f2703ef4-d7c4-468f-b802-3a5228ab67dd",
   "metadata": {
    "execution": {
     "iopub.execute_input": "2025-06-13T05:38:13.839465Z",
     "iopub.status.busy": "2025-06-13T05:38:13.838838Z",
     "iopub.status.idle": "2025-06-13T05:38:13.851573Z",
     "shell.execute_reply": "2025-06-13T05:38:13.851038Z",
     "shell.execute_reply.started": "2025-06-13T05:38:13.839438Z"
    }
   },
   "outputs": [
    {
     "data": {
      "text/plain": [
       "<bound method NDFrame.describe of       ID  A1_Score  A2_Score  A3_Score  A4_Score  A5_Score  A6_Score  \\\n",
       "0      1         1         0         1         0         1         0   \n",
       "1      2         0         0         0         0         0         0   \n",
       "2      3         1         1         1         1         1         1   \n",
       "3      4         0         0         0         0         0         0   \n",
       "4      5         0         0         0         0         0         0   \n",
       "..   ...       ...       ...       ...       ...       ...       ...   \n",
       "795  796         0         1         0         0         0         0   \n",
       "796  797         0         1         1         0         0         1   \n",
       "797  798         0         0         0         0         0         0   \n",
       "798  799         0         0         0         0         0         0   \n",
       "799  800         0         1         0         0         0         0   \n",
       "\n",
       "     A7_Score  A8_Score  A9_Score  ...  gender       ethnicity jaundice  \\\n",
       "0           1         0         1  ...       f               ?       no   \n",
       "1           0         0         0  ...       m               ?       no   \n",
       "2           1         1         1  ...       m  White-European       no   \n",
       "3           0         0         0  ...       f               ?       no   \n",
       "4           0         0         0  ...       m               ?       no   \n",
       "..        ...       ...       ...  ...     ...             ...      ...   \n",
       "795         0         0         1  ...       m        Hispanic       no   \n",
       "796         0         1         1  ...       m  White-European       no   \n",
       "797         0         0         0  ...       m     South Asian      yes   \n",
       "798         0         0         0  ...       f               ?       no   \n",
       "799         0         0         0  ...       f               ?       no   \n",
       "\n",
       "    austim         contry_of_res used_app_before     result     age_desc  \\\n",
       "0       no               Austria              no   6.351166  18 and more   \n",
       "1       no                 India              no   2.255185  18 and more   \n",
       "2      yes         United States              no  14.851484  18 and more   \n",
       "3       no         United States              no   2.276617  18 and more   \n",
       "4       no          South Africa              no  -4.777286  18 and more   \n",
       "..     ...                   ...             ...        ...          ...   \n",
       "795     no           New Zealand              no  12.999501  18 and more   \n",
       "796     no                Cyprus              no  13.561518  18 and more   \n",
       "797     no           New Zealand              no   2.653177  18 and more   \n",
       "798     no                Canada              no   9.069342  18 and more   \n",
       "799     no  United Arab Emirates             yes   2.243304  18 and more   \n",
       "\n",
       "     relation Class/ASD  \n",
       "0        Self         0  \n",
       "1        Self         0  \n",
       "2        Self         1  \n",
       "3        Self         0  \n",
       "4        Self         0  \n",
       "..        ...       ...  \n",
       "795      Self         0  \n",
       "796      Self         0  \n",
       "797      Self         0  \n",
       "798      Self         0  \n",
       "799      Self         0  \n",
       "\n",
       "[800 rows x 22 columns]>"
      ]
     },
     "execution_count": 4,
     "metadata": {},
     "output_type": "execute_result"
    }
   ],
   "source": [
    "train_df.describe"
   ]
  },
  {
   "cell_type": "code",
   "execution_count": 5,
   "id": "fb7f287a-81d8-450a-bc48-ab6720af823c",
   "metadata": {
    "execution": {
     "iopub.execute_input": "2025-06-13T05:38:27.767315Z",
     "iopub.status.busy": "2025-06-13T05:38:27.766790Z",
     "iopub.status.idle": "2025-06-13T05:38:27.778184Z",
     "shell.execute_reply": "2025-06-13T05:38:27.777515Z",
     "shell.execute_reply.started": "2025-06-13T05:38:27.767282Z"
    }
   },
   "outputs": [
    {
     "data": {
      "text/plain": [
       "<bound method NDFrame.describe of       ID  A1_Score  A2_Score  A3_Score  A4_Score  A5_Score  A6_Score  \\\n",
       "0      1         1         1         0         0         1         1   \n",
       "1      2         1         0         0         0         0         0   \n",
       "2      3         1         1         1         0         1         1   \n",
       "3      4         0         0         0         0         0         0   \n",
       "4      5         0         0         0         1         0         0   \n",
       "..   ...       ...       ...       ...       ...       ...       ...   \n",
       "195  196         1         1         0         0         1         0   \n",
       "196  197         1         0         0         0         0         0   \n",
       "197  198         1         0         0         0         0         0   \n",
       "198  199         0         1         0         0         0         0   \n",
       "199  200         1         0         0         0         0         0   \n",
       "\n",
       "     A7_Score  A8_Score  A9_Score  ...        age  gender       ethnicity  \\\n",
       "0           0         0         1  ...  15.599481       m  White-European   \n",
       "1           0         1         0  ...  27.181099       m           Asian   \n",
       "2           0         1         1  ...  31.643906       m  White-European   \n",
       "3           0         0         0  ...  25.369210       m               ?   \n",
       "4           0         0         0  ...   9.078580       m               ?   \n",
       "..        ...       ...       ...  ...        ...     ...             ...   \n",
       "195         0         1         1  ...  23.099434       m           Black   \n",
       "196         0         0         0  ...  13.935726       m          Others   \n",
       "197         1         0         1  ...  22.760041       m               ?   \n",
       "198         0         1         0  ...  24.352584       f               ?   \n",
       "199         1         1         0  ...  45.713232       f          Others   \n",
       "\n",
       "    jaundice austim   contry_of_res used_app_before     result     age_desc  \\\n",
       "0        yes     no           India              no  12.399055  18 and more   \n",
       "1         no     no          Mexico              no   6.551598  18 and more   \n",
       "2        yes     no           Egypt              no   3.180663  18 and more   \n",
       "3         no     no           India              no   2.220766  18 and more   \n",
       "4         no     no           Italy              no   7.252028  18 and more   \n",
       "..       ...    ...             ...             ...        ...          ...   \n",
       "195       no     no      Azerbaijan              no  -1.915659  18 and more   \n",
       "196       no     no           India              no   0.520234  18 and more   \n",
       "197       no     no     New Zealand              no   3.498948  18 and more   \n",
       "198       no     no   United States              no   5.594550  18 and more   \n",
       "199       no     no  Czech Republic              no   9.532981  18 and more   \n",
       "\n",
       "    relation  \n",
       "0       Self  \n",
       "1       Self  \n",
       "2       Self  \n",
       "3       Self  \n",
       "4       Self  \n",
       "..       ...  \n",
       "195     Self  \n",
       "196     Self  \n",
       "197        ?  \n",
       "198     Self  \n",
       "199     Self  \n",
       "\n",
       "[200 rows x 21 columns]>"
      ]
     },
     "execution_count": 5,
     "metadata": {},
     "output_type": "execute_result"
    }
   ],
   "source": [
    "test_df.describe"
   ]
  },
  {
   "cell_type": "code",
   "execution_count": 7,
   "id": "0da4f23f-dfeb-4971-9c73-29181c5b1885",
   "metadata": {
    "execution": {
     "iopub.execute_input": "2025-06-13T05:39:07.343336Z",
     "iopub.status.busy": "2025-06-13T05:39:07.342765Z",
     "iopub.status.idle": "2025-06-13T05:39:07.349500Z",
     "shell.execute_reply": "2025-06-13T05:39:07.348466Z",
     "shell.execute_reply.started": "2025-06-13T05:39:07.343308Z"
    }
   },
   "outputs": [
    {
     "data": {
      "text/plain": [
       "ID                   int64\n",
       "A1_Score             int64\n",
       "A2_Score             int64\n",
       "A3_Score             int64\n",
       "A4_Score             int64\n",
       "A5_Score             int64\n",
       "A6_Score             int64\n",
       "A7_Score             int64\n",
       "A8_Score             int64\n",
       "A9_Score             int64\n",
       "A10_Score            int64\n",
       "age                float64\n",
       "gender              object\n",
       "ethnicity           object\n",
       "jaundice            object\n",
       "austim              object\n",
       "contry_of_res       object\n",
       "used_app_before     object\n",
       "result             float64\n",
       "age_desc            object\n",
       "relation            object\n",
       "Class/ASD            int64\n",
       "dtype: object"
      ]
     },
     "execution_count": 7,
     "metadata": {},
     "output_type": "execute_result"
    }
   ],
   "source": [
    "train_df.dtypes"
   ]
  },
  {
   "cell_type": "code",
   "execution_count": 8,
   "id": "bd0089c8-bb79-442d-8292-1cfd819ecc85",
   "metadata": {
    "execution": {
     "iopub.execute_input": "2025-06-13T05:39:15.315697Z",
     "iopub.status.busy": "2025-06-13T05:39:15.314963Z",
     "iopub.status.idle": "2025-06-13T05:39:15.321015Z",
     "shell.execute_reply": "2025-06-13T05:39:15.320323Z",
     "shell.execute_reply.started": "2025-06-13T05:39:15.315666Z"
    }
   },
   "outputs": [
    {
     "data": {
      "text/plain": [
       "ID                   int64\n",
       "A1_Score             int64\n",
       "A2_Score             int64\n",
       "A3_Score             int64\n",
       "A4_Score             int64\n",
       "A5_Score             int64\n",
       "A6_Score             int64\n",
       "A7_Score             int64\n",
       "A8_Score             int64\n",
       "A9_Score             int64\n",
       "A10_Score            int64\n",
       "age                float64\n",
       "gender              object\n",
       "ethnicity           object\n",
       "jaundice            object\n",
       "austim              object\n",
       "contry_of_res       object\n",
       "used_app_before     object\n",
       "result             float64\n",
       "age_desc            object\n",
       "relation            object\n",
       "dtype: object"
      ]
     },
     "execution_count": 8,
     "metadata": {},
     "output_type": "execute_result"
    }
   ],
   "source": [
    "test_df.dtypes"
   ]
  },
  {
   "cell_type": "code",
   "execution_count": 25,
   "id": "6bbe3d15-75c9-4927-b09b-0eb11e2a2bab",
   "metadata": {},
   "outputs": [
    {
     "data": {
      "text/plain": [
       "<Axes: xlabel='Class/ASD', ylabel='age'>"
      ]
     },
     "execution_count": 25,
     "metadata": {},
     "output_type": "execute_result"
    },
    {
     "data": {
      "image/png": "[encoded data removed]",
      "text/plain": [
       "<Figure size 640x480 with 1 Axes>"
      ]
     },
     "metadata": {},
     "output_type": "display_data"
    }
   ],
   "source": [
    "sns.boxplot(x = train_df['Class/ASD'], y = train_df['age'])"
   ]
  },
  {
   "cell_type": "code",
   "execution_count": 26,
   "id": "93d5912f-8155-4dac-9ab3-1c5b7e5a37f5",
   "metadata": {},
   "outputs": [
    {
     "data": {
      "text/plain": [
       "<Axes: xlabel='age', ylabel='Count'>"
      ]
     },
     "execution_count": 26,
     "metadata": {},
     "output_type": "execute_result"
    },
    {
     "data": {
      "image/png": "[encoded data removed]",
      "text/plain": [
       "<Figure size 640x480 with 1 Axes>"
      ]
     },
     "metadata": {},
     "output_type": "display_data"
    }
   ],
   "source": [
    "sns.histplot(x = train_df['age'], hue = train_df['Class/ASD'])"
   ]
  },
  {
   "cell_type": "code",
   "execution_count": 27,
   "id": "12c9f1e5-14e6-4363-9168-d332546284f0",
   "metadata": {},
   "outputs": [
    {
     "data": {
      "text/plain": [
       "<Axes: xlabel='Class/ASD', ylabel='result'>"
      ]
     },
     "execution_count": 27,
     "metadata": {},
     "output_type": "execute_result"
    },
    {
     "data": {
      "image/png": "[encoded data removed]",
      "text/plain": [
       "<Figure size 640x480 with 1 Axes>"
      ]
     },
     "metadata": {},
     "output_type": "display_data"
    }
   ],
   "source": [
    "sns.boxplot(x = train_df['Class/ASD'], y = train_df['result'])"
   ]
  },
  {
   "cell_type": "code",
   "execution_count": 24,
   "id": "a8d3f063-b745-4e99-a1e8-2ae74be6fc69",
   "metadata": {
    "execution": {
     "iopub.execute_input": "2025-06-13T06:11:19.867475Z",
     "iopub.status.busy": "2025-06-13T06:11:19.866816Z",
     "iopub.status.idle": "2025-06-13T06:11:19.880980Z",
     "shell.execute_reply": "2025-06-13T06:11:19.880338Z",
     "shell.execute_reply.started": "2025-06-13T06:11:19.867445Z"
    }
   },
   "outputs": [],
   "source": [
    "from sklearn.model_selection import train_test_split\n",
    "\n",
    "X = train_df.drop(columns=['ID', 'relation', 'age_desc', 'Class/ASD'])\n",
    "y = train_df['Class/ASD']\n",
    "\n",
    "# Identify categorical columns\n",
    "categorical_cols = X.select_dtypes(include='object').columns.tolist()\n",
    "\n",
    "# Encode categorical columns using OrdinalEncoder\n",
    "from sklearn.preprocessing import OrdinalEncoder\n",
    "encoder = OrdinalEncoder(handle_unknown='use_encoded_value', unknown_value=-1)\n",
    "X[categorical_cols] = encoder.fit_transform(X[categorical_cols].astype(str))\n",
    "\n",
    "# Split into training and validation sets\n",
    "X_train, X_val, y_train, y_val = train_test_split(X, y, test_size=0.2, random_state=42)\n"
   ]
  },
  {
   "cell_type": "code",
   "execution_count": 25,
   "id": "87e8c575-9587-49a4-9134-8c13e276b7dd",
   "metadata": {
    "execution": {
     "iopub.execute_input": "2025-06-13T06:11:20.935572Z",
     "iopub.status.busy": "2025-06-13T06:11:20.934941Z",
     "iopub.status.idle": "2025-06-13T06:11:21.115699Z",
     "shell.execute_reply": "2025-06-13T06:11:21.115007Z",
     "shell.execute_reply.started": "2025-06-13T06:11:20.935549Z"
    }
   },
   "outputs": [
    {
     "data": {
      "text/html": [
       "<style>#sk-container-id-2 {\n",
       "  /* Definition of color scheme common for light and dark mode */\n",
       "  --sklearn-color-text: #000;\n",
       "  --sklearn-color-text-muted: #666;\n",
       "  --sklearn-color-line: gray;\n",
       "  /* Definition of color scheme for unfitted estimators */\n",
       "  --sklearn-color-unfitted-level-0: #fff5e6;\n",
       "  --sklearn-color-unfitted-level-1: #f6e4d2;\n",
       "  --sklearn-color-unfitted-level-2: #ffe0b3;\n",
       "  --sklearn-color-unfitted-level-3: chocolate;\n",
       "  /* Definition of color scheme for fitted estimators */\n",
       "  --sklearn-color-fitted-level-0: #f0f8ff;\n",
       "  --sklearn-color-fitted-level-1: #d4ebff;\n",
       "  --sklearn-color-fitted-level-2: #b3dbfd;\n",
       "  --sklearn-color-fitted-level-3: cornflowerblue;\n",
       "\n",
       "  /* Specific color for light theme */\n",
       "  --sklearn-color-text-on-default-background: var(--sg-text-color, var(--theme-code-foreground, var(--jp-content-font-color1, black)));\n",
       "  --sklearn-color-background: var(--sg-background-color, var(--theme-background, var(--jp-layout-color0, white)));\n",
       "  --sklearn-color-border-box: var(--sg-text-color, var(--theme-code-foreground, var(--jp-content-font-color1, black)));\n",
       "  --sklearn-color-icon: #696969;\n",
       "\n",
       "  @media (prefers-color-scheme: dark) {\n",
       "    /* Redefinition of color scheme for dark theme */\n",
       "    --sklearn-color-text-on-default-background: var(--sg-text-color, var(--theme-code-foreground, var(--jp-content-font-color1, white)));\n",
       "    --sklearn-color-background: var(--sg-background-color, var(--theme-background, var(--jp-layout-color0, #111)));\n",
       "    --sklearn-color-border-box: var(--sg-text-color, var(--theme-code-foreground, var(--jp-content-font-color1, white)));\n",
       "    --sklearn-color-icon: #878787;\n",
       "  }\n",
       "}\n",
       "\n",
       "#sk-container-id-2 {\n",
       "  color: var(--sklearn-color-text);\n",
       "}\n",
       "\n",
       "#sk-container-id-2 pre {\n",
       "  padding: 0;\n",
       "}\n",
       "\n",
       "#sk-container-id-2 input.sk-hidden--visually {\n",
       "  border: 0;\n",
       "  clip: rect(1px 1px 1px 1px);\n",
       "  clip: rect(1px, 1px, 1px, 1px);\n",
       "  height: 1px;\n",
       "  margin: -1px;\n",
       "  overflow: hidden;\n",
       "  padding: 0;\n",
       "  position: absolute;\n",
       "  width: 1px;\n",
       "}\n",
       "\n",
       "#sk-container-id-2 div.sk-dashed-wrapped {\n",
       "  border: 1px dashed var(--sklearn-color-line);\n",
       "  margin: 0 0.4em 0.5em 0.4em;\n",
       "  box-sizing: border-box;\n",
       "  padding-bottom: 0.4em;\n",
       "  background-color: var(--sklearn-color-background);\n",
       "}\n",
       "\n",
       "#sk-container-id-2 div.sk-container {\n",
       "  /* jupyter's `normalize.less` sets `[hidden] { display: none; }`\n",
       "     but bootstrap.min.css set `[hidden] { display: none !important; }`\n",
       "     so we also need the `!important` here to be able to override the\n",
       "     default hidden behavior on the sphinx rendered scikit-learn.org.\n",
       "     See: https://github.com/scikit-learn/scikit-learn/issues/21755 */\n",
       "  display: inline-block !important;\n",
       "  position: relative;\n",
       "}\n",
       "\n",
       "#sk-container-id-2 div.sk-text-repr-fallback {\n",
       "  display: none;\n",
       "}\n",
       "\n",
       "div.sk-parallel-item,\n",
       "div.sk-serial,\n",
       "div.sk-item {\n",
       "  /* draw centered vertical line to link estimators */\n",
       "  background-image: linear-gradient(var(--sklearn-color-text-on-default-background), var(--sklearn-color-text-on-default-background));\n",
       "  background-size: 2px 100%;\n",
       "  background-repeat: no-repeat;\n",
       "  background-position: center center;\n",
       "}\n",
       "\n",
       "/* Parallel-specific style estimator block */\n",
       "\n",
       "#sk-container-id-2 div.sk-parallel-item::after {\n",
       "  content: \"\";\n",
       "  width: 100%;\n",
       "  border-bottom: 2px solid var(--sklearn-color-text-on-default-background);\n",
       "  flex-grow: 1;\n",
       "}\n",
       "\n",
       "#sk-container-id-2 div.sk-parallel {\n",
       "  display: flex;\n",
       "  align-items: stretch;\n",
       "  justify-content: center;\n",
       "  background-color: var(--sklearn-color-background);\n",
       "  position: relative;\n",
       "}\n",
       "\n",
       "#sk-container-id-2 div.sk-parallel-item {\n",
       "  display: flex;\n",
       "  flex-direction: column;\n",
       "}\n",
       "\n",
       "#sk-container-id-2 div.sk-parallel-item:first-child::after {\n",
       "  align-self: flex-end;\n",
       "  width: 50%;\n",
       "}\n",
       "\n",
       "#sk-container-id-2 div.sk-parallel-item:last-child::after {\n",
       "  align-self: flex-start;\n",
       "  width: 50%;\n",
       "}\n",
       "\n",
       "#sk-container-id-2 div.sk-parallel-item:only-child::after {\n",
       "  width: 0;\n",
       "}\n",
       "\n",
       "/* Serial-specific style estimator block */\n",
       "\n",
       "#sk-container-id-2 div.sk-serial {\n",
       "  display: flex;\n",
       "  flex-direction: column;\n",
       "  align-items: center;\n",
       "  background-color: var(--sklearn-color-background);\n",
       "  padding-right: 1em;\n",
       "  padding-left: 1em;\n",
       "}\n",
       "\n",
       "\n",
       "/* Toggleable style: style used for estimator/Pipeline/ColumnTransformer box that is\n",
       "clickable and can be expanded/collapsed.\n",
       "- Pipeline and ColumnTransformer use this feature and define the default style\n",
       "- Estimators will overwrite some part of the style using the `sk-estimator` class\n",
       "*/\n",
       "\n",
       "/* Pipeline and ColumnTransformer style (default) */\n",
       "\n",
       "#sk-container-id-2 div.sk-toggleable {\n",
       "  /* Default theme specific background. It is overwritten whether we have a\n",
       "  specific estimator or a Pipeline/ColumnTransformer */\n",
       "  background-color: var(--sklearn-color-background);\n",
       "}\n",
       "\n",
       "/* Toggleable label */\n",
       "#sk-container-id-2 label.sk-toggleable__label {\n",
       "  cursor: pointer;\n",
       "  display: flex;\n",
       "  width: 100%;\n",
       "  margin-bottom: 0;\n",
       "  padding: 0.5em;\n",
       "  box-sizing: border-box;\n",
       "  text-align: center;\n",
       "  align-items: start;\n",
       "  justify-content: space-between;\n",
       "  gap: 0.5em;\n",
       "}\n",
       "\n",
       "#sk-container-id-2 label.sk-toggleable__label .caption {\n",
       "  font-size: 0.6rem;\n",
       "  font-weight: lighter;\n",
       "  color: var(--sklearn-color-text-muted);\n",
       "}\n",
       "\n",
       "#sk-container-id-2 label.sk-toggleable__label-arrow:before {\n",
       "  /* Arrow on the left of the label */\n",
       "  content: \"▸\";\n",
       "  float: left;\n",
       "  margin-right: 0.25em;\n",
       "  color: var(--sklearn-color-icon);\n",
       "}\n",
       "\n",
       "#sk-container-id-2 label.sk-toggleable__label-arrow:hover:before {\n",
       "  color: var(--sklearn-color-text);\n",
       "}\n",
       "\n",
       "/* Toggleable content - dropdown */\n",
       "\n",
       "#sk-container-id-2 div.sk-toggleable__content {\n",
       "  max-height: 0;\n",
       "  max-width: 0;\n",
       "  overflow: hidden;\n",
       "  text-align: left;\n",
       "  /* unfitted */\n",
       "  background-color: var(--sklearn-color-unfitted-level-0);\n",
       "}\n",
       "\n",
       "#sk-container-id-2 div.sk-toggleable__content.fitted {\n",
       "  /* fitted */\n",
       "  background-color: var(--sklearn-color-fitted-level-0);\n",
       "}\n",
       "\n",
       "#sk-container-id-2 div.sk-toggleable__content pre {\n",
       "  margin: 0.2em;\n",
       "  border-radius: 0.25em;\n",
       "  color: var(--sklearn-color-text);\n",
       "  /* unfitted */\n",
       "  background-color: var(--sklearn-color-unfitted-level-0);\n",
       "}\n",
       "\n",
       "#sk-container-id-2 div.sk-toggleable__content.fitted pre {\n",
       "  /* unfitted */\n",
       "  background-color: var(--sklearn-color-fitted-level-0);\n",
       "}\n",
       "\n",
       "#sk-container-id-2 input.sk-toggleable__control:checked~div.sk-toggleable__content {\n",
       "  /* Expand drop-down */\n",
       "  max-height: 200px;\n",
       "  max-width: 100%;\n",
       "  overflow: auto;\n",
       "}\n",
       "\n",
       "#sk-container-id-2 input.sk-toggleable__control:checked~label.sk-toggleable__label-arrow:before {\n",
       "  content: \"▾\";\n",
       "}\n",
       "\n",
       "/* Pipeline/ColumnTransformer-specific style */\n",
       "\n",
       "#sk-container-id-2 div.sk-label input.sk-toggleable__control:checked~label.sk-toggleable__label {\n",
       "  color: var(--sklearn-color-text);\n",
       "  background-color: var(--sklearn-color-unfitted-level-2);\n",
       "}\n",
       "\n",
       "#sk-container-id-2 div.sk-label.fitted input.sk-toggleable__control:checked~label.sk-toggleable__label {\n",
       "  background-color: var(--sklearn-color-fitted-level-2);\n",
       "}\n",
       "\n",
       "/* Estimator-specific style */\n",
       "\n",
       "/* Colorize estimator box */\n",
       "#sk-container-id-2 div.sk-estimator input.sk-toggleable__control:checked~label.sk-toggleable__label {\n",
       "  /* unfitted */\n",
       "  background-color: var(--sklearn-color-unfitted-level-2);\n",
       "}\n",
       "\n",
       "#sk-container-id-2 div.sk-estimator.fitted input.sk-toggleable__control:checked~label.sk-toggleable__label {\n",
       "  /* fitted */\n",
       "  background-color: var(--sklearn-color-fitted-level-2);\n",
       "}\n",
       "\n",
       "#sk-container-id-2 div.sk-label label.sk-toggleable__label,\n",
       "#sk-container-id-2 div.sk-label label {\n",
       "  /* The background is the default theme color */\n",
       "  color: var(--sklearn-color-text-on-default-background);\n",
       "}\n",
       "\n",
       "/* On hover, darken the color of the background */\n",
       "#sk-container-id-2 div.sk-label:hover label.sk-toggleable__label {\n",
       "  color: var(--sklearn-color-text);\n",
       "  background-color: var(--sklearn-color-unfitted-level-2);\n",
       "}\n",
       "\n",
       "/* Label box, darken color on hover, fitted */\n",
       "#sk-container-id-2 div.sk-label.fitted:hover label.sk-toggleable__label.fitted {\n",
       "  color: var(--sklearn-color-text);\n",
       "  background-color: var(--sklearn-color-fitted-level-2);\n",
       "}\n",
       "\n",
       "/* Estimator label */\n",
       "\n",
       "#sk-container-id-2 div.sk-label label {\n",
       "  font-family: monospace;\n",
       "  font-weight: bold;\n",
       "  display: inline-block;\n",
       "  line-height: 1.2em;\n",
       "}\n",
       "\n",
       "#sk-container-id-2 div.sk-label-container {\n",
       "  text-align: center;\n",
       "}\n",
       "\n",
       "/* Estimator-specific */\n",
       "#sk-container-id-2 div.sk-estimator {\n",
       "  font-family: monospace;\n",
       "  border: 1px dotted var(--sklearn-color-border-box);\n",
       "  border-radius: 0.25em;\n",
       "  box-sizing: border-box;\n",
       "  margin-bottom: 0.5em;\n",
       "  /* unfitted */\n",
       "  background-color: var(--sklearn-color-unfitted-level-0);\n",
       "}\n",
       "\n",
       "#sk-container-id-2 div.sk-estimator.fitted {\n",
       "  /* fitted */\n",
       "  background-color: var(--sklearn-color-fitted-level-0);\n",
       "}\n",
       "\n",
       "/* on hover */\n",
       "#sk-container-id-2 div.sk-estimator:hover {\n",
       "  /* unfitted */\n",
       "  background-color: var(--sklearn-color-unfitted-level-2);\n",
       "}\n",
       "\n",
       "#sk-container-id-2 div.sk-estimator.fitted:hover {\n",
       "  /* fitted */\n",
       "  background-color: var(--sklearn-color-fitted-level-2);\n",
       "}\n",
       "\n",
       "/* Specification for estimator info (e.g. \"i\" and \"?\") */\n",
       "\n",
       "/* Common style for \"i\" and \"?\" */\n",
       "\n",
       ".sk-estimator-doc-link,\n",
       "a:link.sk-estimator-doc-link,\n",
       "a:visited.sk-estimator-doc-link {\n",
       "  float: right;\n",
       "  font-size: smaller;\n",
       "  line-height: 1em;\n",
       "  font-family: monospace;\n",
       "  background-color: var(--sklearn-color-background);\n",
       "  border-radius: 1em;\n",
       "  height: 1em;\n",
       "  width: 1em;\n",
       "  text-decoration: none !important;\n",
       "  margin-left: 0.5em;\n",
       "  text-align: center;\n",
       "  /* unfitted */\n",
       "  border: var(--sklearn-color-unfitted-level-1) 1pt solid;\n",
       "  color: var(--sklearn-color-unfitted-level-1);\n",
       "}\n",
       "\n",
       ".sk-estimator-doc-link.fitted,\n",
       "a:link.sk-estimator-doc-link.fitted,\n",
       "a:visited.sk-estimator-doc-link.fitted {\n",
       "  /* fitted */\n",
       "  border: var(--sklearn-color-fitted-level-1) 1pt solid;\n",
       "  color: var(--sklearn-color-fitted-level-1);\n",
       "}\n",
       "\n",
       "/* On hover */\n",
       "div.sk-estimator:hover .sk-estimator-doc-link:hover,\n",
       ".sk-estimator-doc-link:hover,\n",
       "div.sk-label-container:hover .sk-estimator-doc-link:hover,\n",
       ".sk-estimator-doc-link:hover {\n",
       "  /* unfitted */\n",
       "  background-color: var(--sklearn-color-unfitted-level-3);\n",
       "  color: var(--sklearn-color-background);\n",
       "  text-decoration: none;\n",
       "}\n",
       "\n",
       "div.sk-estimator.fitted:hover .sk-estimator-doc-link.fitted:hover,\n",
       ".sk-estimator-doc-link.fitted:hover,\n",
       "div.sk-label-container:hover .sk-estimator-doc-link.fitted:hover,\n",
       ".sk-estimator-doc-link.fitted:hover {\n",
       "  /* fitted */\n",
       "  background-color: var(--sklearn-color-fitted-level-3);\n",
       "  color: var(--sklearn-color-background);\n",
       "  text-decoration: none;\n",
       "}\n",
       "\n",
       "/* Span, style for the box shown on hovering the info icon */\n",
       ".sk-estimator-doc-link span {\n",
       "  display: none;\n",
       "  z-index: 9999;\n",
       "  position: relative;\n",
       "  font-weight: normal;\n",
       "  right: .2ex;\n",
       "  padding: .5ex;\n",
       "  margin: .5ex;\n",
       "  width: min-content;\n",
       "  min-width: 20ex;\n",
       "  max-width: 50ex;\n",
       "  color: var(--sklearn-color-text);\n",
       "  box-shadow: 2pt 2pt 4pt #999;\n",
       "  /* unfitted */\n",
       "  background: var(--sklearn-color-unfitted-level-0);\n",
       "  border: .5pt solid var(--sklearn-color-unfitted-level-3);\n",
       "}\n",
       "\n",
       ".sk-estimator-doc-link.fitted span {\n",
       "  /* fitted */\n",
       "  background: var(--sklearn-color-fitted-level-0);\n",
       "  border: var(--sklearn-color-fitted-level-3);\n",
       "}\n",
       "\n",
       ".sk-estimator-doc-link:hover span {\n",
       "  display: block;\n",
       "}\n",
       "\n",
       "/* \"?\"-specific style due to the `<a>` HTML tag */\n",
       "\n",
       "#sk-container-id-2 a.estimator_doc_link {\n",
       "  float: right;\n",
       "  font-size: 1rem;\n",
       "  line-height: 1em;\n",
       "  font-family: monospace;\n",
       "  background-color: var(--sklearn-color-background);\n",
       "  border-radius: 1rem;\n",
       "  height: 1rem;\n",
       "  width: 1rem;\n",
       "  text-decoration: none;\n",
       "  /* unfitted */\n",
       "  color: var(--sklearn-color-unfitted-level-1);\n",
       "  border: var(--sklearn-color-unfitted-level-1) 1pt solid;\n",
       "}\n",
       "\n",
       "#sk-container-id-2 a.estimator_doc_link.fitted {\n",
       "  /* fitted */\n",
       "  border: var(--sklearn-color-fitted-level-1) 1pt solid;\n",
       "  color: var(--sklearn-color-fitted-level-1);\n",
       "}\n",
       "\n",
       "/* On hover */\n",
       "#sk-container-id-2 a.estimator_doc_link:hover {\n",
       "  /* unfitted */\n",
       "  background-color: var(--sklearn-color-unfitted-level-3);\n",
       "  color: var(--sklearn-color-background);\n",
       "  text-decoration: none;\n",
       "}\n",
       "\n",
       "#sk-container-id-2 a.estimator_doc_link.fitted:hover {\n",
       "  /* fitted */\n",
       "  background-color: var(--sklearn-color-fitted-level-3);\n",
       "}\n",
       "</style><div id=\"sk-container-id-2\" class=\"sk-top-container\"><div class=\"sk-text-repr-fallback\"><pre>RandomForestClassifier(random_state=42)</pre><b>In a Jupyter environment, please rerun this cell to show the HTML representation or trust the notebook. <br />On GitHub, the HTML representation is unable to render, please try loading this page with nbviewer.org.</b></div><div class=\"sk-container\" hidden><div class=\"sk-item\"><div class=\"sk-estimator fitted sk-toggleable\"><input class=\"sk-toggleable__control sk-hidden--visually\" id=\"sk-estimator-id-2\" type=\"checkbox\" checked><label for=\"sk-estimator-id-2\" class=\"sk-toggleable__label fitted sk-toggleable__label-arrow\"><div><div>RandomForestClassifier</div></div><div><a class=\"sk-estimator-doc-link fitted\" rel=\"noreferrer\" target=\"_blank\" href=\"https://scikit-learn.org/1.6/modules/generated/sklearn.ensemble.RandomForestClassifier.html\">?<span>Documentation for RandomForestClassifier</span></a><span class=\"sk-estimator-doc-link fitted\">i<span>Fitted</span></span></div></label><div class=\"sk-toggleable__content fitted\"><pre>RandomForestClassifier(random_state=42)</pre></div> </div></div></div></div>"
      ],
      "text/plain": [
       "RandomForestClassifier(random_state=42)"
      ]
     },
     "execution_count": 25,
     "metadata": {},
     "output_type": "execute_result"
    }
   ],
   "source": [
    "from sklearn.ensemble import RandomForestClassifier\n",
    "\n",
    "model = RandomForestClassifier(n_estimators=100, random_state=42)\n",
    "model.fit(X_train, y_train)\n"
   ]
  },
  {
   "cell_type": "code",
   "execution_count": 26,
   "id": "2e7fefe6-98a6-43cf-bd01-f3461573fa08",
   "metadata": {
    "execution": {
     "iopub.execute_input": "2025-06-13T06:11:30.355322Z",
     "iopub.status.busy": "2025-06-13T06:11:30.354901Z",
     "iopub.status.idle": "2025-06-13T06:11:30.388945Z",
     "shell.execute_reply": "2025-06-13T06:11:30.388300Z",
     "shell.execute_reply.started": "2025-06-13T06:11:30.355298Z"
    }
   },
   "outputs": [
    {
     "name": "stdout",
     "output_type": "stream",
     "text": [
      "Accuracy: 0.85\n",
      "Precision: 0.6875\n",
      "Recall: 0.6111111111111112\n",
      "F1 Score: 0.6470588235294118\n",
      "\n",
      "Classification Report:\n",
      "               precision    recall  f1-score   support\n",
      "\n",
      "           0       0.89      0.92      0.90       124\n",
      "           1       0.69      0.61      0.65        36\n",
      "\n",
      "    accuracy                           0.85       160\n",
      "   macro avg       0.79      0.77      0.78       160\n",
      "weighted avg       0.84      0.85      0.85       160\n",
      "\n"
     ]
    }
   ],
   "source": [
    "from sklearn.metrics import accuracy_score, precision_score, recall_score, f1_score, classification_report\n",
    "\n",
    "y_pred = model.predict(X_val)\n",
    "\n",
    "print(\"Accuracy:\", accuracy_score(y_val, y_pred))\n",
    "print(\"Precision:\", precision_score(y_val, y_pred))\n",
    "print(\"Recall:\", recall_score(y_val, y_pred))\n",
    "print(\"F1 Score:\", f1_score(y_val, y_pred))\n",
    "print(\"\\nClassification Report:\\n\", classification_report(y_val, y_pred))\n"
   ]
  },
  {
   "cell_type": "code",
   "execution_count": 27,
   "id": "a3731f08-3c35-4c7e-a69c-c155aaffe08b",
   "metadata": {
    "execution": {
     "iopub.execute_input": "2025-06-13T06:11:41.035498Z",
     "iopub.status.busy": "2025-06-13T06:11:41.034864Z",
     "iopub.status.idle": "2025-06-13T06:11:41.235211Z",
     "shell.execute_reply": "2025-06-13T06:11:41.234499Z",
     "shell.execute_reply.started": "2025-06-13T06:11:41.035470Z"
    }
   },
   "outputs": [
    {
     "data": {
      "image/png": "[encoded data removed]",
      "text/plain": [
       "<Figure size 640x480 with 2 Axes>"
      ]
     },
     "metadata": {},
     "output_type": "display_data"
    }
   ],
   "source": [
    "import seaborn as sns\n",
    "import matplotlib.pyplot as plt\n",
    "from sklearn.metrics import confusion_matrix\n",
    "\n",
    "cm = confusion_matrix(y_val, y_pred)\n",
    "sns.heatmap(cm, annot=True, fmt='d', cmap='Blues')\n",
    "plt.xlabel('Predicted')\n",
    "plt.ylabel('Actual')\n",
    "plt.title('Confusion Matrix')\n",
    "plt.show()\n"
   ]
  },
  {
   "cell_type": "code",
   "execution_count": 21,
   "id": "45413300-ebed-4b20-9602-1eb97e425742",
   "metadata": {
    "execution": {
     "iopub.execute_input": "2025-06-13T04:31:24.206995Z",
     "iopub.status.busy": "2025-06-13T04:31:24.206463Z",
     "iopub.status.idle": "2025-06-13T04:31:24.220203Z",
     "shell.execute_reply": "2025-06-13T04:31:24.219574Z",
     "shell.execute_reply.started": "2025-06-13T04:31:24.206970Z"
    }
   },
   "outputs": [
    {
     "data": {
      "text/plain": [
       "<bound method NDFrame.describe of    id  a1_score  a2_score  a3_score  a4_score  a5_score  a6_score  a7_score  \\\n",
       "0   1         1         0         1         0         1         0         1   \n",
       "1   2         0         0         0         0         0         0         0   \n",
       "2   3         1         1         1         1         1         1         1   \n",
       "3   4         0         0         0         0         0         0         0   \n",
       "4   5         0         0         0         0         0         0         0   \n",
       "\n",
       "   a8_score  a9_score  ...  gender       ethnicity jaundice austim  \\\n",
       "0         0         1  ...       f               ?       no     no   \n",
       "1         0         0  ...       m               ?       no     no   \n",
       "2         1         1  ...       m  White-European       no    yes   \n",
       "3         0         0  ...       f               ?       no     no   \n",
       "4         0         0  ...       m               ?       no     no   \n",
       "\n",
       "   contry_of_res used_app_before     result     age_desc  relation class_asd  \n",
       "0        Austria              no   6.351166  18 and more      Self         0  \n",
       "1          India              no   2.255185  18 and more      Self         0  \n",
       "2  United States              no  14.851484  18 and more      Self         1  \n",
       "3  United States              no   2.276617  18 and more      Self         0  \n",
       "4   South Africa              no  -4.777286  18 and more      Self         0  \n",
       "\n",
       "[5 rows x 22 columns]>"
      ]
     },
     "execution_count": 21,
     "metadata": {},
     "output_type": "execute_result"
    }
   ],
   "source": [
    "df_sample.describe"
   ]
  },
  {
   "cell_type": "code",
   "execution_count": 22,
   "id": "a43e743a-c653-44d3-9e54-ba8879df70f3",
   "metadata": {
    "execution": {
     "iopub.execute_input": "2025-06-13T04:31:38.935104Z",
     "iopub.status.busy": "2025-06-13T04:31:38.934366Z",
     "iopub.status.idle": "2025-06-13T04:31:38.940447Z",
     "shell.execute_reply": "2025-06-13T04:31:38.939711Z",
     "shell.execute_reply.started": "2025-06-13T04:31:38.935076Z"
    }
   },
   "outputs": [],
   "source": [
    "df_sample.drop(columns=['age_desc'], inplace=True)\n"
   ]
  },
  {
   "cell_type": "code",
   "execution_count": 23,
   "id": "6e0127c5-e10b-4cbd-a345-c0909b9777f4",
   "metadata": {
    "execution": {
     "iopub.execute_input": "2025-06-13T04:31:55.574838Z",
     "iopub.status.busy": "2025-06-13T04:31:55.574419Z",
     "iopub.status.idle": "2025-06-13T04:31:55.591175Z",
     "shell.execute_reply": "2025-06-13T04:31:55.590563Z",
     "shell.execute_reply.started": "2025-06-13T04:31:55.574814Z"
    }
   },
   "outputs": [
    {
     "data": {
      "text/plain": [
       "<bound method NDFrame.describe of    id  a1_score  a2_score  a3_score  a4_score  a5_score  a6_score  a7_score  \\\n",
       "0   1         1         0         1         0         1         0         1   \n",
       "1   2         0         0         0         0         0         0         0   \n",
       "2   3         1         1         1         1         1         1         1   \n",
       "3   4         0         0         0         0         0         0         0   \n",
       "4   5         0         0         0         0         0         0         0   \n",
       "\n",
       "   a8_score  a9_score  ...        age  gender       ethnicity jaundice austim  \\\n",
       "0         0         1  ...  38.172746       f               ?       no     no   \n",
       "1         0         0  ...  47.750517       m               ?       no     no   \n",
       "2         1         1  ...   7.380373       m  White-European       no    yes   \n",
       "3         0         0  ...  23.561927       f               ?       no     no   \n",
       "4         0         0  ...  43.205790       m               ?       no     no   \n",
       "\n",
       "   contry_of_res used_app_before     result  relation class_asd  \n",
       "0        Austria              no   6.351166      Self         0  \n",
       "1          India              no   2.255185      Self         0  \n",
       "2  United States              no  14.851484      Self         1  \n",
       "3  United States              no   2.276617      Self         0  \n",
       "4   South Africa              no  -4.777286      Self         0  \n",
       "\n",
       "[5 rows x 21 columns]>"
      ]
     },
     "execution_count": 23,
     "metadata": {},
     "output_type": "execute_result"
    }
   ],
   "source": [
    "df_sample.describe"
   ]
  },
  {
   "cell_type": "code",
   "execution_count": 56,
   "id": "b2cc9e1c-a667-46a4-803e-e65c269490db",
   "metadata": {
    "execution": {
     "iopub.execute_input": "2025-06-12T23:38:12.246590Z",
     "iopub.status.busy": "2025-06-12T23:38:12.245942Z",
     "iopub.status.idle": "2025-06-12T23:38:12.255414Z",
     "shell.execute_reply": "2025-06-12T23:38:12.254738Z",
     "shell.execute_reply.started": "2025-06-12T23:38:12.246563Z"
    }
   },
   "outputs": [
    {
     "data": {
      "text/html": [
       "<div>\n",
       "<style scoped>\n",
       "    .dataframe tbody tr th:only-of-type {\n",
       "        vertical-align: middle;\n",
       "    }\n",
       "\n",
       "    .dataframe tbody tr th {\n",
       "        vertical-align: top;\n",
       "    }\n",
       "\n",
       "    .dataframe thead th {\n",
       "        text-align: right;\n",
       "    }\n",
       "</style>\n",
       "<table border=\"1\" class=\"dataframe\">\n",
       "  <thead>\n",
       "    <tr style=\"text-align: right;\">\n",
       "      <th></th>\n",
       "      <th>ASD_Probability</th>\n",
       "    </tr>\n",
       "  </thead>\n",
       "  <tbody>\n",
       "    <tr>\n",
       "      <th>32</th>\n",
       "      <td>0.819988</td>\n",
       "    </tr>\n",
       "    <tr>\n",
       "      <th>47</th>\n",
       "      <td>0.812802</td>\n",
       "    </tr>\n",
       "    <tr>\n",
       "      <th>103</th>\n",
       "      <td>0.768830</td>\n",
       "    </tr>\n",
       "    <tr>\n",
       "      <th>16</th>\n",
       "      <td>0.764785</td>\n",
       "    </tr>\n",
       "    <tr>\n",
       "      <th>164</th>\n",
       "      <td>0.754219</td>\n",
       "    </tr>\n",
       "  </tbody>\n",
       "</table>\n",
       "</div>"
      ],
      "text/plain": [
       "     ASD_Probability\n",
       "32          0.819988\n",
       "47          0.812802\n",
       "103         0.768830\n",
       "16          0.764785\n",
       "164         0.754219"
      ]
     },
     "execution_count": 56,
     "metadata": {},
     "output_type": "execute_result"
    }
   ],
   "source": [
    "# Predict ASD probability for each individual\n",
    "test_df['ASD_Probability'] = probs\n",
    "\n",
    "# Simulate clinical triage: top 20% at risk\n",
    "top_20 = test_df.sort_values(by='ASD_Probability', ascending=False).head(int(0.2 * len(test_df)))\n",
    "\n",
    "# Display top entries\n",
    "top_20[['ASD_Probability']].head()\n"
   ]
  },
  {
   "cell_type": "markdown",
   "id": "792b3632-d308-472b-a307-b0495b0a599e",
   "metadata": {},
   "source": [
    "# Release Resources"
   ]
  },
  {
   "cell_type": "code",
   "execution_count": 64,
   "id": "dc74f5a6-57e4-4844-b294-9e0ea8978bc3",
   "metadata": {
    "execution": {
     "iopub.execute_input": "2025-06-13T05:00:39.604761Z",
     "iopub.status.busy": "2025-06-13T05:00:39.603910Z",
     "iopub.status.idle": "2025-06-13T05:00:39.609526Z",
     "shell.execute_reply": "2025-06-13T05:00:39.608950Z",
     "shell.execute_reply.started": "2025-06-13T05:00:39.604732Z"
    }
   },
   "outputs": [
    {
     "data": {
      "text/html": [
       "\n",
       "<p><b>Shutting down your kernel for this notebook to release resources.</b></p>\n",
       "<button class=\"sm-command-button\" data-commandlinker-command=\"kernelmenu:shutdown\" style=\"display:none;\">Shutdown Kernel</button>\n",
       "        \n",
       "<script>\n",
       "try {\n",
       "    els = document.getElementsByClassName(\"sm-command-button\");\n",
       "    els[0].click();\n",
       "}\n",
       "catch(err) {\n",
       "    // NoOp\n",
       "}    \n",
       "</script>\n"
      ],
      "text/plain": [
       "<IPython.core.display.HTML object>"
      ]
     },
     "metadata": {},
     "output_type": "display_data"
    },
    {
     "name": "stderr",
     "output_type": "stream",
     "text": [
      "*** SIGTERM received at time=1749790842 on cpu 0 ***\n",
      "PC: @     0x7f7e5799fe2e  (unknown)  epoll_wait\n",
      "    @     0x7f7e04798b0d         64  absl::lts_20240722::AbslFailureSignalHandler()\n",
      "    @     0x7f7e578bc520  (unknown)  (unknown)\n",
      "[2025-06-13 05:00:42,176 E 8866 8866] logging.cc:497: *** SIGTERM received at time=1749790842 on cpu 0 ***\n",
      "[2025-06-13 05:00:42,176 E 8866 8866] logging.cc:497: PC: @     0x7f7e5799fe2e  (unknown)  epoll_wait\n",
      "[2025-06-13 05:00:42,178 E 8866 8866] logging.cc:497:     @     0x7f7e04798b39         64  absl::lts_20240722::AbslFailureSignalHandler()\n",
      "[2025-06-13 05:00:42,178 E 8866 8866] logging.cc:497:     @     0x7f7e578bc520  (unknown)  (unknown)\n"
     ]
    }
   ],
   "source": [
    "%%html\n",
    "\n",
    "<p><b>Shutting down your kernel for this notebook to release resources.</b></p>\n",
    "<button class=\"sm-command-button\" data-commandlinker-command=\"kernelmenu:shutdown\" style=\"display:none;\">Shutdown Kernel</button>\n",
    "        \n",
    "<script>\n",
    "try {\n",
    "    els = document.getElementsByClassName(\"sm-command-button\");\n",
    "    els[0].click();\n",
    "}\n",
    "catch(err) {\n",
    "    // NoOp\n",
    "}    \n",
    "</script>"
   ]
  },
  {
   "cell_type": "code",
   "execution_count": null,
   "id": "daad0578-294e-4fb0-ad3c-855b82f6492b",
   "metadata": {},
   "outputs": [],
   "source": [
    "%%javascript\n",
    "\n",
    "try {\n",
    "    Jupyter.notebook.save_checkpoint();\n",
    "    Jupyter.notebook.session.delete();\n",
    "}\n",
    "catch(err) {\n",
    "    // NoOp\n",
    "}"
   ]
  },
  {
   "cell_type": "code",
   "execution_count": 1,
   "id": "1d97f3e8-589c-4b9f-8dce-445f7d17d1c5",
   "metadata": {
    "execution": {
     "iopub.execute_input": "2025-06-14T16:05:09.089621Z",
     "iopub.status.busy": "2025-06-14T16:05:09.089356Z",
     "iopub.status.idle": "2025-06-14T16:05:09.096946Z",
     "shell.execute_reply": "2025-06-14T16:05:09.096334Z",
     "shell.execute_reply.started": "2025-06-14T16:05:09.089598Z"
    }
   },
   "outputs": [
    {
     "data": {
      "text/plain": [
       "'/home/sagemaker-user/aai_540_asd_detection'"
      ]
     },
     "execution_count": 1,
     "metadata": {},
     "output_type": "execute_result"
    }
   ],
   "source": [
    "%pwd"
   ]
  },
  {
   "cell_type": "code",
   "execution_count": 7,
   "id": "8a64df7b-402b-4b1b-93c4-e0d97a2b0772",
   "metadata": {
    "execution": {
     "iopub.execute_input": "2025-06-14T16:09:56.308106Z",
     "iopub.status.busy": "2025-06-14T16:09:56.307440Z",
     "iopub.status.idle": "2025-06-14T16:09:56.461577Z",
     "shell.execute_reply": "2025-06-14T16:09:56.460678Z",
     "shell.execute_reply.started": "2025-06-14T16:09:56.308076Z"
    }
   },
   "outputs": [
    {
     "name": "stdout",
     "output_type": "stream",
     "text": [
      "* \u001b[32mJLong\u001b[m\n",
      "  main\u001b[m\n"
     ]
    }
   ],
   "source": [
    "!git branch"
   ]
  },
  {
   "cell_type": "code",
   "execution_count": 8,
   "id": "3e8292f4-053a-40e7-abef-3d4e56cb0a8f",
   "metadata": {
    "execution": {
     "iopub.execute_input": "2025-06-14T16:10:42.193160Z",
     "iopub.status.busy": "2025-06-14T16:10:42.192834Z",
     "iopub.status.idle": "2025-06-14T16:10:42.346715Z",
     "shell.execute_reply": "2025-06-14T16:10:42.345964Z",
     "shell.execute_reply.started": "2025-06-14T16:10:42.193133Z"
    }
   },
   "outputs": [
    {
     "name": "stdout",
     "output_type": "stream",
     "text": [
      "On branch JLong\n",
      "Your branch is up to date with 'origin/JLong'.\n",
      "\n",
      "Changes not staged for commit:\n",
      "  (use \"git add/rm <file>...\" to update what will be committed)\n",
      "  (use \"git restore <file>...\" to discard changes in working directory)\n",
      "\t\u001b[31mdeleted:    AAI-540-Final-Project.ipynb\u001b[m\n",
      "\t\u001b[31mdeleted:    test.py\u001b[m\n",
      "\t\u001b[31mdeleted:    test2.py\u001b[m\n",
      "\n",
      "Untracked files:\n",
      "  (use \"git add <file>...\" to include in what will be committed)\n",
      "\t\u001b[31m.ipynb_checkpoints/\u001b[m\n",
      "\t\u001b[31mAAI-540-Final-Project-Copy1.ipynb\u001b[m\n",
      "\t\u001b[31mTestRun-Long.ipynb\u001b[m\n",
      "\t\u001b[31mtest.csv\u001b[m\n",
      "\t\u001b[31mtrain.csv\u001b[m\n",
      "\n",
      "no changes added to commit (use \"git add\" and/or \"git commit -a\")\n"
     ]
    }
   ],
   "source": [
    "!git status"
   ]
  },
  {
   "cell_type": "code",
   "execution_count": 9,
   "id": "80236e11-7904-4dae-af2f-9d4d990c5987",
   "metadata": {
    "execution": {
     "iopub.execute_input": "2025-06-14T17:01:23.004634Z",
     "iopub.status.busy": "2025-06-14T17:01:23.003964Z",
     "iopub.status.idle": "2025-06-14T17:01:23.166285Z",
     "shell.execute_reply": "2025-06-14T17:01:23.165429Z",
     "shell.execute_reply.started": "2025-06-14T17:01:23.004600Z"
    }
   },
   "outputs": [],
   "source": [
    "!git add TestRun-Long.ipynb\n"
   ]
  },
  {
   "cell_type": "code",
   "execution_count": 10,
   "id": "fea46e88-759f-4bf9-9ae6-b5fa681907ad",
   "metadata": {
    "execution": {
     "iopub.execute_input": "2025-06-14T17:02:00.116630Z",
     "iopub.status.busy": "2025-06-14T17:02:00.116146Z",
     "iopub.status.idle": "2025-06-14T17:02:00.287481Z",
     "shell.execute_reply": "2025-06-14T17:02:00.286617Z",
     "shell.execute_reply.started": "2025-06-14T17:02:00.116601Z"
    }
   },
   "outputs": [
    {
     "name": "stdout",
     "output_type": "stream",
     "text": [
      "[JLong fd85ec3] Add notebook TestRun-Long.ipynb\n",
      " 1 file changed, 2661 insertions(+)\n",
      " create mode 100644 TestRun-Long.ipynb\n"
     ]
    }
   ],
   "source": [
    "!git commit -m \"Add notebook TestRun-Long.ipynb\"\n"
   ]
  },
  {
   "cell_type": "code",
   "execution_count": null,
   "id": "d04b8fd1-93d5-4235-8d61-8654715ac6ac",
   "metadata": {},
   "outputs": [],
   "source": [
    "!git push origin JLong\n"
   ]
  }
 ],
 "metadata": {
  "kernelspec": {
   "display_name": "Python 3 (ipykernel)",
   "language": "python",
   "name": "python3"
  },
  "language_info": {
   "codemirror_mode": {
    "name": "ipython",
    "version": 3
   },
   "file_extension": ".py",
   "mimetype": "text/x-python",
   "name": "python",
   "nbconvert_exporter": "python",
   "pygments_lexer": "ipython3",
   "version": "3.12.9"
  }
 },
 "nbformat": 4,
 "nbformat_minor": 5
}
